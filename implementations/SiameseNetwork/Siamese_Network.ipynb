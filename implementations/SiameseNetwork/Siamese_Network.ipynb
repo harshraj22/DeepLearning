{
  "nbformat": 4,
  "nbformat_minor": 0,
  "metadata": {
    "colab": {
      "name": "Siamese_Network.ipynb",
      "provenance": []
    },
    "kernelspec": {
      "name": "python3",
      "display_name": "Python 3"
    },
    "language_info": {
      "name": "python"
    },
    "accelerator": "GPU",
    "widgets": {
      "application/vnd.jupyter.widget-state+json": {
        "b2876f0049b746ddb5cfbdbbf89f3997": {
          "model_module": "@jupyter-widgets/controls",
          "model_name": "HBoxModel",
          "state": {
            "_view_name": "HBoxView",
            "_dom_classes": [],
            "_model_name": "HBoxModel",
            "_view_module": "@jupyter-widgets/controls",
            "_model_module_version": "1.5.0",
            "_view_count": null,
            "_view_module_version": "1.5.0",
            "box_style": "",
            "layout": "IPY_MODEL_b0ef929f243449fc94841955bef7ed52",
            "_model_module": "@jupyter-widgets/controls",
            "children": [
              "IPY_MODEL_6cc2e86dfaeb4712a897dc627e29121f",
              "IPY_MODEL_0a4a3f7f8a5542589691d46a2a461b3c"
            ]
          }
        },
        "b0ef929f243449fc94841955bef7ed52": {
          "model_module": "@jupyter-widgets/base",
          "model_name": "LayoutModel",
          "state": {
            "_view_name": "LayoutView",
            "grid_template_rows": null,
            "right": null,
            "justify_content": null,
            "_view_module": "@jupyter-widgets/base",
            "overflow": null,
            "_model_module_version": "1.2.0",
            "_view_count": null,
            "flex_flow": null,
            "width": null,
            "min_width": null,
            "border": null,
            "align_items": null,
            "bottom": null,
            "_model_module": "@jupyter-widgets/base",
            "top": null,
            "grid_column": null,
            "overflow_y": null,
            "overflow_x": null,
            "grid_auto_flow": null,
            "grid_area": null,
            "grid_template_columns": null,
            "flex": null,
            "_model_name": "LayoutModel",
            "justify_items": null,
            "grid_row": null,
            "max_height": null,
            "align_content": null,
            "visibility": null,
            "align_self": null,
            "height": null,
            "min_height": null,
            "padding": null,
            "grid_auto_rows": null,
            "grid_gap": null,
            "max_width": null,
            "order": null,
            "_view_module_version": "1.2.0",
            "grid_template_areas": null,
            "object_position": null,
            "object_fit": null,
            "grid_auto_columns": null,
            "margin": null,
            "display": null,
            "left": null
          }
        },
        "6cc2e86dfaeb4712a897dc627e29121f": {
          "model_module": "@jupyter-widgets/controls",
          "model_name": "FloatProgressModel",
          "state": {
            "_view_name": "ProgressView",
            "style": "IPY_MODEL_a5c5fbd65d0c426fb0a98ce63cba5be8",
            "_dom_classes": [],
            "description": "Iterating over omniglot: 100%",
            "_model_name": "FloatProgressModel",
            "bar_style": "success",
            "max": 500,
            "_view_module": "@jupyter-widgets/controls",
            "_model_module_version": "1.5.0",
            "value": 500,
            "_view_count": null,
            "_view_module_version": "1.5.0",
            "orientation": "horizontal",
            "min": 0,
            "description_tooltip": null,
            "_model_module": "@jupyter-widgets/controls",
            "layout": "IPY_MODEL_8d3d50bc57dc4dd7a282b19e5809405d"
          }
        },
        "0a4a3f7f8a5542589691d46a2a461b3c": {
          "model_module": "@jupyter-widgets/controls",
          "model_name": "HTMLModel",
          "state": {
            "_view_name": "HTMLView",
            "style": "IPY_MODEL_fe1773f4fa7a4989a5027d78a69bdef4",
            "_dom_classes": [],
            "description": "",
            "_model_name": "HTMLModel",
            "placeholder": "​",
            "_view_module": "@jupyter-widgets/controls",
            "_model_module_version": "1.5.0",
            "value": " 500/500 [00:00&lt;00:00, 3212.18it/s]",
            "_view_count": null,
            "_view_module_version": "1.5.0",
            "description_tooltip": null,
            "_model_module": "@jupyter-widgets/controls",
            "layout": "IPY_MODEL_cd5e91bf0c6541abb12cd9a1ba1a2d67"
          }
        },
        "a5c5fbd65d0c426fb0a98ce63cba5be8": {
          "model_module": "@jupyter-widgets/controls",
          "model_name": "ProgressStyleModel",
          "state": {
            "_view_name": "StyleView",
            "_model_name": "ProgressStyleModel",
            "description_width": "initial",
            "_view_module": "@jupyter-widgets/base",
            "_model_module_version": "1.5.0",
            "_view_count": null,
            "_view_module_version": "1.2.0",
            "bar_color": null,
            "_model_module": "@jupyter-widgets/controls"
          }
        },
        "8d3d50bc57dc4dd7a282b19e5809405d": {
          "model_module": "@jupyter-widgets/base",
          "model_name": "LayoutModel",
          "state": {
            "_view_name": "LayoutView",
            "grid_template_rows": null,
            "right": null,
            "justify_content": null,
            "_view_module": "@jupyter-widgets/base",
            "overflow": null,
            "_model_module_version": "1.2.0",
            "_view_count": null,
            "flex_flow": null,
            "width": null,
            "min_width": null,
            "border": null,
            "align_items": null,
            "bottom": null,
            "_model_module": "@jupyter-widgets/base",
            "top": null,
            "grid_column": null,
            "overflow_y": null,
            "overflow_x": null,
            "grid_auto_flow": null,
            "grid_area": null,
            "grid_template_columns": null,
            "flex": null,
            "_model_name": "LayoutModel",
            "justify_items": null,
            "grid_row": null,
            "max_height": null,
            "align_content": null,
            "visibility": null,
            "align_self": null,
            "height": null,
            "min_height": null,
            "padding": null,
            "grid_auto_rows": null,
            "grid_gap": null,
            "max_width": null,
            "order": null,
            "_view_module_version": "1.2.0",
            "grid_template_areas": null,
            "object_position": null,
            "object_fit": null,
            "grid_auto_columns": null,
            "margin": null,
            "display": null,
            "left": null
          }
        },
        "fe1773f4fa7a4989a5027d78a69bdef4": {
          "model_module": "@jupyter-widgets/controls",
          "model_name": "DescriptionStyleModel",
          "state": {
            "_view_name": "StyleView",
            "_model_name": "DescriptionStyleModel",
            "description_width": "",
            "_view_module": "@jupyter-widgets/base",
            "_model_module_version": "1.5.0",
            "_view_count": null,
            "_view_module_version": "1.2.0",
            "_model_module": "@jupyter-widgets/controls"
          }
        },
        "cd5e91bf0c6541abb12cd9a1ba1a2d67": {
          "model_module": "@jupyter-widgets/base",
          "model_name": "LayoutModel",
          "state": {
            "_view_name": "LayoutView",
            "grid_template_rows": null,
            "right": null,
            "justify_content": null,
            "_view_module": "@jupyter-widgets/base",
            "overflow": null,
            "_model_module_version": "1.2.0",
            "_view_count": null,
            "flex_flow": null,
            "width": null,
            "min_width": null,
            "border": null,
            "align_items": null,
            "bottom": null,
            "_model_module": "@jupyter-widgets/base",
            "top": null,
            "grid_column": null,
            "overflow_y": null,
            "overflow_x": null,
            "grid_auto_flow": null,
            "grid_area": null,
            "grid_template_columns": null,
            "flex": null,
            "_model_name": "LayoutModel",
            "justify_items": null,
            "grid_row": null,
            "max_height": null,
            "align_content": null,
            "visibility": null,
            "align_self": null,
            "height": null,
            "min_height": null,
            "padding": null,
            "grid_auto_rows": null,
            "grid_gap": null,
            "max_width": null,
            "order": null,
            "_view_module_version": "1.2.0",
            "grid_template_areas": null,
            "object_position": null,
            "object_fit": null,
            "grid_auto_columns": null,
            "margin": null,
            "display": null,
            "left": null
          }
        },
        "9cb914a9320d4ebfb2afe258d133ecc9": {
          "model_module": "@jupyter-widgets/controls",
          "model_name": "HBoxModel",
          "state": {
            "_view_name": "HBoxView",
            "_dom_classes": [],
            "_model_name": "HBoxModel",
            "_view_module": "@jupyter-widgets/controls",
            "_model_module_version": "1.5.0",
            "_view_count": null,
            "_view_module_version": "1.5.0",
            "box_style": "",
            "layout": "IPY_MODEL_253a59399dfd407ea12ca59d1e11dd23",
            "_model_module": "@jupyter-widgets/controls",
            "children": [
              "IPY_MODEL_91b2ab86bf06467393da33f2d5f199ab",
              "IPY_MODEL_665c7bd1fb6244ff9d43b72234ceb235"
            ]
          }
        },
        "253a59399dfd407ea12ca59d1e11dd23": {
          "model_module": "@jupyter-widgets/base",
          "model_name": "LayoutModel",
          "state": {
            "_view_name": "LayoutView",
            "grid_template_rows": null,
            "right": null,
            "justify_content": null,
            "_view_module": "@jupyter-widgets/base",
            "overflow": null,
            "_model_module_version": "1.2.0",
            "_view_count": null,
            "flex_flow": null,
            "width": null,
            "min_width": null,
            "border": null,
            "align_items": null,
            "bottom": null,
            "_model_module": "@jupyter-widgets/base",
            "top": null,
            "grid_column": null,
            "overflow_y": null,
            "overflow_x": null,
            "grid_auto_flow": null,
            "grid_area": null,
            "grid_template_columns": null,
            "flex": null,
            "_model_name": "LayoutModel",
            "justify_items": null,
            "grid_row": null,
            "max_height": null,
            "align_content": null,
            "visibility": null,
            "align_self": null,
            "height": null,
            "min_height": null,
            "padding": null,
            "grid_auto_rows": null,
            "grid_gap": null,
            "max_width": null,
            "order": null,
            "_view_module_version": "1.2.0",
            "grid_template_areas": null,
            "object_position": null,
            "object_fit": null,
            "grid_auto_columns": null,
            "margin": null,
            "display": null,
            "left": null
          }
        },
        "91b2ab86bf06467393da33f2d5f199ab": {
          "model_module": "@jupyter-widgets/controls",
          "model_name": "FloatProgressModel",
          "state": {
            "_view_name": "ProgressView",
            "style": "IPY_MODEL_61eb277c259544299ae84f3f8bb2f96d",
            "_dom_classes": [],
            "description": "Training...: 100%",
            "_model_name": "FloatProgressModel",
            "bar_style": "success",
            "max": 100,
            "_view_module": "@jupyter-widgets/controls",
            "_model_module_version": "1.5.0",
            "value": 100,
            "_view_count": null,
            "_view_module_version": "1.5.0",
            "orientation": "horizontal",
            "min": 0,
            "description_tooltip": null,
            "_model_module": "@jupyter-widgets/controls",
            "layout": "IPY_MODEL_b63f79af13014718abfca30bb921da32"
          }
        },
        "665c7bd1fb6244ff9d43b72234ceb235": {
          "model_module": "@jupyter-widgets/controls",
          "model_name": "HTMLModel",
          "state": {
            "_view_name": "HTMLView",
            "style": "IPY_MODEL_7b85b6fe41444e5097cc6d8a98873196",
            "_dom_classes": [],
            "description": "",
            "_model_name": "HTMLModel",
            "placeholder": "​",
            "_view_module": "@jupyter-widgets/controls",
            "_model_module_version": "1.5.0",
            "value": " 100/100 [01:41&lt;00:00,  1.02s/it]",
            "_view_count": null,
            "_view_module_version": "1.5.0",
            "description_tooltip": null,
            "_model_module": "@jupyter-widgets/controls",
            "layout": "IPY_MODEL_26204d5f46914a5793c44c713992c7a3"
          }
        },
        "61eb277c259544299ae84f3f8bb2f96d": {
          "model_module": "@jupyter-widgets/controls",
          "model_name": "ProgressStyleModel",
          "state": {
            "_view_name": "StyleView",
            "_model_name": "ProgressStyleModel",
            "description_width": "initial",
            "_view_module": "@jupyter-widgets/base",
            "_model_module_version": "1.5.0",
            "_view_count": null,
            "_view_module_version": "1.2.0",
            "bar_color": null,
            "_model_module": "@jupyter-widgets/controls"
          }
        },
        "b63f79af13014718abfca30bb921da32": {
          "model_module": "@jupyter-widgets/base",
          "model_name": "LayoutModel",
          "state": {
            "_view_name": "LayoutView",
            "grid_template_rows": null,
            "right": null,
            "justify_content": null,
            "_view_module": "@jupyter-widgets/base",
            "overflow": null,
            "_model_module_version": "1.2.0",
            "_view_count": null,
            "flex_flow": null,
            "width": null,
            "min_width": null,
            "border": null,
            "align_items": null,
            "bottom": null,
            "_model_module": "@jupyter-widgets/base",
            "top": null,
            "grid_column": null,
            "overflow_y": null,
            "overflow_x": null,
            "grid_auto_flow": null,
            "grid_area": null,
            "grid_template_columns": null,
            "flex": null,
            "_model_name": "LayoutModel",
            "justify_items": null,
            "grid_row": null,
            "max_height": null,
            "align_content": null,
            "visibility": null,
            "align_self": null,
            "height": null,
            "min_height": null,
            "padding": null,
            "grid_auto_rows": null,
            "grid_gap": null,
            "max_width": null,
            "order": null,
            "_view_module_version": "1.2.0",
            "grid_template_areas": null,
            "object_position": null,
            "object_fit": null,
            "grid_auto_columns": null,
            "margin": null,
            "display": null,
            "left": null
          }
        },
        "7b85b6fe41444e5097cc6d8a98873196": {
          "model_module": "@jupyter-widgets/controls",
          "model_name": "DescriptionStyleModel",
          "state": {
            "_view_name": "StyleView",
            "_model_name": "DescriptionStyleModel",
            "description_width": "",
            "_view_module": "@jupyter-widgets/base",
            "_model_module_version": "1.5.0",
            "_view_count": null,
            "_view_module_version": "1.2.0",
            "_model_module": "@jupyter-widgets/controls"
          }
        },
        "26204d5f46914a5793c44c713992c7a3": {
          "model_module": "@jupyter-widgets/base",
          "model_name": "LayoutModel",
          "state": {
            "_view_name": "LayoutView",
            "grid_template_rows": null,
            "right": null,
            "justify_content": null,
            "_view_module": "@jupyter-widgets/base",
            "overflow": null,
            "_model_module_version": "1.2.0",
            "_view_count": null,
            "flex_flow": null,
            "width": null,
            "min_width": null,
            "border": null,
            "align_items": null,
            "bottom": null,
            "_model_module": "@jupyter-widgets/base",
            "top": null,
            "grid_column": null,
            "overflow_y": null,
            "overflow_x": null,
            "grid_auto_flow": null,
            "grid_area": null,
            "grid_template_columns": null,
            "flex": null,
            "_model_name": "LayoutModel",
            "justify_items": null,
            "grid_row": null,
            "max_height": null,
            "align_content": null,
            "visibility": null,
            "align_self": null,
            "height": null,
            "min_height": null,
            "padding": null,
            "grid_auto_rows": null,
            "grid_gap": null,
            "max_width": null,
            "order": null,
            "_view_module_version": "1.2.0",
            "grid_template_areas": null,
            "object_position": null,
            "object_fit": null,
            "grid_auto_columns": null,
            "margin": null,
            "display": null,
            "left": null
          }
        }
      }
    }
  },
  "cells": [
    {
      "cell_type": "markdown",
      "metadata": {
        "id": "bYi4fvHr_brl"
      },
      "source": [
        "# [Siamese Neural Networks for One-shot Image Recognition](https://www.cs.cmu.edu/~rsalakhu/papers/oneshot1.pdf)\n",
        "\n",
        "A Pytorch Implementation"
      ]
    },
    {
      "cell_type": "code",
      "metadata": {
        "colab": {
          "base_uri": "https://localhost:8080/"
        },
        "id": "7zdN5AIzBGim",
        "outputId": "e6196b5a-1507-492d-ab9e-f585af60881a"
      },
      "source": [
        "! pip install torchscan"
      ],
      "execution_count": 1,
      "outputs": [
        {
          "output_type": "stream",
          "text": [
            "Collecting torchscan\n",
            "  Downloading https://files.pythonhosted.org/packages/30/8f/0f255453c3c44990cb879574ac023f7484acfb225d7f17468cbebc65bf01/torchscan-0.1.1-py3-none-any.whl\n",
            "Requirement already satisfied: torch>=1.1.0 in /usr/local/lib/python3.7/dist-packages (from torchscan) (1.9.0+cu102)\n",
            "Requirement already satisfied: typing-extensions in /usr/local/lib/python3.7/dist-packages (from torch>=1.1.0->torchscan) (3.7.4.3)\n",
            "Installing collected packages: torchscan\n",
            "Successfully installed torchscan-0.1.1\n"
          ],
          "name": "stdout"
        }
      ]
    },
    {
      "cell_type": "code",
      "metadata": {
        "id": "bs6uY9OIkbdb"
      },
      "source": [
        "# https://www.cs.cmu.edu/~rsalakhu/papers/oneshot1.pdf\n",
        "\n",
        "import torch\n",
        "import torch.nn as nn\n",
        "import warnings\n",
        "warnings.filterwarnings('ignore')"
      ],
      "execution_count": 2,
      "outputs": []
    },
    {
      "cell_type": "code",
      "metadata": {
        "id": "hL7Y8VLVkPmt"
      },
      "source": [
        "# To be used as the feature extractor, in order to compare the features\n",
        "\n",
        "class FeatExt(nn.Module):\n",
        "    def __init__(self):\n",
        "        super(FeatExt, self).__init__()\n",
        "\n",
        "        # input.shape: (1, 105, 105)\n",
        "\n",
        "        self.cnn1 = nn.Conv2d(1, 64, kernel_size=10) # (1, 105, 105) -> (64, 96, 96)\n",
        "        self.relu1 = nn.ReLU()\n",
        "\n",
        "        # feature maps.shape: (64, 96, 96)\n",
        "        self.max_pool1 = nn.MaxPool2d(kernel_size=2) # (64, 96, 96) -> (64, 48, 48)\n",
        "\n",
        "        # feature maps.shape: (64, 48, 48)\n",
        "        self.cnn2 = nn.Conv2d(64, 128, kernel_size=7) # (64, 48, 48) -> (128, 42, 42)\n",
        "        self.relu2 = nn.ReLU()\n",
        "\n",
        "        # feature maps.shape: (128, 42, 42)\n",
        "        self.max_pool2 = nn.MaxPool2d(kernel_size=2) # (128, 42, 42) -> (128, 21, 21)\n",
        "\n",
        "        # feature maps.shape: (128, 21, 21)\n",
        "        self.cnn3 = nn.Conv2d(128, 128, kernel_size=4) # (128, 21, 21) -> (128, 18, 18)\n",
        "        self.relu3 = nn.ReLU()\n",
        "\n",
        "        # feature maps.shape: (128, 18, 18)\n",
        "        self.max_pool3 = nn.MaxPool2d(kernel_size=2) # (128, 18, 18) -> (128, 9, 9)\n",
        "\n",
        "        # feature maps.shape: (128, 9, 9)\n",
        "        self.cnn4 = nn.Conv2d(128, 256, kernel_size=4) # (128, 9, 9) -> (256, 6, 6)\n",
        "        self.relu4 = nn.ReLU()\n",
        "\n",
        "        # feature maps.shape: (256, 6, 6)\n",
        "        # torch.flatten: (256, 6, 6) -> (9216)\n",
        "\n",
        "        # feature maps.shape: (9216)\n",
        "        self.fc1 = nn.Linear(9216, 4096) # (9216) -> (4096)\n",
        "        self.sigmoid1 = nn.Sigmoid()\n",
        "\n",
        "        # # feature maps.shape: (4096)\n",
        "        # self.fc2 = nn.Linear(4096, 1)\n",
        "        # self.sigmoid2 = nn.Sigmoid()\n",
        "\n",
        "\n",
        "    def forward(self, x):\n",
        "        x = self.max_pool1(self.relu1(self.cnn1(x)))\n",
        "\n",
        "        x = self.max_pool2(self.relu2(self.cnn2(x)))\n",
        "\n",
        "        x = self.max_pool3(self.relu3(self.cnn3(x)))\n",
        "\n",
        "        x = self.relu4(self.cnn4(x))\n",
        "\n",
        "        x = torch.flatten(x, start_dim=1)\n",
        "\n",
        "        x = self.sigmoid1(self.fc1(x))\n",
        "\n",
        "        # x = self.sigmoid2(self.fc2(x))\n",
        "\n",
        "        return x\n",
        "\n",
        "\n",
        "# if __name__ == '__main__':\n",
        "#     model = SiameseNet()\n",
        "#     batch_size = 5\n",
        "#     input = torch.rand(size=(batch_size, 1, 105, 105))\n",
        "#     out = model(input)\n",
        "#     print(input.shape, out.shape)\n",
        "#     assert tuple(out.shape) == (batch_size, 1)"
      ],
      "execution_count": 3,
      "outputs": []
    },
    {
      "cell_type": "code",
      "metadata": {
        "id": "InYxkyFZkalI"
      },
      "source": [
        "class SiameseNet(nn.Module):\n",
        "  def __init__(self):\n",
        "    super(SiameseNet, self).__init__()\n",
        "    self.feat = FeatExt()\n",
        "    \n",
        "    # feature maps.shape: (4096)\n",
        "    self.fc = nn.Linear(4096, 1)\n",
        "    self.sigmoid = nn.Sigmoid()\n",
        "\n",
        "  def forward(self, x1, x2):\n",
        "    x1 = self.feat(x1)\n",
        "    x2 = self.feat(x2)\n",
        "\n",
        "    return self.sigmoid(self.fc((x1-x2).abs()))"
      ],
      "execution_count": 4,
      "outputs": []
    },
    {
      "cell_type": "markdown",
      "metadata": {
        "id": "WkrTC_d4HnM4"
      },
      "source": [
        "#### Weight Initilization\n",
        "\n",
        "* They initialized all network weights\n",
        "in the convolutional layers from a normal distribution with\n",
        "zero-mean and a standard deviation of `10−2`\n",
        "* Biases were\n",
        "also initialized from a normal distribution, but with mean `0.5` and standard deviation `10−2`\n",
        "* In the fully-connected\n",
        "layers, the biases were initialized in the same way as the\n",
        "convolutional layers, but the weights were drawn from a\n",
        "much wider normal distribution with zero-mean and standard deviation `2 × 10−1`\n",
        "."
      ]
    },
    {
      "cell_type": "code",
      "metadata": {
        "id": "RNq9JJaWHt4D"
      },
      "source": [
        "def init_weights(m):\n",
        "  if type(m) == nn.Linear:\n",
        "    nn.init.normal_(m.weight, 0, 2e-1)\n",
        "    nn.init.normal_(m.bias, 0, 1e-2)\n",
        "  elif type(m) == nn.Conv2d:\n",
        "    nn.init.normal_(m.weight, 0, 1e-2)\n",
        "    nn.init.normal_(m.bias, 0.5, 1e-2)\n"
      ],
      "execution_count": 5,
      "outputs": []
    },
    {
      "cell_type": "code",
      "metadata": {
        "colab": {
          "base_uri": "https://localhost:8080/"
        },
        "id": "4Zp5n9_fAj5d",
        "outputId": "bd8d7b75-e087-4d74-b55c-0b8025093a3c"
      },
      "source": [
        "# Just a quick check that every thing works as it should be\n",
        "\n",
        "model = SiameseNet()\n",
        "batch_size = 5\n",
        "input = torch.rand(size=(batch_size, 1, 105, 105))\n",
        "out = model(input, input)\n",
        "print(input.shape, out.shape)\n",
        "assert tuple(out.shape) == (batch_size, 1)"
      ],
      "execution_count": 6,
      "outputs": [
        {
          "output_type": "stream",
          "text": [
            "torch.Size([5, 1, 105, 105]) torch.Size([5, 1])\n"
          ],
          "name": "stdout"
        }
      ]
    },
    {
      "cell_type": "markdown",
      "metadata": {
        "id": "0NJFd1Qko9_h"
      },
      "source": [
        "## Getting & preparing the dataset"
      ]
    },
    {
      "cell_type": "code",
      "metadata": {
        "id": "cBL3dmVL7qxG"
      },
      "source": [
        "import os\n",
        "\n",
        "working_dir = '/content/drive/MyDrive/siamese_net'\n",
        "os.chdir(working_dir)"
      ],
      "execution_count": 7,
      "outputs": []
    },
    {
      "cell_type": "code",
      "metadata": {
        "id": "FkcuUDsFkd4_"
      },
      "source": [
        "from torchvision.datasets import Omniglot\n",
        "from torch.utils.data import Dataset, DataLoader\n",
        "import numpy as np\n",
        "import random\n",
        "import logging\n",
        "from tqdm.notebook import tqdm\n",
        "import matplotlib.pyplot as plt\n"
      ],
      "execution_count": 8,
      "outputs": []
    },
    {
      "cell_type": "code",
      "metadata": {
        "colab": {
          "base_uri": "https://localhost:8080/"
        },
        "id": "vQrdco5Xkd3U",
        "outputId": "ae6e11d7-cf4f-41d2-e084-1cd0826b54ca"
      },
      "source": [
        "ds = Omniglot(root='./data', download=True, transform=np.array, background=True)"
      ],
      "execution_count": 9,
      "outputs": [
        {
          "output_type": "stream",
          "text": [
            "Files already downloaded and verified\n"
          ],
          "name": "stdout"
        }
      ]
    },
    {
      "cell_type": "code",
      "metadata": {
        "id": "AQH1IZjXCdCo"
      },
      "source": [
        "# https://github.com/Rhcsky/siamese-one-shot-pytorch/blob/main/data_loader.py\n",
        "\n",
        "from collections import defaultdict\n",
        "\n",
        "class OmniglotDS(Dataset):\n",
        "  def __init__(self, ds):\n",
        "    super(OmniglotDS, self).__init__()\n",
        "    self.ds = ds\n",
        "    self.mean = 0.8444\n",
        "    self.std = 0.5329\n",
        "    self.imgs = defaultdict(list)\n",
        "    \n",
        "    self.data = [ds[i] for i in range(500)]\n",
        "    for img, label in tqdm(self.data, desc='Iterating over omniglot'):\n",
        "      self.imgs[label].append(img)\n",
        "\n",
        "  def __len__(self):\n",
        "    return len(self.data)\n",
        "\n",
        "  def __getitem__(self, idx):\n",
        "    img1, cls1 = random.choice(self.data)\n",
        "    # img2, cls2 = random.choice(self.ds)\n",
        "\n",
        "    # if they are from same class\n",
        "    if idx % 2 == 1:\n",
        "      label = 1.0\n",
        "      img2, cls2 = random.choice(self.imgs[cls1]), cls1\n",
        "      # while cls1 != cls2:\n",
        "      #   print('Found Same')\n",
        "      #   idx1 = random.randint(0, len(self.ds))\n",
        "      #   img2, cls2 = self.ds[idx1] # random.choice(self.ds)\n",
        "    # they are from different class\n",
        "    else:\n",
        "      label = 0.0\n",
        "      options = list(set(self.imgs.keys()) - {cls1})\n",
        "      # print(options, self.imgs.keys)\n",
        "      cls2 = random.choice(options)\n",
        "      img2 = random.choice(self.imgs[cls2])\n",
        "      # while cls1 == cls2:\n",
        "      #   print('Found Same')\n",
        "      #   idx2 = random.randint(0, len(self.ds))\n",
        "      #   img2, cls2 = self.ds[idx2] # random.choice(self.ds)\n",
        "    img1, img2 = np.array(img1, dtype=np.float32) / 255, np.array(img2, dtype=np.float32) / 255\n",
        "    img1 = np.expand_dims(img1, axis=0)\n",
        "    img2 = np.expand_dims(img2, axis=0)\n",
        "      # label = np.array([label], dtype=np.float32)\n",
        "      # print(f'Type of Label: {type(label)}')\n",
        "\n",
        "    return {\n",
        "        'img1': torch.from_numpy(img1),\n",
        "        'img2': torch.from_numpy(img2),\n",
        "        'label': torch.from_numpy(np.array([label], dtype=np.float32))\n",
        "    }\n",
        "\n"
      ],
      "execution_count": 13,
      "outputs": []
    },
    {
      "cell_type": "code",
      "metadata": {
        "id": "--eNnp4ykd2t",
        "colab": {
          "base_uri": "https://localhost:8080/",
          "height": 66,
          "referenced_widgets": [
            "b2876f0049b746ddb5cfbdbbf89f3997",
            "b0ef929f243449fc94841955bef7ed52",
            "6cc2e86dfaeb4712a897dc627e29121f",
            "0a4a3f7f8a5542589691d46a2a461b3c",
            "a5c5fbd65d0c426fb0a98ce63cba5be8",
            "8d3d50bc57dc4dd7a282b19e5809405d",
            "fe1773f4fa7a4989a5027d78a69bdef4",
            "cd5e91bf0c6541abb12cd9a1ba1a2d67"
          ]
        },
        "outputId": "5f482fd4-62e1-40b1-a8a4-a0495fc1f4fe"
      },
      "source": [
        "dl = DataLoader(OmniglotDS(ds), batch_size=128)"
      ],
      "execution_count": 14,
      "outputs": [
        {
          "output_type": "display_data",
          "data": {
            "application/vnd.jupyter.widget-view+json": {
              "model_id": "b2876f0049b746ddb5cfbdbbf89f3997",
              "version_minor": 0,
              "version_major": 2
            },
            "text/plain": [
              "HBox(children=(FloatProgress(value=0.0, description='Iterating over omniglot', max=500.0, style=ProgressStyle(…"
            ]
          },
          "metadata": {
            "tags": []
          }
        },
        {
          "output_type": "stream",
          "text": [
            "\n"
          ],
          "name": "stdout"
        }
      ]
    },
    {
      "cell_type": "code",
      "metadata": {
        "id": "U6BMJd6LNfG2",
        "colab": {
          "base_uri": "https://localhost:8080/"
        },
        "outputId": "b1513f2f-7c58-4a34-d15d-dcee9036e124"
      },
      "source": [
        "len(dl)"
      ],
      "execution_count": 15,
      "outputs": [
        {
          "output_type": "execute_result",
          "data": {
            "text/plain": [
              "4"
            ]
          },
          "metadata": {
            "tags": []
          },
          "execution_count": 15
        }
      ]
    },
    {
      "cell_type": "code",
      "metadata": {
        "id": "c_aPR_f5e0sL"
      },
      "source": [
        "for x in OmniglotDS(ds):\n",
        "  print(x['img1'].shape, x['img2'].shape)\n",
        "  break"
      ],
      "execution_count": null,
      "outputs": []
    },
    {
      "cell_type": "code",
      "metadata": {
        "id": "8VaMOZhHe0qn"
      },
      "source": [
        ""
      ],
      "execution_count": null,
      "outputs": []
    },
    {
      "cell_type": "code",
      "metadata": {
        "id": "A4KkksbBe0pm"
      },
      "source": [
        ""
      ],
      "execution_count": null,
      "outputs": []
    },
    {
      "cell_type": "markdown",
      "metadata": {
        "id": "mizEVpSrDYse"
      },
      "source": [
        "## Loss & optimizers\n",
        "\n",
        "- Binary Cross Entropy Loss with L2 Norm"
      ]
    },
    {
      "cell_type": "code",
      "metadata": {
        "id": "0GoTQD7xE4FI"
      },
      "source": [
        "from torch.optim import Adam\n",
        "from torchsummary import summary\n"
      ],
      "execution_count": 16,
      "outputs": []
    },
    {
      "cell_type": "code",
      "metadata": {
        "colab": {
          "base_uri": "https://localhost:8080/"
        },
        "id": "bywb-EbVJ-jK",
        "outputId": "9257f7c2-5669-4070-a9dc-6772e764e46f"
      },
      "source": [
        "model.apply(init_weights)"
      ],
      "execution_count": 17,
      "outputs": [
        {
          "output_type": "execute_result",
          "data": {
            "text/plain": [
              "SiameseNet(\n",
              "  (feat): FeatExt(\n",
              "    (cnn1): Conv2d(1, 64, kernel_size=(10, 10), stride=(1, 1))\n",
              "    (relu1): ReLU()\n",
              "    (max_pool1): MaxPool2d(kernel_size=2, stride=2, padding=0, dilation=1, ceil_mode=False)\n",
              "    (cnn2): Conv2d(64, 128, kernel_size=(7, 7), stride=(1, 1))\n",
              "    (relu2): ReLU()\n",
              "    (max_pool2): MaxPool2d(kernel_size=2, stride=2, padding=0, dilation=1, ceil_mode=False)\n",
              "    (cnn3): Conv2d(128, 128, kernel_size=(4, 4), stride=(1, 1))\n",
              "    (relu3): ReLU()\n",
              "    (max_pool3): MaxPool2d(kernel_size=2, stride=2, padding=0, dilation=1, ceil_mode=False)\n",
              "    (cnn4): Conv2d(128, 256, kernel_size=(4, 4), stride=(1, 1))\n",
              "    (relu4): ReLU()\n",
              "    (fc1): Linear(in_features=9216, out_features=4096, bias=True)\n",
              "    (sigmoid1): Sigmoid()\n",
              "  )\n",
              "  (fc): Linear(in_features=4096, out_features=1, bias=True)\n",
              "  (sigmoid): Sigmoid()\n",
              ")"
            ]
          },
          "metadata": {
            "tags": []
          },
          "execution_count": 17
        }
      ]
    },
    {
      "cell_type": "code",
      "metadata": {
        "id": "J8-LvR2DDfon"
      },
      "source": [
        "device = 'cuda' if torch.cuda.is_available() else 'cpu'\n",
        "\n",
        "criterian = nn.BCELoss()\n",
        "optimizer = Adam(model.parameters(), weight_decay=0.1)\n",
        "model = model.to(device)"
      ],
      "execution_count": 18,
      "outputs": []
    },
    {
      "cell_type": "code",
      "metadata": {
        "colab": {
          "base_uri": "https://localhost:8080/"
        },
        "id": "WQ8sKm4XKAaL",
        "outputId": "5df3ed52-7c7a-4192-bb6f-b22a71c3a0d0"
      },
      "source": [
        "summary(model, [(1, 105, 105), (1, 105, 105)])"
      ],
      "execution_count": 19,
      "outputs": [
        {
          "output_type": "stream",
          "text": [
            "----------------------------------------------------------------\n",
            "        Layer (type)               Output Shape         Param #\n",
            "================================================================\n",
            "            Conv2d-1           [-1, 64, 96, 96]           6,464\n",
            "              ReLU-2           [-1, 64, 96, 96]               0\n",
            "         MaxPool2d-3           [-1, 64, 48, 48]               0\n",
            "            Conv2d-4          [-1, 128, 42, 42]         401,536\n",
            "              ReLU-5          [-1, 128, 42, 42]               0\n",
            "         MaxPool2d-6          [-1, 128, 21, 21]               0\n",
            "            Conv2d-7          [-1, 128, 18, 18]         262,272\n",
            "              ReLU-8          [-1, 128, 18, 18]               0\n",
            "         MaxPool2d-9            [-1, 128, 9, 9]               0\n",
            "           Conv2d-10            [-1, 256, 6, 6]         524,544\n",
            "             ReLU-11            [-1, 256, 6, 6]               0\n",
            "           Linear-12                 [-1, 4096]      37,752,832\n",
            "          Sigmoid-13                 [-1, 4096]               0\n",
            "          FeatExt-14                 [-1, 4096]               0\n",
            "           Conv2d-15           [-1, 64, 96, 96]           6,464\n",
            "             ReLU-16           [-1, 64, 96, 96]               0\n",
            "        MaxPool2d-17           [-1, 64, 48, 48]               0\n",
            "           Conv2d-18          [-1, 128, 42, 42]         401,536\n",
            "             ReLU-19          [-1, 128, 42, 42]               0\n",
            "        MaxPool2d-20          [-1, 128, 21, 21]               0\n",
            "           Conv2d-21          [-1, 128, 18, 18]         262,272\n",
            "             ReLU-22          [-1, 128, 18, 18]               0\n",
            "        MaxPool2d-23            [-1, 128, 9, 9]               0\n",
            "           Conv2d-24            [-1, 256, 6, 6]         524,544\n",
            "             ReLU-25            [-1, 256, 6, 6]               0\n",
            "           Linear-26                 [-1, 4096]      37,752,832\n",
            "          Sigmoid-27                 [-1, 4096]               0\n",
            "          FeatExt-28                 [-1, 4096]               0\n",
            "           Linear-29                    [-1, 1]           4,097\n",
            "          Sigmoid-30                    [-1, 1]               0\n",
            "================================================================\n",
            "Total params: 77,899,393\n",
            "Trainable params: 77,899,393\n",
            "Non-trainable params: 0\n",
            "----------------------------------------------------------------\n",
            "Input size (MB): 463.68\n",
            "Forward/backward pass size (MB): 29.89\n",
            "Params size (MB): 297.16\n",
            "Estimated Total Size (MB): 790.74\n",
            "----------------------------------------------------------------\n"
          ],
          "name": "stdout"
        }
      ]
    },
    {
      "cell_type": "markdown",
      "metadata": {
        "id": "ocoh3dscKGng"
      },
      "source": [
        "## Training Loop \n",
        "\n",
        "- LR Schedular"
      ]
    },
    {
      "cell_type": "code",
      "metadata": {
        "id": "DgcYuyNTKGUB"
      },
      "source": [
        "NUM_EPOCH = 100"
      ],
      "execution_count": 20,
      "outputs": []
    },
    {
      "cell_type": "code",
      "metadata": {
        "id": "RqLrTzPbKGTD",
        "colab": {
          "base_uri": "https://localhost:8080/",
          "height": 1000,
          "referenced_widgets": [
            "9cb914a9320d4ebfb2afe258d133ecc9",
            "253a59399dfd407ea12ca59d1e11dd23",
            "91b2ab86bf06467393da33f2d5f199ab",
            "665c7bd1fb6244ff9d43b72234ceb235",
            "61eb277c259544299ae84f3f8bb2f96d",
            "b63f79af13014718abfca30bb921da32",
            "7b85b6fe41444e5097cc6d8a98873196",
            "26204d5f46914a5793c44c713992c7a3"
          ]
        },
        "outputId": "d7a6c164-23dd-45b8-ace2-9953d5d02d5f"
      },
      "source": [
        "losses = []\n",
        "\n",
        "for epoch in tqdm(range(NUM_EPOCH), desc='Training...'):\n",
        "  running_loss = 0.0\n",
        "  for batch in dl:\n",
        "    img1, img2, label = batch['img1'].to(device), batch['img2'].to(device), batch['label'].to(device)\n",
        "    optimizer.zero_grad()\n",
        "\n",
        "    out = model(img1, img2)\n",
        "    loss = criterian(out, label)\n",
        "\n",
        "    running_loss += loss.item() * out.shape[0]\n",
        "\n",
        "    loss.backward()\n",
        "    optimizer.step()\n",
        "\n",
        "  losses.append(running_loss)\n",
        "  print(f'Epoch: {epoch}, Loss: {running_loss:.2f}')\n"
      ],
      "execution_count": 25,
      "outputs": [
        {
          "output_type": "display_data",
          "data": {
            "application/vnd.jupyter.widget-view+json": {
              "model_id": "9cb914a9320d4ebfb2afe258d133ecc9",
              "version_minor": 0,
              "version_major": 2
            },
            "text/plain": [
              "HBox(children=(FloatProgress(value=0.0, description='Training...', style=ProgressStyle(description_width='init…"
            ]
          },
          "metadata": {
            "tags": []
          }
        },
        {
          "output_type": "stream",
          "text": [
            "Epoch: 0, Loss: 203.99\n",
            "Epoch: 1, Loss: 220.93\n",
            "Epoch: 2, Loss: 237.74\n",
            "Epoch: 3, Loss: 215.31\n",
            "Epoch: 4, Loss: 217.35\n",
            "Epoch: 5, Loss: 229.18\n",
            "Epoch: 6, Loss: 208.67\n",
            "Epoch: 7, Loss: 233.07\n",
            "Epoch: 8, Loss: 230.03\n",
            "Epoch: 9, Loss: 222.33\n",
            "Epoch: 10, Loss: 220.67\n",
            "Epoch: 11, Loss: 206.00\n",
            "Epoch: 12, Loss: 220.68\n",
            "Epoch: 13, Loss: 213.26\n",
            "Epoch: 14, Loss: 227.84\n",
            "Epoch: 15, Loss: 197.92\n",
            "Epoch: 16, Loss: 213.98\n",
            "Epoch: 17, Loss: 222.94\n",
            "Epoch: 18, Loss: 220.43\n",
            "Epoch: 19, Loss: 217.51\n",
            "Epoch: 20, Loss: 226.82\n",
            "Epoch: 21, Loss: 219.00\n",
            "Epoch: 22, Loss: 209.39\n",
            "Epoch: 23, Loss: 221.41\n",
            "Epoch: 24, Loss: 228.63\n",
            "Epoch: 25, Loss: 236.99\n",
            "Epoch: 26, Loss: 217.29\n",
            "Epoch: 27, Loss: 224.43\n",
            "Epoch: 28, Loss: 238.27\n",
            "Epoch: 29, Loss: 227.21\n",
            "Epoch: 30, Loss: 229.10\n",
            "Epoch: 31, Loss: 231.03\n",
            "Epoch: 32, Loss: 227.38\n",
            "Epoch: 33, Loss: 224.63\n",
            "Epoch: 34, Loss: 222.55\n",
            "Epoch: 35, Loss: 228.78\n",
            "Epoch: 36, Loss: 222.19\n",
            "Epoch: 37, Loss: 209.51\n",
            "Epoch: 38, Loss: 222.23\n",
            "Epoch: 39, Loss: 231.21\n",
            "Epoch: 40, Loss: 220.50\n",
            "Epoch: 41, Loss: 225.26\n",
            "Epoch: 42, Loss: 221.20\n",
            "Epoch: 43, Loss: 230.49\n",
            "Epoch: 44, Loss: 221.90\n",
            "Epoch: 45, Loss: 234.53\n",
            "Epoch: 46, Loss: 231.52\n",
            "Epoch: 47, Loss: 221.56\n",
            "Epoch: 48, Loss: 234.85\n",
            "Epoch: 49, Loss: 213.55\n",
            "Epoch: 50, Loss: 227.19\n",
            "Epoch: 51, Loss: 220.41\n",
            "Epoch: 52, Loss: 226.25\n",
            "Epoch: 53, Loss: 229.88\n",
            "Epoch: 54, Loss: 213.83\n",
            "Epoch: 55, Loss: 230.23\n",
            "Epoch: 56, Loss: 223.69\n",
            "Epoch: 57, Loss: 231.26\n",
            "Epoch: 58, Loss: 212.59\n",
            "Epoch: 59, Loss: 224.66\n",
            "Epoch: 60, Loss: 223.17\n",
            "Epoch: 61, Loss: 230.46\n",
            "Epoch: 62, Loss: 246.24\n",
            "Epoch: 63, Loss: 237.38\n",
            "Epoch: 64, Loss: 222.13\n",
            "Epoch: 65, Loss: 228.82\n",
            "Epoch: 66, Loss: 221.58\n",
            "Epoch: 67, Loss: 234.51\n",
            "Epoch: 68, Loss: 214.75\n",
            "Epoch: 69, Loss: 226.59\n",
            "Epoch: 70, Loss: 236.06\n",
            "Epoch: 71, Loss: 224.61\n",
            "Epoch: 72, Loss: 228.76\n",
            "Epoch: 73, Loss: 224.89\n",
            "Epoch: 74, Loss: 225.91\n",
            "Epoch: 75, Loss: 239.78\n",
            "Epoch: 76, Loss: 222.08\n",
            "Epoch: 77, Loss: 224.49\n",
            "Epoch: 78, Loss: 219.84\n",
            "Epoch: 79, Loss: 217.68\n",
            "Epoch: 80, Loss: 243.41\n",
            "Epoch: 81, Loss: 245.75\n",
            "Epoch: 82, Loss: 228.64\n",
            "Epoch: 83, Loss: 237.74\n",
            "Epoch: 84, Loss: 235.22\n",
            "Epoch: 85, Loss: 242.73\n",
            "Epoch: 86, Loss: 239.09\n",
            "Epoch: 87, Loss: 248.05\n",
            "Epoch: 88, Loss: 236.22\n",
            "Epoch: 89, Loss: 245.88\n",
            "Epoch: 90, Loss: 239.93\n",
            "Epoch: 91, Loss: 234.69\n",
            "Epoch: 92, Loss: 234.43\n",
            "Epoch: 93, Loss: 241.06\n",
            "Epoch: 94, Loss: 239.64\n",
            "Epoch: 95, Loss: 241.25\n",
            "Epoch: 96, Loss: 244.28\n",
            "Epoch: 97, Loss: 242.59\n",
            "Epoch: 98, Loss: 239.91\n",
            "Epoch: 99, Loss: 252.74\n",
            "\n"
          ],
          "name": "stdout"
        }
      ]
    },
    {
      "cell_type": "code",
      "metadata": {
        "colab": {
          "base_uri": "https://localhost:8080/",
          "height": 282
        },
        "id": "n2jwSpbshsSb",
        "outputId": "8b870c25-30ed-41c9-c1cc-c451cf2e78af"
      },
      "source": [
        " plt.plot(losses)"
      ],
      "execution_count": 26,
      "outputs": [
        {
          "output_type": "execute_result",
          "data": {
            "text/plain": [
              "[<matplotlib.lines.Line2D at 0x7fa45a8c8650>]"
            ]
          },
          "metadata": {
            "tags": []
          },
          "execution_count": 26
        },
        {
          "output_type": "display_data",
          "data": {
            "image/png": "[encoded data removed]",
            "text/plain": [
              "<Figure size 432x288 with 1 Axes>"
            ]
          },
          "metadata": {
            "tags": [],
            "needs_background": "light"
          }
        }
      ]
    },
    {
      "cell_type": "markdown",
      "metadata": {
        "id": "Wbybo3VOERWY"
      },
      "source": [
        "## Rough"
      ]
    },
    {
      "cell_type": "code",
      "metadata": {
        "colab": {
          "base_uri": "https://localhost:8080/"
        },
        "id": "8RRgSTNkESrO",
        "outputId": "062d8758-4c39-4ef6-8875-94cf5588a289"
      },
      "source": [
        "l = nn.BCELoss()\n",
        "\n",
        "x, y = torch.tensor([[0.01]]), torch.tensor([[1.0]])\n",
        "print(x, y, l(x, y))"
      ],
      "execution_count": null,
      "outputs": [
        {
          "output_type": "stream",
          "text": [
            "tensor([[0.0100]]) tensor([[1.]]) tensor(4.6052)\n"
          ],
          "name": "stdout"
        }
      ]
    },
    {
      "cell_type": "code",
      "metadata": {
        "id": "RCYSP0uSEU4h"
      },
      "source": [
        ""
      ],
      "execution_count": null,
      "outputs": []
    }
  ]
}
