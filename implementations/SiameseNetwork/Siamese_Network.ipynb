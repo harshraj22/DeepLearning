{
  "nbformat": 4,
  "nbformat_minor": 0,
  "metadata": {
    "colab": {
      "name": "Siamese_Network.ipynb",
      "provenance": []
    },
    "kernelspec": {
      "name": "python3",
      "display_name": "Python 3"
    },
    "language_info": {
      "name": "python"
    },
    "accelerator": "GPU",
    "widgets": {
      "application/vnd.jupyter.widget-state+json": {
        "eb28800e0a914bf996f2eb39b517a915": {
          "model_module": "@jupyter-widgets/controls",
          "model_name": "HBoxModel",
          "state": {
            "_view_name": "HBoxView",
            "_dom_classes": [],
            "_model_name": "HBoxModel",
            "_view_module": "@jupyter-widgets/controls",
            "_model_module_version": "1.5.0",
            "_view_count": null,
            "_view_module_version": "1.5.0",
            "box_style": "",
            "layout": "IPY_MODEL_61ba0124679a47ddb6f711e90d69882b",
            "_model_module": "@jupyter-widgets/controls",
            "children": [
              "IPY_MODEL_4d69ad11beef42b38a28029bc0600db1",
              "IPY_MODEL_ed5dc3f8e2ee42cd94196b5d2c8c7450"
            ]
          }
        },
        "61ba0124679a47ddb6f711e90d69882b": {
          "model_module": "@jupyter-widgets/base",
          "model_name": "LayoutModel",
          "state": {
            "_view_name": "LayoutView",
            "grid_template_rows": null,
            "right": null,
            "justify_content": null,
            "_view_module": "@jupyter-widgets/base",
            "overflow": null,
            "_model_module_version": "1.2.0",
            "_view_count": null,
            "flex_flow": null,
            "width": null,
            "min_width": null,
            "border": null,
            "align_items": null,
            "bottom": null,
            "_model_module": "@jupyter-widgets/base",
            "top": null,
            "grid_column": null,
            "overflow_y": null,
            "overflow_x": null,
            "grid_auto_flow": null,
            "grid_area": null,
            "grid_template_columns": null,
            "flex": null,
            "_model_name": "LayoutModel",
            "justify_items": null,
            "grid_row": null,
            "max_height": null,
            "align_content": null,
            "visibility": null,
            "align_self": null,
            "height": null,
            "min_height": null,
            "padding": null,
            "grid_auto_rows": null,
            "grid_gap": null,
            "max_width": null,
            "order": null,
            "_view_module_version": "1.2.0",
            "grid_template_areas": null,
            "object_position": null,
            "object_fit": null,
            "grid_auto_columns": null,
            "margin": null,
            "display": null,
            "left": null
          }
        },
        "4d69ad11beef42b38a28029bc0600db1": {
          "model_module": "@jupyter-widgets/controls",
          "model_name": "FloatProgressModel",
          "state": {
            "_view_name": "ProgressView",
            "style": "IPY_MODEL_7f927f0d2fae4ebf9c7d5933c7904209",
            "_dom_classes": [],
            "description": "Iterating over omniglot: 100%",
            "_model_name": "FloatProgressModel",
            "bar_style": "success",
            "max": 1000,
            "_view_module": "@jupyter-widgets/controls",
            "_model_module_version": "1.5.0",
            "value": 1000,
            "_view_count": null,
            "_view_module_version": "1.5.0",
            "orientation": "horizontal",
            "min": 0,
            "description_tooltip": null,
            "_model_module": "@jupyter-widgets/controls",
            "layout": "IPY_MODEL_f904ae85b4524137b0f4b883bbaa61fd"
          }
        },
        "ed5dc3f8e2ee42cd94196b5d2c8c7450": {
          "model_module": "@jupyter-widgets/controls",
          "model_name": "HTMLModel",
          "state": {
            "_view_name": "HTMLView",
            "style": "IPY_MODEL_65b86b0902fd496d93af3e0424471642",
            "_dom_classes": [],
            "description": "",
            "_model_name": "HTMLModel",
            "placeholder": "​",
            "_view_module": "@jupyter-widgets/controls",
            "_model_module_version": "1.5.0",
            "value": " 1000/1000 [01:56&lt;00:00,  8.56it/s]",
            "_view_count": null,
            "_view_module_version": "1.5.0",
            "description_tooltip": null,
            "_model_module": "@jupyter-widgets/controls",
            "layout": "IPY_MODEL_190644a12e214a9680d2075052f14580"
          }
        },
        "7f927f0d2fae4ebf9c7d5933c7904209": {
          "model_module": "@jupyter-widgets/controls",
          "model_name": "ProgressStyleModel",
          "state": {
            "_view_name": "StyleView",
            "_model_name": "ProgressStyleModel",
            "description_width": "initial",
            "_view_module": "@jupyter-widgets/base",
            "_model_module_version": "1.5.0",
            "_view_count": null,
            "_view_module_version": "1.2.0",
            "bar_color": null,
            "_model_module": "@jupyter-widgets/controls"
          }
        },
        "f904ae85b4524137b0f4b883bbaa61fd": {
          "model_module": "@jupyter-widgets/base",
          "model_name": "LayoutModel",
          "state": {
            "_view_name": "LayoutView",
            "grid_template_rows": null,
            "right": null,
            "justify_content": null,
            "_view_module": "@jupyter-widgets/base",
            "overflow": null,
            "_model_module_version": "1.2.0",
            "_view_count": null,
            "flex_flow": null,
            "width": null,
            "min_width": null,
            "border": null,
            "align_items": null,
            "bottom": null,
            "_model_module": "@jupyter-widgets/base",
            "top": null,
            "grid_column": null,
            "overflow_y": null,
            "overflow_x": null,
            "grid_auto_flow": null,
            "grid_area": null,
            "grid_template_columns": null,
            "flex": null,
            "_model_name": "LayoutModel",
            "justify_items": null,
            "grid_row": null,
            "max_height": null,
            "align_content": null,
            "visibility": null,
            "align_self": null,
            "height": null,
            "min_height": null,
            "padding": null,
            "grid_auto_rows": null,
            "grid_gap": null,
            "max_width": null,
            "order": null,
            "_view_module_version": "1.2.0",
            "grid_template_areas": null,
            "object_position": null,
            "object_fit": null,
            "grid_auto_columns": null,
            "margin": null,
            "display": null,
            "left": null
          }
        },
        "65b86b0902fd496d93af3e0424471642": {
          "model_module": "@jupyter-widgets/controls",
          "model_name": "DescriptionStyleModel",
          "state": {
            "_view_name": "StyleView",
            "_model_name": "DescriptionStyleModel",
            "description_width": "",
            "_view_module": "@jupyter-widgets/base",
            "_model_module_version": "1.5.0",
            "_view_count": null,
            "_view_module_version": "1.2.0",
            "_model_module": "@jupyter-widgets/controls"
          }
        },
        "190644a12e214a9680d2075052f14580": {
          "model_module": "@jupyter-widgets/base",
          "model_name": "LayoutModel",
          "state": {
            "_view_name": "LayoutView",
            "grid_template_rows": null,
            "right": null,
            "justify_content": null,
            "_view_module": "@jupyter-widgets/base",
            "overflow": null,
            "_model_module_version": "1.2.0",
            "_view_count": null,
            "flex_flow": null,
            "width": null,
            "min_width": null,
            "border": null,
            "align_items": null,
            "bottom": null,
            "_model_module": "@jupyter-widgets/base",
            "top": null,
            "grid_column": null,
            "overflow_y": null,
            "overflow_x": null,
            "grid_auto_flow": null,
            "grid_area": null,
            "grid_template_columns": null,
            "flex": null,
            "_model_name": "LayoutModel",
            "justify_items": null,
            "grid_row": null,
            "max_height": null,
            "align_content": null,
            "visibility": null,
            "align_self": null,
            "height": null,
            "min_height": null,
            "padding": null,
            "grid_auto_rows": null,
            "grid_gap": null,
            "max_width": null,
            "order": null,
            "_view_module_version": "1.2.0",
            "grid_template_areas": null,
            "object_position": null,
            "object_fit": null,
            "grid_auto_columns": null,
            "margin": null,
            "display": null,
            "left": null
          }
        },
        "38492ca66381477e8fedbc33b8740960": {
          "model_module": "@jupyter-widgets/controls",
          "model_name": "HBoxModel",
          "state": {
            "_view_name": "HBoxView",
            "_dom_classes": [],
            "_model_name": "HBoxModel",
            "_view_module": "@jupyter-widgets/controls",
            "_model_module_version": "1.5.0",
            "_view_count": null,
            "_view_module_version": "1.5.0",
            "box_style": "",
            "layout": "IPY_MODEL_2b240708945240dfb17788325447b062",
            "_model_module": "@jupyter-widgets/controls",
            "children": [
              "IPY_MODEL_cfb16e08df02440385f784fccdb0951a",
              "IPY_MODEL_01d8e32d70d749b8b78c12b330b614cc"
            ]
          }
        },
        "2b240708945240dfb17788325447b062": {
          "model_module": "@jupyter-widgets/base",
          "model_name": "LayoutModel",
          "state": {
            "_view_name": "LayoutView",
            "grid_template_rows": null,
            "right": null,
            "justify_content": null,
            "_view_module": "@jupyter-widgets/base",
            "overflow": null,
            "_model_module_version": "1.2.0",
            "_view_count": null,
            "flex_flow": null,
            "width": null,
            "min_width": null,
            "border": null,
            "align_items": null,
            "bottom": null,
            "_model_module": "@jupyter-widgets/base",
            "top": null,
            "grid_column": null,
            "overflow_y": null,
            "overflow_x": null,
            "grid_auto_flow": null,
            "grid_area": null,
            "grid_template_columns": null,
            "flex": null,
            "_model_name": "LayoutModel",
            "justify_items": null,
            "grid_row": null,
            "max_height": null,
            "align_content": null,
            "visibility": null,
            "align_self": null,
            "height": null,
            "min_height": null,
            "padding": null,
            "grid_auto_rows": null,
            "grid_gap": null,
            "max_width": null,
            "order": null,
            "_view_module_version": "1.2.0",
            "grid_template_areas": null,
            "object_position": null,
            "object_fit": null,
            "grid_auto_columns": null,
            "margin": null,
            "display": null,
            "left": null
          }
        },
        "cfb16e08df02440385f784fccdb0951a": {
          "model_module": "@jupyter-widgets/controls",
          "model_name": "FloatProgressModel",
          "state": {
            "_view_name": "ProgressView",
            "style": "IPY_MODEL_643873a001ca4f9cb3bcaa24b7ec7d0d",
            "_dom_classes": [],
            "description": "Iterating over omniglot: 100%",
            "_model_name": "FloatProgressModel",
            "bar_style": "success",
            "max": 1000,
            "_view_module": "@jupyter-widgets/controls",
            "_model_module_version": "1.5.0",
            "value": 1000,
            "_view_count": null,
            "_view_module_version": "1.5.0",
            "orientation": "horizontal",
            "min": 0,
            "description_tooltip": null,
            "_model_module": "@jupyter-widgets/controls",
            "layout": "IPY_MODEL_db2cbe58f8ed4cb1b28ef5dd63e78bfc"
          }
        },
        "01d8e32d70d749b8b78c12b330b614cc": {
          "model_module": "@jupyter-widgets/controls",
          "model_name": "HTMLModel",
          "state": {
            "_view_name": "HTMLView",
            "style": "IPY_MODEL_3f7ac173978c41508405438d574f2f31",
            "_dom_classes": [],
            "description": "",
            "_model_name": "HTMLModel",
            "placeholder": "​",
            "_view_module": "@jupyter-widgets/controls",
            "_model_module_version": "1.5.0",
            "value": " 1000/1000 [01:55&lt;00:00,  8.63it/s]",
            "_view_count": null,
            "_view_module_version": "1.5.0",
            "description_tooltip": null,
            "_model_module": "@jupyter-widgets/controls",
            "layout": "IPY_MODEL_46f624c0baa64ca7b2b19ff1b13a9ae3"
          }
        },
        "643873a001ca4f9cb3bcaa24b7ec7d0d": {
          "model_module": "@jupyter-widgets/controls",
          "model_name": "ProgressStyleModel",
          "state": {
            "_view_name": "StyleView",
            "_model_name": "ProgressStyleModel",
            "description_width": "initial",
            "_view_module": "@jupyter-widgets/base",
            "_model_module_version": "1.5.0",
            "_view_count": null,
            "_view_module_version": "1.2.0",
            "bar_color": null,
            "_model_module": "@jupyter-widgets/controls"
          }
        },
        "db2cbe58f8ed4cb1b28ef5dd63e78bfc": {
          "model_module": "@jupyter-widgets/base",
          "model_name": "LayoutModel",
          "state": {
            "_view_name": "LayoutView",
            "grid_template_rows": null,
            "right": null,
            "justify_content": null,
            "_view_module": "@jupyter-widgets/base",
            "overflow": null,
            "_model_module_version": "1.2.0",
            "_view_count": null,
            "flex_flow": null,
            "width": null,
            "min_width": null,
            "border": null,
            "align_items": null,
            "bottom": null,
            "_model_module": "@jupyter-widgets/base",
            "top": null,
            "grid_column": null,
            "overflow_y": null,
            "overflow_x": null,
            "grid_auto_flow": null,
            "grid_area": null,
            "grid_template_columns": null,
            "flex": null,
            "_model_name": "LayoutModel",
            "justify_items": null,
            "grid_row": null,
            "max_height": null,
            "align_content": null,
            "visibility": null,
            "align_self": null,
            "height": null,
            "min_height": null,
            "padding": null,
            "grid_auto_rows": null,
            "grid_gap": null,
            "max_width": null,
            "order": null,
            "_view_module_version": "1.2.0",
            "grid_template_areas": null,
            "object_position": null,
            "object_fit": null,
            "grid_auto_columns": null,
            "margin": null,
            "display": null,
            "left": null
          }
        },
        "3f7ac173978c41508405438d574f2f31": {
          "model_module": "@jupyter-widgets/controls",
          "model_name": "DescriptionStyleModel",
          "state": {
            "_view_name": "StyleView",
            "_model_name": "DescriptionStyleModel",
            "description_width": "",
            "_view_module": "@jupyter-widgets/base",
            "_model_module_version": "1.5.0",
            "_view_count": null,
            "_view_module_version": "1.2.0",
            "_model_module": "@jupyter-widgets/controls"
          }
        },
        "46f624c0baa64ca7b2b19ff1b13a9ae3": {
          "model_module": "@jupyter-widgets/base",
          "model_name": "LayoutModel",
          "state": {
            "_view_name": "LayoutView",
            "grid_template_rows": null,
            "right": null,
            "justify_content": null,
            "_view_module": "@jupyter-widgets/base",
            "overflow": null,
            "_model_module_version": "1.2.0",
            "_view_count": null,
            "flex_flow": null,
            "width": null,
            "min_width": null,
            "border": null,
            "align_items": null,
            "bottom": null,
            "_model_module": "@jupyter-widgets/base",
            "top": null,
            "grid_column": null,
            "overflow_y": null,
            "overflow_x": null,
            "grid_auto_flow": null,
            "grid_area": null,
            "grid_template_columns": null,
            "flex": null,
            "_model_name": "LayoutModel",
            "justify_items": null,
            "grid_row": null,
            "max_height": null,
            "align_content": null,
            "visibility": null,
            "align_self": null,
            "height": null,
            "min_height": null,
            "padding": null,
            "grid_auto_rows": null,
            "grid_gap": null,
            "max_width": null,
            "order": null,
            "_view_module_version": "1.2.0",
            "grid_template_areas": null,
            "object_position": null,
            "object_fit": null,
            "grid_auto_columns": null,
            "margin": null,
            "display": null,
            "left": null
          }
        },
        "f8b86505e8aa4c8bb55408fcf99a4775": {
          "model_module": "@jupyter-widgets/controls",
          "model_name": "HBoxModel",
          "state": {
            "_view_name": "HBoxView",
            "_dom_classes": [],
            "_model_name": "HBoxModel",
            "_view_module": "@jupyter-widgets/controls",
            "_model_module_version": "1.5.0",
            "_view_count": null,
            "_view_module_version": "1.5.0",
            "box_style": "",
            "layout": "IPY_MODEL_3e5a2195657e4974a6ed423a7786bfea",
            "_model_module": "@jupyter-widgets/controls",
            "children": [
              "IPY_MODEL_e8729f5c37934517afcd5ac8fa8511c3",
              "IPY_MODEL_36e911016ca649558b6bd66f0057c33a"
            ]
          }
        },
        "3e5a2195657e4974a6ed423a7786bfea": {
          "model_module": "@jupyter-widgets/base",
          "model_name": "LayoutModel",
          "state": {
            "_view_name": "LayoutView",
            "grid_template_rows": null,
            "right": null,
            "justify_content": null,
            "_view_module": "@jupyter-widgets/base",
            "overflow": null,
            "_model_module_version": "1.2.0",
            "_view_count": null,
            "flex_flow": null,
            "width": null,
            "min_width": null,
            "border": null,
            "align_items": null,
            "bottom": null,
            "_model_module": "@jupyter-widgets/base",
            "top": null,
            "grid_column": null,
            "overflow_y": null,
            "overflow_x": null,
            "grid_auto_flow": null,
            "grid_area": null,
            "grid_template_columns": null,
            "flex": null,
            "_model_name": "LayoutModel",
            "justify_items": null,
            "grid_row": null,
            "max_height": null,
            "align_content": null,
            "visibility": null,
            "align_self": null,
            "height": null,
            "min_height": null,
            "padding": null,
            "grid_auto_rows": null,
            "grid_gap": null,
            "max_width": null,
            "order": null,
            "_view_module_version": "1.2.0",
            "grid_template_areas": null,
            "object_position": null,
            "object_fit": null,
            "grid_auto_columns": null,
            "margin": null,
            "display": null,
            "left": null
          }
        },
        "e8729f5c37934517afcd5ac8fa8511c3": {
          "model_module": "@jupyter-widgets/controls",
          "model_name": "FloatProgressModel",
          "state": {
            "_view_name": "ProgressView",
            "style": "IPY_MODEL_1dff9bceeafc4d53b00b610fd5278fe1",
            "_dom_classes": [],
            "description": "Training...: 100%",
            "_model_name": "FloatProgressModel",
            "bar_style": "success",
            "max": 301,
            "_view_module": "@jupyter-widgets/controls",
            "_model_module_version": "1.5.0",
            "value": 301,
            "_view_count": null,
            "_view_module_version": "1.5.0",
            "orientation": "horizontal",
            "min": 0,
            "description_tooltip": null,
            "_model_module": "@jupyter-widgets/controls",
            "layout": "IPY_MODEL_45b5a955f58142fa837056b71bee1cc1"
          }
        },
        "36e911016ca649558b6bd66f0057c33a": {
          "model_module": "@jupyter-widgets/controls",
          "model_name": "HTMLModel",
          "state": {
            "_view_name": "HTMLView",
            "style": "IPY_MODEL_b4cd41dcd9a84654a287ad3a448b1b2f",
            "_dom_classes": [],
            "description": "",
            "_model_name": "HTMLModel",
            "placeholder": "​",
            "_view_module": "@jupyter-widgets/controls",
            "_model_module_version": "1.5.0",
            "value": " 301/301 [10:31&lt;00:00,  2.10s/it]",
            "_view_count": null,
            "_view_module_version": "1.5.0",
            "description_tooltip": null,
            "_model_module": "@jupyter-widgets/controls",
            "layout": "IPY_MODEL_db138b0cd0414825b75f2af1447c3402"
          }
        },
        "1dff9bceeafc4d53b00b610fd5278fe1": {
          "model_module": "@jupyter-widgets/controls",
          "model_name": "ProgressStyleModel",
          "state": {
            "_view_name": "StyleView",
            "_model_name": "ProgressStyleModel",
            "description_width": "initial",
            "_view_module": "@jupyter-widgets/base",
            "_model_module_version": "1.5.0",
            "_view_count": null,
            "_view_module_version": "1.2.0",
            "bar_color": null,
            "_model_module": "@jupyter-widgets/controls"
          }
        },
        "45b5a955f58142fa837056b71bee1cc1": {
          "model_module": "@jupyter-widgets/base",
          "model_name": "LayoutModel",
          "state": {
            "_view_name": "LayoutView",
            "grid_template_rows": null,
            "right": null,
            "justify_content": null,
            "_view_module": "@jupyter-widgets/base",
            "overflow": null,
            "_model_module_version": "1.2.0",
            "_view_count": null,
            "flex_flow": null,
            "width": null,
            "min_width": null,
            "border": null,
            "align_items": null,
            "bottom": null,
            "_model_module": "@jupyter-widgets/base",
            "top": null,
            "grid_column": null,
            "overflow_y": null,
            "overflow_x": null,
            "grid_auto_flow": null,
            "grid_area": null,
            "grid_template_columns": null,
            "flex": null,
            "_model_name": "LayoutModel",
            "justify_items": null,
            "grid_row": null,
            "max_height": null,
            "align_content": null,
            "visibility": null,
            "align_self": null,
            "height": null,
            "min_height": null,
            "padding": null,
            "grid_auto_rows": null,
            "grid_gap": null,
            "max_width": null,
            "order": null,
            "_view_module_version": "1.2.0",
            "grid_template_areas": null,
            "object_position": null,
            "object_fit": null,
            "grid_auto_columns": null,
            "margin": null,
            "display": null,
            "left": null
          }
        },
        "b4cd41dcd9a84654a287ad3a448b1b2f": {
          "model_module": "@jupyter-widgets/controls",
          "model_name": "DescriptionStyleModel",
          "state": {
            "_view_name": "StyleView",
            "_model_name": "DescriptionStyleModel",
            "description_width": "",
            "_view_module": "@jupyter-widgets/base",
            "_model_module_version": "1.5.0",
            "_view_count": null,
            "_view_module_version": "1.2.0",
            "_model_module": "@jupyter-widgets/controls"
          }
        },
        "db138b0cd0414825b75f2af1447c3402": {
          "model_module": "@jupyter-widgets/base",
          "model_name": "LayoutModel",
          "state": {
            "_view_name": "LayoutView",
            "grid_template_rows": null,
            "right": null,
            "justify_content": null,
            "_view_module": "@jupyter-widgets/base",
            "overflow": null,
            "_model_module_version": "1.2.0",
            "_view_count": null,
            "flex_flow": null,
            "width": null,
            "min_width": null,
            "border": null,
            "align_items": null,
            "bottom": null,
            "_model_module": "@jupyter-widgets/base",
            "top": null,
            "grid_column": null,
            "overflow_y": null,
            "overflow_x": null,
            "grid_auto_flow": null,
            "grid_area": null,
            "grid_template_columns": null,
            "flex": null,
            "_model_name": "LayoutModel",
            "justify_items": null,
            "grid_row": null,
            "max_height": null,
            "align_content": null,
            "visibility": null,
            "align_self": null,
            "height": null,
            "min_height": null,
            "padding": null,
            "grid_auto_rows": null,
            "grid_gap": null,
            "max_width": null,
            "order": null,
            "_view_module_version": "1.2.0",
            "grid_template_areas": null,
            "object_position": null,
            "object_fit": null,
            "grid_auto_columns": null,
            "margin": null,
            "display": null,
            "left": null
          }
        }
      }
    }
  },
  "cells": [
    {
      "cell_type": "markdown",
      "metadata": {
        "id": "bYi4fvHr_brl"
      },
      "source": [
        "# [Siamese Neural Networks for One-shot Image Recognition](https://www.cs.cmu.edu/~rsalakhu/papers/oneshot1.pdf)\n",
        "\n",
        "A Pytorch Implementation"
      ]
    },
    {
      "cell_type": "code",
      "metadata": {
        "colab": {
          "base_uri": "https://localhost:8080/"
        },
        "id": "7zdN5AIzBGim",
        "outputId": "087b61a9-fc9a-4404-97d8-4feb462ba288"
      },
      "source": [
        "! pip install torchscan"
      ],
      "execution_count": 1,
      "outputs": [
        {
          "output_type": "stream",
          "text": [
            "Collecting torchscan\n",
            "  Downloading https://files.pythonhosted.org/packages/30/8f/0f255453c3c44990cb879574ac023f7484acfb225d7f17468cbebc65bf01/torchscan-0.1.1-py3-none-any.whl\n",
            "Requirement already satisfied: torch>=1.1.0 in /usr/local/lib/python3.7/dist-packages (from torchscan) (1.9.0+cu102)\n",
            "Requirement already satisfied: typing-extensions in /usr/local/lib/python3.7/dist-packages (from torch>=1.1.0->torchscan) (3.7.4.3)\n",
            "Installing collected packages: torchscan\n",
            "Successfully installed torchscan-0.1.1\n"
          ],
          "name": "stdout"
        }
      ]
    },
    {
      "cell_type": "code",
      "metadata": {
        "id": "bs6uY9OIkbdb"
      },
      "source": [
        "# https://www.cs.cmu.edu/~rsalakhu/papers/oneshot1.pdf\n",
        "\n",
        "import torch\n",
        "import torch.nn as nn\n",
        "import warnings\n",
        "warnings.filterwarnings('ignore')"
      ],
      "execution_count": 2,
      "outputs": []
    },
    {
      "cell_type": "code",
      "metadata": {
        "id": "hL7Y8VLVkPmt"
      },
      "source": [
        "# To be used as the feature extractor, in order to compare the features\n",
        "\n",
        "class FeatExt(nn.Module):\n",
        "    def __init__(self):\n",
        "        super(FeatExt, self).__init__()\n",
        "\n",
        "        # input.shape: (1, 105, 105)\n",
        "\n",
        "        self.cnn1 = nn.Conv2d(1, 64, kernel_size=10) # (1, 105, 105) -> (64, 96, 96)\n",
        "        self.relu1 = nn.ReLU()\n",
        "\n",
        "        # feature maps.shape: (64, 96, 96)\n",
        "        self.max_pool1 = nn.MaxPool2d(kernel_size=2) # (64, 96, 96) -> (64, 48, 48)\n",
        "\n",
        "        # feature maps.shape: (64, 48, 48)\n",
        "        self.cnn2 = nn.Conv2d(64, 128, kernel_size=7) # (64, 48, 48) -> (128, 42, 42)\n",
        "        self.relu2 = nn.ReLU()\n",
        "\n",
        "        # feature maps.shape: (128, 42, 42)\n",
        "        self.max_pool2 = nn.MaxPool2d(kernel_size=2) # (128, 42, 42) -> (128, 21, 21)\n",
        "\n",
        "        # feature maps.shape: (128, 21, 21)\n",
        "        self.cnn3 = nn.Conv2d(128, 128, kernel_size=4) # (128, 21, 21) -> (128, 18, 18)\n",
        "        self.relu3 = nn.ReLU()\n",
        "\n",
        "        # feature maps.shape: (128, 18, 18)\n",
        "        self.max_pool3 = nn.MaxPool2d(kernel_size=2) # (128, 18, 18) -> (128, 9, 9)\n",
        "\n",
        "        # feature maps.shape: (128, 9, 9)\n",
        "        self.cnn4 = nn.Conv2d(128, 256, kernel_size=4) # (128, 9, 9) -> (256, 6, 6)\n",
        "        self.relu4 = nn.ReLU()\n",
        "\n",
        "        # feature maps.shape: (256, 6, 6)\n",
        "        # torch.flatten: (256, 6, 6) -> (9216)\n",
        "\n",
        "        # feature maps.shape: (9216)\n",
        "        self.fc1 = nn.Linear(9216, 4096) # (9216) -> (4096)\n",
        "        self.sigmoid1 = nn.Sigmoid()\n",
        "\n",
        "        # # feature maps.shape: (4096)\n",
        "        # self.fc2 = nn.Linear(4096, 1)\n",
        "        # self.sigmoid2 = nn.Sigmoid()\n",
        "\n",
        "\n",
        "    def forward(self, x):\n",
        "        x = self.max_pool1(self.relu1(self.cnn1(x)))\n",
        "\n",
        "        x = self.max_pool2(self.relu2(self.cnn2(x)))\n",
        "\n",
        "        x = self.max_pool3(self.relu3(self.cnn3(x)))\n",
        "\n",
        "        x = self.relu4(self.cnn4(x))\n",
        "\n",
        "        x = torch.flatten(x, start_dim=1)\n",
        "\n",
        "        x = self.sigmoid1(self.fc1(x))\n",
        "\n",
        "        # x = self.sigmoid2(self.fc2(x))\n",
        "\n",
        "        return x\n",
        "\n",
        "\n",
        "# if __name__ == '__main__':\n",
        "#     model = SiameseNet()\n",
        "#     batch_size = 5\n",
        "#     input = torch.rand(size=(batch_size, 1, 105, 105))\n",
        "#     out = model(input)\n",
        "#     print(input.shape, out.shape)\n",
        "#     assert tuple(out.shape) == (batch_size, 1)"
      ],
      "execution_count": 3,
      "outputs": []
    },
    {
      "cell_type": "code",
      "metadata": {
        "id": "InYxkyFZkalI"
      },
      "source": [
        "class SiameseNet(nn.Module):\n",
        "  def __init__(self):\n",
        "    super(SiameseNet, self).__init__()\n",
        "    self.feat = FeatExt()\n",
        "    \n",
        "    # feature maps.shape: (4096)\n",
        "    self.fc = nn.Linear(4096, 1)\n",
        "    self.sigmoid = nn.Sigmoid()\n",
        "\n",
        "  def forward(self, x1, x2):\n",
        "    x1 = self.feat(x1)\n",
        "    x2 = self.feat(x2)\n",
        "\n",
        "    return self.sigmoid(self.fc((x1-x2).abs()))"
      ],
      "execution_count": 4,
      "outputs": []
    },
    {
      "cell_type": "markdown",
      "metadata": {
        "id": "WkrTC_d4HnM4"
      },
      "source": [
        "#### Weight Initilization\n",
        "\n",
        "* They initialized all network weights\n",
        "in the convolutional layers from a normal distribution with\n",
        "zero-mean and a standard deviation of `10−2`\n",
        "* Biases were\n",
        "also initialized from a normal distribution, but with mean `0.5` and standard deviation `10−2`\n",
        "* In the fully-connected\n",
        "layers, the biases were initialized in the same way as the\n",
        "convolutional layers, but the weights were drawn from a\n",
        "much wider normal distribution with zero-mean and standard deviation `2 × 10−1`\n",
        "."
      ]
    },
    {
      "cell_type": "code",
      "metadata": {
        "id": "RNq9JJaWHt4D"
      },
      "source": [
        "def init_weights(m):\n",
        "  if type(m) == nn.Linear:\n",
        "    nn.init.normal_(m.weight, 0, 2e-1)\n",
        "    nn.init.normal_(m.bias, 0, 1e-2)\n",
        "  elif type(m) == nn.Conv2d:\n",
        "    nn.init.normal_(m.weight, 0, 1e-2)\n",
        "    nn.init.normal_(m.bias, 0.5, 1e-2)\n"
      ],
      "execution_count": 5,
      "outputs": []
    },
    {
      "cell_type": "code",
      "metadata": {
        "colab": {
          "base_uri": "https://localhost:8080/"
        },
        "id": "4Zp5n9_fAj5d",
        "outputId": "8073758f-af0d-4b60-9b6b-e0b8dbc26f64"
      },
      "source": [
        "# Just a quick check that every thing works as it should be\n",
        "\n",
        "model = SiameseNet()\n",
        "batch_size = 5\n",
        "input = torch.rand(size=(batch_size, 1, 105, 105))\n",
        "out = model(input, input)\n",
        "print(input.shape, out.shape)\n",
        "assert tuple(out.shape) == (batch_size, 1)"
      ],
      "execution_count": 6,
      "outputs": [
        {
          "output_type": "stream",
          "text": [
            "torch.Size([5, 1, 105, 105]) torch.Size([5, 1])\n"
          ],
          "name": "stdout"
        }
      ]
    },
    {
      "cell_type": "markdown",
      "metadata": {
        "id": "0NJFd1Qko9_h"
      },
      "source": [
        "## Getting & preparing the dataset"
      ]
    },
    {
      "cell_type": "code",
      "metadata": {
        "id": "cBL3dmVL7qxG"
      },
      "source": [
        "import os\n",
        "\n",
        "working_dir = '/content/drive/MyDrive/siamese_net'\n",
        "os.chdir(working_dir)"
      ],
      "execution_count": 7,
      "outputs": []
    },
    {
      "cell_type": "code",
      "metadata": {
        "id": "FkcuUDsFkd4_"
      },
      "source": [
        "from torchvision.datasets import Omniglot\n",
        "from torch.utils.data import Dataset, DataLoader\n",
        "import numpy as np\n",
        "import random\n",
        "import logging\n",
        "from tqdm.notebook import tqdm\n",
        "import matplotlib.pyplot as plt\n"
      ],
      "execution_count": 8,
      "outputs": []
    },
    {
      "cell_type": "code",
      "metadata": {
        "colab": {
          "base_uri": "https://localhost:8080/"
        },
        "id": "vQrdco5Xkd3U",
        "outputId": "6fc5e24f-41dc-481d-c4ad-9a51a059abc0"
      },
      "source": [
        "ds = Omniglot(root='./data', download=True, transform=np.array, background=True)"
      ],
      "execution_count": 9,
      "outputs": [
        {
          "output_type": "stream",
          "text": [
            "Files already downloaded and verified\n"
          ],
          "name": "stdout"
        }
      ]
    },
    {
      "cell_type": "code",
      "metadata": {
        "id": "AQH1IZjXCdCo"
      },
      "source": [
        "# https://github.com/Rhcsky/siamese-one-shot-pytorch/blob/main/data_loader.py\n",
        "\n",
        "from collections import defaultdict\n",
        "\n",
        "class OmniglotDS(Dataset):\n",
        "  def __init__(self, ds):\n",
        "    super(OmniglotDS, self).__init__()\n",
        "    self.ds = ds\n",
        "    self.mean = 0.8444\n",
        "    self.std = 0.5329\n",
        "    self.imgs = defaultdict(list)\n",
        "    \n",
        "    self.data = [ds[i] for i in range(1000)]\n",
        "    for img, label in tqdm(self.data, desc='Iterating over omniglot'):\n",
        "      self.imgs[label].append(img)\n",
        "\n",
        "  def __len__(self):\n",
        "    return len(self.data)\n",
        "\n",
        "  def __getitem__(self, idx):\n",
        "    img1, cls1 = random.choice(self.data) \n",
        "\n",
        "    # if they are from same class\n",
        "    if idx % 2 == 1:\n",
        "      label = 1.0\n",
        "      img2, cls2 = random.choice(self.imgs[cls1]), cls1 \n",
        "    # they are from different class\n",
        "    else:\n",
        "      label = 0.0\n",
        "      options = list(set(self.imgs.keys()) - {cls1})\n",
        "      \n",
        "      cls2 = random.choice(options)\n",
        "      img2 = random.choice(self.imgs[cls2]) \n",
        "    img1, img2 = np.array(img1, dtype=np.float32) / 255, np.array(img2, dtype=np.float32) / 255\n",
        "    img1 = np.expand_dims(img1, axis=0)\n",
        "    img2 = np.expand_dims(img2, axis=0) \n",
        "\n",
        "    return {\n",
        "        'img1': torch.from_numpy(img1),\n",
        "        'img2': torch.from_numpy(img2),\n",
        "        'label': torch.from_numpy(np.array([label], dtype=np.float32))\n",
        "    }\n",
        "\n"
      ],
      "execution_count": 10,
      "outputs": []
    },
    {
      "cell_type": "code",
      "metadata": {
        "id": "--eNnp4ykd2t",
        "colab": {
          "base_uri": "https://localhost:8080/",
          "height": 66,
          "referenced_widgets": [
            "eb28800e0a914bf996f2eb39b517a915",
            "61ba0124679a47ddb6f711e90d69882b",
            "4d69ad11beef42b38a28029bc0600db1",
            "ed5dc3f8e2ee42cd94196b5d2c8c7450",
            "7f927f0d2fae4ebf9c7d5933c7904209",
            "f904ae85b4524137b0f4b883bbaa61fd",
            "65b86b0902fd496d93af3e0424471642",
            "190644a12e214a9680d2075052f14580"
          ]
        },
        "outputId": "2bcb1be3-3ea2-44de-fd30-da190bf8b852"
      },
      "source": [
        "dl = DataLoader(OmniglotDS(ds), batch_size=128)"
      ],
      "execution_count": 11,
      "outputs": [
        {
          "output_type": "display_data",
          "data": {
            "application/vnd.jupyter.widget-view+json": {
              "model_id": "eb28800e0a914bf996f2eb39b517a915",
              "version_minor": 0,
              "version_major": 2
            },
            "text/plain": [
              "HBox(children=(FloatProgress(value=0.0, description='Iterating over omniglot', max=1000.0, style=ProgressStyle…"
            ]
          },
          "metadata": {
            "tags": []
          }
        },
        {
          "output_type": "stream",
          "text": [
            "\n"
          ],
          "name": "stdout"
        }
      ]
    },
    {
      "cell_type": "code",
      "metadata": {
        "id": "U6BMJd6LNfG2",
        "colab": {
          "base_uri": "https://localhost:8080/"
        },
        "outputId": "6a817a54-f8e0-48ef-efba-9ab298917d3c"
      },
      "source": [
        "len(dl)"
      ],
      "execution_count": 12,
      "outputs": [
        {
          "output_type": "execute_result",
          "data": {
            "text/plain": [
              "8"
            ]
          },
          "metadata": {
            "tags": []
          },
          "execution_count": 12
        }
      ]
    },
    {
      "cell_type": "code",
      "metadata": {
        "colab": {
          "base_uri": "https://localhost:8080/",
          "height": 83,
          "referenced_widgets": [
            "38492ca66381477e8fedbc33b8740960",
            "2b240708945240dfb17788325447b062",
            "cfb16e08df02440385f784fccdb0951a",
            "01d8e32d70d749b8b78c12b330b614cc",
            "643873a001ca4f9cb3bcaa24b7ec7d0d",
            "db2cbe58f8ed4cb1b28ef5dd63e78bfc",
            "3f7ac173978c41508405438d574f2f31",
            "46f624c0baa64ca7b2b19ff1b13a9ae3"
          ]
        },
        "id": "c_aPR_f5e0sL",
        "outputId": "8d02a11b-143f-4122-8468-41c3eb2f89f5"
      },
      "source": [
        "for x in OmniglotDS(ds):\n",
        "  print(x['img1'].shape, x['img2'].shape)\n",
        "  break"
      ],
      "execution_count": 13,
      "outputs": [
        {
          "output_type": "display_data",
          "data": {
            "application/vnd.jupyter.widget-view+json": {
              "model_id": "38492ca66381477e8fedbc33b8740960",
              "version_minor": 0,
              "version_major": 2
            },
            "text/plain": [
              "HBox(children=(FloatProgress(value=0.0, description='Iterating over omniglot', max=1000.0, style=ProgressStyle…"
            ]
          },
          "metadata": {
            "tags": []
          }
        },
        {
          "output_type": "stream",
          "text": [
            "\n",
            "torch.Size([1, 105, 105]) torch.Size([1, 105, 105])\n"
          ],
          "name": "stdout"
        }
      ]
    },
    {
      "cell_type": "code",
      "metadata": {
        "id": "8VaMOZhHe0qn"
      },
      "source": [
        ""
      ],
      "execution_count": null,
      "outputs": []
    },
    {
      "cell_type": "code",
      "metadata": {
        "id": "A4KkksbBe0pm"
      },
      "source": [
        ""
      ],
      "execution_count": null,
      "outputs": []
    },
    {
      "cell_type": "markdown",
      "metadata": {
        "id": "mizEVpSrDYse"
      },
      "source": [
        "## Loss & optimizers\n",
        "\n",
        "- Binary Cross Entropy Loss with L2 Norm"
      ]
    },
    {
      "cell_type": "code",
      "metadata": {
        "id": "0GoTQD7xE4FI"
      },
      "source": [
        "from torch.optim import Adam\n",
        "from torchsummary import summary\n"
      ],
      "execution_count": 14,
      "outputs": []
    },
    {
      "cell_type": "code",
      "metadata": {
        "colab": {
          "base_uri": "https://localhost:8080/"
        },
        "id": "bywb-EbVJ-jK",
        "outputId": "717c590f-697f-45f1-bd17-99e1837e5de9"
      },
      "source": [
        "model.apply(init_weights)"
      ],
      "execution_count": 27,
      "outputs": [
        {
          "output_type": "execute_result",
          "data": {
            "text/plain": [
              "SiameseNet(\n",
              "  (feat): FeatExt(\n",
              "    (cnn1): Conv2d(1, 64, kernel_size=(10, 10), stride=(1, 1))\n",
              "    (relu1): ReLU()\n",
              "    (max_pool1): MaxPool2d(kernel_size=2, stride=2, padding=0, dilation=1, ceil_mode=False)\n",
              "    (cnn2): Conv2d(64, 128, kernel_size=(7, 7), stride=(1, 1))\n",
              "    (relu2): ReLU()\n",
              "    (max_pool2): MaxPool2d(kernel_size=2, stride=2, padding=0, dilation=1, ceil_mode=False)\n",
              "    (cnn3): Conv2d(128, 128, kernel_size=(4, 4), stride=(1, 1))\n",
              "    (relu3): ReLU()\n",
              "    (max_pool3): MaxPool2d(kernel_size=2, stride=2, padding=0, dilation=1, ceil_mode=False)\n",
              "    (cnn4): Conv2d(128, 256, kernel_size=(4, 4), stride=(1, 1))\n",
              "    (relu4): ReLU()\n",
              "    (fc1): Linear(in_features=9216, out_features=4096, bias=True)\n",
              "    (sigmoid1): Sigmoid()\n",
              "  )\n",
              "  (fc): Linear(in_features=4096, out_features=1, bias=True)\n",
              "  (sigmoid): Sigmoid()\n",
              ")"
            ]
          },
          "metadata": {
            "tags": []
          },
          "execution_count": 27
        }
      ]
    },
    {
      "cell_type": "code",
      "metadata": {
        "id": "J8-LvR2DDfon"
      },
      "source": [
        "device = 'cuda' if torch.cuda.is_available() else 'cpu'\n",
        "\n",
        "criterian = nn.BCELoss()\n",
        "optimizer = Adam(model.parameters(), weight_decay=0.1)\n",
        "model = model.to(device)\n",
        "\n",
        "from torch.optim.lr_scheduler import StepLR\n",
        "\n",
        "scheduler = StepLR(optimizer, step_size=1, gamma=0.99)"
      ],
      "execution_count": 28,
      "outputs": []
    },
    {
      "cell_type": "code",
      "metadata": {
        "colab": {
          "base_uri": "https://localhost:8080/"
        },
        "id": "WQ8sKm4XKAaL",
        "outputId": "a9f11dfc-b1b2-4835-83c1-93555a795d4a"
      },
      "source": [
        "summary(model, [(1, 105, 105), (1, 105, 105)])"
      ],
      "execution_count": 17,
      "outputs": [
        {
          "output_type": "stream",
          "text": [
            "----------------------------------------------------------------\n",
            "        Layer (type)               Output Shape         Param #\n",
            "================================================================\n",
            "            Conv2d-1           [-1, 64, 96, 96]           6,464\n",
            "              ReLU-2           [-1, 64, 96, 96]               0\n",
            "         MaxPool2d-3           [-1, 64, 48, 48]               0\n",
            "            Conv2d-4          [-1, 128, 42, 42]         401,536\n",
            "              ReLU-5          [-1, 128, 42, 42]               0\n",
            "         MaxPool2d-6          [-1, 128, 21, 21]               0\n",
            "            Conv2d-7          [-1, 128, 18, 18]         262,272\n",
            "              ReLU-8          [-1, 128, 18, 18]               0\n",
            "         MaxPool2d-9            [-1, 128, 9, 9]               0\n",
            "           Conv2d-10            [-1, 256, 6, 6]         524,544\n",
            "             ReLU-11            [-1, 256, 6, 6]               0\n",
            "           Linear-12                 [-1, 4096]      37,752,832\n",
            "          Sigmoid-13                 [-1, 4096]               0\n",
            "          FeatExt-14                 [-1, 4096]               0\n",
            "           Conv2d-15           [-1, 64, 96, 96]           6,464\n",
            "             ReLU-16           [-1, 64, 96, 96]               0\n",
            "        MaxPool2d-17           [-1, 64, 48, 48]               0\n",
            "           Conv2d-18          [-1, 128, 42, 42]         401,536\n",
            "             ReLU-19          [-1, 128, 42, 42]               0\n",
            "        MaxPool2d-20          [-1, 128, 21, 21]               0\n",
            "           Conv2d-21          [-1, 128, 18, 18]         262,272\n",
            "             ReLU-22          [-1, 128, 18, 18]               0\n",
            "        MaxPool2d-23            [-1, 128, 9, 9]               0\n",
            "           Conv2d-24            [-1, 256, 6, 6]         524,544\n",
            "             ReLU-25            [-1, 256, 6, 6]               0\n",
            "           Linear-26                 [-1, 4096]      37,752,832\n",
            "          Sigmoid-27                 [-1, 4096]               0\n",
            "          FeatExt-28                 [-1, 4096]               0\n",
            "           Linear-29                    [-1, 1]           4,097\n",
            "          Sigmoid-30                    [-1, 1]               0\n",
            "================================================================\n",
            "Total params: 77,899,393\n",
            "Trainable params: 77,899,393\n",
            "Non-trainable params: 0\n",
            "----------------------------------------------------------------\n",
            "Input size (MB): 463.68\n",
            "Forward/backward pass size (MB): 29.89\n",
            "Params size (MB): 297.16\n",
            "Estimated Total Size (MB): 790.74\n",
            "----------------------------------------------------------------\n"
          ],
          "name": "stdout"
        }
      ]
    },
    {
      "cell_type": "markdown",
      "metadata": {
        "id": "ocoh3dscKGng"
      },
      "source": [
        "## Training Loop \n",
        "\n",
        "- LR Schedular\n",
        "\n",
        "To Do:   \n",
        "(In Learning Rate Schedule Section): We fixed momentum to start at 0.5 in every layer,\n",
        "increasing linearly each epoch until reaching the value µj ,\n",
        "the individual momentum term for the jth layer."
      ]
    },
    {
      "cell_type": "code",
      "metadata": {
        "id": "DgcYuyNTKGUB"
      },
      "source": [
        "NUM_EPOCH, print_every = 301, 50"
      ],
      "execution_count": 29,
      "outputs": []
    },
    {
      "cell_type": "code",
      "metadata": {
        "id": "RqLrTzPbKGTD",
        "colab": {
          "base_uri": "https://localhost:8080/",
          "height": 185,
          "referenced_widgets": [
            "f8b86505e8aa4c8bb55408fcf99a4775",
            "3e5a2195657e4974a6ed423a7786bfea",
            "e8729f5c37934517afcd5ac8fa8511c3",
            "36e911016ca649558b6bd66f0057c33a",
            "1dff9bceeafc4d53b00b610fd5278fe1",
            "45b5a955f58142fa837056b71bee1cc1",
            "b4cd41dcd9a84654a287ad3a448b1b2f",
            "db138b0cd0414825b75f2af1447c3402"
          ]
        },
        "outputId": "5a4b736e-808e-4d98-bf87-6e45723a5be0"
      },
      "source": [
        "losses = []\n",
        "\n",
        "for epoch in tqdm(range(NUM_EPOCH), desc='Training...'):\n",
        "  running_loss = 0.0\n",
        "  for batch in dl:\n",
        "    img1, img2, label = batch['img1'].to(device), batch['img2'].to(device), batch['label'].to(device)\n",
        "    optimizer.zero_grad()\n",
        "\n",
        "    out = model(img1, img2)\n",
        "    loss = criterian(out, label)\n",
        "\n",
        "    running_loss += loss.item() * out.shape[0]\n",
        "\n",
        "    loss.backward()\n",
        "    optimizer.step()\n",
        "\n",
        "  scheduler.step()\n",
        "  losses.append(running_loss)\n",
        "  if epoch % print_every == 0:\n",
        "    print(f'Epoch: {epoch}, Loss: {running_loss:.2f}')\n"
      ],
      "execution_count": 30,
      "outputs": [
        {
          "output_type": "display_data",
          "data": {
            "application/vnd.jupyter.widget-view+json": {
              "model_id": "f8b86505e8aa4c8bb55408fcf99a4775",
              "version_minor": 0,
              "version_major": 2
            },
            "text/plain": [
              "HBox(children=(FloatProgress(value=0.0, description='Training...', max=301.0, style=ProgressStyle(description_…"
            ]
          },
          "metadata": {
            "tags": []
          }
        },
        {
          "output_type": "stream",
          "text": [
            "Epoch: 0, Loss: 689.43\n",
            "Epoch: 50, Loss: 489.56\n",
            "Epoch: 100, Loss: 392.14\n",
            "Epoch: 150, Loss: 373.21\n",
            "Epoch: 200, Loss: 393.17\n",
            "Epoch: 250, Loss: 398.75\n",
            "Epoch: 300, Loss: 376.02\n",
            "\n"
          ],
          "name": "stdout"
        }
      ]
    },
    {
      "cell_type": "code",
      "metadata": {
        "colab": {
          "base_uri": "https://localhost:8080/",
          "height": 312
        },
        "id": "n2jwSpbshsSb",
        "outputId": "2fd6baae-9972-4101-aa40-e788ddbcd045"
      },
      "source": [
        " plt.plot(losses)\n",
        " plt.title('Train Loss')\n",
        " plt.xlabel('Epochs')\n",
        " plt.ylabel('Loss')"
      ],
      "execution_count": 31,
      "outputs": [
        {
          "output_type": "execute_result",
          "data": {
            "text/plain": [
              "Text(0, 0.5, 'Loss')"
            ]
          },
          "metadata": {
            "tags": []
          },
          "execution_count": 31
        },
        {
          "output_type": "display_data",
          "data": {
            "image/png": "[encoded data removed]",
            "text/plain": [
              "<Figure size 432x288 with 1 Axes>"
            ]
          },
          "metadata": {
            "tags": [],
            "needs_background": "light"
          }
        }
      ]
    },
    {
      "cell_type": "markdown",
      "metadata": {
        "id": "Wbybo3VOERWY"
      },
      "source": [
        "## Rough"
      ]
    },
    {
      "cell_type": "code",
      "metadata": {
        "colab": {
          "base_uri": "https://localhost:8080/"
        },
        "id": "8RRgSTNkESrO",
        "outputId": "062d8758-4c39-4ef6-8875-94cf5588a289"
      },
      "source": [
        "l = nn.BCELoss()\n",
        "\n",
        "x, y = torch.tensor([[0.01]]), torch.tensor([[1.0]])\n",
        "print(x, y, l(x, y))"
      ],
      "execution_count": null,
      "outputs": [
        {
          "output_type": "stream",
          "text": [
            "tensor([[0.0100]]) tensor([[1.]]) tensor(4.6052)\n"
          ],
          "name": "stdout"
        }
      ]
    },
    {
      "cell_type": "code",
      "metadata": {
        "id": "RCYSP0uSEU4h"
      },
      "source": [
        ""
      ],
      "execution_count": null,
      "outputs": []
    }
  ]
}
