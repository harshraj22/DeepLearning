{
  "nbformat": 4,
  "nbformat_minor": 0,
  "metadata": {
    "colab": {
      "name": "Sentiment Analysis.ipynb",
      "provenance": [],
      "collapsed_sections": [
        "IBFKfc0ouBvT"
      ]
    },
    "kernelspec": {
      "name": "python3",
      "display_name": "Python 3"
    }
  },
  "cells": [
    {
      "cell_type": "markdown",
      "metadata": {
        "id": "UkO7u_LblXY4"
      },
      "source": [
        "# Description\n",
        "\n",
        "- contest link [kaggle](https://www.kaggle.com/lakshmi25npathi/imdb-dataset-of-50k-movie-reviews)"
      ]
    },
    {
      "cell_type": "markdown",
      "metadata": {
        "id": "ZV2m-zDwllhM"
      },
      "source": [
        "# Contents"
      ]
    },
    {
      "cell_type": "markdown",
      "metadata": {
        "id": "8JL_ginllsiO"
      },
      "source": [
        "# Getting data from Kaggle API"
      ]
    },
    {
      "cell_type": "code",
      "metadata": {
        "id": "NyhSvk9alTpt"
      },
      "source": [
        "! pip install -q kaggle"
      ],
      "execution_count": null,
      "outputs": []
    },
    {
      "cell_type": "code",
      "metadata": {
        "id": "HWSW52NDlz4S"
      },
      "source": [
        "# from google.colab import drive\n",
        "# drive.mount('/content/drive')"
      ],
      "execution_count": null,
      "outputs": []
    },
    {
      "cell_type": "code",
      "metadata": {
        "id": "fdN7Cj_ul8gj"
      },
      "source": [
        "from google.colab import files\n",
        "\n",
        "files.upload()"
      ],
      "execution_count": null,
      "outputs": []
    },
    {
      "cell_type": "code",
      "metadata": {
        "id": "TiN1T5Arl8aJ"
      },
      "source": [
        "! mkdir ~/.kaggle"
      ],
      "execution_count": null,
      "outputs": []
    },
    {
      "cell_type": "code",
      "metadata": {
        "id": "zEVwasnPl8JK"
      },
      "source": [
        "! cp kaggle.json ~/.kaggle/\n",
        "\n",
        "! chmod 600 ~/.kaggle/kaggle.json"
      ],
      "execution_count": null,
      "outputs": []
    },
    {
      "cell_type": "code",
      "metadata": {
        "colab": {
          "base_uri": "https://localhost:8080/",
          "height": 35
        },
        "id": "BGfyodtEmDJJ",
        "outputId": "585b29fd-b29a-4e9f-feda-b4aa271bca74"
      },
      "source": [
        "import os\n",
        "\n",
        "os.chdir('/content/drive/My Drive/Hackerearth')\n",
        "os.getcwd()"
      ],
      "execution_count": null,
      "outputs": [
        {
          "output_type": "execute_result",
          "data": {
            "application/vnd.google.colaboratory.intrinsic+json": {
              "type": "string"
            },
            "text/plain": [
              "'/content/drive/My Drive/Hackerearth'"
            ]
          },
          "metadata": {
            "tags": []
          },
          "execution_count": 2
        }
      ]
    },
    {
      "cell_type": "code",
      "metadata": {
        "id": "Dm_aoTZimD0c"
      },
      "source": [
        "! rm kaggle.json"
      ],
      "execution_count": null,
      "outputs": []
    },
    {
      "cell_type": "code",
      "metadata": {
        "colab": {
          "base_uri": "https://localhost:8080/"
        },
        "id": "uEKbigXpmQvt",
        "outputId": "a9133c7b-0f37-475f-a8cb-2d0e802a2f4a"
      },
      "source": [
        "! mkdir 50k-movie-review\n",
        "\n",
        "% cd 50k-movie-review"
      ],
      "execution_count": null,
      "outputs": [
        {
          "output_type": "stream",
          "text": [
            "/content/drive/MyDrive/Hackerearth/50k-movie-review\n"
          ],
          "name": "stdout"
        }
      ]
    },
    {
      "cell_type": "code",
      "metadata": {
        "colab": {
          "base_uri": "https://localhost:8080/"
        },
        "id": "DNyQIytumg5X",
        "outputId": "812ad77d-475a-4e3a-db76-f0a9fb49587d"
      },
      "source": [
        "! kaggle datasets download -d lakshmi25npathi/imdb-dataset-of-50k-movie-reviews"
      ],
      "execution_count": null,
      "outputs": [
        {
          "output_type": "stream",
          "text": [
            "Downloading imdb-dataset-of-50k-movie-reviews.zip to /content/drive/My Drive/Hackerearth/50k-movie-review\n",
            " 86% 22.0M/25.7M [00:00<00:00, 27.1MB/s]\n",
            "100% 25.7M/25.7M [00:00<00:00, 65.1MB/s]\n"
          ],
          "name": "stdout"
        }
      ]
    },
    {
      "cell_type": "code",
      "metadata": {
        "colab": {
          "base_uri": "https://localhost:8080/"
        },
        "id": "03YOlE2MmjK9",
        "outputId": "d3a4ea96-da90-4885-e85e-277dc28969bf"
      },
      "source": [
        "! ls && pwd"
      ],
      "execution_count": null,
      "outputs": [
        {
          "output_type": "stream",
          "text": [
            "imdb-dataset-of-50k-movie-reviews.zip\n",
            "/content/drive/My Drive/Hackerearth/50k-movie-review\n"
          ],
          "name": "stdout"
        }
      ]
    },
    {
      "cell_type": "code",
      "metadata": {
        "colab": {
          "base_uri": "https://localhost:8080/"
        },
        "id": "QqErMTP9mp5h",
        "outputId": "81a7cd90-ac47-436a-dd4d-2374c7f453ad"
      },
      "source": [
        "! unzip imdb-dataset-of-50k-movie-reviews.zip"
      ],
      "execution_count": null,
      "outputs": [
        {
          "output_type": "stream",
          "text": [
            "Archive:  imdb-dataset-of-50k-movie-reviews.zip\n",
            "  inflating: IMDB Dataset.csv        \n"
          ],
          "name": "stdout"
        }
      ]
    },
    {
      "cell_type": "markdown",
      "metadata": {
        "id": "cZw3MwTlm_q8"
      },
      "source": [
        "# Play around with data"
      ]
    },
    {
      "cell_type": "markdown",
      "metadata": {
        "id": "mj3izh-ZnERS"
      },
      "source": [
        "### Explore data"
      ]
    },
    {
      "cell_type": "code",
      "metadata": {
        "id": "ldJz35D8mpiJ"
      },
      "source": [
        "WORKING_DIR = '/content/drive/My Drive/Hackerearth/50k-movie-review'\n",
        "\n",
        "import os\n",
        "os.chdir(WORKING_DIR)"
      ],
      "execution_count": 1,
      "outputs": []
    },
    {
      "cell_type": "code",
      "metadata": {
        "id": "wJQQOZXTmpeu"
      },
      "source": [
        "import warnings\n",
        "warnings.filterwarnings(\"ignore\")\n",
        "\n",
        "import pandas as pd \n",
        "import numpy as np\n",
        "import matplotlib.pyplot as plt\n",
        "import torch \n",
        "import torch.nn as nn"
      ],
      "execution_count": 2,
      "outputs": []
    },
    {
      "cell_type": "code",
      "metadata": {
        "id": "DJsDvKDGb2mO"
      },
      "source": [
        "# df['sentiment'] = df.apply(lambda row: 1 if row.sentiment == 'positive' else 0, axis=1) #1 if df['sentiment'] == 'positive' else 0\n",
        "# df.to_csv(WORKING_DIR + '/IMDB Dataset.csv', index=False)"
      ],
      "execution_count": 4,
      "outputs": []
    },
    {
      "cell_type": "code",
      "metadata": {
        "colab": {
          "base_uri": "https://localhost:8080/",
          "height": 204
        },
        "id": "yrra-SdGmpcb",
        "outputId": "f7f6f87c-ddf8-4b9e-f5ab-7be7fbf07ee9"
      },
      "source": [
        "df = pd.read_csv(WORKING_DIR + '/IMDB Dataset.csv') # /content/drive/MyDrive/Hackerearth/50k-movie-review/IMDB Dataset.csv\n",
        "df.head()"
      ],
      "execution_count": 5,
      "outputs": [
        {
          "output_type": "execute_result",
          "data": {
            "text/html": [
              "<div>\n",
              "<style scoped>\n",
              "    .dataframe tbody tr th:only-of-type {\n",
              "        vertical-align: middle;\n",
              "    }\n",
              "\n",
              "    .dataframe tbody tr th {\n",
              "        vertical-align: top;\n",
              "    }\n",
              "\n",
              "    .dataframe thead th {\n",
              "        text-align: right;\n",
              "    }\n",
              "</style>\n",
              "<table border=\"1\" class=\"dataframe\">\n",
              "  <thead>\n",
              "    <tr style=\"text-align: right;\">\n",
              "      <th></th>\n",
              "      <th>review</th>\n",
              "      <th>sentiment</th>\n",
              "    </tr>\n",
              "  </thead>\n",
              "  <tbody>\n",
              "    <tr>\n",
              "      <th>0</th>\n",
              "      <td>One of the other reviewers has mentioned that ...</td>\n",
              "      <td>1</td>\n",
              "    </tr>\n",
              "    <tr>\n",
              "      <th>1</th>\n",
              "      <td>A wonderful little production. &lt;br /&gt;&lt;br /&gt;The...</td>\n",
              "      <td>1</td>\n",
              "    </tr>\n",
              "    <tr>\n",
              "      <th>2</th>\n",
              "      <td>I thought this was a wonderful way to spend ti...</td>\n",
              "      <td>1</td>\n",
              "    </tr>\n",
              "    <tr>\n",
              "      <th>3</th>\n",
              "      <td>Basically there's a family where a little boy ...</td>\n",
              "      <td>0</td>\n",
              "    </tr>\n",
              "    <tr>\n",
              "      <th>4</th>\n",
              "      <td>Petter Mattei's \"Love in the Time of Money\" is...</td>\n",
              "      <td>1</td>\n",
              "    </tr>\n",
              "  </tbody>\n",
              "</table>\n",
              "</div>"
            ],
            "text/plain": [
              "                                              review  sentiment\n",
              "0  One of the other reviewers has mentioned that ...          1\n",
              "1  A wonderful little production. <br /><br />The...          1\n",
              "2  I thought this was a wonderful way to spend ti...          1\n",
              "3  Basically there's a family where a little boy ...          0\n",
              "4  Petter Mattei's \"Love in the Time of Money\" is...          1"
            ]
          },
          "metadata": {
            "tags": []
          },
          "execution_count": 5
        }
      ]
    },
    {
      "cell_type": "code",
      "metadata": {
        "colab": {
          "base_uri": "https://localhost:8080/",
          "height": 142
        },
        "id": "CGg5MQH3mpZA",
        "outputId": "2911e674-b3e5-44d3-8667-6cafefeaa720"
      },
      "source": [
        "# Num of data points for both classes is same :)\n",
        "# print(df[df['sentiment'] == 'positive'].count(), '\\n\\n', df[df['sentiment'] == 'negative'].count())\n",
        "df.groupby('sentiment').count()"
      ],
      "execution_count": 6,
      "outputs": [
        {
          "output_type": "execute_result",
          "data": {
            "text/html": [
              "<div>\n",
              "<style scoped>\n",
              "    .dataframe tbody tr th:only-of-type {\n",
              "        vertical-align: middle;\n",
              "    }\n",
              "\n",
              "    .dataframe tbody tr th {\n",
              "        vertical-align: top;\n",
              "    }\n",
              "\n",
              "    .dataframe thead th {\n",
              "        text-align: right;\n",
              "    }\n",
              "</style>\n",
              "<table border=\"1\" class=\"dataframe\">\n",
              "  <thead>\n",
              "    <tr style=\"text-align: right;\">\n",
              "      <th></th>\n",
              "      <th>review</th>\n",
              "    </tr>\n",
              "    <tr>\n",
              "      <th>sentiment</th>\n",
              "      <th></th>\n",
              "    </tr>\n",
              "  </thead>\n",
              "  <tbody>\n",
              "    <tr>\n",
              "      <th>0</th>\n",
              "      <td>25000</td>\n",
              "    </tr>\n",
              "    <tr>\n",
              "      <th>1</th>\n",
              "      <td>25000</td>\n",
              "    </tr>\n",
              "  </tbody>\n",
              "</table>\n",
              "</div>"
            ],
            "text/plain": [
              "           review\n",
              "sentiment        \n",
              "0           25000\n",
              "1           25000"
            ]
          },
          "metadata": {
            "tags": []
          },
          "execution_count": 6
        }
      ]
    },
    {
      "cell_type": "markdown",
      "metadata": {
        "id": "DJROZLzdcSNW"
      },
      "source": [
        "### use torch text"
      ]
    },
    {
      "cell_type": "code",
      "metadata": {
        "id": "Nr1FZ2cYcenq"
      },
      "source": [
        "import torch\n",
        "from torchtext import data  "
      ],
      "execution_count": 9,
      "outputs": []
    },
    {
      "cell_type": "code",
      "metadata": {
        "id": "l_dH_Ngacfc-"
      },
      "source": [
        "# Denotes the transformatioin to be applied\n",
        "\n",
        "Text = data.Field(sequential=True, use_vocab=True, tokenize='spacy', batch_first=True)\n",
        "Labels = data.LabelField(dtype=torch.float, batch_first=True)"
      ],
      "execution_count": 12,
      "outputs": []
    },
    {
      "cell_type": "code",
      "metadata": {
        "id": "lTa1tRbOcfa1"
      },
      "source": [
        "# which cols to consider and how, in the dataset, and which transformation to apply\n",
        "\n",
        "fields = {'review': ('text', Text), 'sentiment': ('label', Labels)}"
      ],
      "execution_count": 13,
      "outputs": []
    },
    {
      "cell_type": "code",
      "metadata": {
        "id": "hdSLzBsYcfYk"
      },
      "source": [
        "#loading custom dataset\n",
        "training_data=data.TabularDataset(path = 'IMDB Dataset.csv',format = 'csv',fields = fields)"
      ],
      "execution_count": 14,
      "outputs": []
    },
    {
      "cell_type": "code",
      "metadata": {
        "id": "unZtgKV7cfV4"
      },
      "source": [
        "import random\n",
        "train_data, valid_data = training_data.split(split_ratio=0.7)"
      ],
      "execution_count": 15,
      "outputs": []
    },
    {
      "cell_type": "code",
      "metadata": {
        "id": "VTWioF7zdRNA"
      },
      "source": [
        "# build vocabulary\n",
        "\n",
        "Text.build_vocab(train_data,min_freq=3)  \n",
        "Labels.build_vocab(train_data)"
      ],
      "execution_count": 16,
      "outputs": []
    },
    {
      "cell_type": "code",
      "metadata": {
        "colab": {
          "base_uri": "https://localhost:8080/"
        },
        "id": "FBh9Y0frdRGi",
        "outputId": "f2370f1c-6f7e-40a2-8d56-cd11bff1c0b6"
      },
      "source": [
        "#No. of unique tokens in text\n",
        "print(\"Size of TEXT vocabulary:\",len(Text.vocab))\n",
        "\n",
        "#No. of unique tokens in label\n",
        "print(\"Size of LABEL vocabulary:\",len(Labels.vocab))\n",
        "\n",
        "#Commonly used words\n",
        "print(Text.vocab.freqs.most_common(10))  \n",
        "\n",
        "#Word dictionary\n",
        "# print(Text.vocab.stoi) \n",
        "\n",
        "# print(':=> Index, Labels: ', Text.vocab.stoi['of'], Text.vocab.itos[7])"
      ],
      "execution_count": 17,
      "outputs": [
        {
          "output_type": "stream",
          "text": [
            "Size of TEXT vocabulary: 58058\n",
            "Size of LABEL vocabulary: 2\n",
            "[('the', 402537), (',', 379954), ('.', 327313), ('a', 216917), ('and', 216649), ('of', 199774), ('to', 184767), ('is', 150305), ('in', 122074), ('I', 108713)]\n"
          ],
          "name": "stdout"
        }
      ]
    },
    {
      "cell_type": "code",
      "metadata": {
        "id": "vxLPwJW8dREM"
      },
      "source": [
        "device = torch.device('cuda' if torch.cuda.is_available() else 'cpu')  \n",
        "\n",
        "#set batch size\n",
        "BATCH_SIZE = 64\n",
        "\n",
        "#Load an iterator\n",
        "train_iterator, valid_iterator = data.BucketIterator.splits(\n",
        "    (train_data, valid_data), \n",
        "    batch_size = BATCH_SIZE,\n",
        "    sort_key = lambda x: len(x.text),\n",
        "    sort_within_batch=True,\n",
        "    device = device)"
      ],
      "execution_count": 18,
      "outputs": []
    },
    {
      "cell_type": "code",
      "metadata": {
        "colab": {
          "base_uri": "https://localhost:8080/"
        },
        "id": "a7eNjhD6cfTS",
        "outputId": "46db3776-4f32-4e95-d02c-e2c790660bd7"
      },
      "source": [
        "\n",
        "for batch in train_iterator:\n",
        "  print(batch.text.shape)\n",
        "  # [batch_size, max_length_of_sentence_in_batch]\n",
        "  break"
      ],
      "execution_count": 21,
      "outputs": [
        {
          "output_type": "stream",
          "text": [
            "torch.Size([64, 212])\n"
          ],
          "name": "stdout"
        }
      ]
    },
    {
      "cell_type": "markdown",
      "metadata": {
        "id": "EqM8SGvPu-Am"
      },
      "source": [
        "# Training Starts"
      ]
    },
    {
      "cell_type": "code",
      "metadata": {
        "id": "cDuj2zX8nLKH"
      },
      "source": [
        "from torch.utils.data import Dataset, DataLoader\n",
        "from torchvision import transforms, utils\n",
        "import torch\n",
        "import torch.nn as nn"
      ],
      "execution_count": 19,
      "outputs": []
    },
    {
      "cell_type": "markdown",
      "metadata": {
        "id": "RsS4TPCSwSPB"
      },
      "source": [
        "### Dataset and dataloader"
      ]
    },
    {
      "cell_type": "markdown",
      "metadata": {
        "id": "lMbXeikWwVoz"
      },
      "source": [
        "### Define Model"
      ]
    },
    {
      "cell_type": "markdown",
      "metadata": {
        "id": "tHMkaGaQwlD6"
      },
      "source": [
        "###### Model:\n",
        " - nn.Lstm followed by a linear layer"
      ]
    },
    {
      "cell_type": "code",
      "metadata": {
        "id": "Tgq5m9CAv7H7"
      },
      "source": [
        "class Rnn(nn.Module):\n",
        "    def __init__(self, input_dim, embed_dim, hidden_dim, batch_size, n_layers=1):\n",
        "        super(Rnn, self).__init__()\n",
        "        self.input_dim = input_dim\n",
        "        self.hidden_dim = hidden_dim\n",
        "        self.embed_dim = embed_dim\n",
        "\n",
        "        self.embedding = nn.Embedding(input_dim, embed_dim)\n",
        "        self.rnn = nn.LSTM(embed_dim, hidden_dim, n_layers, dropout=0.2, batch_first=True)\n",
        "        self.norm = nn.BatchNorm1d(hidden_dim)\n",
        "\n",
        "        self.relu = nn.ReLU()\n",
        "        self.dropout = nn.Dropout(0.2)\n",
        "        self.fc = nn.Linear(hidden_dim, 2)\n",
        "        \n",
        "    def forward(self, src):\n",
        "        \n",
        "        #src = [src len, batch size] or [batch size, seq len]\n",
        "        embedded = self.dropout(self.embedding(src))\n",
        "        \n",
        "        #embedded = [src len, batch size, emb dim]\n",
        "        outputs, (hidden, cell) = self.rnn(embedded)\n",
        "        # print(f'outputs: {outputs.shape}, hidden: {hidden.shape}')\n",
        "        \n",
        "        #outputs = [src len, batch size, hid dim * n directions]\n",
        "        #hidden = [n layers * n directions, batch size, hid dim]\n",
        "        #cell = [n layers * n directions, batch size, hid dim]\n",
        "\n",
        "        hidden = torch.squeeze(hidden, 0)\n",
        "        x = self.relu(self.norm(hidden))\n",
        "        return self.fc(self.dropout(x))\n",
        "        \n",
        "        #outputs are always from the top hidden layer\n",
        "        \n",
        "        # return hidden, cell"
      ],
      "execution_count": 58,
      "outputs": []
    },
    {
      "cell_type": "code",
      "metadata": {
        "id": "UfMspmkiv7EZ"
      },
      "source": [
        "model = Rnn(input_dim=len(Text.vocab), embed_dim=100, hidden_dim=50, batch_size=64)\n",
        "model = model.to(device)"
      ],
      "execution_count": 59,
      "outputs": []
    },
    {
      "cell_type": "markdown",
      "metadata": {
        "id": "M_JzulNeiprg"
      },
      "source": [
        "## Prep for training"
      ]
    },
    {
      "cell_type": "code",
      "metadata": {
        "id": "8v3KK0s2itE-"
      },
      "source": [
        "optimizer = torch.optim.Adam(model.parameters())\n",
        "criterian = nn.CrossEntropyLoss().to(device)\n",
        "\n"
      ],
      "execution_count": 60,
      "outputs": []
    },
    {
      "cell_type": "markdown",
      "metadata": {
        "id": "47hVovOAjH7D"
      },
      "source": [
        "## Train"
      ]
    },
    {
      "cell_type": "code",
      "metadata": {
        "id": "2kNUt0zIv6-a",
        "colab": {
          "base_uri": "https://localhost:8080/"
        },
        "outputId": "64e00941-fe64-48f2-9e7d-2a8f48d34678"
      },
      "source": [
        "from tqdm import tqdm\n",
        "for epoch in range(5):\n",
        "    running_loss = 0\n",
        "\n",
        "    for batch in tqdm(train_iterator):\n",
        "        inputs, labels = batch.text, batch.label.long()\n",
        "        out = model(batch.text)\n",
        "        # print('Debug: ', out, labels)\n",
        "\n",
        "        loss = criterian(out, labels)\n",
        "        loss.backward()\n",
        "\n",
        "        optimizer.step()\n",
        "        running_loss += loss.item() * inputs.shape[0]\n",
        "\n",
        "    print(f'\\tEpoch: [{epoch+1}] Running Loss: {running_loss / len(train_iterator) :.2f}')\n",
        "#   [batch_size, max_length_of_sentence_in_batch]"
      ],
      "execution_count": 63,
      "outputs": [
        {
          "output_type": "stream",
          "text": [
            "100%|██████████| 547/547 [09:37<00:00,  1.06s/it]\n",
            "  0%|          | 0/547 [00:00<?, ?it/s]"
          ],
          "name": "stderr"
        },
        {
          "output_type": "stream",
          "text": [
            "Epoch: [ 1 ] Running Loss:  43.92558913257048\n"
          ],
          "name": "stdout"
        },
        {
          "output_type": "stream",
          "text": [
            "100%|██████████| 547/547 [09:13<00:00,  1.01s/it]\n",
            "  0%|          | 0/547 [00:00<?, ?it/s]"
          ],
          "name": "stderr"
        },
        {
          "output_type": "stream",
          "text": [
            "Epoch: [ 2 ] Running Loss:  44.41492696218125\n"
          ],
          "name": "stdout"
        },
        {
          "output_type": "stream",
          "text": [
            "100%|██████████| 547/547 [07:05<00:00,  1.28it/s]\n",
            "  0%|          | 0/547 [00:00<?, ?it/s]"
          ],
          "name": "stderr"
        },
        {
          "output_type": "stream",
          "text": [
            "Epoch: [ 3 ] Running Loss:  44.090254821114826\n"
          ],
          "name": "stdout"
        },
        {
          "output_type": "stream",
          "text": [
            "100%|██████████| 547/547 [05:06<00:00,  1.79it/s]\n",
            "  0%|          | 0/547 [00:00<?, ?it/s]"
          ],
          "name": "stderr"
        },
        {
          "output_type": "stream",
          "text": [
            "Epoch: [ 4 ] Running Loss:  44.1910320182605\n"
          ],
          "name": "stdout"
        },
        {
          "output_type": "stream",
          "text": [
            "100%|██████████| 547/547 [04:22<00:00,  2.09it/s]"
          ],
          "name": "stderr"
        },
        {
          "output_type": "stream",
          "text": [
            "Epoch: [ 5 ] Running Loss:  43.932779648622166\n"
          ],
          "name": "stdout"
        },
        {
          "output_type": "stream",
          "text": [
            "\n"
          ],
          "name": "stderr"
        }
      ]
    },
    {
      "cell_type": "code",
      "metadata": {
        "id": "hK-lVjVtv67Q"
      },
      "source": [
        ""
      ],
      "execution_count": null,
      "outputs": []
    },
    {
      "cell_type": "code",
      "metadata": {
        "id": "bkOAf13Tv6uD"
      },
      "source": [
        ""
      ],
      "execution_count": null,
      "outputs": []
    },
    {
      "cell_type": "code",
      "metadata": {
        "id": "QsaWK94yv6n-"
      },
      "source": [
        ""
      ],
      "execution_count": null,
      "outputs": []
    },
    {
      "cell_type": "code",
      "metadata": {
        "id": "paPo6TAvv6kT"
      },
      "source": [
        ""
      ],
      "execution_count": null,
      "outputs": []
    },
    {
      "cell_type": "markdown",
      "metadata": {
        "id": "3QSwnPibicCl"
      },
      "source": [
        "# Queries ?\n",
        "- how to decide embeding dim, hidden dim effectively"
      ]
    },
    {
      "cell_type": "code",
      "metadata": {
        "id": "1ORafL6OnK8S"
      },
      "source": [
        ""
      ],
      "execution_count": null,
      "outputs": []
    }
  ]
}