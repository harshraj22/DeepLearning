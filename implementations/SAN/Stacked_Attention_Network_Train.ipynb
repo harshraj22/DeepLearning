{
  "nbformat": 4,
  "nbformat_minor": 0,
  "metadata": {
    "colab": {
      "name": "Stacked_Attention_Network_Train.ipynb",
      "provenance": [],
      "collapsed_sections": []
    },
    "kernelspec": {
      "name": "python3",
      "display_name": "Python 3"
    },
    "language_info": {
      "name": "python"
    },
    "widgets": {
      "application/vnd.jupyter.widget-state+json": {
        "1fe61f4b4065458d800c206ad76f1b23": {
          "model_module": "@jupyter-widgets/controls",
          "model_name": "HBoxModel",
          "model_module_version": "1.5.0",
          "state": {
            "_view_name": "HBoxView",
            "_dom_classes": [],
            "_model_name": "HBoxModel",
            "_view_module": "@jupyter-widgets/controls",
            "_model_module_version": "1.5.0",
            "_view_count": null,
            "_view_module_version": "1.5.0",
            "box_style": "",
            "layout": "IPY_MODEL_6cd684ee6d9741129c305bd5968c8ac7",
            "_model_module": "@jupyter-widgets/controls",
            "children": [
              "IPY_MODEL_ba07f19d2cc5446386fb029a32f71bf7",
              "IPY_MODEL_4f1d9ec103e74de4a7185718c058c697",
              "IPY_MODEL_74033c3d68c648d6add04d8bc09b0667"
            ]
          }
        },
        "6cd684ee6d9741129c305bd5968c8ac7": {
          "model_module": "@jupyter-widgets/base",
          "model_name": "LayoutModel",
          "model_module_version": "1.2.0",
          "state": {
            "_view_name": "LayoutView",
            "grid_template_rows": null,
            "right": null,
            "justify_content": null,
            "_view_module": "@jupyter-widgets/base",
            "overflow": null,
            "_model_module_version": "1.2.0",
            "_view_count": null,
            "flex_flow": null,
            "width": null,
            "min_width": null,
            "border": null,
            "align_items": null,
            "bottom": null,
            "_model_module": "@jupyter-widgets/base",
            "top": null,
            "grid_column": null,
            "overflow_y": null,
            "overflow_x": null,
            "grid_auto_flow": null,
            "grid_area": null,
            "grid_template_columns": null,
            "flex": null,
            "_model_name": "LayoutModel",
            "justify_items": null,
            "grid_row": null,
            "max_height": null,
            "align_content": null,
            "visibility": null,
            "align_self": null,
            "height": null,
            "min_height": null,
            "padding": null,
            "grid_auto_rows": null,
            "grid_gap": null,
            "max_width": null,
            "order": null,
            "_view_module_version": "1.2.0",
            "grid_template_areas": null,
            "object_position": null,
            "object_fit": null,
            "grid_auto_columns": null,
            "margin": null,
            "display": null,
            "left": null
          }
        },
        "ba07f19d2cc5446386fb029a32f71bf7": {
          "model_module": "@jupyter-widgets/controls",
          "model_name": "HTMLModel",
          "model_module_version": "1.5.0",
          "state": {
            "_view_name": "HTMLView",
            "style": "IPY_MODEL_728e78cf20044a61b8e1e9f9e302ab96",
            "_dom_classes": [],
            "description": "",
            "_model_name": "HTMLModel",
            "placeholder": "​",
            "_view_module": "@jupyter-widgets/controls",
            "_model_module_version": "1.5.0",
            "value": "Iterating over questions: ",
            "_view_count": null,
            "_view_module_version": "1.5.0",
            "description_tooltip": null,
            "_model_module": "@jupyter-widgets/controls",
            "layout": "IPY_MODEL_bc6a77d18e0c460081ddc70f5bab23dd"
          }
        },
        "4f1d9ec103e74de4a7185718c058c697": {
          "model_module": "@jupyter-widgets/controls",
          "model_name": "FloatProgressModel",
          "model_module_version": "1.5.0",
          "state": {
            "_view_name": "ProgressView",
            "style": "IPY_MODEL_b05ddafe4e964d088c5b11d35f25cb9e",
            "_dom_classes": [],
            "description": "",
            "_model_name": "FloatProgressModel",
            "bar_style": "success",
            "max": 1,
            "_view_module": "@jupyter-widgets/controls",
            "_model_module_version": "1.5.0",
            "value": 1,
            "_view_count": null,
            "_view_module_version": "1.5.0",
            "orientation": "horizontal",
            "min": 0,
            "description_tooltip": null,
            "_model_module": "@jupyter-widgets/controls",
            "layout": "IPY_MODEL_5970bcb942c740c58227e39b4a8e7162"
          }
        },
        "74033c3d68c648d6add04d8bc09b0667": {
          "model_module": "@jupyter-widgets/controls",
          "model_name": "HTMLModel",
          "model_module_version": "1.5.0",
          "state": {
            "_view_name": "HTMLView",
            "style": "IPY_MODEL_324871552f0e4322807d4def6bd5c99c",
            "_dom_classes": [],
            "description": "",
            "_model_name": "HTMLModel",
            "placeholder": "​",
            "_view_module": "@jupyter-widgets/controls",
            "_model_module_version": "1.5.0",
            "value": " 3876/? [00:02&lt;00:00, 1850.86it/s]",
            "_view_count": null,
            "_view_module_version": "1.5.0",
            "description_tooltip": null,
            "_model_module": "@jupyter-widgets/controls",
            "layout": "IPY_MODEL_86f19126d9cf4e2cb19c7fa73a65fc12"
          }
        },
        "728e78cf20044a61b8e1e9f9e302ab96": {
          "model_module": "@jupyter-widgets/controls",
          "model_name": "DescriptionStyleModel",
          "model_module_version": "1.5.0",
          "state": {
            "_view_name": "StyleView",
            "_model_name": "DescriptionStyleModel",
            "description_width": "",
            "_view_module": "@jupyter-widgets/base",
            "_model_module_version": "1.5.0",
            "_view_count": null,
            "_view_module_version": "1.2.0",
            "_model_module": "@jupyter-widgets/controls"
          }
        },
        "bc6a77d18e0c460081ddc70f5bab23dd": {
          "model_module": "@jupyter-widgets/base",
          "model_name": "LayoutModel",
          "model_module_version": "1.2.0",
          "state": {
            "_view_name": "LayoutView",
            "grid_template_rows": null,
            "right": null,
            "justify_content": null,
            "_view_module": "@jupyter-widgets/base",
            "overflow": null,
            "_model_module_version": "1.2.0",
            "_view_count": null,
            "flex_flow": null,
            "width": null,
            "min_width": null,
            "border": null,
            "align_items": null,
            "bottom": null,
            "_model_module": "@jupyter-widgets/base",
            "top": null,
            "grid_column": null,
            "overflow_y": null,
            "overflow_x": null,
            "grid_auto_flow": null,
            "grid_area": null,
            "grid_template_columns": null,
            "flex": null,
            "_model_name": "LayoutModel",
            "justify_items": null,
            "grid_row": null,
            "max_height": null,
            "align_content": null,
            "visibility": null,
            "align_self": null,
            "height": null,
            "min_height": null,
            "padding": null,
            "grid_auto_rows": null,
            "grid_gap": null,
            "max_width": null,
            "order": null,
            "_view_module_version": "1.2.0",
            "grid_template_areas": null,
            "object_position": null,
            "object_fit": null,
            "grid_auto_columns": null,
            "margin": null,
            "display": null,
            "left": null
          }
        },
        "b05ddafe4e964d088c5b11d35f25cb9e": {
          "model_module": "@jupyter-widgets/controls",
          "model_name": "ProgressStyleModel",
          "model_module_version": "1.5.0",
          "state": {
            "_view_name": "StyleView",
            "_model_name": "ProgressStyleModel",
            "description_width": "",
            "_view_module": "@jupyter-widgets/base",
            "_model_module_version": "1.5.0",
            "_view_count": null,
            "_view_module_version": "1.2.0",
            "bar_color": null,
            "_model_module": "@jupyter-widgets/controls"
          }
        },
        "5970bcb942c740c58227e39b4a8e7162": {
          "model_module": "@jupyter-widgets/base",
          "model_name": "LayoutModel",
          "model_module_version": "1.2.0",
          "state": {
            "_view_name": "LayoutView",
            "grid_template_rows": null,
            "right": null,
            "justify_content": null,
            "_view_module": "@jupyter-widgets/base",
            "overflow": null,
            "_model_module_version": "1.2.0",
            "_view_count": null,
            "flex_flow": null,
            "width": "20px",
            "min_width": null,
            "border": null,
            "align_items": null,
            "bottom": null,
            "_model_module": "@jupyter-widgets/base",
            "top": null,
            "grid_column": null,
            "overflow_y": null,
            "overflow_x": null,
            "grid_auto_flow": null,
            "grid_area": null,
            "grid_template_columns": null,
            "flex": null,
            "_model_name": "LayoutModel",
            "justify_items": null,
            "grid_row": null,
            "max_height": null,
            "align_content": null,
            "visibility": null,
            "align_self": null,
            "height": null,
            "min_height": null,
            "padding": null,
            "grid_auto_rows": null,
            "grid_gap": null,
            "max_width": null,
            "order": null,
            "_view_module_version": "1.2.0",
            "grid_template_areas": null,
            "object_position": null,
            "object_fit": null,
            "grid_auto_columns": null,
            "margin": null,
            "display": null,
            "left": null
          }
        },
        "324871552f0e4322807d4def6bd5c99c": {
          "model_module": "@jupyter-widgets/controls",
          "model_name": "DescriptionStyleModel",
          "model_module_version": "1.5.0",
          "state": {
            "_view_name": "StyleView",
            "_model_name": "DescriptionStyleModel",
            "description_width": "",
            "_view_module": "@jupyter-widgets/base",
            "_model_module_version": "1.5.0",
            "_view_count": null,
            "_view_module_version": "1.2.0",
            "_model_module": "@jupyter-widgets/controls"
          }
        },
        "86f19126d9cf4e2cb19c7fa73a65fc12": {
          "model_module": "@jupyter-widgets/base",
          "model_name": "LayoutModel",
          "model_module_version": "1.2.0",
          "state": {
            "_view_name": "LayoutView",
            "grid_template_rows": null,
            "right": null,
            "justify_content": null,
            "_view_module": "@jupyter-widgets/base",
            "overflow": null,
            "_model_module_version": "1.2.0",
            "_view_count": null,
            "flex_flow": null,
            "width": null,
            "min_width": null,
            "border": null,
            "align_items": null,
            "bottom": null,
            "_model_module": "@jupyter-widgets/base",
            "top": null,
            "grid_column": null,
            "overflow_y": null,
            "overflow_x": null,
            "grid_auto_flow": null,
            "grid_area": null,
            "grid_template_columns": null,
            "flex": null,
            "_model_name": "LayoutModel",
            "justify_items": null,
            "grid_row": null,
            "max_height": null,
            "align_content": null,
            "visibility": null,
            "align_self": null,
            "height": null,
            "min_height": null,
            "padding": null,
            "grid_auto_rows": null,
            "grid_gap": null,
            "max_width": null,
            "order": null,
            "_view_module_version": "1.2.0",
            "grid_template_areas": null,
            "object_position": null,
            "object_fit": null,
            "grid_auto_columns": null,
            "margin": null,
            "display": null,
            "left": null
          }
        }
      }
    },
    "accelerator": "GPU"
  },
  "cells": [
    {
      "cell_type": "markdown",
      "metadata": {
        "id": "LXJb-PpR-WT2"
      },
      "source": [
        "# SAN model"
      ]
    },
    {
      "cell_type": "code",
      "metadata": {
        "id": "KWqpqsKYXdfE"
      },
      "source": [
        "%%capture\n",
        "! pip install torchinfo"
      ],
      "execution_count": 1,
      "outputs": []
    },
    {
      "cell_type": "code",
      "metadata": {
        "id": "JxY3IESU-Vfb"
      },
      "source": [
        "%%capture\n",
        "! wget https://raw.githubusercontent.com/harshraj22/DeepLearning/main/implementations/SAN/models/attention.py\n",
        "! wget https://raw.githubusercontent.com/harshraj22/DeepLearning/main/implementations/SAN/models/image_encoder.py\n",
        "! wget https://raw.githubusercontent.com/harshraj22/DeepLearning/main/implementations/SAN/models/question_encoder.py\n",
        "! wget https://raw.githubusercontent.com/harshraj22/DeepLearning/main/implementations/SAN/models/san.py\n",
        "! wget https://raw.githubusercontent.com/harshraj22/DeepLearning/main/implementations/SAN/utils/dataset.py"
      ],
      "execution_count": 2,
      "outputs": []
    },
    {
      "cell_type": "code",
      "metadata": {
        "id": "UTybALMv4AZ8",
        "colab": {
          "base_uri": "https://localhost:8080/"
        },
        "outputId": "8296185a-67c6-4cdc-f449-9422160656dc"
      },
      "source": [
        "import gc\n",
        "gc.collect()"
      ],
      "execution_count": 3,
      "outputs": [
        {
          "output_type": "execute_result",
          "data": {
            "text/plain": [
              "109"
            ]
          },
          "metadata": {
            "tags": []
          },
          "execution_count": 3
        }
      ]
    },
    {
      "cell_type": "code",
      "metadata": {
        "id": "yiYsb2NM-Vcn"
      },
      "source": [
        "import torch\n",
        "import torch.nn as nn\n",
        "\n",
        "# from attention import AttentionLayer\n",
        "from image_encoder import ImageEncoder\n",
        "# from question_encoder import QuestionEncoder\n",
        "# from san import SAN\n",
        "\n",
        "import warnings\n",
        "warnings.filterwarnings(\"ignore\")"
      ],
      "execution_count": 4,
      "outputs": []
    },
    {
      "cell_type": "code",
      "metadata": {
        "id": "uU9xu62NR-u7"
      },
      "source": [
        "import torch\n",
        "import torch.nn as nn\n",
        "import torch.nn.functional as F\n",
        "from torchvision import transforms\n",
        "\n",
        "\n",
        "class QuestionEncoder(nn.Module):\n",
        "    def __init__(self, vocab_size, embed_size, out_size):\n",
        "        super(QuestionEncoder, self).__init__()\n",
        "        self.vocab_size = vocab_size\n",
        "        self.embed_size = embed_size\n",
        "        self.out_size = out_size\n",
        "\n",
        "        self.embed = nn.Embedding(self.vocab_size, self.embed_size)\n",
        "        self.lstm = nn.LSTM(self.embed_size, self.out_size, batch_first=True)\n",
        "\n",
        "    def forward(self, x):\n",
        "        \"\"\"Implements the class to encode the questions into feature vectors. Uses embeddings and LSTMs for the same\n",
        "        \n",
        "        Args:\n",
        "            x (N, seq_len): Tensor containing numbers corresponding to words of the sentence.\n",
        "        \n",
        "        Returns:\n",
        "            c (N, out_size): Feature vector corresponding to each question vector\n",
        "        \"\"\"\n",
        "        output, (h, c) = self.lstm(self.embed(x))\n",
        "        return torch.squeeze(h, dim=0)\n",
        "\n",
        "\n",
        "if __name__ == '__main__':\n",
        "    vocab_size, embed_size, out_size = 500, 250, 90\n",
        "    model = QuestionEncoder(vocab_size, embed_size, out_size)\n",
        "    # batch of 2 sentences, each containing 4 words\n",
        "    sentence = torch.tensor([\n",
        "                             [1, 2, 3, 4],\n",
        "                             [5, 6, 7, 8]\n",
        "    ])\n",
        "    out = model(sentence)\n",
        "    assert tuple(out.shape) == (2, out_size)"
      ],
      "execution_count": 5,
      "outputs": []
    },
    {
      "cell_type": "code",
      "metadata": {
        "id": "xDN8P_BnFrvB"
      },
      "source": [
        "import torch\n",
        "import torch.nn as nn\n",
        "import torch.nn.functional as F\n",
        "\n",
        "\n",
        "class Attention(nn.Module):\n",
        "\tdef __init__(self, hidden_dim, img_dim, ques_dim):\n",
        "\t\tsuper(Attention, self).__init__()\n",
        "\t\tself.w1 = nn.Linear(img_dim, hidden_dim, bias=False)\n",
        "\t\tself.w2 = nn.Linear(ques_dim, hidden_dim)\n",
        "\t\tself.wp = nn.Linear(hidden_dim, 1)\n",
        "\t\tself.tanh = torch.tanh\n",
        "\t\n",
        "\tdef forward(self, vi, vq):\n",
        "\t\t\"\"\"\n",
        "\t\tSummary: \n",
        "\t\t\td = img_dim = ques_dim\n",
        "\t\tArgs:\n",
        "\t\t\tvi (m, d): Visual features of the image, where m = (width * height) of feature map\n",
        "\t\t\tvq (d):    Features of the question\n",
        "\n",
        "\t\tReturns:\n",
        "\t\t\tpi (m): Attention coeeficient (alpha) corresponding to each feature vector\n",
        "\t\t\"\"\"\n",
        "\t\tassert vi.shape[-1] == vq.shape[-1], \"Dimentions of Vi and Vq don't match during Attention\"\n",
        "\t\ta = self.w1(vi)\n",
        "\t\t# vq = vq / 800\n",
        "\t\t# norm = transforms.Normalize((0.5, 0.5), (0.5, 0.5))\n",
        "\t\t# vq = F.normalize(vq)\n",
        "\t\t# unsqueeze for adding vector to matrix.\n",
        "\t\t# read about broadcasting: https://pytorch.org/docs/stable/notes/broadcasting.html\n",
        "\t\tb = torch.unsqueeze(self.w2(vq), -2)\n",
        "\t\t# h.shape: (m, hidden_dim)\n",
        "\t\th = self.tanh(a + b)\n",
        "\t\t# print(f'Attention: a: {a},\\n vq: {vq} b: {b},\\n h: {h}, wp(h): {self.wp(h)}')\n",
        "\t\t# pi.shape: (m, 1)\n",
        "\t\tpi = F.softmax(self.wp(h), dim=1)\n",
        "        # print(f'Pi: {pi}')\n",
        "\t\treturn pi\n",
        "\t\n",
        "\t\n",
        "class AttentionLayer(nn.Module):\n",
        "\tdef __init__(self, hidden_dim, img_dim, ques_dim):\n",
        "\t\tsuper(AttentionLayer, self).__init__()\n",
        "\t\tself.attention = Attention(hidden_dim, img_dim, ques_dim)\n",
        "\n",
        "\tdef forward(self, vi, u):\n",
        "\t\t\"\"\"Implements Stacked Attention Layer. Question feature 'u' is repeatedly passed through this layer,\n",
        "\t\tit calculates the attention over the image features, and merges the features into itself.\n",
        "\n",
        "\t\tArgs:\n",
        "\t\t\tvi (m, d): Visual features of image, where m = (width * height) of feature map\n",
        "\t\t\tu (d):     Features of the question\n",
        "\n",
        "\t\tReturns:\n",
        "\t\t\tu (d): Features of question after applying the attention over the image\n",
        "\t\t\"\"\"\n",
        "\t\tpi = self.attention(vi, u)\n",
        "\t\t# assert pi.shape[1] == vi.shape[1], f\"pi ({pi.shape}) and vi ({vi.shape}) don't have same shape in AttentionLayer\"\n",
        "\t\tu = torch.sum(pi * vi) + torch.unsqueeze(u, dim=-2)\n",
        "\n",
        "\t\t# print(f'pi:{pi.shape} {pi}\\nU: {u.shape} {u}')\n",
        "\t\treturn torch.squeeze(u, dim=-2)\n",
        "\t\n",
        "\t\n",
        "# if __name__ == '__main__':\n",
        "# \tm, d, hidden_dim = (14 * 14), 120, 53\n",
        "# \tbs = 2\n",
        "\n",
        "# \tvi = torch.rand((bs, m, d))\n",
        "# \tu = torch.rand((bs, d))\n",
        "\n",
        "# \tmodel = Attention(hidden_dim, d, d)\n",
        "# \tout = model(vi, u)\n",
        "\n",
        "# \tassert out.shape == (bs, m, 1)\n"
      ],
      "execution_count": 6,
      "outputs": []
    },
    {
      "cell_type": "code",
      "metadata": {
        "id": "U1iduKxwFbWz"
      },
      "source": [
        "import torch\n",
        "import torch.nn as nn\n",
        "\n",
        "# from attention import AttentionLayer\n",
        "from image_encoder import ImageEncoder\n",
        "from question_encoder import QuestionEncoder\n",
        "\n",
        "\n",
        "\n",
        "class SAN(nn.Module):\n",
        "  def __init__(self, feat_dim, vocab_size, embed_size, n_attention_stacks, hidden_dim_img):\n",
        "    super(SAN, self).__init__()\n",
        "    self.feat_dim = feat_dim\n",
        "    self.vocab_size = vocab_size\n",
        "    self.embed_size = embed_size\n",
        "\n",
        "    self.img_enc = ImageEncoder(feat_dim)\n",
        "    self.ques_enc = QuestionEncoder(vocab_size, embed_size, feat_dim)\n",
        "    self.att = nn.ModuleList([\n",
        "              AttentionLayer(hidden_dim_img, feat_dim, feat_dim) for _ in range(n_attention_stacks)\n",
        "    ])\n",
        "\n",
        "    self.pred = nn.Linear(feat_dim, vocab_size)\n",
        "\n",
        "\n",
        "  def forward(self, img, ques):\n",
        "    \"\"\"Returns one word output corresponding to input image and question\n",
        "    \n",
        "    Args:\n",
        "        img (N, 3, 448, 448): Image of given shape, constrained due to use of vgg\n",
        "        ques (N, seq_len): Question encoded as integers\n",
        "    \n",
        "    Returns:\n",
        "        u (N, vocab_size): Vectors of vocab_size, for picking the most probable word\n",
        "    \"\"\"\n",
        "\n",
        "    img = self.img_enc(img)\n",
        "    img = F.normalize(img)\n",
        "    ques = self.ques_enc(ques)\n",
        "    ques = F.normalize(ques)\n",
        "    \n",
        "    u = ques\n",
        "    for layer in self.att:\n",
        "      u = layer(img, u)\n",
        "      u = F.normalize(u)\n",
        "    return self.pred(u)\n",
        "\n",
        "\n",
        "\n",
        "# if __name__ == '__main__':\n",
        "#     vocab_size = 500\n",
        "#     seq_len = 12\n",
        "#     feat_dim = 600\n",
        "#     embed_size = 250\n",
        "#     n_attention_stacks = 5\n",
        "#     hidden_dim_img = 32\n",
        "\n",
        "#     model = SAN(feat_dim, vocab_size, embed_size, n_attention_stacks, hidden_dim_img)\n",
        "#     img = torch.rand((1, 3, 448, 448))\n",
        "#     ques = torch.randint(0, vocab_size, (1, seq_len))\n",
        "#     out = model(img, ques)\n",
        "#     assert tuple(out.shape) == (1, vocab_size)\n",
        "\n",
        "\n"
      ],
      "execution_count": 7,
      "outputs": []
    },
    {
      "cell_type": "code",
      "metadata": {
        "id": "t8QWh3ylA0EE"
      },
      "source": [
        "vocab_size = 9000 # from bert\n",
        "seq_len = 12 # from dataset\n",
        "feat_dim = 640 # from paper, the final vector vq, vi\n",
        "embed_size = 500 # from paper, dimention of embedding of each word\n",
        "n_attention_stacks = 5\n",
        "hidden_dim_img = feat_dim\n",
        "batch_size = 10"
      ],
      "execution_count": 8,
      "outputs": []
    },
    {
      "cell_type": "code",
      "metadata": {
        "id": "R5NwVeL1-VW1"
      },
      "source": [
        "model = SAN(feat_dim, vocab_size, embed_size, n_attention_stacks, hidden_dim_img)\n",
        "img = torch.rand((batch_size, 3, 448, 448))\n",
        "img = torch.randint(0, 255, (batch_size, 3, 448, 448)).float()\n",
        "ques = torch.randint(0, vocab_size, (batch_size, seq_len), dtype=torch.int32)\n",
        "out = model(img, ques)\n",
        "assert tuple(out.shape) == (batch_size, vocab_size)"
      ],
      "execution_count": 9,
      "outputs": []
    },
    {
      "cell_type": "code",
      "metadata": {
        "id": "7fLuJ9mm-VT3",
        "colab": {
          "base_uri": "https://localhost:8080/"
        },
        "outputId": "57b12b52-53b4-4f58-feae-140bb46081bf"
      },
      "source": [
        "from torchinfo import summary\n",
        "# summary(model, input_size=[(1, 3, 448, 448), (1, seq_len,)], input_data=[torch.float32, torch.float32])\n",
        "summary(model, input_data=[img, ques])"
      ],
      "execution_count": 27,
      "outputs": [
        {
          "output_type": "execute_result",
          "data": {
            "text/plain": [
              "==========================================================================================\n",
              "Layer (type:depth-idx)                   Output Shape              Param #\n",
              "==========================================================================================\n",
              "SAN                                      --                        --\n",
              "├─ModuleList: 1-1                        --                        --\n",
              "├─ImageEncoder: 1-2                      [2, 196, 640]             --\n",
              "│    └─VGG: 2-1                          [2, 100352]               --\n",
              "│    │    └─Sequential: 3-1              [2, 512, 14, 14]          20,024,384\n",
              "│    │    └─Sequential: 3-2              [2, 512, 14, 14]          --\n",
              "│    │    └─Sequential: 3-3              [2, 100352]               --\n",
              "│    └─Linear: 2-2                       [2, 196, 640]             328,320\n",
              "├─QuestionEncoder: 1-3                   [2, 640]                  --\n",
              "│    └─Embedding: 2-3                    [2, 22, 500]              4,500,000\n",
              "│    └─LSTM: 2-4                         [2, 22, 640]              2,923,520\n",
              "├─ModuleList: 1-1                        --                        --\n",
              "│    └─AttentionLayer: 2-5               [2, 640]                  --\n",
              "│    │    └─Attention: 3-4               [2, 196, 1]               820,481\n",
              "│    └─AttentionLayer: 2-6               [2, 640]                  --\n",
              "│    │    └─Attention: 3-5               [2, 196, 1]               820,481\n",
              "│    └─AttentionLayer: 2-7               [2, 640]                  --\n",
              "│    │    └─Attention: 3-6               [2, 196, 1]               820,481\n",
              "│    └─AttentionLayer: 2-8               [2, 640]                  --\n",
              "│    │    └─Attention: 3-7               [2, 196, 1]               820,481\n",
              "│    └─AttentionLayer: 2-9               [2, 640]                  --\n",
              "│    │    └─Attention: 3-8               [2, 196, 1]               820,481\n",
              "├─Linear: 1-4                            [2, 9000]                 5,769,000\n",
              "==========================================================================================\n",
              "Total params: 37,647,629\n",
              "Trainable params: 37,647,629\n",
              "Non-trainable params: 0\n",
              "Total mult-adds (G): 156.34\n",
              "==========================================================================================\n",
              "Input size (MB): 4.82\n",
              "Forward/backward pass size (MB): 963.19\n",
              "Params size (MB): 150.59\n",
              "Estimated Total Size (MB): 1118.60\n",
              "=========================================================================================="
            ]
          },
          "metadata": {
            "tags": []
          },
          "execution_count": 27
        }
      ]
    },
    {
      "cell_type": "code",
      "metadata": {
        "id": "JnKE_hos-VOf"
      },
      "source": [
        ""
      ],
      "execution_count": null,
      "outputs": []
    },
    {
      "cell_type": "code",
      "metadata": {
        "id": "4eKnxIEh-VLl"
      },
      "source": [
        ""
      ],
      "execution_count": null,
      "outputs": []
    },
    {
      "cell_type": "code",
      "metadata": {
        "id": "jGVVySkAO39L"
      },
      "source": [
        "%%capture\n",
        "! pip install transformers"
      ],
      "execution_count": 11,
      "outputs": []
    },
    {
      "cell_type": "code",
      "metadata": {
        "id": "-YsGfCKOO36y"
      },
      "source": [
        "from transformers import BertTokenizer, DistilBertTokenizer, BertTokenizerFast\n",
        "\n",
        "tokenizer = BertTokenizer.from_pretrained('bert-base-uncased')\n",
        "# tokenizer = DistilBertTokenizer.from_pretrained('bert-base-uncased')"
      ],
      "execution_count": 12,
      "outputs": []
    },
    {
      "cell_type": "markdown",
      "metadata": {
        "id": "3blhsH0aNjdu"
      },
      "source": [
        "<hr>"
      ]
    },
    {
      "cell_type": "code",
      "metadata": {
        "id": "s_adLFj1WVl6"
      },
      "source": [
        "# from transformers import XLNetTokenizer\n",
        "# tokenizer = XLNetTokenizer.from_pretrained(\"xlnet-base-cased\")"
      ],
      "execution_count": null,
      "outputs": []
    },
    {
      "cell_type": "code",
      "metadata": {
        "colab": {
          "base_uri": "https://localhost:8080/"
        },
        "id": "459MaSDz5psP",
        "outputId": "48e69acf-4d30-4533-d1f1-0482a6412c18"
      },
      "source": [
        "tokenizer.encode('He is good')"
      ],
      "execution_count": null,
      "outputs": [
        {
          "output_type": "execute_result",
          "data": {
            "text/plain": [
              "[101, 2002, 2003, 2204, 102]"
            ]
          },
          "metadata": {
            "tags": []
          },
          "execution_count": 62
        }
      ]
    },
    {
      "cell_type": "code",
      "metadata": {
        "colab": {
          "base_uri": "https://localhost:8080/",
          "height": 35
        },
        "id": "4G6U3hLl50iF",
        "outputId": "17588b5f-d584-43ed-9852-8399c783f269"
      },
      "source": [
        "tokenizer.decode([101, 2002, 2003, 2204, 102])"
      ],
      "execution_count": null,
      "outputs": [
        {
          "output_type": "execute_result",
          "data": {
            "application/vnd.google.colaboratory.intrinsic+json": {
              "type": "string"
            },
            "text/plain": [
              "'[CLS] he is good [SEP]'"
            ]
          },
          "metadata": {
            "tags": []
          },
          "execution_count": 63
        }
      ]
    },
    {
      "cell_type": "code",
      "metadata": {
        "colab": {
          "base_uri": "https://localhost:8080/"
        },
        "id": "UHZu05NAO334",
        "outputId": "a97d90b3-5138-4473-f382-783780d5454f"
      },
      "source": [
        "tokenizer.tokenize('He isnt good')"
      ],
      "execution_count": null,
      "outputs": [
        {
          "output_type": "execute_result",
          "data": {
            "text/plain": [
              "['he', 'isn', '##t', 'good']"
            ]
          },
          "metadata": {
            "tags": []
          },
          "execution_count": 14
        }
      ]
    },
    {
      "cell_type": "code",
      "metadata": {
        "colab": {
          "base_uri": "https://localhost:8080/"
        },
        "id": "P0dsNADI56Zc",
        "outputId": "3762bf2a-6801-4aac-ad15-37cc6b824be9"
      },
      "source": [
        "tokenizer.encode('desk')"
      ],
      "execution_count": null,
      "outputs": [
        {
          "output_type": "execute_result",
          "data": {
            "text/plain": [
              "[101, 4624, 102]"
            ]
          },
          "metadata": {
            "tags": []
          },
          "execution_count": 40
        }
      ]
    },
    {
      "cell_type": "code",
      "metadata": {
        "colab": {
          "base_uri": "https://localhost:8080/"
        },
        "id": "X2iMhAjfO315",
        "outputId": "be1e4609-ea86-499b-c987-33f405e16de9"
      },
      "source": [
        "tokenizer.convert_tokens_to_ids(['desk'])"
      ],
      "execution_count": null,
      "outputs": [
        {
          "output_type": "execute_result",
          "data": {
            "text/plain": [
              "[4624]"
            ]
          },
          "metadata": {
            "tags": []
          },
          "execution_count": 41
        }
      ]
    },
    {
      "cell_type": "code",
      "metadata": {
        "colab": {
          "base_uri": "https://localhost:8080/"
        },
        "id": "exWx2OgaO31E",
        "outputId": "76339484-35ee-4671-8406-e7d7615d88c0"
      },
      "source": [
        "tokenizer.convert_ids_to_tokens([2002, 2003, 2204, 100])"
      ],
      "execution_count": null,
      "outputs": [
        {
          "output_type": "execute_result",
          "data": {
            "text/plain": [
              "['he', 'is', 'good', '[UNK]']"
            ]
          },
          "metadata": {
            "tags": []
          },
          "execution_count": 14
        }
      ]
    },
    {
      "cell_type": "code",
      "metadata": {
        "colab": {
          "base_uri": "https://localhost:8080/"
        },
        "id": "0DcMpjA5O3ZE",
        "outputId": "3f66c7af-5b48-483b-8884-8759753d00e7"
      },
      "source": [
        "tokenizer.vocab_size"
      ],
      "execution_count": null,
      "outputs": [
        {
          "output_type": "execute_result",
          "data": {
            "text/plain": [
              "30522"
            ]
          },
          "metadata": {
            "tags": []
          },
          "execution_count": 33
        }
      ]
    },
    {
      "cell_type": "code",
      "metadata": {
        "colab": {
          "base_uri": "https://localhost:8080/"
        },
        "id": "G-LjYgHKTgkv",
        "outputId": "73325d41-4025-49b7-f372-3734b06fc283"
      },
      "source": [
        "tokenizer.convert_ids_to_tokens([0, 1, 2, 1200, 30520, 9011])"
      ],
      "execution_count": null,
      "outputs": [
        {
          "output_type": "execute_result",
          "data": {
            "text/plain": [
              "['[PAD]', '[unused0]', '[unused1]', 'х', '##？', 'manila']"
            ]
          },
          "metadata": {
            "tags": []
          },
          "execution_count": 44
        }
      ]
    },
    {
      "cell_type": "code",
      "metadata": {
        "colab": {
          "base_uri": "https://localhost:8080/"
        },
        "id": "diZmE8_BU-HH",
        "outputId": "e6fc89cb-d159-4a53-eafc-633ab94e1c5d"
      },
      "source": [
        "tokenizer.convert_tokens_to_ids(['<UNK>', '<STRT>', '<SEP>', '<PAD>', '<END>', '-+i-'])"
      ],
      "execution_count": null,
      "outputs": [
        {
          "output_type": "execute_result",
          "data": {
            "text/plain": [
              "[100, 100, 100, 100, 100, 100]"
            ]
          },
          "metadata": {
            "tags": []
          },
          "execution_count": 17
        }
      ]
    },
    {
      "cell_type": "code",
      "metadata": {
        "id": "--8Qc-RWU-E4"
      },
      "source": [
        "tokenizer.requires_grad"
      ],
      "execution_count": null,
      "outputs": []
    },
    {
      "cell_type": "markdown",
      "metadata": {
        "id": "HkOFM7ByxFJq"
      },
      "source": [
        "## Create Dataset"
      ]
    },
    {
      "cell_type": "code",
      "metadata": {
        "id": "_IO_iOA0U-DR"
      },
      "source": [
        "from torch.utils.data import Dataset, DataLoader\n",
        "from tqdm.autonotebook import tqdm\n",
        "from PIL import Image\n",
        "import numpy as np\n",
        "from dataset import VQADataset"
      ],
      "execution_count": 13,
      "outputs": []
    },
    {
      "cell_type": "code",
      "metadata": {
        "id": "OAfjKPWK82bH"
      },
      "source": [
        "from torch.utils.data import Dataset, DataLoader\n",
        "from tqdm.autonotebook import tqdm\n",
        "import torch\n",
        "from PIL import Image\n",
        "import numpy as np\n",
        "from torch.nn.utils.rnn import pad_sequence\n",
        "\n",
        "\"\"\"\n",
        "Write your own dataset here.\n",
        "The __getitem__ method must return a dict with the following key, value pairs:\n",
        "    'ques': tensor of ints, representing the index of words in the vocab\n",
        "    'ans': tensor of int, representing the index of word answer\n",
        "    'img': tensor representing the image\n",
        "    \n",
        "Get Images for the dataset:\n",
        "    ! wget http://datasets.d2.mpi-inf.mpg.de/mateusz14visual-turing/nyu_depth_images.tar\n",
        "Get Train question & ans:\n",
        "    ! wget https://raw.githubusercontent.com/jayantk/lsp/master/data/daquar/reduced/qa.37.raw.train.txt\n",
        "DAQAR dataset:\n",
        "    https://github.com/jayantk/lsp/tree/master/data/daquar\n",
        "\"\"\"\n",
        "\n",
        "\n",
        "class VQADataset(Dataset):\n",
        "  def __init__(self, ques_file, image_dir, tokenizer, max_len=30):\n",
        "    super(Dataset, self).__init__()\n",
        "    self.ques_file = ques_file\n",
        "    self.img_dir = image_dir\n",
        "    self.tokenizer = tokenizer\n",
        "    self.max_sentence_len = max_len\n",
        "\n",
        "    self.data = []\n",
        "    self.load_data()\n",
        "\n",
        "  def load_data(self):\n",
        "    with open(self.ques_file, 'r') as f:\n",
        "      data = f.readlines()\n",
        "\n",
        "    for index, line in tqdm(enumerate(data[::2]), desc='Iterating over questions'):\n",
        "      img = line.replace('?', '').strip(' ').split()[-1] + '.png'\n",
        "      ques = [x for x in self.tokenizer.encode(line)]\n",
        "      ques = [torch.tensor(min(x, vocab_size-1)) for x in ques]\n",
        "\n",
        "      ans = self.tokenizer.convert_tokens_to_ids([data[2*index+1].strip()])\n",
        "      ans = [torch.tensor(min(vocab_size-1, ans[0]))]\n",
        "      dct = {\n",
        "          'ques': ques,\n",
        "          'ques_str': line,\n",
        "          'ans_str': data[2*index+1],\n",
        "          'ans': ans,\n",
        "          'img_file_name': img\n",
        "      }\n",
        "\n",
        "      if len(dct['ans']) == 1:\n",
        "        self.data.append(dct)\n",
        "\n",
        "  def __len__(self):\n",
        "    return len(self.data) // 40\n",
        "\n",
        "  def __getitem__(self, idx):\n",
        "    dct = self.data[idx]\n",
        "    img = Image.open(self.img_dir + dct['img_file_name']).crop((0, 0, 448, 448))\n",
        "    img = np.array(img, dtype=np.uint8) / 255\n",
        "    img = np.moveaxis(img, -1, 0)\n",
        "    dct['img'] = torch.from_numpy(img)\n",
        "    return dct\n",
        "\n",
        "# if __name__ == '__main__':\n",
        "#   print(torch.__version__)"
      ],
      "execution_count": 14,
      "outputs": []
    },
    {
      "cell_type": "code",
      "metadata": {
        "colab": {
          "base_uri": "https://localhost:8080/"
        },
        "id": "HpOXVhTfloTD",
        "outputId": "cd61ac20-4ba6-4800-e9d2-b842ef5a9219"
      },
      "source": [
        "with open('/content/qa.37.raw.train.txt', 'r') as f:\n",
        "    data = f.readlines()\n",
        "    print(data[:2])\n",
        "\n",
        "tokenizer.convert_tokens_to_ids([data[2*0+1].strip()])"
      ],
      "execution_count": 125,
      "outputs": [
        {
          "output_type": "stream",
          "text": [
            "['what is on the right side of the black telephone and on the left side of the red chair in the image3 ?\\n', 'desk\\n']\n"
          ],
          "name": "stdout"
        },
        {
          "output_type": "execute_result",
          "data": {
            "text/plain": [
              "[4624]"
            ]
          },
          "metadata": {
            "tags": []
          },
          "execution_count": 125
        }
      ]
    },
    {
      "cell_type": "code",
      "metadata": {
        "id": "MTOG_8XfBPFH"
      },
      "source": [
        "def pad_collate(batch):\n",
        "    # print(f'fix: {[len(x[\"ques\"]) for x in batch]}')\n",
        "    ques = [torch.tensor(x['ques']) for x in batch]\n",
        "    ques = pad_sequence(ques, batch_first=True)\n",
        "    # batch['ques'] = ques\n",
        "    # print(f'{ques.shape}, {batch.__len__()}')\n",
        "    for idx, x in enumerate(ques):\n",
        "        batch[idx]['ques'] = x\n",
        "    return batch"
      ],
      "execution_count": 15,
      "outputs": []
    },
    {
      "cell_type": "code",
      "metadata": {
        "colab": {
          "base_uri": "https://localhost:8080/",
          "height": 49,
          "referenced_widgets": [
            "1fe61f4b4065458d800c206ad76f1b23",
            "6cd684ee6d9741129c305bd5968c8ac7",
            "ba07f19d2cc5446386fb029a32f71bf7",
            "4f1d9ec103e74de4a7185718c058c697",
            "74033c3d68c648d6add04d8bc09b0667",
            "728e78cf20044a61b8e1e9f9e302ab96",
            "bc6a77d18e0c460081ddc70f5bab23dd",
            "b05ddafe4e964d088c5b11d35f25cb9e",
            "5970bcb942c740c58227e39b4a8e7162",
            "324871552f0e4322807d4def6bd5c99c",
            "86f19126d9cf4e2cb19c7fa73a65fc12"
          ]
        },
        "id": "UuMqr719xchU",
        "outputId": "ea8dfceb-c935-4cb8-e6f1-16c0c3b82243"
      },
      "source": [
        "dl = DataLoader(VQADataset(ques_file='/content/qa.37.raw.train.txt', image_dir='/content/nyu_depth_images/', tokenizer=tokenizer), batch_size=2, collate_fn=pad_collate)"
      ],
      "execution_count": 21,
      "outputs": [
        {
          "output_type": "display_data",
          "data": {
            "application/vnd.jupyter.widget-view+json": {
              "model_id": "1fe61f4b4065458d800c206ad76f1b23",
              "version_minor": 0,
              "version_major": 2
            },
            "text/plain": [
              "Iterating over questions: 0it [00:00, ?it/s]"
            ]
          },
          "metadata": {
            "tags": []
          }
        }
      ]
    },
    {
      "cell_type": "code",
      "metadata": {
        "id": "UzxQfqM72C3U"
      },
      "source": [
        "for dct in dl:\n",
        "  print(dct[0])\n",
        "#   print(torch.cat(dct['ques']))\n",
        "  break"
      ],
      "execution_count": null,
      "outputs": []
    },
    {
      "cell_type": "code",
      "metadata": {
        "colab": {
          "base_uri": "https://localhost:8080/"
        },
        "id": "6hqUJFSe2C1N",
        "outputId": "f236a669-a321-467a-bc49-ee4547f0a3f1"
      },
      "source": [
        "dl.__len__()"
      ],
      "execution_count": null,
      "outputs": [
        {
          "output_type": "execute_result",
          "data": {
            "text/plain": [
              "48"
            ]
          },
          "metadata": {
            "tags": []
          },
          "execution_count": 50
        }
      ]
    },
    {
      "cell_type": "code",
      "metadata": {
        "colab": {
          "base_uri": "https://localhost:8080/"
        },
        "id": "HBn3yB9q2C0g",
        "outputId": "c5095c82-4ef0-4ebf-c749-964824387c2c"
      },
      "source": [
        "pa'how many chairs are there in the image1437 ?'.strip('?').strip(' ').split()"
      ],
      "execution_count": null,
      "outputs": [
        {
          "output_type": "execute_result",
          "data": {
            "text/plain": [
              "['how', 'many', 'chairs', 'are', 'there', 'in', 'the', 'image1437']"
            ]
          },
          "metadata": {
            "tags": []
          },
          "execution_count": 50
        }
      ]
    },
    {
      "cell_type": "code",
      "metadata": {
        "colab": {
          "base_uri": "https://localhost:8080/"
        },
        "id": "lXLJ0_Sp4k9T",
        "outputId": "6039c569-eedd-48d3-9ba2-87c8dc5ec9ed"
      },
      "source": [
        "! python3 dataset.py"
      ],
      "execution_count": null,
      "outputs": [
        {
          "output_type": "stream",
          "text": [
            "1.9.0+cu102\n"
          ],
          "name": "stdout"
        }
      ]
    },
    {
      "cell_type": "code",
      "metadata": {
        "id": "K2Ei7MIMxcfy"
      },
      "source": [
        "with open('/content/qa.37.raw.train.txt', 'r') as f:\n",
        "  # print(f.readlines())\n",
        "  data = f.readlines()\n",
        "  for idx, line in enumerate(data[::2]):\n",
        "    print(2 * idx, line, data[2*idx+1])"
      ],
      "execution_count": null,
      "outputs": []
    },
    {
      "cell_type": "code",
      "metadata": {
        "id": "mcRvEV8Jxce5"
      },
      "source": [
        ""
      ],
      "execution_count": null,
      "outputs": []
    },
    {
      "cell_type": "markdown",
      "metadata": {
        "id": "-JBHkXqw3FUC"
      },
      "source": [
        "## Train"
      ]
    },
    {
      "cell_type": "code",
      "metadata": {
        "id": "whtZ83DW51iz"
      },
      "source": [
        "import torch.nn as nn\n",
        "from torch.optim import SGD, Adam\n",
        "import torch.nn.functional as F"
      ],
      "execution_count": 22,
      "outputs": []
    },
    {
      "cell_type": "code",
      "metadata": {
        "colab": {
          "base_uri": "https://localhost:8080/"
        },
        "id": "CIh80CtX3HRa",
        "outputId": "80049449-cdc8-4c32-bfbc-1c1fb807ae26"
      },
      "source": [
        "device = 'cuda' if torch.cuda.is_available() else 'cpu'\n",
        "# device = 'cpu'\n",
        "\n",
        "model = SAN(feat_dim, vocab_size, embed_size, n_attention_stacks, hidden_dim_img)\n",
        "model = model.to(device)\n",
        "criterian = nn.CrossEntropyLoss()\n",
        "optimizer = Adam(model.parameters(), lr=0.01)\n",
        "losses = []\n",
        "print(device)"
      ],
      "execution_count": 23,
      "outputs": [
        {
          "output_type": "stream",
          "text": [
            "cuda\n"
          ],
          "name": "stdout"
        }
      ]
    },
    {
      "cell_type": "code",
      "metadata": {
        "id": "IaO8SPx2MiN3"
      },
      "source": [
        "import os\n",
        "os.environ['CUDA_LAUNCH_BLOCKING'] = \"1\""
      ],
      "execution_count": 24,
      "outputs": []
    },
    {
      "cell_type": "code",
      "metadata": {
        "id": "yN4-MTZu3HOC"
      },
      "source": [
        "for epoch in range(10):\n",
        "  current_loss = 0.0\n",
        "  # get batches\n",
        "  for batch in tqdm(dl):\n",
        "    optimizer.zero_grad()\n",
        "\n",
        "    # img = batch['img'].float().to(device)\n",
        "    img = [x['img'] for x in batch]\n",
        "    img = torch.stack(img, 0).float().to(device)\n",
        "    # print()\n",
        "\n",
        "    # ques = torch.cat(batch['ques']).to(device)\n",
        "    ques = [x['ques'] for x in batch]\n",
        "    # print(len(ques), ques[0].shape)\n",
        "    ques = torch.stack(ques).to(device)\n",
        "\n",
        "    # ans = torch.cat(batch['ans']).to(device)\n",
        "    ans = [x['ans'][0] for x in batch]\n",
        "    ans = torch.tensor(ans).to(device)\n",
        "\n",
        "    # print(f'Ques: {ques.shape}, {ques}')\n",
        "    # print(f\"Ans Str: {[x['ans_str'].strip() for x in batch]}\")\n",
        "    # print(f'Ans: {ans}')\n",
        "\n",
        "    out = model(img, ques)\n",
        "    # print(f'Shapes: img: {img.shape},\\n ques: {ques.shape}: {ques},\\n ans: {ans.shape}: {ans},\\n out; {out.shape}')\n",
        "\n",
        "    loss = criterian(out, ans)\n",
        "    # print(F.softmax(out, dim=0).detach().cpu().numpy(), ans.detach().cpu().numpy())\n",
        "\n",
        "    loss.backward()\n",
        "    optimizer.step()\n",
        "    # print(loss)\n",
        "\n",
        "    current_loss += loss.item() * len(batch)\n",
        "    # print(f'Cur Loss: {current_loss}')\n",
        "\n",
        "  print(f'Epoch: {epoch}, Loss: {current_loss:.2f}')"
      ],
      "execution_count": null,
      "outputs": []
    },
    {
      "cell_type": "code",
      "metadata": {
        "colab": {
          "base_uri": "https://localhost:8080/"
        },
        "id": "xWFda9oSmS4H",
        "outputId": "d5b3f3ca-d55a-447d-83da-83a1ea5d17e1"
      },
      "source": [
        "tokenizer.convert_ids_to_tokens([4624])"
      ],
      "execution_count": 128,
      "outputs": [
        {
          "output_type": "execute_result",
          "data": {
            "text/plain": [
              "['desk']"
            ]
          },
          "metadata": {
            "tags": []
          },
          "execution_count": 128
        }
      ]
    },
    {
      "cell_type": "code",
      "metadata": {
        "colab": {
          "base_uri": "https://localhost:8080/"
        },
        "id": "8caP2XMf3HLQ",
        "outputId": "2947af51-a274-41a9-f85b-6abba2ea47e9"
      },
      "source": [
        "torch.cuda.is_available()"
      ],
      "execution_count": 114,
      "outputs": [
        {
          "output_type": "execute_result",
          "data": {
            "text/plain": [
              "True"
            ]
          },
          "metadata": {
            "tags": []
          },
          "execution_count": 114
        }
      ]
    },
    {
      "cell_type": "code",
      "metadata": {
        "colab": {
          "base_uri": "https://localhost:8080/"
        },
        "id": "8IMOgixDqGwI",
        "outputId": "1ff172f4-50e8-4873-94a0-6b171aa58f1d"
      },
      "source": [
        "model"
      ],
      "execution_count": 166,
      "outputs": [
        {
          "output_type": "execute_result",
          "data": {
            "text/plain": [
              "SAN(\n",
              "  (img_enc): ImageEncoder(\n",
              "    (vgg): VGG(\n",
              "      (features): Sequential(\n",
              "        (0): Conv2d(3, 64, kernel_size=(3, 3), stride=(1, 1), padding=(1, 1))\n",
              "        (1): ReLU(inplace=True)\n",
              "        (2): Conv2d(64, 64, kernel_size=(3, 3), stride=(1, 1), padding=(1, 1))\n",
              "        (3): ReLU(inplace=True)\n",
              "        (4): MaxPool2d(kernel_size=2, stride=2, padding=0, dilation=1, ceil_mode=False)\n",
              "        (5): Conv2d(64, 128, kernel_size=(3, 3), stride=(1, 1), padding=(1, 1))\n",
              "        (6): ReLU(inplace=True)\n",
              "        (7): Conv2d(128, 128, kernel_size=(3, 3), stride=(1, 1), padding=(1, 1))\n",
              "        (8): ReLU(inplace=True)\n",
              "        (9): MaxPool2d(kernel_size=2, stride=2, padding=0, dilation=1, ceil_mode=False)\n",
              "        (10): Conv2d(128, 256, kernel_size=(3, 3), stride=(1, 1), padding=(1, 1))\n",
              "        (11): ReLU(inplace=True)\n",
              "        (12): Conv2d(256, 256, kernel_size=(3, 3), stride=(1, 1), padding=(1, 1))\n",
              "        (13): ReLU(inplace=True)\n",
              "        (14): Conv2d(256, 256, kernel_size=(3, 3), stride=(1, 1), padding=(1, 1))\n",
              "        (15): ReLU(inplace=True)\n",
              "        (16): Conv2d(256, 256, kernel_size=(3, 3), stride=(1, 1), padding=(1, 1))\n",
              "        (17): ReLU(inplace=True)\n",
              "        (18): MaxPool2d(kernel_size=2, stride=2, padding=0, dilation=1, ceil_mode=False)\n",
              "        (19): Conv2d(256, 512, kernel_size=(3, 3), stride=(1, 1), padding=(1, 1))\n",
              "        (20): ReLU(inplace=True)\n",
              "        (21): Conv2d(512, 512, kernel_size=(3, 3), stride=(1, 1), padding=(1, 1))\n",
              "        (22): ReLU(inplace=True)\n",
              "        (23): Conv2d(512, 512, kernel_size=(3, 3), stride=(1, 1), padding=(1, 1))\n",
              "        (24): ReLU(inplace=True)\n",
              "        (25): Conv2d(512, 512, kernel_size=(3, 3), stride=(1, 1), padding=(1, 1))\n",
              "        (26): ReLU(inplace=True)\n",
              "        (27): MaxPool2d(kernel_size=2, stride=2, padding=0, dilation=1, ceil_mode=False)\n",
              "        (28): Conv2d(512, 512, kernel_size=(3, 3), stride=(1, 1), padding=(1, 1))\n",
              "        (29): ReLU(inplace=True)\n",
              "        (30): Conv2d(512, 512, kernel_size=(3, 3), stride=(1, 1), padding=(1, 1))\n",
              "        (31): ReLU(inplace=True)\n",
              "        (32): Conv2d(512, 512, kernel_size=(3, 3), stride=(1, 1), padding=(1, 1))\n",
              "        (33): ReLU(inplace=True)\n",
              "        (34): Conv2d(512, 512, kernel_size=(3, 3), stride=(1, 1), padding=(1, 1))\n",
              "        (35): ReLU(inplace=True)\n",
              "        (36): MaxPool2d(kernel_size=2, stride=2, padding=0, dilation=1, ceil_mode=False)\n",
              "      )\n",
              "      (avgpool): Sequential()\n",
              "      (classifier): Sequential()\n",
              "    )\n",
              "    (fc): Linear(in_features=512, out_features=640, bias=True)\n",
              "  )\n",
              "  (ques_enc): QuestionEncoder(\n",
              "    (embed): Embedding(9000, 500)\n",
              "    (lstm): LSTM(500, 640, batch_first=True)\n",
              "  )\n",
              "  (att): ModuleList(\n",
              "    (0): AttentionLayer(\n",
              "      (attention): Attention(\n",
              "        (w1): Linear(in_features=640, out_features=640, bias=False)\n",
              "        (w2): Linear(in_features=640, out_features=640, bias=True)\n",
              "        (wp): Linear(in_features=640, out_features=1, bias=True)\n",
              "      )\n",
              "    )\n",
              "    (1): AttentionLayer(\n",
              "      (attention): Attention(\n",
              "        (w1): Linear(in_features=640, out_features=640, bias=False)\n",
              "        (w2): Linear(in_features=640, out_features=640, bias=True)\n",
              "        (wp): Linear(in_features=640, out_features=1, bias=True)\n",
              "      )\n",
              "    )\n",
              "    (2): AttentionLayer(\n",
              "      (attention): Attention(\n",
              "        (w1): Linear(in_features=640, out_features=640, bias=False)\n",
              "        (w2): Linear(in_features=640, out_features=640, bias=True)\n",
              "        (wp): Linear(in_features=640, out_features=1, bias=True)\n",
              "      )\n",
              "    )\n",
              "    (3): AttentionLayer(\n",
              "      (attention): Attention(\n",
              "        (w1): Linear(in_features=640, out_features=640, bias=False)\n",
              "        (w2): Linear(in_features=640, out_features=640, bias=True)\n",
              "        (wp): Linear(in_features=640, out_features=1, bias=True)\n",
              "      )\n",
              "    )\n",
              "    (4): AttentionLayer(\n",
              "      (attention): Attention(\n",
              "        (w1): Linear(in_features=640, out_features=640, bias=False)\n",
              "        (w2): Linear(in_features=640, out_features=640, bias=True)\n",
              "        (wp): Linear(in_features=640, out_features=1, bias=True)\n",
              "      )\n",
              "    )\n",
              "  )\n",
              "  (pred): Linear(in_features=640, out_features=9000, bias=True)\n",
              ")"
            ]
          },
          "metadata": {
            "tags": []
          },
          "execution_count": 166
        }
      ]
    },
    {
      "cell_type": "code",
      "metadata": {
        "id": "RpAyPUEOU-6r"
      },
      "source": [
        "model(\n",
        "    torch.rand((1, 3, 448, 448)).cuda(),\n",
        "    torch.randint(0, 10, (1, 6)).cuda()\n",
        ")"
      ],
      "execution_count": null,
      "outputs": []
    },
    {
      "cell_type": "markdown",
      "metadata": {
        "id": "1vLp1pr-Sy_0"
      },
      "source": [
        "#### Things Learnt:\n",
        "- collate_fun & pad_sequence\n",
        "- Model & input should be on the same device\n",
        "- torch.cat & torch.stack\n",
        "- Vocab & embed size for nn.Embeddings"
      ]
    },
    {
      "cell_type": "code",
      "metadata": {
        "id": "IBsj9bj6fhnL"
      },
      "source": [
        ""
      ],
      "execution_count": null,
      "outputs": []
    },
    {
      "cell_type": "markdown",
      "metadata": {
        "id": "T_uY1cpEfjQk"
      },
      "source": [
        "## Inference"
      ]
    },
    {
      "cell_type": "code",
      "metadata": {
        "id": "9iEObEZA3HI8"
      },
      "source": [
        "import os\n",
        "img_name = os.listdir('/content/nyu_depth_images')[109]"
      ],
      "execution_count": 29,
      "outputs": []
    },
    {
      "cell_type": "code",
      "metadata": {
        "colab": {
          "base_uri": "https://localhost:8080/"
        },
        "id": "ItpyYE26fsSF",
        "outputId": "e40418f5-5654-4b46-e545-9629ba3a193f"
      },
      "source": [
        "img = Image.open('/content/nyu_depth_images/' + img_name).crop((0, 0, 448, 448))\n",
        "img.size"
      ],
      "execution_count": 30,
      "outputs": [
        {
          "output_type": "execute_result",
          "data": {
            "text/plain": [
              "(448, 448)"
            ]
          },
          "metadata": {
            "tags": []
          },
          "execution_count": 30
        }
      ]
    },
    {
      "cell_type": "code",
      "metadata": {
        "colab": {
          "base_uri": "https://localhost:8080/",
          "height": 465
        },
        "id": "wYb1q7tegKA3",
        "outputId": "54cb812d-d132-42a0-b110-5d9d8bf5bf4d"
      },
      "source": [
        "img"
      ],
      "execution_count": 31,
      "outputs": [
        {
          "output_type": "execute_result",
          "data": {
            "image/png": "[encoded data removed]",
            "text/plain": [
              "<PIL.Image.Image image mode=RGB size=448x448 at 0x7F3082148B50>"
            ]
          },
          "metadata": {
            "tags": []
          },
          "execution_count": 31
        }
      ]
    },
    {
      "cell_type": "code",
      "metadata": {
        "colab": {
          "base_uri": "https://localhost:8080/"
        },
        "id": "BDS1BsQnf6lS",
        "outputId": "bf455dca-b988-4674-b65d-a50515095baf"
      },
      "source": [
        "ques = tokenizer.tokenize('how many chairs are in the image')\n",
        "ques = tokenizer.convert_tokens_to_ids(ques)\n",
        "ques"
      ],
      "execution_count": 28,
      "outputs": [
        {
          "output_type": "execute_result",
          "data": {
            "text/plain": [
              "[2129, 2116, 8397, 2024, 1999, 1996, 3746]"
            ]
          },
          "metadata": {
            "tags": []
          },
          "execution_count": 28
        }
      ]
    },
    {
      "cell_type": "code",
      "metadata": {
        "id": "-6LXn89Rf6ie"
      },
      "source": [
        "img = np.array(img, dtype=np.uint8) / 255\n",
        "img = np.moveaxis(img, -1, 0)\n",
        "\n",
        "ques = torch.tensor(ques).unsqueeze(0).to(device)\n",
        "img = torch.from_numpy(img).unsqueeze(0).float().to(device)\n",
        "\n",
        "out = model(img, ques)"
      ],
      "execution_count": 32,
      "outputs": []
    },
    {
      "cell_type": "code",
      "metadata": {
        "colab": {
          "base_uri": "https://localhost:8080/"
        },
        "id": "rByQvHQDqdZc",
        "outputId": "7fb9b874-69ef-4723-c4cd-2680663b98e5"
      },
      "source": [
        "out"
      ],
      "execution_count": 33,
      "outputs": [
        {
          "output_type": "execute_result",
          "data": {
            "text/plain": [
              "tensor([[-10.0959, -10.1048, -10.0597,  ..., -10.1024, -10.0518,  -0.6110]],\n",
              "       device='cuda:0', grad_fn=<AddmmBackward>)"
            ]
          },
          "metadata": {
            "tags": []
          },
          "execution_count": 33
        }
      ]
    },
    {
      "cell_type": "code",
      "metadata": {
        "colab": {
          "base_uri": "https://localhost:8080/"
        },
        "id": "fxHX4AuPf6f-",
        "outputId": "7546cacb-ea4b-4da6-d2d9-266a875ff68d"
      },
      "source": [
        "index = np.argmax(out.detach().cpu().numpy())\n",
        "index"
      ],
      "execution_count": 34,
      "outputs": [
        {
          "output_type": "execute_result",
          "data": {
            "text/plain": [
              "1016"
            ]
          },
          "metadata": {
            "tags": []
          },
          "execution_count": 34
        }
      ]
    },
    {
      "cell_type": "code",
      "metadata": {
        "colab": {
          "base_uri": "https://localhost:8080/"
        },
        "id": "xgeMTipBfsO_",
        "outputId": "7d236132-05ed-418f-f854-0de7073045f8"
      },
      "source": [
        "tokenizer.convert_ids_to_tokens([index])"
      ],
      "execution_count": 35,
      "outputs": [
        {
          "output_type": "execute_result",
          "data": {
            "text/plain": [
              "['2']"
            ]
          },
          "metadata": {
            "tags": []
          },
          "execution_count": 35
        }
      ]
    },
    {
      "cell_type": "code",
      "metadata": {
        "id": "240xr5DXqBan"
      },
      "source": [
        ""
      ],
      "execution_count": null,
      "outputs": []
    },
    {
      "cell_type": "code",
      "metadata": {
        "id": "CYVDuw4tqBXy"
      },
      "source": [
        ""
      ],
      "execution_count": null,
      "outputs": []
    },
    {
      "cell_type": "code",
      "metadata": {
        "id": "UXT-PeKXqBU1"
      },
      "source": [
        ""
      ],
      "execution_count": null,
      "outputs": []
    },
    {
      "cell_type": "markdown",
      "metadata": {
        "id": "QIt7qtTUtHM8"
      },
      "source": [
        "###### Get the dataset"
      ]
    },
    {
      "cell_type": "code",
      "metadata": {
        "id": "kXDEum5CTght"
      },
      "source": [
        "%%capture\n",
        "! wget http://datasets.d2.mpi-inf.mpg.de/mateusz14visual-turing/nyu_depth_images.tar"
      ],
      "execution_count": 16,
      "outputs": []
    },
    {
      "cell_type": "code",
      "metadata": {
        "id": "8nJIzHIBTgfr"
      },
      "source": [
        "%%capture\n",
        "! tar -xvf nyu_depth_images.tar"
      ],
      "execution_count": 17,
      "outputs": []
    },
    {
      "cell_type": "code",
      "metadata": {
        "colab": {
          "base_uri": "https://localhost:8080/"
        },
        "id": "bMaFrM4bTge1",
        "outputId": "8a33b273-8804-42c6-b3c3-f0b071a0902c"
      },
      "source": [
        "! find . -name image3.png"
      ],
      "execution_count": 18,
      "outputs": [
        {
          "output_type": "stream",
          "text": [
            "./nyu_depth_images/image3.png\n"
          ],
          "name": "stdout"
        }
      ]
    },
    {
      "cell_type": "code",
      "metadata": {
        "id": "_thw426qWO0d"
      },
      "source": [
        "# Image.open('./nyu_depth_images/image3.png')"
      ],
      "execution_count": 19,
      "outputs": []
    },
    {
      "cell_type": "code",
      "metadata": {
        "id": "E39z1roNUfKX"
      },
      "source": [
        "%%capture\n",
        "! wget https://raw.githubusercontent.com/jayantk/lsp/master/data/daquar/reduced/qa.37.raw.train.txt"
      ],
      "execution_count": 20,
      "outputs": []
    },
    {
      "cell_type": "code",
      "metadata": {
        "id": "dmeKvobyUoEk"
      },
      "source": [
        ""
      ],
      "execution_count": 20,
      "outputs": []
    },
    {
      "cell_type": "markdown",
      "metadata": {
        "id": "uto6dwTAENyy"
      },
      "source": [
        "Rough"
      ]
    },
    {
      "cell_type": "code",
      "metadata": {
        "id": "Y-Jjk0_UEOPa"
      },
      "source": [
        "x_seq = [torch.tensor([5, 18, 29]), torch.tensor([32, 100]), torch.tensor([699, 6, 9, 17])]\n",
        "x_padded = pad_sequence(x_seq, batch_first=True, padding_value=0)"
      ],
      "execution_count": 21,
      "outputs": []
    },
    {
      "cell_type": "code",
      "metadata": {
        "colab": {
          "base_uri": "https://localhost:8080/"
        },
        "id": "b7ZihVGBEPEP",
        "outputId": "8c059053-d679-4362-aa5d-a368a83a36c1"
      },
      "source": [
        "x = torch.randn(2, 3)\n",
        "print(f'{x.size()}')\n",
        "\n",
        "# add more rows (thus increasing the dimensionality of the column space to 2 -> 6)\n",
        "xnew_from_cat = torch.stack((x, x, x), 0)\n",
        "print(f'{xnew_from_cat.size()}')"
      ],
      "execution_count": 22,
      "outputs": [
        {
          "output_type": "stream",
          "text": [
            "torch.Size([2, 3])\n",
            "torch.Size([3, 2, 3])\n"
          ],
          "name": "stdout"
        }
      ]
    },
    {
      "cell_type": "code",
      "metadata": {
        "colab": {
          "base_uri": "https://localhost:8080/"
        },
        "id": "2VEVTQ8lI2gP",
        "outputId": "603e4c14-5327-4e61-cd71-02d62fe2a31e"
      },
      "source": [
        "out = torch.rand((2, 9000))\n",
        "ans = torch.randint(0, 3, (2,))\n",
        "out.shape, ans.shape"
      ],
      "execution_count": 23,
      "outputs": [
        {
          "output_type": "execute_result",
          "data": {
            "text/plain": [
              "(torch.Size([2, 9000]), torch.Size([2]))"
            ]
          },
          "metadata": {
            "tags": []
          },
          "execution_count": 23
        }
      ]
    },
    {
      "cell_type": "code",
      "metadata": {
        "colab": {
          "base_uri": "https://localhost:8080/"
        },
        "id": "MW5EdW_kKiTo",
        "outputId": "339baa24-2d5f-4acb-b8f8-16e21bf4a147"
      },
      "source": [
        "nn.CrossEntropyLoss()(out, ans)"
      ],
      "execution_count": 24,
      "outputs": [
        {
          "output_type": "execute_result",
          "data": {
            "text/plain": [
              "tensor(9.2734)"
            ]
          },
          "metadata": {
            "tags": []
          },
          "execution_count": 24
        }
      ]
    },
    {
      "cell_type": "code",
      "metadata": {
        "id": "TB5uuDPVKo-W"
      },
      "source": [
        "x = torch.rand(10, 196, 1)"
      ],
      "execution_count": 25,
      "outputs": []
    },
    {
      "cell_type": "code",
      "metadata": {
        "colab": {
          "base_uri": "https://localhost:8080/"
        },
        "id": "T5ZkJd4MJVn0",
        "outputId": "dab3ad75-0fce-4723-dae0-d85521c63c2d"
      },
      "source": [
        "F.softmax(x, dim=1).sum(dim=1)"
      ],
      "execution_count": 26,
      "outputs": [
        {
          "output_type": "execute_result",
          "data": {
            "text/plain": [
              "tensor([[1.0000],\n",
              "        [1.0000],\n",
              "        [1.0000],\n",
              "        [1.0000],\n",
              "        [1.0000],\n",
              "        [1.0000],\n",
              "        [1.0000],\n",
              "        [1.0000],\n",
              "        [1.0000],\n",
              "        [1.0000]])"
            ]
          },
          "metadata": {
            "tags": []
          },
          "execution_count": 26
        }
      ]
    },
    {
      "cell_type": "code",
      "metadata": {
        "id": "0NV-N9SuJZVs"
      },
      "source": [
        ""
      ],
      "execution_count": 26,
      "outputs": []
    }
  ]
}