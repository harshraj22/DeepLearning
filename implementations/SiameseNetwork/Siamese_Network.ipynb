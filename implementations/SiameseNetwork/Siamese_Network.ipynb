{
  "nbformat": 4,
  "nbformat_minor": 0,
  "metadata": {
    "colab": {
      "name": "Siamese_Network.ipynb",
      "provenance": []
    },
    "kernelspec": {
      "name": "python3",
      "display_name": "Python 3"
    },
    "language_info": {
      "name": "python"
    }
  },
  "cells": [
    {
      "cell_type": "markdown",
      "metadata": {
        "id": "bYi4fvHr_brl"
      },
      "source": [
        "# [Siamese Neural Networks for One-shot Image Recognition](https://www.cs.cmu.edu/~rsalakhu/papers/oneshot1.pdf)\n",
        "\n",
        "A Pytorch Implementation"
      ]
    },
    {
      "cell_type": "code",
      "metadata": {
        "colab": {
          "base_uri": "https://localhost:8080/"
        },
        "id": "7zdN5AIzBGim",
        "outputId": "1ec1f74c-468a-404b-85e1-427ee38800f8"
      },
      "source": [
        "! pip install torchscan"
      ],
      "execution_count": null,
      "outputs": [
        {
          "output_type": "stream",
          "text": [
            "Collecting torchscan\n",
            "  Downloading https://files.pythonhosted.org/packages/30/8f/0f255453c3c44990cb879574ac023f7484acfb225d7f17468cbebc65bf01/torchscan-0.1.1-py3-none-any.whl\n",
            "Requirement already satisfied: torch>=1.1.0 in /usr/local/lib/python3.7/dist-packages (from torchscan) (1.9.0+cu102)\n",
            "Requirement already satisfied: typing-extensions in /usr/local/lib/python3.7/dist-packages (from torch>=1.1.0->torchscan) (3.7.4.3)\n",
            "Installing collected packages: torchscan\n",
            "Successfully installed torchscan-0.1.1\n"
          ],
          "name": "stdout"
        }
      ]
    },
    {
      "cell_type": "code",
      "metadata": {
        "id": "bs6uY9OIkbdb"
      },
      "source": [
        "# https://www.cs.cmu.edu/~rsalakhu/papers/oneshot1.pdf\n",
        "\n",
        "import torch\n",
        "import torch.nn as nn\n",
        "import warnings\n",
        "warnings.filterwarnings('ignore')"
      ],
      "execution_count": null,
      "outputs": []
    },
    {
      "cell_type": "code",
      "metadata": {
        "id": "hL7Y8VLVkPmt"
      },
      "source": [
        "# To be used as the feature extractor, in order to compare the features\n",
        "\n",
        "class FeatExt(nn.Module):\n",
        "    def __init__(self):\n",
        "        super(FeatExt, self).__init__()\n",
        "\n",
        "        # input.shape: (1, 105, 105)\n",
        "\n",
        "        self.cnn1 = nn.Conv2d(1, 64, kernel_size=10) # (1, 105, 105) -> (64, 96, 96)\n",
        "        self.relu1 = nn.ReLU()\n",
        "\n",
        "        # feature maps.shape: (64, 96, 96)\n",
        "        self.max_pool1 = nn.MaxPool2d(kernel_size=2) # (64, 96, 96) -> (64, 48, 48)\n",
        "\n",
        "        # feature maps.shape: (64, 48, 48)\n",
        "        self.cnn2 = nn.Conv2d(64, 128, kernel_size=7) # (64, 48, 48) -> (128, 42, 42)\n",
        "        self.relu2 = nn.ReLU()\n",
        "\n",
        "        # feature maps.shape: (128, 42, 42)\n",
        "        self.max_pool2 = nn.MaxPool2d(kernel_size=2) # (128, 42, 42) -> (128, 21, 21)\n",
        "\n",
        "        # feature maps.shape: (128, 21, 21)\n",
        "        self.cnn3 = nn.Conv2d(128, 128, kernel_size=4) # (128, 21, 21) -> (128, 18, 18)\n",
        "        self.relu3 = nn.ReLU()\n",
        "\n",
        "        # feature maps.shape: (128, 18, 18)\n",
        "        self.max_pool3 = nn.MaxPool2d(kernel_size=2) # (128, 18, 18) -> (128, 9, 9)\n",
        "\n",
        "        # feature maps.shape: (128, 9, 9)\n",
        "        self.cnn4 = nn.Conv2d(128, 256, kernel_size=4) # (128, 9, 9) -> (256, 6, 6)\n",
        "        self.relu4 = nn.ReLU()\n",
        "\n",
        "        # feature maps.shape: (256, 6, 6)\n",
        "        # torch.flatten: (256, 6, 6) -> (9216)\n",
        "\n",
        "        # feature maps.shape: (9216)\n",
        "        self.fc1 = nn.Linear(9216, 4096) # (9216) -> (4096)\n",
        "        self.sigmoid1 = nn.Sigmoid()\n",
        "\n",
        "        # # feature maps.shape: (4096)\n",
        "        # self.fc2 = nn.Linear(4096, 1)\n",
        "        # self.sigmoid2 = nn.Sigmoid()\n",
        "\n",
        "\n",
        "    def forward(self, x):\n",
        "        x = self.max_pool1(self.relu1(self.cnn1(x)))\n",
        "\n",
        "        x = self.max_pool2(self.relu2(self.cnn2(x)))\n",
        "\n",
        "        x = self.max_pool3(self.relu3(self.cnn3(x)))\n",
        "\n",
        "        x = self.relu4(self.cnn4(x))\n",
        "\n",
        "        x = torch.flatten(x, start_dim=1)\n",
        "\n",
        "        x = self.sigmoid1(self.fc1(x))\n",
        "\n",
        "        # x = self.sigmoid2(self.fc2(x))\n",
        "\n",
        "        return x\n",
        "\n",
        "\n",
        "# if __name__ == '__main__':\n",
        "#     model = SiameseNet()\n",
        "#     batch_size = 5\n",
        "#     input = torch.rand(size=(batch_size, 1, 105, 105))\n",
        "#     out = model(input)\n",
        "#     print(input.shape, out.shape)\n",
        "#     assert tuple(out.shape) == (batch_size, 1)"
      ],
      "execution_count": null,
      "outputs": []
    },
    {
      "cell_type": "code",
      "metadata": {
        "id": "InYxkyFZkalI"
      },
      "source": [
        "class SiameseNet(nn.Module):\n",
        "  def __init__(self):\n",
        "    super(SiameseNet, self).__init__()\n",
        "    self.feat = FeatExt()\n",
        "    \n",
        "    # feature maps.shape: (4096)\n",
        "    self.fc = nn.Linear(4096, 1)\n",
        "    self.sigmoid = nn.Sigmoid()\n",
        "\n",
        "  def forward(self, x):\n",
        "    x1 = self.feat(x)\n",
        "    x2 = self.feat(x)\n",
        "\n",
        "    return self.sigmoid(self.fc((x1-x2).abs()))"
      ],
      "execution_count": null,
      "outputs": []
    },
    {
      "cell_type": "markdown",
      "metadata": {
        "id": "WkrTC_d4HnM4"
      },
      "source": [
        "#### Weight Initilization\n",
        "\n",
        "* They initialized all network weights\n",
        "in the convolutional layers from a normal distribution with\n",
        "zero-mean and a standard deviation of `10−2`\n",
        "* Biases were\n",
        "also initialized from a normal distribution, but with mean `0.5` and standard deviation `10−2`\n",
        "* In the fully-connected\n",
        "layers, the biases were initialized in the same way as the\n",
        "convolutional layers, but the weights were drawn from a\n",
        "much wider normal distribution with zero-mean and standard deviation `2 × 10−1`\n",
        "."
      ]
    },
    {
      "cell_type": "code",
      "metadata": {
        "id": "RNq9JJaWHt4D"
      },
      "source": [
        "def init_weights(m):\n",
        "  if type(m) == nn.Linear:\n",
        "    nn.init.normal_(m.weight, 0, 2e-1)\n",
        "    nn.init.normal_(m.bias, 0, 1e-2)\n",
        "  elif type(m) == nn.Conv2d:\n",
        "    nn.init.normal_(m.weight, 0, 1e-2)\n",
        "    nn.init.normal_(m.bias, 0.5, 1e-2)\n"
      ],
      "execution_count": null,
      "outputs": []
    },
    {
      "cell_type": "code",
      "metadata": {
        "colab": {
          "base_uri": "https://localhost:8080/"
        },
        "id": "4Zp5n9_fAj5d",
        "outputId": "5c2b106a-7e52-4082-aa18-b9b99dcda0dc"
      },
      "source": [
        "# Just a quick check that every thing works as it should be\n",
        "\n",
        "model = SiameseNet()\n",
        "batch_size = 5\n",
        "input = torch.rand(size=(batch_size, 1, 105, 105))\n",
        "out = model(input)\n",
        "print(input.shape, out.shape)\n",
        "assert tuple(out.shape) == (batch_size, 1)"
      ],
      "execution_count": null,
      "outputs": [
        {
          "output_type": "stream",
          "text": [
            "torch.Size([5, 1, 105, 105]) torch.Size([5, 1])\n"
          ],
          "name": "stdout"
        }
      ]
    },
    {
      "cell_type": "markdown",
      "metadata": {
        "id": "0NJFd1Qko9_h"
      },
      "source": [
        "## Getting & preparing the dataset"
      ]
    },
    {
      "cell_type": "code",
      "metadata": {
        "id": "cBL3dmVL7qxG"
      },
      "source": [
        "import os\n",
        "\n",
        "working_dir = '/content/drive/MyDrive/siamese_net'\n",
        "os.chdir(working_dir)"
      ],
      "execution_count": null,
      "outputs": []
    },
    {
      "cell_type": "code",
      "metadata": {
        "id": "FkcuUDsFkd4_"
      },
      "source": [
        "from torchvision.datasets import Omniglot\n",
        "from torch.utils.data import Dataset, DataLoader\n",
        "import numpy as np\n",
        "import random\n",
        "import logging\n",
        "from tqdm import tqdm"
      ],
      "execution_count": null,
      "outputs": []
    },
    {
      "cell_type": "code",
      "metadata": {
        "colab": {
          "base_uri": "https://localhost:8080/"
        },
        "id": "vQrdco5Xkd3U",
        "outputId": "ce5eeaf7-3efb-45e5-9f95-3067ef5002d1"
      },
      "source": [
        "ds = Omniglot(root='./data', download=True, transform=np.array)"
      ],
      "execution_count": null,
      "outputs": [
        {
          "output_type": "stream",
          "text": [
            "Files already downloaded and verified\n"
          ],
          "name": "stdout"
        }
      ]
    },
    {
      "cell_type": "code",
      "metadata": {
        "id": "AQH1IZjXCdCo"
      },
      "source": [
        "# https://github.com/Rhcsky/siamese-one-shot-pytorch/blob/main/data_loader.py\n",
        "\n",
        "class OmniglotDS(Dataset):\n",
        "  def __init__(self, ds):\n",
        "    super(OmniglotDS, self).__init__()\n",
        "    self.ds = ds\n",
        "    self.mean = 0.8444\n",
        "    self.std = 0.5329\n",
        "\n",
        "  def __len__(self):\n",
        "    return len(self.ds)\n",
        "\n",
        "  def __getitem__(self, idx):\n",
        "    img1, cls1 = random.choice(self.ds)\n",
        "    img2, cls2 = random.choice(self.ds)\n",
        "\n",
        "    # if they are from same class\n",
        "    if idx % 2 == 1:\n",
        "      label = 1.0\n",
        "      while cls1 != cls2:\n",
        "        print('Found Same')\n",
        "        idx1 = random.randint(0, len(self.ds))\n",
        "        img2, cls2 = self.ds[idx1] # random.choice(self.ds)\n",
        "    # they are from different class\n",
        "    else:\n",
        "      label = 0.0\n",
        "      while cls1 == cls2:\n",
        "        print('Found Same')\n",
        "        idx2 = random.randint(0, len(self.ds))\n",
        "        img2, cls2 = self.ds[idx2] # random.choice(self.ds)\n",
        "\n",
        "    return {\n",
        "        'img1': torch.from_numpy(img1),\n",
        "        'img2': torch.from_numpy(img2),\n",
        "        'label': torch.from_numpy(np.array(label, dtype=np.float32))\n",
        "    }\n",
        "\n"
      ],
      "execution_count": null,
      "outputs": []
    },
    {
      "cell_type": "code",
      "metadata": {
        "id": "--eNnp4ykd2t"
      },
      "source": [
        "dl = DataLoader(OmniglotDS(ds), batch_size=128)"
      ],
      "execution_count": null,
      "outputs": []
    },
    {
      "cell_type": "code",
      "metadata": {
        "id": "U6BMJd6LNfG2"
      },
      "source": [
        "len(ds)"
      ],
      "execution_count": null,
      "outputs": []
    },
    {
      "cell_type": "code",
      "metadata": {
        "id": "_ZSInlKmJl63"
      },
      "source": [
        "# for x in ds:\n",
        "  # print(x[1])\n",
        "  \n",
        "# print([y[1] for y in tqdm(list(ds)[:100])])\n",
        "l = []\n",
        "for item in tqdm(range(200)):\n",
        "  idx = random.randint(0, len(ds))\n",
        "  l.append(ds[idx][1])\n",
        "\n",
        "print(l)"
      ],
      "execution_count": null,
      "outputs": []
    },
    {
      "cell_type": "code",
      "metadata": {
        "id": "tFXs-EZ_ozun"
      },
      "source": [
        "# our data is of required shape as we wanted\n",
        "\n",
        "for x in dl:\n",
        "  for y in x:\n",
        "    print(type(y), y.shape)\n",
        "  break"
      ],
      "execution_count": null,
      "outputs": []
    },
    {
      "cell_type": "code",
      "metadata": {
        "id": "cFhCzu-7pazJ"
      },
      "source": [
        ""
      ],
      "execution_count": null,
      "outputs": []
    },
    {
      "cell_type": "markdown",
      "metadata": {
        "id": "mizEVpSrDYse"
      },
      "source": [
        "## Loss & optimizers\n",
        "\n",
        "- Binary Cross Entropy Loss with L2 Norm"
      ]
    },
    {
      "cell_type": "code",
      "metadata": {
        "id": "0GoTQD7xE4FI"
      },
      "source": [
        "from torch.optim import Adam\n",
        "from torchsummary import summary\n"
      ],
      "execution_count": null,
      "outputs": []
    },
    {
      "cell_type": "code",
      "metadata": {
        "colab": {
          "base_uri": "https://localhost:8080/"
        },
        "id": "bywb-EbVJ-jK",
        "outputId": "a1767ba6-8185-4e76-a47e-2e514068610b"
      },
      "source": [
        "model.apply(init_weights)"
      ],
      "execution_count": null,
      "outputs": [
        {
          "output_type": "execute_result",
          "data": {
            "text/plain": [
              "SiameseNet(\n",
              "  (feat): FeatExt(\n",
              "    (cnn1): Conv2d(1, 64, kernel_size=(10, 10), stride=(1, 1))\n",
              "    (relu1): ReLU()\n",
              "    (max_pool1): MaxPool2d(kernel_size=2, stride=2, padding=0, dilation=1, ceil_mode=False)\n",
              "    (cnn2): Conv2d(64, 128, kernel_size=(7, 7), stride=(1, 1))\n",
              "    (relu2): ReLU()\n",
              "    (max_pool2): MaxPool2d(kernel_size=2, stride=2, padding=0, dilation=1, ceil_mode=False)\n",
              "    (cnn3): Conv2d(128, 128, kernel_size=(4, 4), stride=(1, 1))\n",
              "    (relu3): ReLU()\n",
              "    (max_pool3): MaxPool2d(kernel_size=2, stride=2, padding=0, dilation=1, ceil_mode=False)\n",
              "    (cnn4): Conv2d(128, 256, kernel_size=(4, 4), stride=(1, 1))\n",
              "    (relu4): ReLU()\n",
              "    (fc1): Linear(in_features=9216, out_features=4096, bias=True)\n",
              "    (sigmoid1): Sigmoid()\n",
              "    (fc2): Linear(in_features=4096, out_features=1, bias=True)\n",
              "    (sigmoid2): Sigmoid()\n",
              "  )\n",
              "  (fc): Linear(in_features=4096, out_features=1, bias=True)\n",
              "  (sigmoid): Sigmoid()\n",
              ")"
            ]
          },
          "metadata": {
            "tags": []
          },
          "execution_count": 60
        }
      ]
    },
    {
      "cell_type": "code",
      "metadata": {
        "id": "J8-LvR2DDfon"
      },
      "source": [
        "criterian = nn.BCELoss()\n",
        "optimizer = Adam(model.parameters(), weight_decay=0.1)"
      ],
      "execution_count": null,
      "outputs": []
    },
    {
      "cell_type": "code",
      "metadata": {
        "colab": {
          "base_uri": "https://localhost:8080/"
        },
        "id": "WQ8sKm4XKAaL",
        "outputId": "11be5782-445b-4b7d-f9ff-cc629d1029f0"
      },
      "source": [
        "summary(model, (1, 105, 105))"
      ],
      "execution_count": null,
      "outputs": [
        {
          "output_type": "stream",
          "text": [
            "----------------------------------------------------------------\n",
            "        Layer (type)               Output Shape         Param #\n",
            "================================================================\n",
            "            Conv2d-1           [-1, 64, 96, 96]           6,464\n",
            "              ReLU-2           [-1, 64, 96, 96]               0\n",
            "         MaxPool2d-3           [-1, 64, 48, 48]               0\n",
            "            Conv2d-4          [-1, 128, 42, 42]         401,536\n",
            "              ReLU-5          [-1, 128, 42, 42]               0\n",
            "         MaxPool2d-6          [-1, 128, 21, 21]               0\n",
            "            Conv2d-7          [-1, 128, 18, 18]         262,272\n",
            "              ReLU-8          [-1, 128, 18, 18]               0\n",
            "         MaxPool2d-9            [-1, 128, 9, 9]               0\n",
            "           Conv2d-10            [-1, 256, 6, 6]         524,544\n",
            "             ReLU-11            [-1, 256, 6, 6]               0\n",
            "           Linear-12                 [-1, 4096]      37,752,832\n",
            "          Sigmoid-13                 [-1, 4096]               0\n",
            "          FeatExt-14                 [-1, 4096]               0\n",
            "           Conv2d-15           [-1, 64, 96, 96]           6,464\n",
            "             ReLU-16           [-1, 64, 96, 96]               0\n",
            "        MaxPool2d-17           [-1, 64, 48, 48]               0\n",
            "           Conv2d-18          [-1, 128, 42, 42]         401,536\n",
            "             ReLU-19          [-1, 128, 42, 42]               0\n",
            "        MaxPool2d-20          [-1, 128, 21, 21]               0\n",
            "           Conv2d-21          [-1, 128, 18, 18]         262,272\n",
            "             ReLU-22          [-1, 128, 18, 18]               0\n",
            "        MaxPool2d-23            [-1, 128, 9, 9]               0\n",
            "           Conv2d-24            [-1, 256, 6, 6]         524,544\n",
            "             ReLU-25            [-1, 256, 6, 6]               0\n",
            "           Linear-26                 [-1, 4096]      37,752,832\n",
            "          Sigmoid-27                 [-1, 4096]               0\n",
            "          FeatExt-28                 [-1, 4096]               0\n",
            "           Linear-29                    [-1, 1]           4,097\n",
            "          Sigmoid-30                    [-1, 1]               0\n",
            "================================================================\n",
            "Total params: 77,899,393\n",
            "Trainable params: 77,899,393\n",
            "Non-trainable params: 0\n",
            "----------------------------------------------------------------\n",
            "Input size (MB): 0.04\n",
            "Forward/backward pass size (MB): 29.89\n",
            "Params size (MB): 297.16\n",
            "Estimated Total Size (MB): 327.10\n",
            "----------------------------------------------------------------\n"
          ],
          "name": "stdout"
        }
      ]
    },
    {
      "cell_type": "markdown",
      "metadata": {
        "id": "ocoh3dscKGng"
      },
      "source": [
        "## Training Loop \n",
        "\n",
        "- LR Schedular"
      ]
    },
    {
      "cell_type": "code",
      "metadata": {
        "id": "DgcYuyNTKGUB"
      },
      "source": [
        "NUM_EPOCH = 10"
      ],
      "execution_count": null,
      "outputs": []
    },
    {
      "cell_type": "code",
      "metadata": {
        "id": "RqLrTzPbKGTD"
      },
      "source": [
        "for "
      ],
      "execution_count": null,
      "outputs": []
    },
    {
      "cell_type": "markdown",
      "metadata": {
        "id": "Wbybo3VOERWY"
      },
      "source": [
        "## Rough"
      ]
    },
    {
      "cell_type": "code",
      "metadata": {
        "colab": {
          "base_uri": "https://localhost:8080/"
        },
        "id": "8RRgSTNkESrO",
        "outputId": "062d8758-4c39-4ef6-8875-94cf5588a289"
      },
      "source": [
        "l = nn.BCELoss()\n",
        "\n",
        "x, y = torch.tensor([[0.01]]), torch.tensor([[1.0]])\n",
        "print(x, y, l(x, y))"
      ],
      "execution_count": null,
      "outputs": [
        {
          "output_type": "stream",
          "text": [
            "tensor([[0.0100]]) tensor([[1.]]) tensor(4.6052)\n"
          ],
          "name": "stdout"
        }
      ]
    },
    {
      "cell_type": "code",
      "metadata": {
        "id": "RCYSP0uSEU4h"
      },
      "source": [
        ""
      ],
      "execution_count": null,
      "outputs": []
    }
  ]
}