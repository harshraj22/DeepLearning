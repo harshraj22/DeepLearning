{
  "nbformat": 4,
  "nbformat_minor": 0,
  "metadata": {
    "colab": {
      "name": "Siamese_Network.ipynb",
      "provenance": []
    },
    "kernelspec": {
      "name": "python3",
      "display_name": "Python 3"
    },
    "language_info": {
      "name": "python"
    },
    "accelerator": "GPU",
    "widgets": {
      "application/vnd.jupyter.widget-state+json": {
        "eb28800e0a914bf996f2eb39b517a915": {
          "model_module": "@jupyter-widgets/controls",
          "model_name": "HBoxModel",
          "state": {
            "_view_name": "HBoxView",
            "_dom_classes": [],
            "_model_name": "HBoxModel",
            "_view_module": "@jupyter-widgets/controls",
            "_model_module_version": "1.5.0",
            "_view_count": null,
            "_view_module_version": "1.5.0",
            "box_style": "",
            "layout": "IPY_MODEL_61ba0124679a47ddb6f711e90d69882b",
            "_model_module": "@jupyter-widgets/controls",
            "children": [
              "IPY_MODEL_4d69ad11beef42b38a28029bc0600db1",
              "IPY_MODEL_ed5dc3f8e2ee42cd94196b5d2c8c7450"
            ]
          }
        },
        "61ba0124679a47ddb6f711e90d69882b": {
          "model_module": "@jupyter-widgets/base",
          "model_name": "LayoutModel",
          "state": {
            "_view_name": "LayoutView",
            "grid_template_rows": null,
            "right": null,
            "justify_content": null,
            "_view_module": "@jupyter-widgets/base",
            "overflow": null,
            "_model_module_version": "1.2.0",
            "_view_count": null,
            "flex_flow": null,
            "width": null,
            "min_width": null,
            "border": null,
            "align_items": null,
            "bottom": null,
            "_model_module": "@jupyter-widgets/base",
            "top": null,
            "grid_column": null,
            "overflow_y": null,
            "overflow_x": null,
            "grid_auto_flow": null,
            "grid_area": null,
            "grid_template_columns": null,
            "flex": null,
            "_model_name": "LayoutModel",
            "justify_items": null,
            "grid_row": null,
            "max_height": null,
            "align_content": null,
            "visibility": null,
            "align_self": null,
            "height": null,
            "min_height": null,
            "padding": null,
            "grid_auto_rows": null,
            "grid_gap": null,
            "max_width": null,
            "order": null,
            "_view_module_version": "1.2.0",
            "grid_template_areas": null,
            "object_position": null,
            "object_fit": null,
            "grid_auto_columns": null,
            "margin": null,
            "display": null,
            "left": null
          }
        },
        "4d69ad11beef42b38a28029bc0600db1": {
          "model_module": "@jupyter-widgets/controls",
          "model_name": "FloatProgressModel",
          "state": {
            "_view_name": "ProgressView",
            "style": "IPY_MODEL_7f927f0d2fae4ebf9c7d5933c7904209",
            "_dom_classes": [],
            "description": "Iterating over omniglot: 100%",
            "_model_name": "FloatProgressModel",
            "bar_style": "success",
            "max": 1000,
            "_view_module": "@jupyter-widgets/controls",
            "_model_module_version": "1.5.0",
            "value": 1000,
            "_view_count": null,
            "_view_module_version": "1.5.0",
            "orientation": "horizontal",
            "min": 0,
            "description_tooltip": null,
            "_model_module": "@jupyter-widgets/controls",
            "layout": "IPY_MODEL_f904ae85b4524137b0f4b883bbaa61fd"
          }
        },
        "ed5dc3f8e2ee42cd94196b5d2c8c7450": {
          "model_module": "@jupyter-widgets/controls",
          "model_name": "HTMLModel",
          "state": {
            "_view_name": "HTMLView",
            "style": "IPY_MODEL_65b86b0902fd496d93af3e0424471642",
            "_dom_classes": [],
            "description": "",
            "_model_name": "HTMLModel",
            "placeholder": "​",
            "_view_module": "@jupyter-widgets/controls",
            "_model_module_version": "1.5.0",
            "value": " 1000/1000 [01:56&lt;00:00,  8.56it/s]",
            "_view_count": null,
            "_view_module_version": "1.5.0",
            "description_tooltip": null,
            "_model_module": "@jupyter-widgets/controls",
            "layout": "IPY_MODEL_190644a12e214a9680d2075052f14580"
          }
        },
        "7f927f0d2fae4ebf9c7d5933c7904209": {
          "model_module": "@jupyter-widgets/controls",
          "model_name": "ProgressStyleModel",
          "state": {
            "_view_name": "StyleView",
            "_model_name": "ProgressStyleModel",
            "description_width": "initial",
            "_view_module": "@jupyter-widgets/base",
            "_model_module_version": "1.5.0",
            "_view_count": null,
            "_view_module_version": "1.2.0",
            "bar_color": null,
            "_model_module": "@jupyter-widgets/controls"
          }
        },
        "f904ae85b4524137b0f4b883bbaa61fd": {
          "model_module": "@jupyter-widgets/base",
          "model_name": "LayoutModel",
          "state": {
            "_view_name": "LayoutView",
            "grid_template_rows": null,
            "right": null,
            "justify_content": null,
            "_view_module": "@jupyter-widgets/base",
            "overflow": null,
            "_model_module_version": "1.2.0",
            "_view_count": null,
            "flex_flow": null,
            "width": null,
            "min_width": null,
            "border": null,
            "align_items": null,
            "bottom": null,
            "_model_module": "@jupyter-widgets/base",
            "top": null,
            "grid_column": null,
            "overflow_y": null,
            "overflow_x": null,
            "grid_auto_flow": null,
            "grid_area": null,
            "grid_template_columns": null,
            "flex": null,
            "_model_name": "LayoutModel",
            "justify_items": null,
            "grid_row": null,
            "max_height": null,
            "align_content": null,
            "visibility": null,
            "align_self": null,
            "height": null,
            "min_height": null,
            "padding": null,
            "grid_auto_rows": null,
            "grid_gap": null,
            "max_width": null,
            "order": null,
            "_view_module_version": "1.2.0",
            "grid_template_areas": null,
            "object_position": null,
            "object_fit": null,
            "grid_auto_columns": null,
            "margin": null,
            "display": null,
            "left": null
          }
        },
        "65b86b0902fd496d93af3e0424471642": {
          "model_module": "@jupyter-widgets/controls",
          "model_name": "DescriptionStyleModel",
          "state": {
            "_view_name": "StyleView",
            "_model_name": "DescriptionStyleModel",
            "description_width": "",
            "_view_module": "@jupyter-widgets/base",
            "_model_module_version": "1.5.0",
            "_view_count": null,
            "_view_module_version": "1.2.0",
            "_model_module": "@jupyter-widgets/controls"
          }
        },
        "190644a12e214a9680d2075052f14580": {
          "model_module": "@jupyter-widgets/base",
          "model_name": "LayoutModel",
          "state": {
            "_view_name": "LayoutView",
            "grid_template_rows": null,
            "right": null,
            "justify_content": null,
            "_view_module": "@jupyter-widgets/base",
            "overflow": null,
            "_model_module_version": "1.2.0",
            "_view_count": null,
            "flex_flow": null,
            "width": null,
            "min_width": null,
            "border": null,
            "align_items": null,
            "bottom": null,
            "_model_module": "@jupyter-widgets/base",
            "top": null,
            "grid_column": null,
            "overflow_y": null,
            "overflow_x": null,
            "grid_auto_flow": null,
            "grid_area": null,
            "grid_template_columns": null,
            "flex": null,
            "_model_name": "LayoutModel",
            "justify_items": null,
            "grid_row": null,
            "max_height": null,
            "align_content": null,
            "visibility": null,
            "align_self": null,
            "height": null,
            "min_height": null,
            "padding": null,
            "grid_auto_rows": null,
            "grid_gap": null,
            "max_width": null,
            "order": null,
            "_view_module_version": "1.2.0",
            "grid_template_areas": null,
            "object_position": null,
            "object_fit": null,
            "grid_auto_columns": null,
            "margin": null,
            "display": null,
            "left": null
          }
        },
        "38492ca66381477e8fedbc33b8740960": {
          "model_module": "@jupyter-widgets/controls",
          "model_name": "HBoxModel",
          "state": {
            "_view_name": "HBoxView",
            "_dom_classes": [],
            "_model_name": "HBoxModel",
            "_view_module": "@jupyter-widgets/controls",
            "_model_module_version": "1.5.0",
            "_view_count": null,
            "_view_module_version": "1.5.0",
            "box_style": "",
            "layout": "IPY_MODEL_2b240708945240dfb17788325447b062",
            "_model_module": "@jupyter-widgets/controls",
            "children": [
              "IPY_MODEL_cfb16e08df02440385f784fccdb0951a",
              "IPY_MODEL_01d8e32d70d749b8b78c12b330b614cc"
            ]
          }
        },
        "2b240708945240dfb17788325447b062": {
          "model_module": "@jupyter-widgets/base",
          "model_name": "LayoutModel",
          "state": {
            "_view_name": "LayoutView",
            "grid_template_rows": null,
            "right": null,
            "justify_content": null,
            "_view_module": "@jupyter-widgets/base",
            "overflow": null,
            "_model_module_version": "1.2.0",
            "_view_count": null,
            "flex_flow": null,
            "width": null,
            "min_width": null,
            "border": null,
            "align_items": null,
            "bottom": null,
            "_model_module": "@jupyter-widgets/base",
            "top": null,
            "grid_column": null,
            "overflow_y": null,
            "overflow_x": null,
            "grid_auto_flow": null,
            "grid_area": null,
            "grid_template_columns": null,
            "flex": null,
            "_model_name": "LayoutModel",
            "justify_items": null,
            "grid_row": null,
            "max_height": null,
            "align_content": null,
            "visibility": null,
            "align_self": null,
            "height": null,
            "min_height": null,
            "padding": null,
            "grid_auto_rows": null,
            "grid_gap": null,
            "max_width": null,
            "order": null,
            "_view_module_version": "1.2.0",
            "grid_template_areas": null,
            "object_position": null,
            "object_fit": null,
            "grid_auto_columns": null,
            "margin": null,
            "display": null,
            "left": null
          }
        },
        "cfb16e08df02440385f784fccdb0951a": {
          "model_module": "@jupyter-widgets/controls",
          "model_name": "FloatProgressModel",
          "state": {
            "_view_name": "ProgressView",
            "style": "IPY_MODEL_643873a001ca4f9cb3bcaa24b7ec7d0d",
            "_dom_classes": [],
            "description": "Iterating over omniglot: 100%",
            "_model_name": "FloatProgressModel",
            "bar_style": "success",
            "max": 1000,
            "_view_module": "@jupyter-widgets/controls",
            "_model_module_version": "1.5.0",
            "value": 1000,
            "_view_count": null,
            "_view_module_version": "1.5.0",
            "orientation": "horizontal",
            "min": 0,
            "description_tooltip": null,
            "_model_module": "@jupyter-widgets/controls",
            "layout": "IPY_MODEL_db2cbe58f8ed4cb1b28ef5dd63e78bfc"
          }
        },
        "01d8e32d70d749b8b78c12b330b614cc": {
          "model_module": "@jupyter-widgets/controls",
          "model_name": "HTMLModel",
          "state": {
            "_view_name": "HTMLView",
            "style": "IPY_MODEL_3f7ac173978c41508405438d574f2f31",
            "_dom_classes": [],
            "description": "",
            "_model_name": "HTMLModel",
            "placeholder": "​",
            "_view_module": "@jupyter-widgets/controls",
            "_model_module_version": "1.5.0",
            "value": " 1000/1000 [01:55&lt;00:00,  8.63it/s]",
            "_view_count": null,
            "_view_module_version": "1.5.0",
            "description_tooltip": null,
            "_model_module": "@jupyter-widgets/controls",
            "layout": "IPY_MODEL_46f624c0baa64ca7b2b19ff1b13a9ae3"
          }
        },
        "643873a001ca4f9cb3bcaa24b7ec7d0d": {
          "model_module": "@jupyter-widgets/controls",
          "model_name": "ProgressStyleModel",
          "state": {
            "_view_name": "StyleView",
            "_model_name": "ProgressStyleModel",
            "description_width": "initial",
            "_view_module": "@jupyter-widgets/base",
            "_model_module_version": "1.5.0",
            "_view_count": null,
            "_view_module_version": "1.2.0",
            "bar_color": null,
            "_model_module": "@jupyter-widgets/controls"
          }
        },
        "db2cbe58f8ed4cb1b28ef5dd63e78bfc": {
          "model_module": "@jupyter-widgets/base",
          "model_name": "LayoutModel",
          "state": {
            "_view_name": "LayoutView",
            "grid_template_rows": null,
            "right": null,
            "justify_content": null,
            "_view_module": "@jupyter-widgets/base",
            "overflow": null,
            "_model_module_version": "1.2.0",
            "_view_count": null,
            "flex_flow": null,
            "width": null,
            "min_width": null,
            "border": null,
            "align_items": null,
            "bottom": null,
            "_model_module": "@jupyter-widgets/base",
            "top": null,
            "grid_column": null,
            "overflow_y": null,
            "overflow_x": null,
            "grid_auto_flow": null,
            "grid_area": null,
            "grid_template_columns": null,
            "flex": null,
            "_model_name": "LayoutModel",
            "justify_items": null,
            "grid_row": null,
            "max_height": null,
            "align_content": null,
            "visibility": null,
            "align_self": null,
            "height": null,
            "min_height": null,
            "padding": null,
            "grid_auto_rows": null,
            "grid_gap": null,
            "max_width": null,
            "order": null,
            "_view_module_version": "1.2.0",
            "grid_template_areas": null,
            "object_position": null,
            "object_fit": null,
            "grid_auto_columns": null,
            "margin": null,
            "display": null,
            "left": null
          }
        },
        "3f7ac173978c41508405438d574f2f31": {
          "model_module": "@jupyter-widgets/controls",
          "model_name": "DescriptionStyleModel",
          "state": {
            "_view_name": "StyleView",
            "_model_name": "DescriptionStyleModel",
            "description_width": "",
            "_view_module": "@jupyter-widgets/base",
            "_model_module_version": "1.5.0",
            "_view_count": null,
            "_view_module_version": "1.2.0",
            "_model_module": "@jupyter-widgets/controls"
          }
        },
        "46f624c0baa64ca7b2b19ff1b13a9ae3": {
          "model_module": "@jupyter-widgets/base",
          "model_name": "LayoutModel",
          "state": {
            "_view_name": "LayoutView",
            "grid_template_rows": null,
            "right": null,
            "justify_content": null,
            "_view_module": "@jupyter-widgets/base",
            "overflow": null,
            "_model_module_version": "1.2.0",
            "_view_count": null,
            "flex_flow": null,
            "width": null,
            "min_width": null,
            "border": null,
            "align_items": null,
            "bottom": null,
            "_model_module": "@jupyter-widgets/base",
            "top": null,
            "grid_column": null,
            "overflow_y": null,
            "overflow_x": null,
            "grid_auto_flow": null,
            "grid_area": null,
            "grid_template_columns": null,
            "flex": null,
            "_model_name": "LayoutModel",
            "justify_items": null,
            "grid_row": null,
            "max_height": null,
            "align_content": null,
            "visibility": null,
            "align_self": null,
            "height": null,
            "min_height": null,
            "padding": null,
            "grid_auto_rows": null,
            "grid_gap": null,
            "max_width": null,
            "order": null,
            "_view_module_version": "1.2.0",
            "grid_template_areas": null,
            "object_position": null,
            "object_fit": null,
            "grid_auto_columns": null,
            "margin": null,
            "display": null,
            "left": null
          }
        },
        "493d05206e74478a82183fd6c0a44559": {
          "model_module": "@jupyter-widgets/controls",
          "model_name": "HBoxModel",
          "state": {
            "_view_name": "HBoxView",
            "_dom_classes": [],
            "_model_name": "HBoxModel",
            "_view_module": "@jupyter-widgets/controls",
            "_model_module_version": "1.5.0",
            "_view_count": null,
            "_view_module_version": "1.5.0",
            "box_style": "",
            "layout": "IPY_MODEL_3a2a25bf04324428bbe834582d07c0a3",
            "_model_module": "@jupyter-widgets/controls",
            "children": [
              "IPY_MODEL_81ddfaf1d42949a89dc2ff3760f1e357",
              "IPY_MODEL_089d979631d64945a842148dfa9b8808"
            ]
          }
        },
        "3a2a25bf04324428bbe834582d07c0a3": {
          "model_module": "@jupyter-widgets/base",
          "model_name": "LayoutModel",
          "state": {
            "_view_name": "LayoutView",
            "grid_template_rows": null,
            "right": null,
            "justify_content": null,
            "_view_module": "@jupyter-widgets/base",
            "overflow": null,
            "_model_module_version": "1.2.0",
            "_view_count": null,
            "flex_flow": null,
            "width": null,
            "min_width": null,
            "border": null,
            "align_items": null,
            "bottom": null,
            "_model_module": "@jupyter-widgets/base",
            "top": null,
            "grid_column": null,
            "overflow_y": null,
            "overflow_x": null,
            "grid_auto_flow": null,
            "grid_area": null,
            "grid_template_columns": null,
            "flex": null,
            "_model_name": "LayoutModel",
            "justify_items": null,
            "grid_row": null,
            "max_height": null,
            "align_content": null,
            "visibility": null,
            "align_self": null,
            "height": null,
            "min_height": null,
            "padding": null,
            "grid_auto_rows": null,
            "grid_gap": null,
            "max_width": null,
            "order": null,
            "_view_module_version": "1.2.0",
            "grid_template_areas": null,
            "object_position": null,
            "object_fit": null,
            "grid_auto_columns": null,
            "margin": null,
            "display": null,
            "left": null
          }
        },
        "81ddfaf1d42949a89dc2ff3760f1e357": {
          "model_module": "@jupyter-widgets/controls",
          "model_name": "FloatProgressModel",
          "state": {
            "_view_name": "ProgressView",
            "style": "IPY_MODEL_845ac8d23af445beb5974f98c13daa9f",
            "_dom_classes": [],
            "description": "Training...: 100%",
            "_model_name": "FloatProgressModel",
            "bar_style": "success",
            "max": 300,
            "_view_module": "@jupyter-widgets/controls",
            "_model_module_version": "1.5.0",
            "value": 300,
            "_view_count": null,
            "_view_module_version": "1.5.0",
            "orientation": "horizontal",
            "min": 0,
            "description_tooltip": null,
            "_model_module": "@jupyter-widgets/controls",
            "layout": "IPY_MODEL_32e513ad0609440f8c4c1af9c00bf4a3"
          }
        },
        "089d979631d64945a842148dfa9b8808": {
          "model_module": "@jupyter-widgets/controls",
          "model_name": "HTMLModel",
          "state": {
            "_view_name": "HTMLView",
            "style": "IPY_MODEL_6390c42f13f44f1a90d36a30ae8f0afd",
            "_dom_classes": [],
            "description": "",
            "_model_name": "HTMLModel",
            "placeholder": "​",
            "_view_module": "@jupyter-widgets/controls",
            "_model_module_version": "1.5.0",
            "value": " 300/300 [10:27&lt;00:00,  2.09s/it]",
            "_view_count": null,
            "_view_module_version": "1.5.0",
            "description_tooltip": null,
            "_model_module": "@jupyter-widgets/controls",
            "layout": "IPY_MODEL_82a35ba14a9548e6a40863fc7ab4e16d"
          }
        },
        "845ac8d23af445beb5974f98c13daa9f": {
          "model_module": "@jupyter-widgets/controls",
          "model_name": "ProgressStyleModel",
          "state": {
            "_view_name": "StyleView",
            "_model_name": "ProgressStyleModel",
            "description_width": "initial",
            "_view_module": "@jupyter-widgets/base",
            "_model_module_version": "1.5.0",
            "_view_count": null,
            "_view_module_version": "1.2.0",
            "bar_color": null,
            "_model_module": "@jupyter-widgets/controls"
          }
        },
        "32e513ad0609440f8c4c1af9c00bf4a3": {
          "model_module": "@jupyter-widgets/base",
          "model_name": "LayoutModel",
          "state": {
            "_view_name": "LayoutView",
            "grid_template_rows": null,
            "right": null,
            "justify_content": null,
            "_view_module": "@jupyter-widgets/base",
            "overflow": null,
            "_model_module_version": "1.2.0",
            "_view_count": null,
            "flex_flow": null,
            "width": null,
            "min_width": null,
            "border": null,
            "align_items": null,
            "bottom": null,
            "_model_module": "@jupyter-widgets/base",
            "top": null,
            "grid_column": null,
            "overflow_y": null,
            "overflow_x": null,
            "grid_auto_flow": null,
            "grid_area": null,
            "grid_template_columns": null,
            "flex": null,
            "_model_name": "LayoutModel",
            "justify_items": null,
            "grid_row": null,
            "max_height": null,
            "align_content": null,
            "visibility": null,
            "align_self": null,
            "height": null,
            "min_height": null,
            "padding": null,
            "grid_auto_rows": null,
            "grid_gap": null,
            "max_width": null,
            "order": null,
            "_view_module_version": "1.2.0",
            "grid_template_areas": null,
            "object_position": null,
            "object_fit": null,
            "grid_auto_columns": null,
            "margin": null,
            "display": null,
            "left": null
          }
        },
        "6390c42f13f44f1a90d36a30ae8f0afd": {
          "model_module": "@jupyter-widgets/controls",
          "model_name": "DescriptionStyleModel",
          "state": {
            "_view_name": "StyleView",
            "_model_name": "DescriptionStyleModel",
            "description_width": "",
            "_view_module": "@jupyter-widgets/base",
            "_model_module_version": "1.5.0",
            "_view_count": null,
            "_view_module_version": "1.2.0",
            "_model_module": "@jupyter-widgets/controls"
          }
        },
        "82a35ba14a9548e6a40863fc7ab4e16d": {
          "model_module": "@jupyter-widgets/base",
          "model_name": "LayoutModel",
          "state": {
            "_view_name": "LayoutView",
            "grid_template_rows": null,
            "right": null,
            "justify_content": null,
            "_view_module": "@jupyter-widgets/base",
            "overflow": null,
            "_model_module_version": "1.2.0",
            "_view_count": null,
            "flex_flow": null,
            "width": null,
            "min_width": null,
            "border": null,
            "align_items": null,
            "bottom": null,
            "_model_module": "@jupyter-widgets/base",
            "top": null,
            "grid_column": null,
            "overflow_y": null,
            "overflow_x": null,
            "grid_auto_flow": null,
            "grid_area": null,
            "grid_template_columns": null,
            "flex": null,
            "_model_name": "LayoutModel",
            "justify_items": null,
            "grid_row": null,
            "max_height": null,
            "align_content": null,
            "visibility": null,
            "align_self": null,
            "height": null,
            "min_height": null,
            "padding": null,
            "grid_auto_rows": null,
            "grid_gap": null,
            "max_width": null,
            "order": null,
            "_view_module_version": "1.2.0",
            "grid_template_areas": null,
            "object_position": null,
            "object_fit": null,
            "grid_auto_columns": null,
            "margin": null,
            "display": null,
            "left": null
          }
        }
      }
    }
  },
  "cells": [
    {
      "cell_type": "markdown",
      "metadata": {
        "id": "bYi4fvHr_brl"
      },
      "source": [
        "# [Siamese Neural Networks for One-shot Image Recognition](https://www.cs.cmu.edu/~rsalakhu/papers/oneshot1.pdf)\n",
        "\n",
        "A Pytorch Implementation"
      ]
    },
    {
      "cell_type": "code",
      "metadata": {
        "colab": {
          "base_uri": "https://localhost:8080/"
        },
        "id": "7zdN5AIzBGim",
        "outputId": "087b61a9-fc9a-4404-97d8-4feb462ba288"
      },
      "source": [
        "! pip install torchscan"
      ],
      "execution_count": 1,
      "outputs": [
        {
          "output_type": "stream",
          "text": [
            "Collecting torchscan\n",
            "  Downloading https://files.pythonhosted.org/packages/30/8f/0f255453c3c44990cb879574ac023f7484acfb225d7f17468cbebc65bf01/torchscan-0.1.1-py3-none-any.whl\n",
            "Requirement already satisfied: torch>=1.1.0 in /usr/local/lib/python3.7/dist-packages (from torchscan) (1.9.0+cu102)\n",
            "Requirement already satisfied: typing-extensions in /usr/local/lib/python3.7/dist-packages (from torch>=1.1.0->torchscan) (3.7.4.3)\n",
            "Installing collected packages: torchscan\n",
            "Successfully installed torchscan-0.1.1\n"
          ],
          "name": "stdout"
        }
      ]
    },
    {
      "cell_type": "code",
      "metadata": {
        "id": "bs6uY9OIkbdb"
      },
      "source": [
        "# https://www.cs.cmu.edu/~rsalakhu/papers/oneshot1.pdf\n",
        "\n",
        "import torch\n",
        "import torch.nn as nn\n",
        "import warnings\n",
        "warnings.filterwarnings('ignore')"
      ],
      "execution_count": 2,
      "outputs": []
    },
    {
      "cell_type": "code",
      "metadata": {
        "id": "hL7Y8VLVkPmt"
      },
      "source": [
        "# To be used as the feature extractor, in order to compare the features\n",
        "\n",
        "class FeatExt(nn.Module):\n",
        "    def __init__(self):\n",
        "        super(FeatExt, self).__init__()\n",
        "\n",
        "        # input.shape: (1, 105, 105)\n",
        "\n",
        "        self.cnn1 = nn.Conv2d(1, 64, kernel_size=10) # (1, 105, 105) -> (64, 96, 96)\n",
        "        self.relu1 = nn.ReLU()\n",
        "\n",
        "        # feature maps.shape: (64, 96, 96)\n",
        "        self.max_pool1 = nn.MaxPool2d(kernel_size=2) # (64, 96, 96) -> (64, 48, 48)\n",
        "\n",
        "        # feature maps.shape: (64, 48, 48)\n",
        "        self.cnn2 = nn.Conv2d(64, 128, kernel_size=7) # (64, 48, 48) -> (128, 42, 42)\n",
        "        self.relu2 = nn.ReLU()\n",
        "\n",
        "        # feature maps.shape: (128, 42, 42)\n",
        "        self.max_pool2 = nn.MaxPool2d(kernel_size=2) # (128, 42, 42) -> (128, 21, 21)\n",
        "\n",
        "        # feature maps.shape: (128, 21, 21)\n",
        "        self.cnn3 = nn.Conv2d(128, 128, kernel_size=4) # (128, 21, 21) -> (128, 18, 18)\n",
        "        self.relu3 = nn.ReLU()\n",
        "\n",
        "        # feature maps.shape: (128, 18, 18)\n",
        "        self.max_pool3 = nn.MaxPool2d(kernel_size=2) # (128, 18, 18) -> (128, 9, 9)\n",
        "\n",
        "        # feature maps.shape: (128, 9, 9)\n",
        "        self.cnn4 = nn.Conv2d(128, 256, kernel_size=4) # (128, 9, 9) -> (256, 6, 6)\n",
        "        self.relu4 = nn.ReLU()\n",
        "\n",
        "        # feature maps.shape: (256, 6, 6)\n",
        "        # torch.flatten: (256, 6, 6) -> (9216)\n",
        "\n",
        "        # feature maps.shape: (9216)\n",
        "        self.fc1 = nn.Linear(9216, 4096) # (9216) -> (4096)\n",
        "        self.sigmoid1 = nn.Sigmoid()\n",
        "\n",
        "        # # feature maps.shape: (4096)\n",
        "        # self.fc2 = nn.Linear(4096, 1)\n",
        "        # self.sigmoid2 = nn.Sigmoid()\n",
        "\n",
        "\n",
        "    def forward(self, x):\n",
        "        x = self.max_pool1(self.relu1(self.cnn1(x)))\n",
        "\n",
        "        x = self.max_pool2(self.relu2(self.cnn2(x)))\n",
        "\n",
        "        x = self.max_pool3(self.relu3(self.cnn3(x)))\n",
        "\n",
        "        x = self.relu4(self.cnn4(x))\n",
        "\n",
        "        x = torch.flatten(x, start_dim=1)\n",
        "\n",
        "        x = self.sigmoid1(self.fc1(x))\n",
        "\n",
        "        # x = self.sigmoid2(self.fc2(x))\n",
        "\n",
        "        return x\n",
        "\n",
        "\n",
        "# if __name__ == '__main__':\n",
        "#     model = SiameseNet()\n",
        "#     batch_size = 5\n",
        "#     input = torch.rand(size=(batch_size, 1, 105, 105))\n",
        "#     out = model(input)\n",
        "#     print(input.shape, out.shape)\n",
        "#     assert tuple(out.shape) == (batch_size, 1)"
      ],
      "execution_count": 3,
      "outputs": []
    },
    {
      "cell_type": "code",
      "metadata": {
        "id": "InYxkyFZkalI"
      },
      "source": [
        "class SiameseNet(nn.Module):\n",
        "  def __init__(self):\n",
        "    super(SiameseNet, self).__init__()\n",
        "    self.feat = FeatExt()\n",
        "    \n",
        "    # feature maps.shape: (4096)\n",
        "    self.fc = nn.Linear(4096, 1)\n",
        "    self.sigmoid = nn.Sigmoid()\n",
        "\n",
        "  def forward(self, x1, x2):\n",
        "    x1 = self.feat(x1)\n",
        "    x2 = self.feat(x2)\n",
        "\n",
        "    return self.sigmoid(self.fc((x1-x2).abs()))"
      ],
      "execution_count": 4,
      "outputs": []
    },
    {
      "cell_type": "markdown",
      "metadata": {
        "id": "WkrTC_d4HnM4"
      },
      "source": [
        "#### Weight Initilization\n",
        "\n",
        "* They initialized all network weights\n",
        "in the convolutional layers from a normal distribution with\n",
        "zero-mean and a standard deviation of `10−2`\n",
        "* Biases were\n",
        "also initialized from a normal distribution, but with mean `0.5` and standard deviation `10−2`\n",
        "* In the fully-connected\n",
        "layers, the biases were initialized in the same way as the\n",
        "convolutional layers, but the weights were drawn from a\n",
        "much wider normal distribution with zero-mean and standard deviation `2 × 10−1`\n",
        "."
      ]
    },
    {
      "cell_type": "code",
      "metadata": {
        "id": "RNq9JJaWHt4D"
      },
      "source": [
        "def init_weights(m):\n",
        "  if type(m) == nn.Linear:\n",
        "    nn.init.normal_(m.weight, 0, 2e-1)\n",
        "    nn.init.normal_(m.bias, 0, 1e-2)\n",
        "  elif type(m) == nn.Conv2d:\n",
        "    nn.init.normal_(m.weight, 0, 1e-2)\n",
        "    nn.init.normal_(m.bias, 0.5, 1e-2)\n"
      ],
      "execution_count": 5,
      "outputs": []
    },
    {
      "cell_type": "code",
      "metadata": {
        "colab": {
          "base_uri": "https://localhost:8080/"
        },
        "id": "4Zp5n9_fAj5d",
        "outputId": "8073758f-af0d-4b60-9b6b-e0b8dbc26f64"
      },
      "source": [
        "# Just a quick check that every thing works as it should be\n",
        "\n",
        "model = SiameseNet()\n",
        "batch_size = 5\n",
        "input = torch.rand(size=(batch_size, 1, 105, 105))\n",
        "out = model(input, input)\n",
        "print(input.shape, out.shape)\n",
        "assert tuple(out.shape) == (batch_size, 1)"
      ],
      "execution_count": 6,
      "outputs": [
        {
          "output_type": "stream",
          "text": [
            "torch.Size([5, 1, 105, 105]) torch.Size([5, 1])\n"
          ],
          "name": "stdout"
        }
      ]
    },
    {
      "cell_type": "markdown",
      "metadata": {
        "id": "0NJFd1Qko9_h"
      },
      "source": [
        "## Getting & preparing the dataset"
      ]
    },
    {
      "cell_type": "code",
      "metadata": {
        "id": "cBL3dmVL7qxG"
      },
      "source": [
        "import os\n",
        "\n",
        "working_dir = '/content/drive/MyDrive/siamese_net'\n",
        "os.chdir(working_dir)"
      ],
      "execution_count": 7,
      "outputs": []
    },
    {
      "cell_type": "code",
      "metadata": {
        "id": "FkcuUDsFkd4_"
      },
      "source": [
        "from torchvision.datasets import Omniglot\n",
        "from torch.utils.data import Dataset, DataLoader\n",
        "import numpy as np\n",
        "import random\n",
        "import logging\n",
        "from tqdm.notebook import tqdm\n",
        "import matplotlib.pyplot as plt\n"
      ],
      "execution_count": 8,
      "outputs": []
    },
    {
      "cell_type": "code",
      "metadata": {
        "colab": {
          "base_uri": "https://localhost:8080/"
        },
        "id": "vQrdco5Xkd3U",
        "outputId": "6fc5e24f-41dc-481d-c4ad-9a51a059abc0"
      },
      "source": [
        "ds = Omniglot(root='./data', download=True, transform=np.array, background=True)"
      ],
      "execution_count": 9,
      "outputs": [
        {
          "output_type": "stream",
          "text": [
            "Files already downloaded and verified\n"
          ],
          "name": "stdout"
        }
      ]
    },
    {
      "cell_type": "code",
      "metadata": {
        "id": "AQH1IZjXCdCo"
      },
      "source": [
        "# https://github.com/Rhcsky/siamese-one-shot-pytorch/blob/main/data_loader.py\n",
        "\n",
        "from collections import defaultdict\n",
        "\n",
        "class OmniglotDS(Dataset):\n",
        "  def __init__(self, ds):\n",
        "    super(OmniglotDS, self).__init__()\n",
        "    self.ds = ds\n",
        "    self.mean = 0.8444\n",
        "    self.std = 0.5329\n",
        "    self.imgs = defaultdict(list)\n",
        "    \n",
        "    self.data = [ds[i] for i in range(1000)]\n",
        "    for img, label in tqdm(self.data, desc='Iterating over omniglot'):\n",
        "      self.imgs[label].append(img)\n",
        "\n",
        "  def __len__(self):\n",
        "    return len(self.data)\n",
        "\n",
        "  def __getitem__(self, idx):\n",
        "    img1, cls1 = random.choice(self.data)\n",
        "    # img2, cls2 = random.choice(self.ds)\n",
        "\n",
        "    # if they are from same class\n",
        "    if idx % 2 == 1:\n",
        "      label = 1.0\n",
        "      img2, cls2 = random.choice(self.imgs[cls1]), cls1\n",
        "      # while cls1 != cls2:\n",
        "      #   print('Found Same')\n",
        "      #   idx1 = random.randint(0, len(self.ds))\n",
        "      #   img2, cls2 = self.ds[idx1] # random.choice(self.ds)\n",
        "    # they are from different class\n",
        "    else:\n",
        "      label = 0.0\n",
        "      options = list(set(self.imgs.keys()) - {cls1})\n",
        "      # print(options, self.imgs.keys)\n",
        "      cls2 = random.choice(options)\n",
        "      img2 = random.choice(self.imgs[cls2])\n",
        "      # while cls1 == cls2:\n",
        "      #   print('Found Same')\n",
        "      #   idx2 = random.randint(0, len(self.ds))\n",
        "      #   img2, cls2 = self.ds[idx2] # random.choice(self.ds)\n",
        "    img1, img2 = np.array(img1, dtype=np.float32) / 255, np.array(img2, dtype=np.float32) / 255\n",
        "    img1 = np.expand_dims(img1, axis=0)\n",
        "    img2 = np.expand_dims(img2, axis=0)\n",
        "      # label = np.array([label], dtype=np.float32)\n",
        "      # print(f'Type of Label: {type(label)}')\n",
        "\n",
        "    return {\n",
        "        'img1': torch.from_numpy(img1),\n",
        "        'img2': torch.from_numpy(img2),\n",
        "        'label': torch.from_numpy(np.array([label], dtype=np.float32))\n",
        "    }\n",
        "\n"
      ],
      "execution_count": 10,
      "outputs": []
    },
    {
      "cell_type": "code",
      "metadata": {
        "id": "--eNnp4ykd2t",
        "colab": {
          "base_uri": "https://localhost:8080/",
          "height": 66,
          "referenced_widgets": [
            "eb28800e0a914bf996f2eb39b517a915",
            "61ba0124679a47ddb6f711e90d69882b",
            "4d69ad11beef42b38a28029bc0600db1",
            "ed5dc3f8e2ee42cd94196b5d2c8c7450",
            "7f927f0d2fae4ebf9c7d5933c7904209",
            "f904ae85b4524137b0f4b883bbaa61fd",
            "65b86b0902fd496d93af3e0424471642",
            "190644a12e214a9680d2075052f14580"
          ]
        },
        "outputId": "2bcb1be3-3ea2-44de-fd30-da190bf8b852"
      },
      "source": [
        "dl = DataLoader(OmniglotDS(ds), batch_size=128)"
      ],
      "execution_count": 11,
      "outputs": [
        {
          "output_type": "display_data",
          "data": {
            "application/vnd.jupyter.widget-view+json": {
              "model_id": "eb28800e0a914bf996f2eb39b517a915",
              "version_minor": 0,
              "version_major": 2
            },
            "text/plain": [
              "HBox(children=(FloatProgress(value=0.0, description='Iterating over omniglot', max=1000.0, style=ProgressStyle…"
            ]
          },
          "metadata": {
            "tags": []
          }
        },
        {
          "output_type": "stream",
          "text": [
            "\n"
          ],
          "name": "stdout"
        }
      ]
    },
    {
      "cell_type": "code",
      "metadata": {
        "id": "U6BMJd6LNfG2",
        "colab": {
          "base_uri": "https://localhost:8080/"
        },
        "outputId": "6a817a54-f8e0-48ef-efba-9ab298917d3c"
      },
      "source": [
        "len(dl)"
      ],
      "execution_count": 12,
      "outputs": [
        {
          "output_type": "execute_result",
          "data": {
            "text/plain": [
              "8"
            ]
          },
          "metadata": {
            "tags": []
          },
          "execution_count": 12
        }
      ]
    },
    {
      "cell_type": "code",
      "metadata": {
        "colab": {
          "base_uri": "https://localhost:8080/",
          "height": 83,
          "referenced_widgets": [
            "38492ca66381477e8fedbc33b8740960",
            "2b240708945240dfb17788325447b062",
            "cfb16e08df02440385f784fccdb0951a",
            "01d8e32d70d749b8b78c12b330b614cc",
            "643873a001ca4f9cb3bcaa24b7ec7d0d",
            "db2cbe58f8ed4cb1b28ef5dd63e78bfc",
            "3f7ac173978c41508405438d574f2f31",
            "46f624c0baa64ca7b2b19ff1b13a9ae3"
          ]
        },
        "id": "c_aPR_f5e0sL",
        "outputId": "8d02a11b-143f-4122-8468-41c3eb2f89f5"
      },
      "source": [
        "for x in OmniglotDS(ds):\n",
        "  print(x['img1'].shape, x['img2'].shape)\n",
        "  break"
      ],
      "execution_count": 13,
      "outputs": [
        {
          "output_type": "display_data",
          "data": {
            "application/vnd.jupyter.widget-view+json": {
              "model_id": "38492ca66381477e8fedbc33b8740960",
              "version_minor": 0,
              "version_major": 2
            },
            "text/plain": [
              "HBox(children=(FloatProgress(value=0.0, description='Iterating over omniglot', max=1000.0, style=ProgressStyle…"
            ]
          },
          "metadata": {
            "tags": []
          }
        },
        {
          "output_type": "stream",
          "text": [
            "\n",
            "torch.Size([1, 105, 105]) torch.Size([1, 105, 105])\n"
          ],
          "name": "stdout"
        }
      ]
    },
    {
      "cell_type": "code",
      "metadata": {
        "id": "8VaMOZhHe0qn"
      },
      "source": [
        ""
      ],
      "execution_count": null,
      "outputs": []
    },
    {
      "cell_type": "code",
      "metadata": {
        "id": "A4KkksbBe0pm"
      },
      "source": [
        ""
      ],
      "execution_count": null,
      "outputs": []
    },
    {
      "cell_type": "markdown",
      "metadata": {
        "id": "mizEVpSrDYse"
      },
      "source": [
        "## Loss & optimizers\n",
        "\n",
        "- Binary Cross Entropy Loss with L2 Norm"
      ]
    },
    {
      "cell_type": "code",
      "metadata": {
        "id": "0GoTQD7xE4FI"
      },
      "source": [
        "from torch.optim import Adam\n",
        "from torchsummary import summary\n"
      ],
      "execution_count": 14,
      "outputs": []
    },
    {
      "cell_type": "code",
      "metadata": {
        "colab": {
          "base_uri": "https://localhost:8080/"
        },
        "id": "bywb-EbVJ-jK",
        "outputId": "304ba844-d8a3-4efc-b4be-5c9d439e3a7a"
      },
      "source": [
        "model.apply(init_weights)"
      ],
      "execution_count": 15,
      "outputs": [
        {
          "output_type": "execute_result",
          "data": {
            "text/plain": [
              "SiameseNet(\n",
              "  (feat): FeatExt(\n",
              "    (cnn1): Conv2d(1, 64, kernel_size=(10, 10), stride=(1, 1))\n",
              "    (relu1): ReLU()\n",
              "    (max_pool1): MaxPool2d(kernel_size=2, stride=2, padding=0, dilation=1, ceil_mode=False)\n",
              "    (cnn2): Conv2d(64, 128, kernel_size=(7, 7), stride=(1, 1))\n",
              "    (relu2): ReLU()\n",
              "    (max_pool2): MaxPool2d(kernel_size=2, stride=2, padding=0, dilation=1, ceil_mode=False)\n",
              "    (cnn3): Conv2d(128, 128, kernel_size=(4, 4), stride=(1, 1))\n",
              "    (relu3): ReLU()\n",
              "    (max_pool3): MaxPool2d(kernel_size=2, stride=2, padding=0, dilation=1, ceil_mode=False)\n",
              "    (cnn4): Conv2d(128, 256, kernel_size=(4, 4), stride=(1, 1))\n",
              "    (relu4): ReLU()\n",
              "    (fc1): Linear(in_features=9216, out_features=4096, bias=True)\n",
              "    (sigmoid1): Sigmoid()\n",
              "  )\n",
              "  (fc): Linear(in_features=4096, out_features=1, bias=True)\n",
              "  (sigmoid): Sigmoid()\n",
              ")"
            ]
          },
          "metadata": {
            "tags": []
          },
          "execution_count": 15
        }
      ]
    },
    {
      "cell_type": "code",
      "metadata": {
        "id": "J8-LvR2DDfon"
      },
      "source": [
        "device = 'cuda' if torch.cuda.is_available() else 'cpu'\n",
        "\n",
        "criterian = nn.BCELoss()\n",
        "optimizer = Adam(model.parameters(), weight_decay=0.1)\n",
        "model = model.to(device)\n",
        "\n",
        "from torch.optim.lr_scheduler import StepLR\n",
        "\n",
        "scheduler = StepLR(optimizer, step_size=1, gamma=0.99)"
      ],
      "execution_count": 16,
      "outputs": []
    },
    {
      "cell_type": "code",
      "metadata": {
        "colab": {
          "base_uri": "https://localhost:8080/"
        },
        "id": "WQ8sKm4XKAaL",
        "outputId": "a9f11dfc-b1b2-4835-83c1-93555a795d4a"
      },
      "source": [
        "summary(model, [(1, 105, 105), (1, 105, 105)])"
      ],
      "execution_count": 17,
      "outputs": [
        {
          "output_type": "stream",
          "text": [
            "----------------------------------------------------------------\n",
            "        Layer (type)               Output Shape         Param #\n",
            "================================================================\n",
            "            Conv2d-1           [-1, 64, 96, 96]           6,464\n",
            "              ReLU-2           [-1, 64, 96, 96]               0\n",
            "         MaxPool2d-3           [-1, 64, 48, 48]               0\n",
            "            Conv2d-4          [-1, 128, 42, 42]         401,536\n",
            "              ReLU-5          [-1, 128, 42, 42]               0\n",
            "         MaxPool2d-6          [-1, 128, 21, 21]               0\n",
            "            Conv2d-7          [-1, 128, 18, 18]         262,272\n",
            "              ReLU-8          [-1, 128, 18, 18]               0\n",
            "         MaxPool2d-9            [-1, 128, 9, 9]               0\n",
            "           Conv2d-10            [-1, 256, 6, 6]         524,544\n",
            "             ReLU-11            [-1, 256, 6, 6]               0\n",
            "           Linear-12                 [-1, 4096]      37,752,832\n",
            "          Sigmoid-13                 [-1, 4096]               0\n",
            "          FeatExt-14                 [-1, 4096]               0\n",
            "           Conv2d-15           [-1, 64, 96, 96]           6,464\n",
            "             ReLU-16           [-1, 64, 96, 96]               0\n",
            "        MaxPool2d-17           [-1, 64, 48, 48]               0\n",
            "           Conv2d-18          [-1, 128, 42, 42]         401,536\n",
            "             ReLU-19          [-1, 128, 42, 42]               0\n",
            "        MaxPool2d-20          [-1, 128, 21, 21]               0\n",
            "           Conv2d-21          [-1, 128, 18, 18]         262,272\n",
            "             ReLU-22          [-1, 128, 18, 18]               0\n",
            "        MaxPool2d-23            [-1, 128, 9, 9]               0\n",
            "           Conv2d-24            [-1, 256, 6, 6]         524,544\n",
            "             ReLU-25            [-1, 256, 6, 6]               0\n",
            "           Linear-26                 [-1, 4096]      37,752,832\n",
            "          Sigmoid-27                 [-1, 4096]               0\n",
            "          FeatExt-28                 [-1, 4096]               0\n",
            "           Linear-29                    [-1, 1]           4,097\n",
            "          Sigmoid-30                    [-1, 1]               0\n",
            "================================================================\n",
            "Total params: 77,899,393\n",
            "Trainable params: 77,899,393\n",
            "Non-trainable params: 0\n",
            "----------------------------------------------------------------\n",
            "Input size (MB): 463.68\n",
            "Forward/backward pass size (MB): 29.89\n",
            "Params size (MB): 297.16\n",
            "Estimated Total Size (MB): 790.74\n",
            "----------------------------------------------------------------\n"
          ],
          "name": "stdout"
        }
      ]
    },
    {
      "cell_type": "markdown",
      "metadata": {
        "id": "ocoh3dscKGng"
      },
      "source": [
        "## Training Loop \n",
        "\n",
        "- LR Schedular\n",
        "\n",
        "To Do:   \n",
        "(In Learning Rate Schedule Section): We fixed momentum to start at 0.5 in every layer,\n",
        "increasing linearly each epoch until reaching the value µj ,\n",
        "the individual momentum term for the jth layer."
      ]
    },
    {
      "cell_type": "code",
      "metadata": {
        "id": "DgcYuyNTKGUB"
      },
      "source": [
        "NUM_EPOCH = 300"
      ],
      "execution_count": 18,
      "outputs": []
    },
    {
      "cell_type": "code",
      "metadata": {
        "id": "RqLrTzPbKGTD",
        "colab": {
          "base_uri": "https://localhost:8080/",
          "height": 1000,
          "referenced_widgets": [
            "493d05206e74478a82183fd6c0a44559",
            "3a2a25bf04324428bbe834582d07c0a3",
            "81ddfaf1d42949a89dc2ff3760f1e357",
            "089d979631d64945a842148dfa9b8808",
            "845ac8d23af445beb5974f98c13daa9f",
            "32e513ad0609440f8c4c1af9c00bf4a3",
            "6390c42f13f44f1a90d36a30ae8f0afd",
            "82a35ba14a9548e6a40863fc7ab4e16d"
          ]
        },
        "outputId": "5178bdd9-98e0-4cfc-bfb8-4e63966fdae4"
      },
      "source": [
        "losses = []\n",
        "\n",
        "for epoch in tqdm(range(NUM_EPOCH), desc='Training...'):\n",
        "  running_loss = 0.0\n",
        "  for batch in dl:\n",
        "    img1, img2, label = batch['img1'].to(device), batch['img2'].to(device), batch['label'].to(device)\n",
        "    optimizer.zero_grad()\n",
        "\n",
        "    out = model(img1, img2)\n",
        "    loss = criterian(out, label)\n",
        "\n",
        "    running_loss += loss.item() * out.shape[0]\n",
        "\n",
        "    loss.backward()\n",
        "    optimizer.step()\n",
        "\n",
        "  scheduler.step()\n",
        "  losses.append(running_loss)\n",
        "  print(f'Epoch: {epoch}, Loss: {running_loss:.2f}')\n"
      ],
      "execution_count": 19,
      "outputs": [
        {
          "output_type": "display_data",
          "data": {
            "application/vnd.jupyter.widget-view+json": {
              "model_id": "493d05206e74478a82183fd6c0a44559",
              "version_minor": 0,
              "version_major": 2
            },
            "text/plain": [
              "HBox(children=(FloatProgress(value=0.0, description='Training...', max=300.0, style=ProgressStyle(description_…"
            ]
          },
          "metadata": {
            "tags": []
          }
        },
        {
          "output_type": "stream",
          "text": [
            "Epoch: 0, Loss: 697.62\n",
            "Epoch: 1, Loss: 700.90\n",
            "Epoch: 2, Loss: 689.68\n",
            "Epoch: 3, Loss: 681.11\n",
            "Epoch: 4, Loss: 688.83\n",
            "Epoch: 5, Loss: 693.77\n",
            "Epoch: 6, Loss: 680.82\n",
            "Epoch: 7, Loss: 716.51\n",
            "Epoch: 8, Loss: 694.07\n",
            "Epoch: 9, Loss: 694.22\n",
            "Epoch: 10, Loss: 691.89\n",
            "Epoch: 11, Loss: 683.93\n",
            "Epoch: 12, Loss: 676.25\n",
            "Epoch: 13, Loss: 673.69\n",
            "Epoch: 14, Loss: 673.81\n",
            "Epoch: 15, Loss: 667.25\n",
            "Epoch: 16, Loss: 660.75\n",
            "Epoch: 17, Loss: 658.53\n",
            "Epoch: 18, Loss: 665.30\n",
            "Epoch: 19, Loss: 664.81\n",
            "Epoch: 20, Loss: 655.68\n",
            "Epoch: 21, Loss: 651.93\n",
            "Epoch: 22, Loss: 649.67\n",
            "Epoch: 23, Loss: 643.11\n",
            "Epoch: 24, Loss: 645.55\n",
            "Epoch: 25, Loss: 634.78\n",
            "Epoch: 26, Loss: 647.26\n",
            "Epoch: 27, Loss: 635.64\n",
            "Epoch: 28, Loss: 641.81\n",
            "Epoch: 29, Loss: 620.03\n",
            "Epoch: 30, Loss: 599.86\n",
            "Epoch: 31, Loss: 594.52\n",
            "Epoch: 32, Loss: 585.65\n",
            "Epoch: 33, Loss: 584.12\n",
            "Epoch: 34, Loss: 572.20\n",
            "Epoch: 35, Loss: 541.80\n",
            "Epoch: 36, Loss: 551.09\n",
            "Epoch: 37, Loss: 538.70\n",
            "Epoch: 38, Loss: 511.68\n",
            "Epoch: 39, Loss: 488.51\n",
            "Epoch: 40, Loss: 499.58\n",
            "Epoch: 41, Loss: 479.37\n",
            "Epoch: 42, Loss: 478.50\n",
            "Epoch: 43, Loss: 442.28\n",
            "Epoch: 44, Loss: 469.12\n",
            "Epoch: 45, Loss: 449.06\n",
            "Epoch: 46, Loss: 474.68\n",
            "Epoch: 47, Loss: 457.84\n",
            "Epoch: 48, Loss: 445.61\n",
            "Epoch: 49, Loss: 481.24\n",
            "Epoch: 50, Loss: 450.71\n",
            "Epoch: 51, Loss: 437.68\n",
            "Epoch: 52, Loss: 416.27\n",
            "Epoch: 53, Loss: 432.52\n",
            "Epoch: 54, Loss: 405.79\n",
            "Epoch: 55, Loss: 403.43\n",
            "Epoch: 56, Loss: 409.79\n",
            "Epoch: 57, Loss: 438.21\n",
            "Epoch: 58, Loss: 418.44\n",
            "Epoch: 59, Loss: 392.46\n",
            "Epoch: 60, Loss: 403.08\n",
            "Epoch: 61, Loss: 437.45\n",
            "Epoch: 62, Loss: 405.58\n",
            "Epoch: 63, Loss: 381.78\n",
            "Epoch: 64, Loss: 414.98\n",
            "Epoch: 65, Loss: 403.18\n",
            "Epoch: 66, Loss: 408.84\n",
            "Epoch: 67, Loss: 443.57\n",
            "Epoch: 68, Loss: 442.53\n",
            "Epoch: 69, Loss: 423.97\n",
            "Epoch: 70, Loss: 409.01\n",
            "Epoch: 71, Loss: 416.69\n",
            "Epoch: 72, Loss: 417.34\n",
            "Epoch: 73, Loss: 397.27\n",
            "Epoch: 74, Loss: 394.86\n",
            "Epoch: 75, Loss: 401.05\n",
            "Epoch: 76, Loss: 383.76\n",
            "Epoch: 77, Loss: 407.45\n",
            "Epoch: 78, Loss: 399.41\n",
            "Epoch: 79, Loss: 382.01\n",
            "Epoch: 80, Loss: 405.20\n",
            "Epoch: 81, Loss: 392.80\n",
            "Epoch: 82, Loss: 394.10\n",
            "Epoch: 83, Loss: 400.97\n",
            "Epoch: 84, Loss: 379.96\n",
            "Epoch: 85, Loss: 385.58\n",
            "Epoch: 86, Loss: 389.47\n",
            "Epoch: 87, Loss: 383.54\n",
            "Epoch: 88, Loss: 396.22\n",
            "Epoch: 89, Loss: 402.02\n",
            "Epoch: 90, Loss: 397.19\n",
            "Epoch: 91, Loss: 414.76\n",
            "Epoch: 92, Loss: 393.21\n",
            "Epoch: 93, Loss: 377.69\n",
            "Epoch: 94, Loss: 393.62\n",
            "Epoch: 95, Loss: 386.13\n",
            "Epoch: 96, Loss: 389.86\n",
            "Epoch: 97, Loss: 414.92\n",
            "Epoch: 98, Loss: 388.07\n",
            "Epoch: 99, Loss: 398.80\n",
            "Epoch: 100, Loss: 381.20\n",
            "Epoch: 101, Loss: 369.08\n",
            "Epoch: 102, Loss: 383.24\n",
            "Epoch: 103, Loss: 394.31\n",
            "Epoch: 104, Loss: 374.55\n",
            "Epoch: 105, Loss: 389.07\n",
            "Epoch: 106, Loss: 399.82\n",
            "Epoch: 107, Loss: 398.33\n",
            "Epoch: 108, Loss: 384.28\n",
            "Epoch: 109, Loss: 371.17\n",
            "Epoch: 110, Loss: 385.24\n",
            "Epoch: 111, Loss: 371.68\n",
            "Epoch: 112, Loss: 371.31\n",
            "Epoch: 113, Loss: 383.75\n",
            "Epoch: 114, Loss: 394.99\n",
            "Epoch: 115, Loss: 372.09\n",
            "Epoch: 116, Loss: 390.03\n",
            "Epoch: 117, Loss: 373.54\n",
            "Epoch: 118, Loss: 357.47\n",
            "Epoch: 119, Loss: 378.07\n",
            "Epoch: 120, Loss: 397.14\n",
            "Epoch: 121, Loss: 386.90\n",
            "Epoch: 122, Loss: 386.22\n",
            "Epoch: 123, Loss: 385.60\n",
            "Epoch: 124, Loss: 413.12\n",
            "Epoch: 125, Loss: 387.17\n",
            "Epoch: 126, Loss: 379.94\n",
            "Epoch: 127, Loss: 392.72\n",
            "Epoch: 128, Loss: 379.81\n",
            "Epoch: 129, Loss: 390.24\n",
            "Epoch: 130, Loss: 373.22\n",
            "Epoch: 131, Loss: 373.42\n",
            "Epoch: 132, Loss: 382.65\n",
            "Epoch: 133, Loss: 378.02\n",
            "Epoch: 134, Loss: 380.81\n",
            "Epoch: 135, Loss: 393.49\n",
            "Epoch: 136, Loss: 378.10\n",
            "Epoch: 137, Loss: 385.03\n",
            "Epoch: 138, Loss: 370.27\n",
            "Epoch: 139, Loss: 394.34\n",
            "Epoch: 140, Loss: 382.49\n",
            "Epoch: 141, Loss: 406.28\n",
            "Epoch: 142, Loss: 370.38\n",
            "Epoch: 143, Loss: 378.95\n",
            "Epoch: 144, Loss: 363.45\n",
            "Epoch: 145, Loss: 376.63\n",
            "Epoch: 146, Loss: 379.71\n",
            "Epoch: 147, Loss: 387.98\n",
            "Epoch: 148, Loss: 359.75\n",
            "Epoch: 149, Loss: 382.34\n",
            "Epoch: 150, Loss: 365.76\n",
            "Epoch: 151, Loss: 375.21\n",
            "Epoch: 152, Loss: 367.15\n",
            "Epoch: 153, Loss: 391.03\n",
            "Epoch: 154, Loss: 396.43\n",
            "Epoch: 155, Loss: 381.93\n",
            "Epoch: 156, Loss: 383.57\n",
            "Epoch: 157, Loss: 409.83\n",
            "Epoch: 158, Loss: 380.65\n",
            "Epoch: 159, Loss: 391.60\n",
            "Epoch: 160, Loss: 377.57\n",
            "Epoch: 161, Loss: 383.31\n",
            "Epoch: 162, Loss: 380.87\n",
            "Epoch: 163, Loss: 399.31\n",
            "Epoch: 164, Loss: 384.87\n",
            "Epoch: 165, Loss: 380.03\n",
            "Epoch: 166, Loss: 377.61\n",
            "Epoch: 167, Loss: 379.38\n",
            "Epoch: 168, Loss: 381.70\n",
            "Epoch: 169, Loss: 377.39\n",
            "Epoch: 170, Loss: 378.05\n",
            "Epoch: 171, Loss: 372.08\n",
            "Epoch: 172, Loss: 391.87\n",
            "Epoch: 173, Loss: 372.09\n",
            "Epoch: 174, Loss: 395.73\n",
            "Epoch: 175, Loss: 377.66\n",
            "Epoch: 176, Loss: 385.64\n",
            "Epoch: 177, Loss: 395.73\n",
            "Epoch: 178, Loss: 384.72\n",
            "Epoch: 179, Loss: 375.86\n",
            "Epoch: 180, Loss: 388.07\n",
            "Epoch: 181, Loss: 382.83\n",
            "Epoch: 182, Loss: 380.18\n",
            "Epoch: 183, Loss: 392.93\n",
            "Epoch: 184, Loss: 388.79\n",
            "Epoch: 185, Loss: 378.15\n",
            "Epoch: 186, Loss: 375.03\n",
            "Epoch: 187, Loss: 377.86\n",
            "Epoch: 188, Loss: 380.53\n",
            "Epoch: 189, Loss: 388.07\n",
            "Epoch: 190, Loss: 365.82\n",
            "Epoch: 191, Loss: 386.00\n",
            "Epoch: 192, Loss: 375.83\n",
            "Epoch: 193, Loss: 366.99\n",
            "Epoch: 194, Loss: 381.70\n",
            "Epoch: 195, Loss: 383.56\n",
            "Epoch: 196, Loss: 393.04\n",
            "Epoch: 197, Loss: 397.11\n",
            "Epoch: 198, Loss: 396.65\n",
            "Epoch: 199, Loss: 395.68\n",
            "Epoch: 200, Loss: 387.56\n",
            "Epoch: 201, Loss: 394.31\n",
            "Epoch: 202, Loss: 381.40\n",
            "Epoch: 203, Loss: 389.12\n",
            "Epoch: 204, Loss: 371.51\n",
            "Epoch: 205, Loss: 389.40\n",
            "Epoch: 206, Loss: 382.06\n",
            "Epoch: 207, Loss: 386.53\n",
            "Epoch: 208, Loss: 368.12\n",
            "Epoch: 209, Loss: 368.78\n",
            "Epoch: 210, Loss: 377.84\n",
            "Epoch: 211, Loss: 389.44\n",
            "Epoch: 212, Loss: 365.30\n",
            "Epoch: 213, Loss: 373.09\n",
            "Epoch: 214, Loss: 362.75\n",
            "Epoch: 215, Loss: 377.58\n",
            "Epoch: 216, Loss: 384.43\n",
            "Epoch: 217, Loss: 391.67\n",
            "Epoch: 218, Loss: 380.34\n",
            "Epoch: 219, Loss: 387.87\n",
            "Epoch: 220, Loss: 382.07\n",
            "Epoch: 221, Loss: 378.37\n",
            "Epoch: 222, Loss: 392.79\n",
            "Epoch: 223, Loss: 375.68\n",
            "Epoch: 224, Loss: 372.76\n",
            "Epoch: 225, Loss: 366.34\n",
            "Epoch: 226, Loss: 388.98\n",
            "Epoch: 227, Loss: 375.01\n",
            "Epoch: 228, Loss: 373.86\n",
            "Epoch: 229, Loss: 376.10\n",
            "Epoch: 230, Loss: 376.62\n",
            "Epoch: 231, Loss: 400.82\n",
            "Epoch: 232, Loss: 379.03\n",
            "Epoch: 233, Loss: 375.65\n",
            "Epoch: 234, Loss: 380.77\n",
            "Epoch: 235, Loss: 363.50\n",
            "Epoch: 236, Loss: 376.74\n",
            "Epoch: 237, Loss: 382.41\n",
            "Epoch: 238, Loss: 380.73\n",
            "Epoch: 239, Loss: 393.96\n",
            "Epoch: 240, Loss: 368.40\n",
            "Epoch: 241, Loss: 374.35\n",
            "Epoch: 242, Loss: 376.41\n",
            "Epoch: 243, Loss: 371.76\n",
            "Epoch: 244, Loss: 385.36\n",
            "Epoch: 245, Loss: 387.22\n",
            "Epoch: 246, Loss: 391.70\n",
            "Epoch: 247, Loss: 374.92\n",
            "Epoch: 248, Loss: 384.46\n",
            "Epoch: 249, Loss: 397.93\n",
            "Epoch: 250, Loss: 370.46\n",
            "Epoch: 251, Loss: 394.37\n",
            "Epoch: 252, Loss: 375.17\n",
            "Epoch: 253, Loss: 372.72\n",
            "Epoch: 254, Loss: 381.93\n",
            "Epoch: 255, Loss: 373.40\n",
            "Epoch: 256, Loss: 377.52\n",
            "Epoch: 257, Loss: 385.70\n",
            "Epoch: 258, Loss: 389.63\n",
            "Epoch: 259, Loss: 370.53\n",
            "Epoch: 260, Loss: 367.56\n",
            "Epoch: 261, Loss: 367.29\n",
            "Epoch: 262, Loss: 395.08\n",
            "Epoch: 263, Loss: 352.78\n",
            "Epoch: 264, Loss: 380.65\n",
            "Epoch: 265, Loss: 364.28\n",
            "Epoch: 266, Loss: 379.91\n",
            "Epoch: 267, Loss: 377.06\n",
            "Epoch: 268, Loss: 392.13\n",
            "Epoch: 269, Loss: 369.15\n",
            "Epoch: 270, Loss: 378.72\n",
            "Epoch: 271, Loss: 372.21\n",
            "Epoch: 272, Loss: 340.12\n",
            "Epoch: 273, Loss: 383.29\n",
            "Epoch: 274, Loss: 360.31\n",
            "Epoch: 275, Loss: 365.27\n",
            "Epoch: 276, Loss: 379.38\n",
            "Epoch: 277, Loss: 382.00\n",
            "Epoch: 278, Loss: 354.49\n",
            "Epoch: 279, Loss: 384.80\n",
            "Epoch: 280, Loss: 382.90\n",
            "Epoch: 281, Loss: 383.70\n",
            "Epoch: 282, Loss: 368.27\n",
            "Epoch: 283, Loss: 383.17\n",
            "Epoch: 284, Loss: 384.70\n",
            "Epoch: 285, Loss: 384.53\n",
            "Epoch: 286, Loss: 350.38\n",
            "Epoch: 287, Loss: 369.59\n",
            "Epoch: 288, Loss: 371.61\n",
            "Epoch: 289, Loss: 366.78\n",
            "Epoch: 290, Loss: 376.30\n",
            "Epoch: 291, Loss: 386.07\n",
            "Epoch: 292, Loss: 360.71\n",
            "Epoch: 293, Loss: 385.07\n",
            "Epoch: 294, Loss: 394.30\n",
            "Epoch: 295, Loss: 369.59\n",
            "Epoch: 296, Loss: 385.28\n",
            "Epoch: 297, Loss: 367.60\n",
            "Epoch: 298, Loss: 391.55\n",
            "Epoch: 299, Loss: 391.31\n",
            "\n"
          ],
          "name": "stdout"
        }
      ]
    },
    {
      "cell_type": "code",
      "metadata": {
        "colab": {
          "base_uri": "https://localhost:8080/",
          "height": 312
        },
        "id": "n2jwSpbshsSb",
        "outputId": "b186f171-ed32-4ae3-f992-c86a87db0d6a"
      },
      "source": [
        " plt.plot(losses)\n",
        " plt.title('Train Loss')\n",
        " plt.xlabel('Epochs')\n",
        " plt.ylabel('Loss')"
      ],
      "execution_count": 22,
      "outputs": [
        {
          "output_type": "execute_result",
          "data": {
            "text/plain": [
              "Text(0, 0.5, 'Loss')"
            ]
          },
          "metadata": {
            "tags": []
          },
          "execution_count": 22
        },
        {
          "output_type": "display_data",
          "data": {
            "image/png": "[encoded data removed]",
            "text/plain": [
              "<Figure size 432x288 with 1 Axes>"
            ]
          },
          "metadata": {
            "tags": [],
            "needs_background": "light"
          }
        }
      ]
    },
    {
      "cell_type": "markdown",
      "metadata": {
        "id": "Wbybo3VOERWY"
      },
      "source": [
        "## Rough"
      ]
    },
    {
      "cell_type": "code",
      "metadata": {
        "colab": {
          "base_uri": "https://localhost:8080/"
        },
        "id": "8RRgSTNkESrO",
        "outputId": "062d8758-4c39-4ef6-8875-94cf5588a289"
      },
      "source": [
        "l = nn.BCELoss()\n",
        "\n",
        "x, y = torch.tensor([[0.01]]), torch.tensor([[1.0]])\n",
        "print(x, y, l(x, y))"
      ],
      "execution_count": null,
      "outputs": [
        {
          "output_type": "stream",
          "text": [
            "tensor([[0.0100]]) tensor([[1.]]) tensor(4.6052)\n"
          ],
          "name": "stdout"
        }
      ]
    },
    {
      "cell_type": "code",
      "metadata": {
        "id": "RCYSP0uSEU4h"
      },
      "source": [
        ""
      ],
      "execution_count": null,
      "outputs": []
    }
  ]
}
