{
  "nbformat": 4,
  "nbformat_minor": 0,
  "metadata": {
    "colab": {
      "name": "Stacked_Attention_Network_Train.ipynb",
      "provenance": [],
      "collapsed_sections": [
        "XHC_r4u549UN",
        "p2eoJa049Lyu",
        "QIt7qtTUtHM8"
      ]
    },
    "kernelspec": {
      "name": "python3",
      "display_name": "Python 3"
    },
    "language_info": {
      "name": "python"
    },
    "widgets": {
      "application/vnd.jupyter.widget-state+json": {
        "79b50892b71441d59eaad43fff04a16a": {
          "model_module": "@jupyter-widgets/controls",
          "model_name": "HBoxModel",
          "model_module_version": "1.5.0",
          "state": {
            "_view_name": "HBoxView",
            "_dom_classes": [],
            "_model_name": "HBoxModel",
            "_view_module": "@jupyter-widgets/controls",
            "_model_module_version": "1.5.0",
            "_view_count": null,
            "_view_module_version": "1.5.0",
            "box_style": "",
            "layout": "IPY_MODEL_caf0c0425ac34ffc8949eb4c29dc2fec",
            "_model_module": "@jupyter-widgets/controls",
            "children": [
              "IPY_MODEL_d55a720900184486afd2f93e00781fd5",
              "IPY_MODEL_16d2c2b3e1da4eca8949ab23959338ff"
            ]
          }
        },
        "caf0c0425ac34ffc8949eb4c29dc2fec": {
          "model_module": "@jupyter-widgets/base",
          "model_name": "LayoutModel",
          "model_module_version": "1.2.0",
          "state": {
            "_view_name": "LayoutView",
            "grid_template_rows": null,
            "right": null,
            "justify_content": null,
            "_view_module": "@jupyter-widgets/base",
            "overflow": null,
            "_model_module_version": "1.2.0",
            "_view_count": null,
            "flex_flow": null,
            "width": null,
            "min_width": null,
            "border": null,
            "align_items": null,
            "bottom": null,
            "_model_module": "@jupyter-widgets/base",
            "top": null,
            "grid_column": null,
            "overflow_y": null,
            "overflow_x": null,
            "grid_auto_flow": null,
            "grid_area": null,
            "grid_template_columns": null,
            "flex": null,
            "_model_name": "LayoutModel",
            "justify_items": null,
            "grid_row": null,
            "max_height": null,
            "align_content": null,
            "visibility": null,
            "align_self": null,
            "height": null,
            "min_height": null,
            "padding": null,
            "grid_auto_rows": null,
            "grid_gap": null,
            "max_width": null,
            "order": null,
            "_view_module_version": "1.2.0",
            "grid_template_areas": null,
            "object_position": null,
            "object_fit": null,
            "grid_auto_columns": null,
            "margin": null,
            "display": null,
            "left": null
          }
        },
        "d55a720900184486afd2f93e00781fd5": {
          "model_module": "@jupyter-widgets/controls",
          "model_name": "FloatProgressModel",
          "model_module_version": "1.5.0",
          "state": {
            "_view_name": "ProgressView",
            "style": "IPY_MODEL_309a9f41d0744d469037c574d6349eba",
            "_dom_classes": [],
            "description": "100%",
            "_model_name": "FloatProgressModel",
            "bar_style": "success",
            "max": 574673361,
            "_view_module": "@jupyter-widgets/controls",
            "_model_module_version": "1.5.0",
            "value": 574673361,
            "_view_count": null,
            "_view_module_version": "1.5.0",
            "orientation": "horizontal",
            "min": 0,
            "description_tooltip": null,
            "_model_module": "@jupyter-widgets/controls",
            "layout": "IPY_MODEL_c9730e916b4a467098ebde9b3715313e"
          }
        },
        "16d2c2b3e1da4eca8949ab23959338ff": {
          "model_module": "@jupyter-widgets/controls",
          "model_name": "HTMLModel",
          "model_module_version": "1.5.0",
          "state": {
            "_view_name": "HTMLView",
            "style": "IPY_MODEL_8d18bf84419943d48ea86c03eeba16de",
            "_dom_classes": [],
            "description": "",
            "_model_name": "HTMLModel",
            "placeholder": "​",
            "_view_module": "@jupyter-widgets/controls",
            "_model_module_version": "1.5.0",
            "value": " 548M/548M [06:49&lt;00:00, 1.40MB/s]",
            "_view_count": null,
            "_view_module_version": "1.5.0",
            "description_tooltip": null,
            "_model_module": "@jupyter-widgets/controls",
            "layout": "IPY_MODEL_ebc9d28141a84731a9289c6c16a336a0"
          }
        },
        "309a9f41d0744d469037c574d6349eba": {
          "model_module": "@jupyter-widgets/controls",
          "model_name": "ProgressStyleModel",
          "model_module_version": "1.5.0",
          "state": {
            "_view_name": "StyleView",
            "_model_name": "ProgressStyleModel",
            "description_width": "initial",
            "_view_module": "@jupyter-widgets/base",
            "_model_module_version": "1.5.0",
            "_view_count": null,
            "_view_module_version": "1.2.0",
            "bar_color": null,
            "_model_module": "@jupyter-widgets/controls"
          }
        },
        "c9730e916b4a467098ebde9b3715313e": {
          "model_module": "@jupyter-widgets/base",
          "model_name": "LayoutModel",
          "model_module_version": "1.2.0",
          "state": {
            "_view_name": "LayoutView",
            "grid_template_rows": null,
            "right": null,
            "justify_content": null,
            "_view_module": "@jupyter-widgets/base",
            "overflow": null,
            "_model_module_version": "1.2.0",
            "_view_count": null,
            "flex_flow": null,
            "width": null,
            "min_width": null,
            "border": null,
            "align_items": null,
            "bottom": null,
            "_model_module": "@jupyter-widgets/base",
            "top": null,
            "grid_column": null,
            "overflow_y": null,
            "overflow_x": null,
            "grid_auto_flow": null,
            "grid_area": null,
            "grid_template_columns": null,
            "flex": null,
            "_model_name": "LayoutModel",
            "justify_items": null,
            "grid_row": null,
            "max_height": null,
            "align_content": null,
            "visibility": null,
            "align_self": null,
            "height": null,
            "min_height": null,
            "padding": null,
            "grid_auto_rows": null,
            "grid_gap": null,
            "max_width": null,
            "order": null,
            "_view_module_version": "1.2.0",
            "grid_template_areas": null,
            "object_position": null,
            "object_fit": null,
            "grid_auto_columns": null,
            "margin": null,
            "display": null,
            "left": null
          }
        },
        "8d18bf84419943d48ea86c03eeba16de": {
          "model_module": "@jupyter-widgets/controls",
          "model_name": "DescriptionStyleModel",
          "model_module_version": "1.5.0",
          "state": {
            "_view_name": "StyleView",
            "_model_name": "DescriptionStyleModel",
            "description_width": "",
            "_view_module": "@jupyter-widgets/base",
            "_model_module_version": "1.5.0",
            "_view_count": null,
            "_view_module_version": "1.2.0",
            "_model_module": "@jupyter-widgets/controls"
          }
        },
        "ebc9d28141a84731a9289c6c16a336a0": {
          "model_module": "@jupyter-widgets/base",
          "model_name": "LayoutModel",
          "model_module_version": "1.2.0",
          "state": {
            "_view_name": "LayoutView",
            "grid_template_rows": null,
            "right": null,
            "justify_content": null,
            "_view_module": "@jupyter-widgets/base",
            "overflow": null,
            "_model_module_version": "1.2.0",
            "_view_count": null,
            "flex_flow": null,
            "width": null,
            "min_width": null,
            "border": null,
            "align_items": null,
            "bottom": null,
            "_model_module": "@jupyter-widgets/base",
            "top": null,
            "grid_column": null,
            "overflow_y": null,
            "overflow_x": null,
            "grid_auto_flow": null,
            "grid_area": null,
            "grid_template_columns": null,
            "flex": null,
            "_model_name": "LayoutModel",
            "justify_items": null,
            "grid_row": null,
            "max_height": null,
            "align_content": null,
            "visibility": null,
            "align_self": null,
            "height": null,
            "min_height": null,
            "padding": null,
            "grid_auto_rows": null,
            "grid_gap": null,
            "max_width": null,
            "order": null,
            "_view_module_version": "1.2.0",
            "grid_template_areas": null,
            "object_position": null,
            "object_fit": null,
            "grid_auto_columns": null,
            "margin": null,
            "display": null,
            "left": null
          }
        },
        "a8cb46a0093f4f9490ee46af7cdc8f32": {
          "model_module": "@jupyter-widgets/controls",
          "model_name": "HBoxModel",
          "model_module_version": "1.5.0",
          "state": {
            "_view_name": "HBoxView",
            "_dom_classes": [],
            "_model_name": "HBoxModel",
            "_view_module": "@jupyter-widgets/controls",
            "_model_module_version": "1.5.0",
            "_view_count": null,
            "_view_module_version": "1.5.0",
            "box_style": "",
            "layout": "IPY_MODEL_73afa7101b4f47ea961f888450b21c82",
            "_model_module": "@jupyter-widgets/controls",
            "children": [
              "IPY_MODEL_c06e7f542a3a4fb6aa1006766222e889",
              "IPY_MODEL_2368cced450248cabe20e11c1f881f43",
              "IPY_MODEL_eecfec2c399041dbb6e96999bab99f3b"
            ]
          }
        },
        "73afa7101b4f47ea961f888450b21c82": {
          "model_module": "@jupyter-widgets/base",
          "model_name": "LayoutModel",
          "model_module_version": "1.2.0",
          "state": {
            "_view_name": "LayoutView",
            "grid_template_rows": null,
            "right": null,
            "justify_content": null,
            "_view_module": "@jupyter-widgets/base",
            "overflow": null,
            "_model_module_version": "1.2.0",
            "_view_count": null,
            "flex_flow": null,
            "width": null,
            "min_width": null,
            "border": null,
            "align_items": null,
            "bottom": null,
            "_model_module": "@jupyter-widgets/base",
            "top": null,
            "grid_column": null,
            "overflow_y": null,
            "overflow_x": null,
            "grid_auto_flow": null,
            "grid_area": null,
            "grid_template_columns": null,
            "flex": null,
            "_model_name": "LayoutModel",
            "justify_items": null,
            "grid_row": null,
            "max_height": null,
            "align_content": null,
            "visibility": null,
            "align_self": null,
            "height": null,
            "min_height": null,
            "padding": null,
            "grid_auto_rows": null,
            "grid_gap": null,
            "max_width": null,
            "order": null,
            "_view_module_version": "1.2.0",
            "grid_template_areas": null,
            "object_position": null,
            "object_fit": null,
            "grid_auto_columns": null,
            "margin": null,
            "display": null,
            "left": null
          }
        },
        "c06e7f542a3a4fb6aa1006766222e889": {
          "model_module": "@jupyter-widgets/controls",
          "model_name": "HTMLModel",
          "model_module_version": "1.5.0",
          "state": {
            "_view_name": "HTMLView",
            "style": "IPY_MODEL_6dd40a36d5aa4472a2f43422a704ec94",
            "_dom_classes": [],
            "description": "",
            "_model_name": "HTMLModel",
            "placeholder": "​",
            "_view_module": "@jupyter-widgets/controls",
            "_model_module_version": "1.5.0",
            "value": "Downloading: 100%",
            "_view_count": null,
            "_view_module_version": "1.5.0",
            "description_tooltip": null,
            "_model_module": "@jupyter-widgets/controls",
            "layout": "IPY_MODEL_426986f088f046b59a007155c2d3b467"
          }
        },
        "2368cced450248cabe20e11c1f881f43": {
          "model_module": "@jupyter-widgets/controls",
          "model_name": "FloatProgressModel",
          "model_module_version": "1.5.0",
          "state": {
            "_view_name": "ProgressView",
            "style": "IPY_MODEL_0ad8372835164e3f9ab127b90379aa66",
            "_dom_classes": [],
            "description": "",
            "_model_name": "FloatProgressModel",
            "bar_style": "success",
            "max": 231508,
            "_view_module": "@jupyter-widgets/controls",
            "_model_module_version": "1.5.0",
            "value": 231508,
            "_view_count": null,
            "_view_module_version": "1.5.0",
            "orientation": "horizontal",
            "min": 0,
            "description_tooltip": null,
            "_model_module": "@jupyter-widgets/controls",
            "layout": "IPY_MODEL_126aaa4509ea49688bb238bf8b9a2a38"
          }
        },
        "eecfec2c399041dbb6e96999bab99f3b": {
          "model_module": "@jupyter-widgets/controls",
          "model_name": "HTMLModel",
          "model_module_version": "1.5.0",
          "state": {
            "_view_name": "HTMLView",
            "style": "IPY_MODEL_533b5b787d5342d58d6c15cd0f854275",
            "_dom_classes": [],
            "description": "",
            "_model_name": "HTMLModel",
            "placeholder": "​",
            "_view_module": "@jupyter-widgets/controls",
            "_model_module_version": "1.5.0",
            "value": " 232k/232k [00:00&lt;00:00, 1.38MB/s]",
            "_view_count": null,
            "_view_module_version": "1.5.0",
            "description_tooltip": null,
            "_model_module": "@jupyter-widgets/controls",
            "layout": "IPY_MODEL_7f37f39d1ee54f42983d40b406cec04f"
          }
        },
        "6dd40a36d5aa4472a2f43422a704ec94": {
          "model_module": "@jupyter-widgets/controls",
          "model_name": "DescriptionStyleModel",
          "model_module_version": "1.5.0",
          "state": {
            "_view_name": "StyleView",
            "_model_name": "DescriptionStyleModel",
            "description_width": "",
            "_view_module": "@jupyter-widgets/base",
            "_model_module_version": "1.5.0",
            "_view_count": null,
            "_view_module_version": "1.2.0",
            "_model_module": "@jupyter-widgets/controls"
          }
        },
        "426986f088f046b59a007155c2d3b467": {
          "model_module": "@jupyter-widgets/base",
          "model_name": "LayoutModel",
          "model_module_version": "1.2.0",
          "state": {
            "_view_name": "LayoutView",
            "grid_template_rows": null,
            "right": null,
            "justify_content": null,
            "_view_module": "@jupyter-widgets/base",
            "overflow": null,
            "_model_module_version": "1.2.0",
            "_view_count": null,
            "flex_flow": null,
            "width": null,
            "min_width": null,
            "border": null,
            "align_items": null,
            "bottom": null,
            "_model_module": "@jupyter-widgets/base",
            "top": null,
            "grid_column": null,
            "overflow_y": null,
            "overflow_x": null,
            "grid_auto_flow": null,
            "grid_area": null,
            "grid_template_columns": null,
            "flex": null,
            "_model_name": "LayoutModel",
            "justify_items": null,
            "grid_row": null,
            "max_height": null,
            "align_content": null,
            "visibility": null,
            "align_self": null,
            "height": null,
            "min_height": null,
            "padding": null,
            "grid_auto_rows": null,
            "grid_gap": null,
            "max_width": null,
            "order": null,
            "_view_module_version": "1.2.0",
            "grid_template_areas": null,
            "object_position": null,
            "object_fit": null,
            "grid_auto_columns": null,
            "margin": null,
            "display": null,
            "left": null
          }
        },
        "0ad8372835164e3f9ab127b90379aa66": {
          "model_module": "@jupyter-widgets/controls",
          "model_name": "ProgressStyleModel",
          "model_module_version": "1.5.0",
          "state": {
            "_view_name": "StyleView",
            "_model_name": "ProgressStyleModel",
            "description_width": "",
            "_view_module": "@jupyter-widgets/base",
            "_model_module_version": "1.5.0",
            "_view_count": null,
            "_view_module_version": "1.2.0",
            "bar_color": null,
            "_model_module": "@jupyter-widgets/controls"
          }
        },
        "126aaa4509ea49688bb238bf8b9a2a38": {
          "model_module": "@jupyter-widgets/base",
          "model_name": "LayoutModel",
          "model_module_version": "1.2.0",
          "state": {
            "_view_name": "LayoutView",
            "grid_template_rows": null,
            "right": null,
            "justify_content": null,
            "_view_module": "@jupyter-widgets/base",
            "overflow": null,
            "_model_module_version": "1.2.0",
            "_view_count": null,
            "flex_flow": null,
            "width": null,
            "min_width": null,
            "border": null,
            "align_items": null,
            "bottom": null,
            "_model_module": "@jupyter-widgets/base",
            "top": null,
            "grid_column": null,
            "overflow_y": null,
            "overflow_x": null,
            "grid_auto_flow": null,
            "grid_area": null,
            "grid_template_columns": null,
            "flex": null,
            "_model_name": "LayoutModel",
            "justify_items": null,
            "grid_row": null,
            "max_height": null,
            "align_content": null,
            "visibility": null,
            "align_self": null,
            "height": null,
            "min_height": null,
            "padding": null,
            "grid_auto_rows": null,
            "grid_gap": null,
            "max_width": null,
            "order": null,
            "_view_module_version": "1.2.0",
            "grid_template_areas": null,
            "object_position": null,
            "object_fit": null,
            "grid_auto_columns": null,
            "margin": null,
            "display": null,
            "left": null
          }
        },
        "533b5b787d5342d58d6c15cd0f854275": {
          "model_module": "@jupyter-widgets/controls",
          "model_name": "DescriptionStyleModel",
          "model_module_version": "1.5.0",
          "state": {
            "_view_name": "StyleView",
            "_model_name": "DescriptionStyleModel",
            "description_width": "",
            "_view_module": "@jupyter-widgets/base",
            "_model_module_version": "1.5.0",
            "_view_count": null,
            "_view_module_version": "1.2.0",
            "_model_module": "@jupyter-widgets/controls"
          }
        },
        "7f37f39d1ee54f42983d40b406cec04f": {
          "model_module": "@jupyter-widgets/base",
          "model_name": "LayoutModel",
          "model_module_version": "1.2.0",
          "state": {
            "_view_name": "LayoutView",
            "grid_template_rows": null,
            "right": null,
            "justify_content": null,
            "_view_module": "@jupyter-widgets/base",
            "overflow": null,
            "_model_module_version": "1.2.0",
            "_view_count": null,
            "flex_flow": null,
            "width": null,
            "min_width": null,
            "border": null,
            "align_items": null,
            "bottom": null,
            "_model_module": "@jupyter-widgets/base",
            "top": null,
            "grid_column": null,
            "overflow_y": null,
            "overflow_x": null,
            "grid_auto_flow": null,
            "grid_area": null,
            "grid_template_columns": null,
            "flex": null,
            "_model_name": "LayoutModel",
            "justify_items": null,
            "grid_row": null,
            "max_height": null,
            "align_content": null,
            "visibility": null,
            "align_self": null,
            "height": null,
            "min_height": null,
            "padding": null,
            "grid_auto_rows": null,
            "grid_gap": null,
            "max_width": null,
            "order": null,
            "_view_module_version": "1.2.0",
            "grid_template_areas": null,
            "object_position": null,
            "object_fit": null,
            "grid_auto_columns": null,
            "margin": null,
            "display": null,
            "left": null
          }
        },
        "e70d402a21c34ff280d16f5cde65e534": {
          "model_module": "@jupyter-widgets/controls",
          "model_name": "HBoxModel",
          "model_module_version": "1.5.0",
          "state": {
            "_view_name": "HBoxView",
            "_dom_classes": [],
            "_model_name": "HBoxModel",
            "_view_module": "@jupyter-widgets/controls",
            "_model_module_version": "1.5.0",
            "_view_count": null,
            "_view_module_version": "1.5.0",
            "box_style": "",
            "layout": "IPY_MODEL_58c5ee277187437bb3f75d3ae95274fb",
            "_model_module": "@jupyter-widgets/controls",
            "children": [
              "IPY_MODEL_df903d731f20418892caaf15a36e5924",
              "IPY_MODEL_4a2b8bc2b6b1442a8892c73f481f78dd",
              "IPY_MODEL_0f4b82f42ffd47c78a192cfdc580d6e0"
            ]
          }
        },
        "58c5ee277187437bb3f75d3ae95274fb": {
          "model_module": "@jupyter-widgets/base",
          "model_name": "LayoutModel",
          "model_module_version": "1.2.0",
          "state": {
            "_view_name": "LayoutView",
            "grid_template_rows": null,
            "right": null,
            "justify_content": null,
            "_view_module": "@jupyter-widgets/base",
            "overflow": null,
            "_model_module_version": "1.2.0",
            "_view_count": null,
            "flex_flow": null,
            "width": null,
            "min_width": null,
            "border": null,
            "align_items": null,
            "bottom": null,
            "_model_module": "@jupyter-widgets/base",
            "top": null,
            "grid_column": null,
            "overflow_y": null,
            "overflow_x": null,
            "grid_auto_flow": null,
            "grid_area": null,
            "grid_template_columns": null,
            "flex": null,
            "_model_name": "LayoutModel",
            "justify_items": null,
            "grid_row": null,
            "max_height": null,
            "align_content": null,
            "visibility": null,
            "align_self": null,
            "height": null,
            "min_height": null,
            "padding": null,
            "grid_auto_rows": null,
            "grid_gap": null,
            "max_width": null,
            "order": null,
            "_view_module_version": "1.2.0",
            "grid_template_areas": null,
            "object_position": null,
            "object_fit": null,
            "grid_auto_columns": null,
            "margin": null,
            "display": null,
            "left": null
          }
        },
        "df903d731f20418892caaf15a36e5924": {
          "model_module": "@jupyter-widgets/controls",
          "model_name": "HTMLModel",
          "model_module_version": "1.5.0",
          "state": {
            "_view_name": "HTMLView",
            "style": "IPY_MODEL_86e501aae9de468194441273a2d7466f",
            "_dom_classes": [],
            "description": "",
            "_model_name": "HTMLModel",
            "placeholder": "​",
            "_view_module": "@jupyter-widgets/controls",
            "_model_module_version": "1.5.0",
            "value": "Downloading: 100%",
            "_view_count": null,
            "_view_module_version": "1.5.0",
            "description_tooltip": null,
            "_model_module": "@jupyter-widgets/controls",
            "layout": "IPY_MODEL_952fce7333614bcb8251e7a24cd3f6d4"
          }
        },
        "4a2b8bc2b6b1442a8892c73f481f78dd": {
          "model_module": "@jupyter-widgets/controls",
          "model_name": "FloatProgressModel",
          "model_module_version": "1.5.0",
          "state": {
            "_view_name": "ProgressView",
            "style": "IPY_MODEL_609dcad7b7634b1382b48ef69d654bce",
            "_dom_classes": [],
            "description": "",
            "_model_name": "FloatProgressModel",
            "bar_style": "success",
            "max": 28,
            "_view_module": "@jupyter-widgets/controls",
            "_model_module_version": "1.5.0",
            "value": 28,
            "_view_count": null,
            "_view_module_version": "1.5.0",
            "orientation": "horizontal",
            "min": 0,
            "description_tooltip": null,
            "_model_module": "@jupyter-widgets/controls",
            "layout": "IPY_MODEL_bdde3e1360c34d43ac7876b04ac1a101"
          }
        },
        "0f4b82f42ffd47c78a192cfdc580d6e0": {
          "model_module": "@jupyter-widgets/controls",
          "model_name": "HTMLModel",
          "model_module_version": "1.5.0",
          "state": {
            "_view_name": "HTMLView",
            "style": "IPY_MODEL_aa767b24e6e24794a87c25046cad2e47",
            "_dom_classes": [],
            "description": "",
            "_model_name": "HTMLModel",
            "placeholder": "​",
            "_view_module": "@jupyter-widgets/controls",
            "_model_module_version": "1.5.0",
            "value": " 28.0/28.0 [00:00&lt;00:00, 730B/s]",
            "_view_count": null,
            "_view_module_version": "1.5.0",
            "description_tooltip": null,
            "_model_module": "@jupyter-widgets/controls",
            "layout": "IPY_MODEL_6c1965365a364b40a70d8f8c73c80f5b"
          }
        },
        "86e501aae9de468194441273a2d7466f": {
          "model_module": "@jupyter-widgets/controls",
          "model_name": "DescriptionStyleModel",
          "model_module_version": "1.5.0",
          "state": {
            "_view_name": "StyleView",
            "_model_name": "DescriptionStyleModel",
            "description_width": "",
            "_view_module": "@jupyter-widgets/base",
            "_model_module_version": "1.5.0",
            "_view_count": null,
            "_view_module_version": "1.2.0",
            "_model_module": "@jupyter-widgets/controls"
          }
        },
        "952fce7333614bcb8251e7a24cd3f6d4": {
          "model_module": "@jupyter-widgets/base",
          "model_name": "LayoutModel",
          "model_module_version": "1.2.0",
          "state": {
            "_view_name": "LayoutView",
            "grid_template_rows": null,
            "right": null,
            "justify_content": null,
            "_view_module": "@jupyter-widgets/base",
            "overflow": null,
            "_model_module_version": "1.2.0",
            "_view_count": null,
            "flex_flow": null,
            "width": null,
            "min_width": null,
            "border": null,
            "align_items": null,
            "bottom": null,
            "_model_module": "@jupyter-widgets/base",
            "top": null,
            "grid_column": null,
            "overflow_y": null,
            "overflow_x": null,
            "grid_auto_flow": null,
            "grid_area": null,
            "grid_template_columns": null,
            "flex": null,
            "_model_name": "LayoutModel",
            "justify_items": null,
            "grid_row": null,
            "max_height": null,
            "align_content": null,
            "visibility": null,
            "align_self": null,
            "height": null,
            "min_height": null,
            "padding": null,
            "grid_auto_rows": null,
            "grid_gap": null,
            "max_width": null,
            "order": null,
            "_view_module_version": "1.2.0",
            "grid_template_areas": null,
            "object_position": null,
            "object_fit": null,
            "grid_auto_columns": null,
            "margin": null,
            "display": null,
            "left": null
          }
        },
        "609dcad7b7634b1382b48ef69d654bce": {
          "model_module": "@jupyter-widgets/controls",
          "model_name": "ProgressStyleModel",
          "model_module_version": "1.5.0",
          "state": {
            "_view_name": "StyleView",
            "_model_name": "ProgressStyleModel",
            "description_width": "",
            "_view_module": "@jupyter-widgets/base",
            "_model_module_version": "1.5.0",
            "_view_count": null,
            "_view_module_version": "1.2.0",
            "bar_color": null,
            "_model_module": "@jupyter-widgets/controls"
          }
        },
        "bdde3e1360c34d43ac7876b04ac1a101": {
          "model_module": "@jupyter-widgets/base",
          "model_name": "LayoutModel",
          "model_module_version": "1.2.0",
          "state": {
            "_view_name": "LayoutView",
            "grid_template_rows": null,
            "right": null,
            "justify_content": null,
            "_view_module": "@jupyter-widgets/base",
            "overflow": null,
            "_model_module_version": "1.2.0",
            "_view_count": null,
            "flex_flow": null,
            "width": null,
            "min_width": null,
            "border": null,
            "align_items": null,
            "bottom": null,
            "_model_module": "@jupyter-widgets/base",
            "top": null,
            "grid_column": null,
            "overflow_y": null,
            "overflow_x": null,
            "grid_auto_flow": null,
            "grid_area": null,
            "grid_template_columns": null,
            "flex": null,
            "_model_name": "LayoutModel",
            "justify_items": null,
            "grid_row": null,
            "max_height": null,
            "align_content": null,
            "visibility": null,
            "align_self": null,
            "height": null,
            "min_height": null,
            "padding": null,
            "grid_auto_rows": null,
            "grid_gap": null,
            "max_width": null,
            "order": null,
            "_view_module_version": "1.2.0",
            "grid_template_areas": null,
            "object_position": null,
            "object_fit": null,
            "grid_auto_columns": null,
            "margin": null,
            "display": null,
            "left": null
          }
        },
        "aa767b24e6e24794a87c25046cad2e47": {
          "model_module": "@jupyter-widgets/controls",
          "model_name": "DescriptionStyleModel",
          "model_module_version": "1.5.0",
          "state": {
            "_view_name": "StyleView",
            "_model_name": "DescriptionStyleModel",
            "description_width": "",
            "_view_module": "@jupyter-widgets/base",
            "_model_module_version": "1.5.0",
            "_view_count": null,
            "_view_module_version": "1.2.0",
            "_model_module": "@jupyter-widgets/controls"
          }
        },
        "6c1965365a364b40a70d8f8c73c80f5b": {
          "model_module": "@jupyter-widgets/base",
          "model_name": "LayoutModel",
          "model_module_version": "1.2.0",
          "state": {
            "_view_name": "LayoutView",
            "grid_template_rows": null,
            "right": null,
            "justify_content": null,
            "_view_module": "@jupyter-widgets/base",
            "overflow": null,
            "_model_module_version": "1.2.0",
            "_view_count": null,
            "flex_flow": null,
            "width": null,
            "min_width": null,
            "border": null,
            "align_items": null,
            "bottom": null,
            "_model_module": "@jupyter-widgets/base",
            "top": null,
            "grid_column": null,
            "overflow_y": null,
            "overflow_x": null,
            "grid_auto_flow": null,
            "grid_area": null,
            "grid_template_columns": null,
            "flex": null,
            "_model_name": "LayoutModel",
            "justify_items": null,
            "grid_row": null,
            "max_height": null,
            "align_content": null,
            "visibility": null,
            "align_self": null,
            "height": null,
            "min_height": null,
            "padding": null,
            "grid_auto_rows": null,
            "grid_gap": null,
            "max_width": null,
            "order": null,
            "_view_module_version": "1.2.0",
            "grid_template_areas": null,
            "object_position": null,
            "object_fit": null,
            "grid_auto_columns": null,
            "margin": null,
            "display": null,
            "left": null
          }
        },
        "1199ca6836784c77a0a91f67ab48aa89": {
          "model_module": "@jupyter-widgets/controls",
          "model_name": "HBoxModel",
          "model_module_version": "1.5.0",
          "state": {
            "_view_name": "HBoxView",
            "_dom_classes": [],
            "_model_name": "HBoxModel",
            "_view_module": "@jupyter-widgets/controls",
            "_model_module_version": "1.5.0",
            "_view_count": null,
            "_view_module_version": "1.5.0",
            "box_style": "",
            "layout": "IPY_MODEL_eb0fb58afb864bfdbeff46ad889665d6",
            "_model_module": "@jupyter-widgets/controls",
            "children": [
              "IPY_MODEL_569410bead30473f8f3c419b1c122b7c",
              "IPY_MODEL_8b8580fc2966403cb20fc88533015de4",
              "IPY_MODEL_9a62d2bf4ba243a982c68e96072bf3ae"
            ]
          }
        },
        "eb0fb58afb864bfdbeff46ad889665d6": {
          "model_module": "@jupyter-widgets/base",
          "model_name": "LayoutModel",
          "model_module_version": "1.2.0",
          "state": {
            "_view_name": "LayoutView",
            "grid_template_rows": null,
            "right": null,
            "justify_content": null,
            "_view_module": "@jupyter-widgets/base",
            "overflow": null,
            "_model_module_version": "1.2.0",
            "_view_count": null,
            "flex_flow": null,
            "width": null,
            "min_width": null,
            "border": null,
            "align_items": null,
            "bottom": null,
            "_model_module": "@jupyter-widgets/base",
            "top": null,
            "grid_column": null,
            "overflow_y": null,
            "overflow_x": null,
            "grid_auto_flow": null,
            "grid_area": null,
            "grid_template_columns": null,
            "flex": null,
            "_model_name": "LayoutModel",
            "justify_items": null,
            "grid_row": null,
            "max_height": null,
            "align_content": null,
            "visibility": null,
            "align_self": null,
            "height": null,
            "min_height": null,
            "padding": null,
            "grid_auto_rows": null,
            "grid_gap": null,
            "max_width": null,
            "order": null,
            "_view_module_version": "1.2.0",
            "grid_template_areas": null,
            "object_position": null,
            "object_fit": null,
            "grid_auto_columns": null,
            "margin": null,
            "display": null,
            "left": null
          }
        },
        "569410bead30473f8f3c419b1c122b7c": {
          "model_module": "@jupyter-widgets/controls",
          "model_name": "HTMLModel",
          "model_module_version": "1.5.0",
          "state": {
            "_view_name": "HTMLView",
            "style": "IPY_MODEL_a63e7e03002e4f41883aadc295b6f2ab",
            "_dom_classes": [],
            "description": "",
            "_model_name": "HTMLModel",
            "placeholder": "​",
            "_view_module": "@jupyter-widgets/controls",
            "_model_module_version": "1.5.0",
            "value": "Downloading: 100%",
            "_view_count": null,
            "_view_module_version": "1.5.0",
            "description_tooltip": null,
            "_model_module": "@jupyter-widgets/controls",
            "layout": "IPY_MODEL_c71b5dcb444f4107af84899ede58265e"
          }
        },
        "8b8580fc2966403cb20fc88533015de4": {
          "model_module": "@jupyter-widgets/controls",
          "model_name": "FloatProgressModel",
          "model_module_version": "1.5.0",
          "state": {
            "_view_name": "ProgressView",
            "style": "IPY_MODEL_503c36d6ccd446c1a0cf7aab4842aa1e",
            "_dom_classes": [],
            "description": "",
            "_model_name": "FloatProgressModel",
            "bar_style": "success",
            "max": 466062,
            "_view_module": "@jupyter-widgets/controls",
            "_model_module_version": "1.5.0",
            "value": 466062,
            "_view_count": null,
            "_view_module_version": "1.5.0",
            "orientation": "horizontal",
            "min": 0,
            "description_tooltip": null,
            "_model_module": "@jupyter-widgets/controls",
            "layout": "IPY_MODEL_a636d98a9d904bfe83ba6170c0105281"
          }
        },
        "9a62d2bf4ba243a982c68e96072bf3ae": {
          "model_module": "@jupyter-widgets/controls",
          "model_name": "HTMLModel",
          "model_module_version": "1.5.0",
          "state": {
            "_view_name": "HTMLView",
            "style": "IPY_MODEL_bec82320835d490e9e2df8e7698f2119",
            "_dom_classes": [],
            "description": "",
            "_model_name": "HTMLModel",
            "placeholder": "​",
            "_view_module": "@jupyter-widgets/controls",
            "_model_module_version": "1.5.0",
            "value": " 466k/466k [00:00&lt;00:00, 1.52MB/s]",
            "_view_count": null,
            "_view_module_version": "1.5.0",
            "description_tooltip": null,
            "_model_module": "@jupyter-widgets/controls",
            "layout": "IPY_MODEL_7264c276cc81461d98fa58a2667e15f9"
          }
        },
        "a63e7e03002e4f41883aadc295b6f2ab": {
          "model_module": "@jupyter-widgets/controls",
          "model_name": "DescriptionStyleModel",
          "model_module_version": "1.5.0",
          "state": {
            "_view_name": "StyleView",
            "_model_name": "DescriptionStyleModel",
            "description_width": "",
            "_view_module": "@jupyter-widgets/base",
            "_model_module_version": "1.5.0",
            "_view_count": null,
            "_view_module_version": "1.2.0",
            "_model_module": "@jupyter-widgets/controls"
          }
        },
        "c71b5dcb444f4107af84899ede58265e": {
          "model_module": "@jupyter-widgets/base",
          "model_name": "LayoutModel",
          "model_module_version": "1.2.0",
          "state": {
            "_view_name": "LayoutView",
            "grid_template_rows": null,
            "right": null,
            "justify_content": null,
            "_view_module": "@jupyter-widgets/base",
            "overflow": null,
            "_model_module_version": "1.2.0",
            "_view_count": null,
            "flex_flow": null,
            "width": null,
            "min_width": null,
            "border": null,
            "align_items": null,
            "bottom": null,
            "_model_module": "@jupyter-widgets/base",
            "top": null,
            "grid_column": null,
            "overflow_y": null,
            "overflow_x": null,
            "grid_auto_flow": null,
            "grid_area": null,
            "grid_template_columns": null,
            "flex": null,
            "_model_name": "LayoutModel",
            "justify_items": null,
            "grid_row": null,
            "max_height": null,
            "align_content": null,
            "visibility": null,
            "align_self": null,
            "height": null,
            "min_height": null,
            "padding": null,
            "grid_auto_rows": null,
            "grid_gap": null,
            "max_width": null,
            "order": null,
            "_view_module_version": "1.2.0",
            "grid_template_areas": null,
            "object_position": null,
            "object_fit": null,
            "grid_auto_columns": null,
            "margin": null,
            "display": null,
            "left": null
          }
        },
        "503c36d6ccd446c1a0cf7aab4842aa1e": {
          "model_module": "@jupyter-widgets/controls",
          "model_name": "ProgressStyleModel",
          "model_module_version": "1.5.0",
          "state": {
            "_view_name": "StyleView",
            "_model_name": "ProgressStyleModel",
            "description_width": "",
            "_view_module": "@jupyter-widgets/base",
            "_model_module_version": "1.5.0",
            "_view_count": null,
            "_view_module_version": "1.2.0",
            "bar_color": null,
            "_model_module": "@jupyter-widgets/controls"
          }
        },
        "a636d98a9d904bfe83ba6170c0105281": {
          "model_module": "@jupyter-widgets/base",
          "model_name": "LayoutModel",
          "model_module_version": "1.2.0",
          "state": {
            "_view_name": "LayoutView",
            "grid_template_rows": null,
            "right": null,
            "justify_content": null,
            "_view_module": "@jupyter-widgets/base",
            "overflow": null,
            "_model_module_version": "1.2.0",
            "_view_count": null,
            "flex_flow": null,
            "width": null,
            "min_width": null,
            "border": null,
            "align_items": null,
            "bottom": null,
            "_model_module": "@jupyter-widgets/base",
            "top": null,
            "grid_column": null,
            "overflow_y": null,
            "overflow_x": null,
            "grid_auto_flow": null,
            "grid_area": null,
            "grid_template_columns": null,
            "flex": null,
            "_model_name": "LayoutModel",
            "justify_items": null,
            "grid_row": null,
            "max_height": null,
            "align_content": null,
            "visibility": null,
            "align_self": null,
            "height": null,
            "min_height": null,
            "padding": null,
            "grid_auto_rows": null,
            "grid_gap": null,
            "max_width": null,
            "order": null,
            "_view_module_version": "1.2.0",
            "grid_template_areas": null,
            "object_position": null,
            "object_fit": null,
            "grid_auto_columns": null,
            "margin": null,
            "display": null,
            "left": null
          }
        },
        "bec82320835d490e9e2df8e7698f2119": {
          "model_module": "@jupyter-widgets/controls",
          "model_name": "DescriptionStyleModel",
          "model_module_version": "1.5.0",
          "state": {
            "_view_name": "StyleView",
            "_model_name": "DescriptionStyleModel",
            "description_width": "",
            "_view_module": "@jupyter-widgets/base",
            "_model_module_version": "1.5.0",
            "_view_count": null,
            "_view_module_version": "1.2.0",
            "_model_module": "@jupyter-widgets/controls"
          }
        },
        "7264c276cc81461d98fa58a2667e15f9": {
          "model_module": "@jupyter-widgets/base",
          "model_name": "LayoutModel",
          "model_module_version": "1.2.0",
          "state": {
            "_view_name": "LayoutView",
            "grid_template_rows": null,
            "right": null,
            "justify_content": null,
            "_view_module": "@jupyter-widgets/base",
            "overflow": null,
            "_model_module_version": "1.2.0",
            "_view_count": null,
            "flex_flow": null,
            "width": null,
            "min_width": null,
            "border": null,
            "align_items": null,
            "bottom": null,
            "_model_module": "@jupyter-widgets/base",
            "top": null,
            "grid_column": null,
            "overflow_y": null,
            "overflow_x": null,
            "grid_auto_flow": null,
            "grid_area": null,
            "grid_template_columns": null,
            "flex": null,
            "_model_name": "LayoutModel",
            "justify_items": null,
            "grid_row": null,
            "max_height": null,
            "align_content": null,
            "visibility": null,
            "align_self": null,
            "height": null,
            "min_height": null,
            "padding": null,
            "grid_auto_rows": null,
            "grid_gap": null,
            "max_width": null,
            "order": null,
            "_view_module_version": "1.2.0",
            "grid_template_areas": null,
            "object_position": null,
            "object_fit": null,
            "grid_auto_columns": null,
            "margin": null,
            "display": null,
            "left": null
          }
        },
        "dd1cd7f455e44579975b55da6c726902": {
          "model_module": "@jupyter-widgets/controls",
          "model_name": "HBoxModel",
          "model_module_version": "1.5.0",
          "state": {
            "_view_name": "HBoxView",
            "_dom_classes": [],
            "_model_name": "HBoxModel",
            "_view_module": "@jupyter-widgets/controls",
            "_model_module_version": "1.5.0",
            "_view_count": null,
            "_view_module_version": "1.5.0",
            "box_style": "",
            "layout": "IPY_MODEL_c0964863116a4be2b97da518d297a3d8",
            "_model_module": "@jupyter-widgets/controls",
            "children": [
              "IPY_MODEL_19c5246053b147fd8398696d07e41497",
              "IPY_MODEL_cdddc809e973452f825eb9ebf8240be6",
              "IPY_MODEL_b158ea32471448a3b91a62cc714b7f32"
            ]
          }
        },
        "c0964863116a4be2b97da518d297a3d8": {
          "model_module": "@jupyter-widgets/base",
          "model_name": "LayoutModel",
          "model_module_version": "1.2.0",
          "state": {
            "_view_name": "LayoutView",
            "grid_template_rows": null,
            "right": null,
            "justify_content": null,
            "_view_module": "@jupyter-widgets/base",
            "overflow": null,
            "_model_module_version": "1.2.0",
            "_view_count": null,
            "flex_flow": null,
            "width": null,
            "min_width": null,
            "border": null,
            "align_items": null,
            "bottom": null,
            "_model_module": "@jupyter-widgets/base",
            "top": null,
            "grid_column": null,
            "overflow_y": null,
            "overflow_x": null,
            "grid_auto_flow": null,
            "grid_area": null,
            "grid_template_columns": null,
            "flex": null,
            "_model_name": "LayoutModel",
            "justify_items": null,
            "grid_row": null,
            "max_height": null,
            "align_content": null,
            "visibility": null,
            "align_self": null,
            "height": null,
            "min_height": null,
            "padding": null,
            "grid_auto_rows": null,
            "grid_gap": null,
            "max_width": null,
            "order": null,
            "_view_module_version": "1.2.0",
            "grid_template_areas": null,
            "object_position": null,
            "object_fit": null,
            "grid_auto_columns": null,
            "margin": null,
            "display": null,
            "left": null
          }
        },
        "19c5246053b147fd8398696d07e41497": {
          "model_module": "@jupyter-widgets/controls",
          "model_name": "HTMLModel",
          "model_module_version": "1.5.0",
          "state": {
            "_view_name": "HTMLView",
            "style": "IPY_MODEL_94451edf348a449f880fa52ffd7dc1e8",
            "_dom_classes": [],
            "description": "",
            "_model_name": "HTMLModel",
            "placeholder": "​",
            "_view_module": "@jupyter-widgets/controls",
            "_model_module_version": "1.5.0",
            "value": "Downloading: 100%",
            "_view_count": null,
            "_view_module_version": "1.5.0",
            "description_tooltip": null,
            "_model_module": "@jupyter-widgets/controls",
            "layout": "IPY_MODEL_c996fd1f0a6e43cda64f465948bbb850"
          }
        },
        "cdddc809e973452f825eb9ebf8240be6": {
          "model_module": "@jupyter-widgets/controls",
          "model_name": "FloatProgressModel",
          "model_module_version": "1.5.0",
          "state": {
            "_view_name": "ProgressView",
            "style": "IPY_MODEL_cd37fe0bb4cd41bcbb61ab9d03460170",
            "_dom_classes": [],
            "description": "",
            "_model_name": "FloatProgressModel",
            "bar_style": "success",
            "max": 570,
            "_view_module": "@jupyter-widgets/controls",
            "_model_module_version": "1.5.0",
            "value": 570,
            "_view_count": null,
            "_view_module_version": "1.5.0",
            "orientation": "horizontal",
            "min": 0,
            "description_tooltip": null,
            "_model_module": "@jupyter-widgets/controls",
            "layout": "IPY_MODEL_0b1ac3b3f3ed44228630abbf317c92b3"
          }
        },
        "b158ea32471448a3b91a62cc714b7f32": {
          "model_module": "@jupyter-widgets/controls",
          "model_name": "HTMLModel",
          "model_module_version": "1.5.0",
          "state": {
            "_view_name": "HTMLView",
            "style": "IPY_MODEL_e9862536ba0749a48257b25f3bd5ab72",
            "_dom_classes": [],
            "description": "",
            "_model_name": "HTMLModel",
            "placeholder": "​",
            "_view_module": "@jupyter-widgets/controls",
            "_model_module_version": "1.5.0",
            "value": " 570/570 [00:00&lt;00:00, 20.5kB/s]",
            "_view_count": null,
            "_view_module_version": "1.5.0",
            "description_tooltip": null,
            "_model_module": "@jupyter-widgets/controls",
            "layout": "IPY_MODEL_cb53fcd97c244f2b909028f8f7b8a0e5"
          }
        },
        "94451edf348a449f880fa52ffd7dc1e8": {
          "model_module": "@jupyter-widgets/controls",
          "model_name": "DescriptionStyleModel",
          "model_module_version": "1.5.0",
          "state": {
            "_view_name": "StyleView",
            "_model_name": "DescriptionStyleModel",
            "description_width": "",
            "_view_module": "@jupyter-widgets/base",
            "_model_module_version": "1.5.0",
            "_view_count": null,
            "_view_module_version": "1.2.0",
            "_model_module": "@jupyter-widgets/controls"
          }
        },
        "c996fd1f0a6e43cda64f465948bbb850": {
          "model_module": "@jupyter-widgets/base",
          "model_name": "LayoutModel",
          "model_module_version": "1.2.0",
          "state": {
            "_view_name": "LayoutView",
            "grid_template_rows": null,
            "right": null,
            "justify_content": null,
            "_view_module": "@jupyter-widgets/base",
            "overflow": null,
            "_model_module_version": "1.2.0",
            "_view_count": null,
            "flex_flow": null,
            "width": null,
            "min_width": null,
            "border": null,
            "align_items": null,
            "bottom": null,
            "_model_module": "@jupyter-widgets/base",
            "top": null,
            "grid_column": null,
            "overflow_y": null,
            "overflow_x": null,
            "grid_auto_flow": null,
            "grid_area": null,
            "grid_template_columns": null,
            "flex": null,
            "_model_name": "LayoutModel",
            "justify_items": null,
            "grid_row": null,
            "max_height": null,
            "align_content": null,
            "visibility": null,
            "align_self": null,
            "height": null,
            "min_height": null,
            "padding": null,
            "grid_auto_rows": null,
            "grid_gap": null,
            "max_width": null,
            "order": null,
            "_view_module_version": "1.2.0",
            "grid_template_areas": null,
            "object_position": null,
            "object_fit": null,
            "grid_auto_columns": null,
            "margin": null,
            "display": null,
            "left": null
          }
        },
        "cd37fe0bb4cd41bcbb61ab9d03460170": {
          "model_module": "@jupyter-widgets/controls",
          "model_name": "ProgressStyleModel",
          "model_module_version": "1.5.0",
          "state": {
            "_view_name": "StyleView",
            "_model_name": "ProgressStyleModel",
            "description_width": "",
            "_view_module": "@jupyter-widgets/base",
            "_model_module_version": "1.5.0",
            "_view_count": null,
            "_view_module_version": "1.2.0",
            "bar_color": null,
            "_model_module": "@jupyter-widgets/controls"
          }
        },
        "0b1ac3b3f3ed44228630abbf317c92b3": {
          "model_module": "@jupyter-widgets/base",
          "model_name": "LayoutModel",
          "model_module_version": "1.2.0",
          "state": {
            "_view_name": "LayoutView",
            "grid_template_rows": null,
            "right": null,
            "justify_content": null,
            "_view_module": "@jupyter-widgets/base",
            "overflow": null,
            "_model_module_version": "1.2.0",
            "_view_count": null,
            "flex_flow": null,
            "width": null,
            "min_width": null,
            "border": null,
            "align_items": null,
            "bottom": null,
            "_model_module": "@jupyter-widgets/base",
            "top": null,
            "grid_column": null,
            "overflow_y": null,
            "overflow_x": null,
            "grid_auto_flow": null,
            "grid_area": null,
            "grid_template_columns": null,
            "flex": null,
            "_model_name": "LayoutModel",
            "justify_items": null,
            "grid_row": null,
            "max_height": null,
            "align_content": null,
            "visibility": null,
            "align_self": null,
            "height": null,
            "min_height": null,
            "padding": null,
            "grid_auto_rows": null,
            "grid_gap": null,
            "max_width": null,
            "order": null,
            "_view_module_version": "1.2.0",
            "grid_template_areas": null,
            "object_position": null,
            "object_fit": null,
            "grid_auto_columns": null,
            "margin": null,
            "display": null,
            "left": null
          }
        },
        "e9862536ba0749a48257b25f3bd5ab72": {
          "model_module": "@jupyter-widgets/controls",
          "model_name": "DescriptionStyleModel",
          "model_module_version": "1.5.0",
          "state": {
            "_view_name": "StyleView",
            "_model_name": "DescriptionStyleModel",
            "description_width": "",
            "_view_module": "@jupyter-widgets/base",
            "_model_module_version": "1.5.0",
            "_view_count": null,
            "_view_module_version": "1.2.0",
            "_model_module": "@jupyter-widgets/controls"
          }
        },
        "cb53fcd97c244f2b909028f8f7b8a0e5": {
          "model_module": "@jupyter-widgets/base",
          "model_name": "LayoutModel",
          "model_module_version": "1.2.0",
          "state": {
            "_view_name": "LayoutView",
            "grid_template_rows": null,
            "right": null,
            "justify_content": null,
            "_view_module": "@jupyter-widgets/base",
            "overflow": null,
            "_model_module_version": "1.2.0",
            "_view_count": null,
            "flex_flow": null,
            "width": null,
            "min_width": null,
            "border": null,
            "align_items": null,
            "bottom": null,
            "_model_module": "@jupyter-widgets/base",
            "top": null,
            "grid_column": null,
            "overflow_y": null,
            "overflow_x": null,
            "grid_auto_flow": null,
            "grid_area": null,
            "grid_template_columns": null,
            "flex": null,
            "_model_name": "LayoutModel",
            "justify_items": null,
            "grid_row": null,
            "max_height": null,
            "align_content": null,
            "visibility": null,
            "align_self": null,
            "height": null,
            "min_height": null,
            "padding": null,
            "grid_auto_rows": null,
            "grid_gap": null,
            "max_width": null,
            "order": null,
            "_view_module_version": "1.2.0",
            "grid_template_areas": null,
            "object_position": null,
            "object_fit": null,
            "grid_auto_columns": null,
            "margin": null,
            "display": null,
            "left": null
          }
        },
        "1eea979bf9a141dbb16cef2d41db544a": {
          "model_module": "@jupyter-widgets/controls",
          "model_name": "HBoxModel",
          "model_module_version": "1.5.0",
          "state": {
            "_view_name": "HBoxView",
            "_dom_classes": [],
            "_model_name": "HBoxModel",
            "_view_module": "@jupyter-widgets/controls",
            "_model_module_version": "1.5.0",
            "_view_count": null,
            "_view_module_version": "1.5.0",
            "box_style": "",
            "layout": "IPY_MODEL_fe09abbaa94d4522a2dbfdd1ed37bd83",
            "_model_module": "@jupyter-widgets/controls",
            "children": [
              "IPY_MODEL_12a86e130cef4fa586311c45ed67bc8a",
              "IPY_MODEL_7fe1d3240d19401091e3de8d8e5aa27e",
              "IPY_MODEL_01005a8c1c3945c890e1a8e632a1563c"
            ]
          }
        },
        "fe09abbaa94d4522a2dbfdd1ed37bd83": {
          "model_module": "@jupyter-widgets/base",
          "model_name": "LayoutModel",
          "model_module_version": "1.2.0",
          "state": {
            "_view_name": "LayoutView",
            "grid_template_rows": null,
            "right": null,
            "justify_content": null,
            "_view_module": "@jupyter-widgets/base",
            "overflow": null,
            "_model_module_version": "1.2.0",
            "_view_count": null,
            "flex_flow": null,
            "width": null,
            "min_width": null,
            "border": null,
            "align_items": null,
            "bottom": null,
            "_model_module": "@jupyter-widgets/base",
            "top": null,
            "grid_column": null,
            "overflow_y": null,
            "overflow_x": null,
            "grid_auto_flow": null,
            "grid_area": null,
            "grid_template_columns": null,
            "flex": null,
            "_model_name": "LayoutModel",
            "justify_items": null,
            "grid_row": null,
            "max_height": null,
            "align_content": null,
            "visibility": null,
            "align_self": null,
            "height": null,
            "min_height": null,
            "padding": null,
            "grid_auto_rows": null,
            "grid_gap": null,
            "max_width": null,
            "order": null,
            "_view_module_version": "1.2.0",
            "grid_template_areas": null,
            "object_position": null,
            "object_fit": null,
            "grid_auto_columns": null,
            "margin": null,
            "display": null,
            "left": null
          }
        },
        "12a86e130cef4fa586311c45ed67bc8a": {
          "model_module": "@jupyter-widgets/controls",
          "model_name": "HTMLModel",
          "model_module_version": "1.5.0",
          "state": {
            "_view_name": "HTMLView",
            "style": "IPY_MODEL_68c872c97f4a48dd96b86a10eb2bd218",
            "_dom_classes": [],
            "description": "",
            "_model_name": "HTMLModel",
            "placeholder": "​",
            "_view_module": "@jupyter-widgets/controls",
            "_model_module_version": "1.5.0",
            "value": "Iterating over questions: ",
            "_view_count": null,
            "_view_module_version": "1.5.0",
            "description_tooltip": null,
            "_model_module": "@jupyter-widgets/controls",
            "layout": "IPY_MODEL_231049d000f84b36aeed82af94af9e98"
          }
        },
        "7fe1d3240d19401091e3de8d8e5aa27e": {
          "model_module": "@jupyter-widgets/controls",
          "model_name": "FloatProgressModel",
          "model_module_version": "1.5.0",
          "state": {
            "_view_name": "ProgressView",
            "style": "IPY_MODEL_daca813682fb4fa79c9981af6d65e1cb",
            "_dom_classes": [],
            "description": "",
            "_model_name": "FloatProgressModel",
            "bar_style": "success",
            "max": 1,
            "_view_module": "@jupyter-widgets/controls",
            "_model_module_version": "1.5.0",
            "value": 1,
            "_view_count": null,
            "_view_module_version": "1.5.0",
            "orientation": "horizontal",
            "min": 0,
            "description_tooltip": null,
            "_model_module": "@jupyter-widgets/controls",
            "layout": "IPY_MODEL_366540eae85e4b95b66318d34a4ac362"
          }
        },
        "01005a8c1c3945c890e1a8e632a1563c": {
          "model_module": "@jupyter-widgets/controls",
          "model_name": "HTMLModel",
          "model_module_version": "1.5.0",
          "state": {
            "_view_name": "HTMLView",
            "style": "IPY_MODEL_92049ecf7d204ba8bcec3fd243c18663",
            "_dom_classes": [],
            "description": "",
            "_model_name": "HTMLModel",
            "placeholder": "​",
            "_view_module": "@jupyter-widgets/controls",
            "_model_module_version": "1.5.0",
            "value": " 3876/? [00:01&lt;00:00, 2206.94it/s]",
            "_view_count": null,
            "_view_module_version": "1.5.0",
            "description_tooltip": null,
            "_model_module": "@jupyter-widgets/controls",
            "layout": "IPY_MODEL_991997c9a60c497fba22b67b8cd9c33f"
          }
        },
        "68c872c97f4a48dd96b86a10eb2bd218": {
          "model_module": "@jupyter-widgets/controls",
          "model_name": "DescriptionStyleModel",
          "model_module_version": "1.5.0",
          "state": {
            "_view_name": "StyleView",
            "_model_name": "DescriptionStyleModel",
            "description_width": "",
            "_view_module": "@jupyter-widgets/base",
            "_model_module_version": "1.5.0",
            "_view_count": null,
            "_view_module_version": "1.2.0",
            "_model_module": "@jupyter-widgets/controls"
          }
        },
        "231049d000f84b36aeed82af94af9e98": {
          "model_module": "@jupyter-widgets/base",
          "model_name": "LayoutModel",
          "model_module_version": "1.2.0",
          "state": {
            "_view_name": "LayoutView",
            "grid_template_rows": null,
            "right": null,
            "justify_content": null,
            "_view_module": "@jupyter-widgets/base",
            "overflow": null,
            "_model_module_version": "1.2.0",
            "_view_count": null,
            "flex_flow": null,
            "width": null,
            "min_width": null,
            "border": null,
            "align_items": null,
            "bottom": null,
            "_model_module": "@jupyter-widgets/base",
            "top": null,
            "grid_column": null,
            "overflow_y": null,
            "overflow_x": null,
            "grid_auto_flow": null,
            "grid_area": null,
            "grid_template_columns": null,
            "flex": null,
            "_model_name": "LayoutModel",
            "justify_items": null,
            "grid_row": null,
            "max_height": null,
            "align_content": null,
            "visibility": null,
            "align_self": null,
            "height": null,
            "min_height": null,
            "padding": null,
            "grid_auto_rows": null,
            "grid_gap": null,
            "max_width": null,
            "order": null,
            "_view_module_version": "1.2.0",
            "grid_template_areas": null,
            "object_position": null,
            "object_fit": null,
            "grid_auto_columns": null,
            "margin": null,
            "display": null,
            "left": null
          }
        },
        "daca813682fb4fa79c9981af6d65e1cb": {
          "model_module": "@jupyter-widgets/controls",
          "model_name": "ProgressStyleModel",
          "model_module_version": "1.5.0",
          "state": {
            "_view_name": "StyleView",
            "_model_name": "ProgressStyleModel",
            "description_width": "",
            "_view_module": "@jupyter-widgets/base",
            "_model_module_version": "1.5.0",
            "_view_count": null,
            "_view_module_version": "1.2.0",
            "bar_color": null,
            "_model_module": "@jupyter-widgets/controls"
          }
        },
        "366540eae85e4b95b66318d34a4ac362": {
          "model_module": "@jupyter-widgets/base",
          "model_name": "LayoutModel",
          "model_module_version": "1.2.0",
          "state": {
            "_view_name": "LayoutView",
            "grid_template_rows": null,
            "right": null,
            "justify_content": null,
            "_view_module": "@jupyter-widgets/base",
            "overflow": null,
            "_model_module_version": "1.2.0",
            "_view_count": null,
            "flex_flow": null,
            "width": "20px",
            "min_width": null,
            "border": null,
            "align_items": null,
            "bottom": null,
            "_model_module": "@jupyter-widgets/base",
            "top": null,
            "grid_column": null,
            "overflow_y": null,
            "overflow_x": null,
            "grid_auto_flow": null,
            "grid_area": null,
            "grid_template_columns": null,
            "flex": null,
            "_model_name": "LayoutModel",
            "justify_items": null,
            "grid_row": null,
            "max_height": null,
            "align_content": null,
            "visibility": null,
            "align_self": null,
            "height": null,
            "min_height": null,
            "padding": null,
            "grid_auto_rows": null,
            "grid_gap": null,
            "max_width": null,
            "order": null,
            "_view_module_version": "1.2.0",
            "grid_template_areas": null,
            "object_position": null,
            "object_fit": null,
            "grid_auto_columns": null,
            "margin": null,
            "display": null,
            "left": null
          }
        },
        "92049ecf7d204ba8bcec3fd243c18663": {
          "model_module": "@jupyter-widgets/controls",
          "model_name": "DescriptionStyleModel",
          "model_module_version": "1.5.0",
          "state": {
            "_view_name": "StyleView",
            "_model_name": "DescriptionStyleModel",
            "description_width": "",
            "_view_module": "@jupyter-widgets/base",
            "_model_module_version": "1.5.0",
            "_view_count": null,
            "_view_module_version": "1.2.0",
            "_model_module": "@jupyter-widgets/controls"
          }
        },
        "991997c9a60c497fba22b67b8cd9c33f": {
          "model_module": "@jupyter-widgets/base",
          "model_name": "LayoutModel",
          "model_module_version": "1.2.0",
          "state": {
            "_view_name": "LayoutView",
            "grid_template_rows": null,
            "right": null,
            "justify_content": null,
            "_view_module": "@jupyter-widgets/base",
            "overflow": null,
            "_model_module_version": "1.2.0",
            "_view_count": null,
            "flex_flow": null,
            "width": null,
            "min_width": null,
            "border": null,
            "align_items": null,
            "bottom": null,
            "_model_module": "@jupyter-widgets/base",
            "top": null,
            "grid_column": null,
            "overflow_y": null,
            "overflow_x": null,
            "grid_auto_flow": null,
            "grid_area": null,
            "grid_template_columns": null,
            "flex": null,
            "_model_name": "LayoutModel",
            "justify_items": null,
            "grid_row": null,
            "max_height": null,
            "align_content": null,
            "visibility": null,
            "align_self": null,
            "height": null,
            "min_height": null,
            "padding": null,
            "grid_auto_rows": null,
            "grid_gap": null,
            "max_width": null,
            "order": null,
            "_view_module_version": "1.2.0",
            "grid_template_areas": null,
            "object_position": null,
            "object_fit": null,
            "grid_auto_columns": null,
            "margin": null,
            "display": null,
            "left": null
          }
        },
        "6be030e608334b238a97d26ff71f6f4a": {
          "model_module": "@jupyter-widgets/controls",
          "model_name": "HBoxModel",
          "model_module_version": "1.5.0",
          "state": {
            "_view_name": "HBoxView",
            "_dom_classes": [],
            "_model_name": "HBoxModel",
            "_view_module": "@jupyter-widgets/controls",
            "_model_module_version": "1.5.0",
            "_view_count": null,
            "_view_module_version": "1.5.0",
            "box_style": "",
            "layout": "IPY_MODEL_d689c6921fd040f19dda7bf5d40bf798",
            "_model_module": "@jupyter-widgets/controls",
            "children": [
              "IPY_MODEL_66b806e7aec44a58892e13986a3de23a",
              "IPY_MODEL_2dd000ebe7554d2abc6dbe0e4236034e",
              "IPY_MODEL_7f4fe706ffc74e27b0331b40d7579535"
            ]
          }
        },
        "d689c6921fd040f19dda7bf5d40bf798": {
          "model_module": "@jupyter-widgets/base",
          "model_name": "LayoutModel",
          "model_module_version": "1.2.0",
          "state": {
            "_view_name": "LayoutView",
            "grid_template_rows": null,
            "right": null,
            "justify_content": null,
            "_view_module": "@jupyter-widgets/base",
            "overflow": null,
            "_model_module_version": "1.2.0",
            "_view_count": null,
            "flex_flow": null,
            "width": null,
            "min_width": null,
            "border": null,
            "align_items": null,
            "bottom": null,
            "_model_module": "@jupyter-widgets/base",
            "top": null,
            "grid_column": null,
            "overflow_y": null,
            "overflow_x": null,
            "grid_auto_flow": null,
            "grid_area": null,
            "grid_template_columns": null,
            "flex": null,
            "_model_name": "LayoutModel",
            "justify_items": null,
            "grid_row": null,
            "max_height": null,
            "align_content": null,
            "visibility": null,
            "align_self": null,
            "height": null,
            "min_height": null,
            "padding": null,
            "grid_auto_rows": null,
            "grid_gap": null,
            "max_width": null,
            "order": null,
            "_view_module_version": "1.2.0",
            "grid_template_areas": null,
            "object_position": null,
            "object_fit": null,
            "grid_auto_columns": null,
            "margin": null,
            "display": null,
            "left": null
          }
        },
        "66b806e7aec44a58892e13986a3de23a": {
          "model_module": "@jupyter-widgets/controls",
          "model_name": "HTMLModel",
          "model_module_version": "1.5.0",
          "state": {
            "_view_name": "HTMLView",
            "style": "IPY_MODEL_054b79c38df047d89b96a167b209cee5",
            "_dom_classes": [],
            "description": "",
            "_model_name": "HTMLModel",
            "placeholder": "​",
            "_view_module": "@jupyter-widgets/controls",
            "_model_module_version": "1.5.0",
            "value": "100%",
            "_view_count": null,
            "_view_module_version": "1.5.0",
            "description_tooltip": null,
            "_model_module": "@jupyter-widgets/controls",
            "layout": "IPY_MODEL_47f3ba4546024cf5b6009eee9d8e4163"
          }
        },
        "2dd000ebe7554d2abc6dbe0e4236034e": {
          "model_module": "@jupyter-widgets/controls",
          "model_name": "FloatProgressModel",
          "model_module_version": "1.5.0",
          "state": {
            "_view_name": "ProgressView",
            "style": "IPY_MODEL_1cb9f889d45b49b4a9f887fa8aa4c5b9",
            "_dom_classes": [],
            "description": "",
            "_model_name": "FloatProgressModel",
            "bar_style": "success",
            "max": 48,
            "_view_module": "@jupyter-widgets/controls",
            "_model_module_version": "1.5.0",
            "value": 48,
            "_view_count": null,
            "_view_module_version": "1.5.0",
            "orientation": "horizontal",
            "min": 0,
            "description_tooltip": null,
            "_model_module": "@jupyter-widgets/controls",
            "layout": "IPY_MODEL_9972d28baae448f280a59d5a534cf919"
          }
        },
        "7f4fe706ffc74e27b0331b40d7579535": {
          "model_module": "@jupyter-widgets/controls",
          "model_name": "HTMLModel",
          "model_module_version": "1.5.0",
          "state": {
            "_view_name": "HTMLView",
            "style": "IPY_MODEL_96f96c88f4f94a2f9732bba3c95435f5",
            "_dom_classes": [],
            "description": "",
            "_model_name": "HTMLModel",
            "placeholder": "​",
            "_view_module": "@jupyter-widgets/controls",
            "_model_module_version": "1.5.0",
            "value": " 48/48 [00:10&lt;00:00,  4.54it/s]",
            "_view_count": null,
            "_view_module_version": "1.5.0",
            "description_tooltip": null,
            "_model_module": "@jupyter-widgets/controls",
            "layout": "IPY_MODEL_594719f5c9b3452da0f761f63b47bbc1"
          }
        },
        "054b79c38df047d89b96a167b209cee5": {
          "model_module": "@jupyter-widgets/controls",
          "model_name": "DescriptionStyleModel",
          "model_module_version": "1.5.0",
          "state": {
            "_view_name": "StyleView",
            "_model_name": "DescriptionStyleModel",
            "description_width": "",
            "_view_module": "@jupyter-widgets/base",
            "_model_module_version": "1.5.0",
            "_view_count": null,
            "_view_module_version": "1.2.0",
            "_model_module": "@jupyter-widgets/controls"
          }
        },
        "47f3ba4546024cf5b6009eee9d8e4163": {
          "model_module": "@jupyter-widgets/base",
          "model_name": "LayoutModel",
          "model_module_version": "1.2.0",
          "state": {
            "_view_name": "LayoutView",
            "grid_template_rows": null,
            "right": null,
            "justify_content": null,
            "_view_module": "@jupyter-widgets/base",
            "overflow": null,
            "_model_module_version": "1.2.0",
            "_view_count": null,
            "flex_flow": null,
            "width": null,
            "min_width": null,
            "border": null,
            "align_items": null,
            "bottom": null,
            "_model_module": "@jupyter-widgets/base",
            "top": null,
            "grid_column": null,
            "overflow_y": null,
            "overflow_x": null,
            "grid_auto_flow": null,
            "grid_area": null,
            "grid_template_columns": null,
            "flex": null,
            "_model_name": "LayoutModel",
            "justify_items": null,
            "grid_row": null,
            "max_height": null,
            "align_content": null,
            "visibility": null,
            "align_self": null,
            "height": null,
            "min_height": null,
            "padding": null,
            "grid_auto_rows": null,
            "grid_gap": null,
            "max_width": null,
            "order": null,
            "_view_module_version": "1.2.0",
            "grid_template_areas": null,
            "object_position": null,
            "object_fit": null,
            "grid_auto_columns": null,
            "margin": null,
            "display": null,
            "left": null
          }
        },
        "1cb9f889d45b49b4a9f887fa8aa4c5b9": {
          "model_module": "@jupyter-widgets/controls",
          "model_name": "ProgressStyleModel",
          "model_module_version": "1.5.0",
          "state": {
            "_view_name": "StyleView",
            "_model_name": "ProgressStyleModel",
            "description_width": "",
            "_view_module": "@jupyter-widgets/base",
            "_model_module_version": "1.5.0",
            "_view_count": null,
            "_view_module_version": "1.2.0",
            "bar_color": null,
            "_model_module": "@jupyter-widgets/controls"
          }
        },
        "9972d28baae448f280a59d5a534cf919": {
          "model_module": "@jupyter-widgets/base",
          "model_name": "LayoutModel",
          "model_module_version": "1.2.0",
          "state": {
            "_view_name": "LayoutView",
            "grid_template_rows": null,
            "right": null,
            "justify_content": null,
            "_view_module": "@jupyter-widgets/base",
            "overflow": null,
            "_model_module_version": "1.2.0",
            "_view_count": null,
            "flex_flow": null,
            "width": null,
            "min_width": null,
            "border": null,
            "align_items": null,
            "bottom": null,
            "_model_module": "@jupyter-widgets/base",
            "top": null,
            "grid_column": null,
            "overflow_y": null,
            "overflow_x": null,
            "grid_auto_flow": null,
            "grid_area": null,
            "grid_template_columns": null,
            "flex": null,
            "_model_name": "LayoutModel",
            "justify_items": null,
            "grid_row": null,
            "max_height": null,
            "align_content": null,
            "visibility": null,
            "align_self": null,
            "height": null,
            "min_height": null,
            "padding": null,
            "grid_auto_rows": null,
            "grid_gap": null,
            "max_width": null,
            "order": null,
            "_view_module_version": "1.2.0",
            "grid_template_areas": null,
            "object_position": null,
            "object_fit": null,
            "grid_auto_columns": null,
            "margin": null,
            "display": null,
            "left": null
          }
        },
        "96f96c88f4f94a2f9732bba3c95435f5": {
          "model_module": "@jupyter-widgets/controls",
          "model_name": "DescriptionStyleModel",
          "model_module_version": "1.5.0",
          "state": {
            "_view_name": "StyleView",
            "_model_name": "DescriptionStyleModel",
            "description_width": "",
            "_view_module": "@jupyter-widgets/base",
            "_model_module_version": "1.5.0",
            "_view_count": null,
            "_view_module_version": "1.2.0",
            "_model_module": "@jupyter-widgets/controls"
          }
        },
        "594719f5c9b3452da0f761f63b47bbc1": {
          "model_module": "@jupyter-widgets/base",
          "model_name": "LayoutModel",
          "model_module_version": "1.2.0",
          "state": {
            "_view_name": "LayoutView",
            "grid_template_rows": null,
            "right": null,
            "justify_content": null,
            "_view_module": "@jupyter-widgets/base",
            "overflow": null,
            "_model_module_version": "1.2.0",
            "_view_count": null,
            "flex_flow": null,
            "width": null,
            "min_width": null,
            "border": null,
            "align_items": null,
            "bottom": null,
            "_model_module": "@jupyter-widgets/base",
            "top": null,
            "grid_column": null,
            "overflow_y": null,
            "overflow_x": null,
            "grid_auto_flow": null,
            "grid_area": null,
            "grid_template_columns": null,
            "flex": null,
            "_model_name": "LayoutModel",
            "justify_items": null,
            "grid_row": null,
            "max_height": null,
            "align_content": null,
            "visibility": null,
            "align_self": null,
            "height": null,
            "min_height": null,
            "padding": null,
            "grid_auto_rows": null,
            "grid_gap": null,
            "max_width": null,
            "order": null,
            "_view_module_version": "1.2.0",
            "grid_template_areas": null,
            "object_position": null,
            "object_fit": null,
            "grid_auto_columns": null,
            "margin": null,
            "display": null,
            "left": null
          }
        },
        "7061c794e55b4192ad860bb3b4b81184": {
          "model_module": "@jupyter-widgets/controls",
          "model_name": "HBoxModel",
          "model_module_version": "1.5.0",
          "state": {
            "_view_name": "HBoxView",
            "_dom_classes": [],
            "_model_name": "HBoxModel",
            "_view_module": "@jupyter-widgets/controls",
            "_model_module_version": "1.5.0",
            "_view_count": null,
            "_view_module_version": "1.5.0",
            "box_style": "",
            "layout": "IPY_MODEL_680a442731ad482999f8685f4b2862b0",
            "_model_module": "@jupyter-widgets/controls",
            "children": [
              "IPY_MODEL_a4d6d487f0aa46c38a8da6d604aa4207",
              "IPY_MODEL_4f0a30ef3d7f4316bd69372396f3d386",
              "IPY_MODEL_fb0242f930f8472dacdecb32c51878a7"
            ]
          }
        },
        "680a442731ad482999f8685f4b2862b0": {
          "model_module": "@jupyter-widgets/base",
          "model_name": "LayoutModel",
          "model_module_version": "1.2.0",
          "state": {
            "_view_name": "LayoutView",
            "grid_template_rows": null,
            "right": null,
            "justify_content": null,
            "_view_module": "@jupyter-widgets/base",
            "overflow": null,
            "_model_module_version": "1.2.0",
            "_view_count": null,
            "flex_flow": null,
            "width": null,
            "min_width": null,
            "border": null,
            "align_items": null,
            "bottom": null,
            "_model_module": "@jupyter-widgets/base",
            "top": null,
            "grid_column": null,
            "overflow_y": null,
            "overflow_x": null,
            "grid_auto_flow": null,
            "grid_area": null,
            "grid_template_columns": null,
            "flex": null,
            "_model_name": "LayoutModel",
            "justify_items": null,
            "grid_row": null,
            "max_height": null,
            "align_content": null,
            "visibility": null,
            "align_self": null,
            "height": null,
            "min_height": null,
            "padding": null,
            "grid_auto_rows": null,
            "grid_gap": null,
            "max_width": null,
            "order": null,
            "_view_module_version": "1.2.0",
            "grid_template_areas": null,
            "object_position": null,
            "object_fit": null,
            "grid_auto_columns": null,
            "margin": null,
            "display": null,
            "left": null
          }
        },
        "a4d6d487f0aa46c38a8da6d604aa4207": {
          "model_module": "@jupyter-widgets/controls",
          "model_name": "HTMLModel",
          "model_module_version": "1.5.0",
          "state": {
            "_view_name": "HTMLView",
            "style": "IPY_MODEL_146eb2abd2a1485fb78f15f32c11c627",
            "_dom_classes": [],
            "description": "",
            "_model_name": "HTMLModel",
            "placeholder": "​",
            "_view_module": "@jupyter-widgets/controls",
            "_model_module_version": "1.5.0",
            "value": "100%",
            "_view_count": null,
            "_view_module_version": "1.5.0",
            "description_tooltip": null,
            "_model_module": "@jupyter-widgets/controls",
            "layout": "IPY_MODEL_f992b70bb924404994c1f15afbfef9a5"
          }
        },
        "4f0a30ef3d7f4316bd69372396f3d386": {
          "model_module": "@jupyter-widgets/controls",
          "model_name": "FloatProgressModel",
          "model_module_version": "1.5.0",
          "state": {
            "_view_name": "ProgressView",
            "style": "IPY_MODEL_c2c59142cb114aa6b72559cb99707faf",
            "_dom_classes": [],
            "description": "",
            "_model_name": "FloatProgressModel",
            "bar_style": "success",
            "max": 48,
            "_view_module": "@jupyter-widgets/controls",
            "_model_module_version": "1.5.0",
            "value": 48,
            "_view_count": null,
            "_view_module_version": "1.5.0",
            "orientation": "horizontal",
            "min": 0,
            "description_tooltip": null,
            "_model_module": "@jupyter-widgets/controls",
            "layout": "IPY_MODEL_d35bdbcfac5846cd80bc3fab81d2081e"
          }
        },
        "fb0242f930f8472dacdecb32c51878a7": {
          "model_module": "@jupyter-widgets/controls",
          "model_name": "HTMLModel",
          "model_module_version": "1.5.0",
          "state": {
            "_view_name": "HTMLView",
            "style": "IPY_MODEL_5a5169adc9504a9fbceeb37507df8410",
            "_dom_classes": [],
            "description": "",
            "_model_name": "HTMLModel",
            "placeholder": "​",
            "_view_module": "@jupyter-widgets/controls",
            "_model_module_version": "1.5.0",
            "value": " 48/48 [00:10&lt;00:00,  4.56it/s]",
            "_view_count": null,
            "_view_module_version": "1.5.0",
            "description_tooltip": null,
            "_model_module": "@jupyter-widgets/controls",
            "layout": "IPY_MODEL_898a1abc0de24c33bbb29b7fa39b4730"
          }
        },
        "146eb2abd2a1485fb78f15f32c11c627": {
          "model_module": "@jupyter-widgets/controls",
          "model_name": "DescriptionStyleModel",
          "model_module_version": "1.5.0",
          "state": {
            "_view_name": "StyleView",
            "_model_name": "DescriptionStyleModel",
            "description_width": "",
            "_view_module": "@jupyter-widgets/base",
            "_model_module_version": "1.5.0",
            "_view_count": null,
            "_view_module_version": "1.2.0",
            "_model_module": "@jupyter-widgets/controls"
          }
        },
        "f992b70bb924404994c1f15afbfef9a5": {
          "model_module": "@jupyter-widgets/base",
          "model_name": "LayoutModel",
          "model_module_version": "1.2.0",
          "state": {
            "_view_name": "LayoutView",
            "grid_template_rows": null,
            "right": null,
            "justify_content": null,
            "_view_module": "@jupyter-widgets/base",
            "overflow": null,
            "_model_module_version": "1.2.0",
            "_view_count": null,
            "flex_flow": null,
            "width": null,
            "min_width": null,
            "border": null,
            "align_items": null,
            "bottom": null,
            "_model_module": "@jupyter-widgets/base",
            "top": null,
            "grid_column": null,
            "overflow_y": null,
            "overflow_x": null,
            "grid_auto_flow": null,
            "grid_area": null,
            "grid_template_columns": null,
            "flex": null,
            "_model_name": "LayoutModel",
            "justify_items": null,
            "grid_row": null,
            "max_height": null,
            "align_content": null,
            "visibility": null,
            "align_self": null,
            "height": null,
            "min_height": null,
            "padding": null,
            "grid_auto_rows": null,
            "grid_gap": null,
            "max_width": null,
            "order": null,
            "_view_module_version": "1.2.0",
            "grid_template_areas": null,
            "object_position": null,
            "object_fit": null,
            "grid_auto_columns": null,
            "margin": null,
            "display": null,
            "left": null
          }
        },
        "c2c59142cb114aa6b72559cb99707faf": {
          "model_module": "@jupyter-widgets/controls",
          "model_name": "ProgressStyleModel",
          "model_module_version": "1.5.0",
          "state": {
            "_view_name": "StyleView",
            "_model_name": "ProgressStyleModel",
            "description_width": "",
            "_view_module": "@jupyter-widgets/base",
            "_model_module_version": "1.5.0",
            "_view_count": null,
            "_view_module_version": "1.2.0",
            "bar_color": null,
            "_model_module": "@jupyter-widgets/controls"
          }
        },
        "d35bdbcfac5846cd80bc3fab81d2081e": {
          "model_module": "@jupyter-widgets/base",
          "model_name": "LayoutModel",
          "model_module_version": "1.2.0",
          "state": {
            "_view_name": "LayoutView",
            "grid_template_rows": null,
            "right": null,
            "justify_content": null,
            "_view_module": "@jupyter-widgets/base",
            "overflow": null,
            "_model_module_version": "1.2.0",
            "_view_count": null,
            "flex_flow": null,
            "width": null,
            "min_width": null,
            "border": null,
            "align_items": null,
            "bottom": null,
            "_model_module": "@jupyter-widgets/base",
            "top": null,
            "grid_column": null,
            "overflow_y": null,
            "overflow_x": null,
            "grid_auto_flow": null,
            "grid_area": null,
            "grid_template_columns": null,
            "flex": null,
            "_model_name": "LayoutModel",
            "justify_items": null,
            "grid_row": null,
            "max_height": null,
            "align_content": null,
            "visibility": null,
            "align_self": null,
            "height": null,
            "min_height": null,
            "padding": null,
            "grid_auto_rows": null,
            "grid_gap": null,
            "max_width": null,
            "order": null,
            "_view_module_version": "1.2.0",
            "grid_template_areas": null,
            "object_position": null,
            "object_fit": null,
            "grid_auto_columns": null,
            "margin": null,
            "display": null,
            "left": null
          }
        },
        "5a5169adc9504a9fbceeb37507df8410": {
          "model_module": "@jupyter-widgets/controls",
          "model_name": "DescriptionStyleModel",
          "model_module_version": "1.5.0",
          "state": {
            "_view_name": "StyleView",
            "_model_name": "DescriptionStyleModel",
            "description_width": "",
            "_view_module": "@jupyter-widgets/base",
            "_model_module_version": "1.5.0",
            "_view_count": null,
            "_view_module_version": "1.2.0",
            "_model_module": "@jupyter-widgets/controls"
          }
        },
        "898a1abc0de24c33bbb29b7fa39b4730": {
          "model_module": "@jupyter-widgets/base",
          "model_name": "LayoutModel",
          "model_module_version": "1.2.0",
          "state": {
            "_view_name": "LayoutView",
            "grid_template_rows": null,
            "right": null,
            "justify_content": null,
            "_view_module": "@jupyter-widgets/base",
            "overflow": null,
            "_model_module_version": "1.2.0",
            "_view_count": null,
            "flex_flow": null,
            "width": null,
            "min_width": null,
            "border": null,
            "align_items": null,
            "bottom": null,
            "_model_module": "@jupyter-widgets/base",
            "top": null,
            "grid_column": null,
            "overflow_y": null,
            "overflow_x": null,
            "grid_auto_flow": null,
            "grid_area": null,
            "grid_template_columns": null,
            "flex": null,
            "_model_name": "LayoutModel",
            "justify_items": null,
            "grid_row": null,
            "max_height": null,
            "align_content": null,
            "visibility": null,
            "align_self": null,
            "height": null,
            "min_height": null,
            "padding": null,
            "grid_auto_rows": null,
            "grid_gap": null,
            "max_width": null,
            "order": null,
            "_view_module_version": "1.2.0",
            "grid_template_areas": null,
            "object_position": null,
            "object_fit": null,
            "grid_auto_columns": null,
            "margin": null,
            "display": null,
            "left": null
          }
        },
        "a1dd18fd63694c068040054395863997": {
          "model_module": "@jupyter-widgets/controls",
          "model_name": "HBoxModel",
          "model_module_version": "1.5.0",
          "state": {
            "_view_name": "HBoxView",
            "_dom_classes": [],
            "_model_name": "HBoxModel",
            "_view_module": "@jupyter-widgets/controls",
            "_model_module_version": "1.5.0",
            "_view_count": null,
            "_view_module_version": "1.5.0",
            "box_style": "",
            "layout": "IPY_MODEL_3bf96765ea5d4fdd93014513dec2c68b",
            "_model_module": "@jupyter-widgets/controls",
            "children": [
              "IPY_MODEL_0d94769f70db45ef9986c5d6d29fad82",
              "IPY_MODEL_af510c95a42e463ebddcc01ad7634e17",
              "IPY_MODEL_49d258552ef646c8a4e59ef55c663fb2"
            ]
          }
        },
        "3bf96765ea5d4fdd93014513dec2c68b": {
          "model_module": "@jupyter-widgets/base",
          "model_name": "LayoutModel",
          "model_module_version": "1.2.0",
          "state": {
            "_view_name": "LayoutView",
            "grid_template_rows": null,
            "right": null,
            "justify_content": null,
            "_view_module": "@jupyter-widgets/base",
            "overflow": null,
            "_model_module_version": "1.2.0",
            "_view_count": null,
            "flex_flow": null,
            "width": null,
            "min_width": null,
            "border": null,
            "align_items": null,
            "bottom": null,
            "_model_module": "@jupyter-widgets/base",
            "top": null,
            "grid_column": null,
            "overflow_y": null,
            "overflow_x": null,
            "grid_auto_flow": null,
            "grid_area": null,
            "grid_template_columns": null,
            "flex": null,
            "_model_name": "LayoutModel",
            "justify_items": null,
            "grid_row": null,
            "max_height": null,
            "align_content": null,
            "visibility": null,
            "align_self": null,
            "height": null,
            "min_height": null,
            "padding": null,
            "grid_auto_rows": null,
            "grid_gap": null,
            "max_width": null,
            "order": null,
            "_view_module_version": "1.2.0",
            "grid_template_areas": null,
            "object_position": null,
            "object_fit": null,
            "grid_auto_columns": null,
            "margin": null,
            "display": null,
            "left": null
          }
        },
        "0d94769f70db45ef9986c5d6d29fad82": {
          "model_module": "@jupyter-widgets/controls",
          "model_name": "HTMLModel",
          "model_module_version": "1.5.0",
          "state": {
            "_view_name": "HTMLView",
            "style": "IPY_MODEL_b453aea3f3b24d3394bd40bc9c8b8f1a",
            "_dom_classes": [],
            "description": "",
            "_model_name": "HTMLModel",
            "placeholder": "​",
            "_view_module": "@jupyter-widgets/controls",
            "_model_module_version": "1.5.0",
            "value": "100%",
            "_view_count": null,
            "_view_module_version": "1.5.0",
            "description_tooltip": null,
            "_model_module": "@jupyter-widgets/controls",
            "layout": "IPY_MODEL_0ccb7615b4c54d77a15e1de0b26417d6"
          }
        },
        "af510c95a42e463ebddcc01ad7634e17": {
          "model_module": "@jupyter-widgets/controls",
          "model_name": "FloatProgressModel",
          "model_module_version": "1.5.0",
          "state": {
            "_view_name": "ProgressView",
            "style": "IPY_MODEL_fe63d44619ab47b2949011910c6d0805",
            "_dom_classes": [],
            "description": "",
            "_model_name": "FloatProgressModel",
            "bar_style": "success",
            "max": 48,
            "_view_module": "@jupyter-widgets/controls",
            "_model_module_version": "1.5.0",
            "value": 48,
            "_view_count": null,
            "_view_module_version": "1.5.0",
            "orientation": "horizontal",
            "min": 0,
            "description_tooltip": null,
            "_model_module": "@jupyter-widgets/controls",
            "layout": "IPY_MODEL_498a3bbb7ca2472bb0c59bf53971e93b"
          }
        },
        "49d258552ef646c8a4e59ef55c663fb2": {
          "model_module": "@jupyter-widgets/controls",
          "model_name": "HTMLModel",
          "model_module_version": "1.5.0",
          "state": {
            "_view_name": "HTMLView",
            "style": "IPY_MODEL_816535281c0b4dfcabca77ce2a86891e",
            "_dom_classes": [],
            "description": "",
            "_model_name": "HTMLModel",
            "placeholder": "​",
            "_view_module": "@jupyter-widgets/controls",
            "_model_module_version": "1.5.0",
            "value": " 48/48 [00:10&lt;00:00,  4.47it/s]",
            "_view_count": null,
            "_view_module_version": "1.5.0",
            "description_tooltip": null,
            "_model_module": "@jupyter-widgets/controls",
            "layout": "IPY_MODEL_ffed12624aa24e638ed2b48644215ecf"
          }
        },
        "b453aea3f3b24d3394bd40bc9c8b8f1a": {
          "model_module": "@jupyter-widgets/controls",
          "model_name": "DescriptionStyleModel",
          "model_module_version": "1.5.0",
          "state": {
            "_view_name": "StyleView",
            "_model_name": "DescriptionStyleModel",
            "description_width": "",
            "_view_module": "@jupyter-widgets/base",
            "_model_module_version": "1.5.0",
            "_view_count": null,
            "_view_module_version": "1.2.0",
            "_model_module": "@jupyter-widgets/controls"
          }
        },
        "0ccb7615b4c54d77a15e1de0b26417d6": {
          "model_module": "@jupyter-widgets/base",
          "model_name": "LayoutModel",
          "model_module_version": "1.2.0",
          "state": {
            "_view_name": "LayoutView",
            "grid_template_rows": null,
            "right": null,
            "justify_content": null,
            "_view_module": "@jupyter-widgets/base",
            "overflow": null,
            "_model_module_version": "1.2.0",
            "_view_count": null,
            "flex_flow": null,
            "width": null,
            "min_width": null,
            "border": null,
            "align_items": null,
            "bottom": null,
            "_model_module": "@jupyter-widgets/base",
            "top": null,
            "grid_column": null,
            "overflow_y": null,
            "overflow_x": null,
            "grid_auto_flow": null,
            "grid_area": null,
            "grid_template_columns": null,
            "flex": null,
            "_model_name": "LayoutModel",
            "justify_items": null,
            "grid_row": null,
            "max_height": null,
            "align_content": null,
            "visibility": null,
            "align_self": null,
            "height": null,
            "min_height": null,
            "padding": null,
            "grid_auto_rows": null,
            "grid_gap": null,
            "max_width": null,
            "order": null,
            "_view_module_version": "1.2.0",
            "grid_template_areas": null,
            "object_position": null,
            "object_fit": null,
            "grid_auto_columns": null,
            "margin": null,
            "display": null,
            "left": null
          }
        },
        "fe63d44619ab47b2949011910c6d0805": {
          "model_module": "@jupyter-widgets/controls",
          "model_name": "ProgressStyleModel",
          "model_module_version": "1.5.0",
          "state": {
            "_view_name": "StyleView",
            "_model_name": "ProgressStyleModel",
            "description_width": "",
            "_view_module": "@jupyter-widgets/base",
            "_model_module_version": "1.5.0",
            "_view_count": null,
            "_view_module_version": "1.2.0",
            "bar_color": null,
            "_model_module": "@jupyter-widgets/controls"
          }
        },
        "498a3bbb7ca2472bb0c59bf53971e93b": {
          "model_module": "@jupyter-widgets/base",
          "model_name": "LayoutModel",
          "model_module_version": "1.2.0",
          "state": {
            "_view_name": "LayoutView",
            "grid_template_rows": null,
            "right": null,
            "justify_content": null,
            "_view_module": "@jupyter-widgets/base",
            "overflow": null,
            "_model_module_version": "1.2.0",
            "_view_count": null,
            "flex_flow": null,
            "width": null,
            "min_width": null,
            "border": null,
            "align_items": null,
            "bottom": null,
            "_model_module": "@jupyter-widgets/base",
            "top": null,
            "grid_column": null,
            "overflow_y": null,
            "overflow_x": null,
            "grid_auto_flow": null,
            "grid_area": null,
            "grid_template_columns": null,
            "flex": null,
            "_model_name": "LayoutModel",
            "justify_items": null,
            "grid_row": null,
            "max_height": null,
            "align_content": null,
            "visibility": null,
            "align_self": null,
            "height": null,
            "min_height": null,
            "padding": null,
            "grid_auto_rows": null,
            "grid_gap": null,
            "max_width": null,
            "order": null,
            "_view_module_version": "1.2.0",
            "grid_template_areas": null,
            "object_position": null,
            "object_fit": null,
            "grid_auto_columns": null,
            "margin": null,
            "display": null,
            "left": null
          }
        },
        "816535281c0b4dfcabca77ce2a86891e": {
          "model_module": "@jupyter-widgets/controls",
          "model_name": "DescriptionStyleModel",
          "model_module_version": "1.5.0",
          "state": {
            "_view_name": "StyleView",
            "_model_name": "DescriptionStyleModel",
            "description_width": "",
            "_view_module": "@jupyter-widgets/base",
            "_model_module_version": "1.5.0",
            "_view_count": null,
            "_view_module_version": "1.2.0",
            "_model_module": "@jupyter-widgets/controls"
          }
        },
        "ffed12624aa24e638ed2b48644215ecf": {
          "model_module": "@jupyter-widgets/base",
          "model_name": "LayoutModel",
          "model_module_version": "1.2.0",
          "state": {
            "_view_name": "LayoutView",
            "grid_template_rows": null,
            "right": null,
            "justify_content": null,
            "_view_module": "@jupyter-widgets/base",
            "overflow": null,
            "_model_module_version": "1.2.0",
            "_view_count": null,
            "flex_flow": null,
            "width": null,
            "min_width": null,
            "border": null,
            "align_items": null,
            "bottom": null,
            "_model_module": "@jupyter-widgets/base",
            "top": null,
            "grid_column": null,
            "overflow_y": null,
            "overflow_x": null,
            "grid_auto_flow": null,
            "grid_area": null,
            "grid_template_columns": null,
            "flex": null,
            "_model_name": "LayoutModel",
            "justify_items": null,
            "grid_row": null,
            "max_height": null,
            "align_content": null,
            "visibility": null,
            "align_self": null,
            "height": null,
            "min_height": null,
            "padding": null,
            "grid_auto_rows": null,
            "grid_gap": null,
            "max_width": null,
            "order": null,
            "_view_module_version": "1.2.0",
            "grid_template_areas": null,
            "object_position": null,
            "object_fit": null,
            "grid_auto_columns": null,
            "margin": null,
            "display": null,
            "left": null
          }
        },
        "c54410bb5472424c81fc23c8ee3ea613": {
          "model_module": "@jupyter-widgets/controls",
          "model_name": "HBoxModel",
          "model_module_version": "1.5.0",
          "state": {
            "_view_name": "HBoxView",
            "_dom_classes": [],
            "_model_name": "HBoxModel",
            "_view_module": "@jupyter-widgets/controls",
            "_model_module_version": "1.5.0",
            "_view_count": null,
            "_view_module_version": "1.5.0",
            "box_style": "",
            "layout": "IPY_MODEL_c20303e62f7641998ab4ec2f331f4122",
            "_model_module": "@jupyter-widgets/controls",
            "children": [
              "IPY_MODEL_7600e7e825dc4d11a230b1f3cef3ebda",
              "IPY_MODEL_ca7f067d5c124ed496dd48579a3b84bd",
              "IPY_MODEL_aaf6fe7a5fc1404bac671d8a92d6f8b2"
            ]
          }
        },
        "c20303e62f7641998ab4ec2f331f4122": {
          "model_module": "@jupyter-widgets/base",
          "model_name": "LayoutModel",
          "model_module_version": "1.2.0",
          "state": {
            "_view_name": "LayoutView",
            "grid_template_rows": null,
            "right": null,
            "justify_content": null,
            "_view_module": "@jupyter-widgets/base",
            "overflow": null,
            "_model_module_version": "1.2.0",
            "_view_count": null,
            "flex_flow": null,
            "width": null,
            "min_width": null,
            "border": null,
            "align_items": null,
            "bottom": null,
            "_model_module": "@jupyter-widgets/base",
            "top": null,
            "grid_column": null,
            "overflow_y": null,
            "overflow_x": null,
            "grid_auto_flow": null,
            "grid_area": null,
            "grid_template_columns": null,
            "flex": null,
            "_model_name": "LayoutModel",
            "justify_items": null,
            "grid_row": null,
            "max_height": null,
            "align_content": null,
            "visibility": null,
            "align_self": null,
            "height": null,
            "min_height": null,
            "padding": null,
            "grid_auto_rows": null,
            "grid_gap": null,
            "max_width": null,
            "order": null,
            "_view_module_version": "1.2.0",
            "grid_template_areas": null,
            "object_position": null,
            "object_fit": null,
            "grid_auto_columns": null,
            "margin": null,
            "display": null,
            "left": null
          }
        },
        "7600e7e825dc4d11a230b1f3cef3ebda": {
          "model_module": "@jupyter-widgets/controls",
          "model_name": "HTMLModel",
          "model_module_version": "1.5.0",
          "state": {
            "_view_name": "HTMLView",
            "style": "IPY_MODEL_77f34f0e26a54ff9bc6acd16710d3c05",
            "_dom_classes": [],
            "description": "",
            "_model_name": "HTMLModel",
            "placeholder": "​",
            "_view_module": "@jupyter-widgets/controls",
            "_model_module_version": "1.5.0",
            "value": "100%",
            "_view_count": null,
            "_view_module_version": "1.5.0",
            "description_tooltip": null,
            "_model_module": "@jupyter-widgets/controls",
            "layout": "IPY_MODEL_b0ac9d98479441e3a10c169c0eea33df"
          }
        },
        "ca7f067d5c124ed496dd48579a3b84bd": {
          "model_module": "@jupyter-widgets/controls",
          "model_name": "FloatProgressModel",
          "model_module_version": "1.5.0",
          "state": {
            "_view_name": "ProgressView",
            "style": "IPY_MODEL_f6b95e093eec4312a95f5d149fb2735e",
            "_dom_classes": [],
            "description": "",
            "_model_name": "FloatProgressModel",
            "bar_style": "success",
            "max": 48,
            "_view_module": "@jupyter-widgets/controls",
            "_model_module_version": "1.5.0",
            "value": 48,
            "_view_count": null,
            "_view_module_version": "1.5.0",
            "orientation": "horizontal",
            "min": 0,
            "description_tooltip": null,
            "_model_module": "@jupyter-widgets/controls",
            "layout": "IPY_MODEL_154da5a3d5a5439d994c84e858895f99"
          }
        },
        "aaf6fe7a5fc1404bac671d8a92d6f8b2": {
          "model_module": "@jupyter-widgets/controls",
          "model_name": "HTMLModel",
          "model_module_version": "1.5.0",
          "state": {
            "_view_name": "HTMLView",
            "style": "IPY_MODEL_cb8580d030f84fc798eb29ee80d3f8b1",
            "_dom_classes": [],
            "description": "",
            "_model_name": "HTMLModel",
            "placeholder": "​",
            "_view_module": "@jupyter-widgets/controls",
            "_model_module_version": "1.5.0",
            "value": " 48/48 [00:10&lt;00:00,  4.60it/s]",
            "_view_count": null,
            "_view_module_version": "1.5.0",
            "description_tooltip": null,
            "_model_module": "@jupyter-widgets/controls",
            "layout": "IPY_MODEL_864377a42605405e8fc8fa508410660f"
          }
        },
        "77f34f0e26a54ff9bc6acd16710d3c05": {
          "model_module": "@jupyter-widgets/controls",
          "model_name": "DescriptionStyleModel",
          "model_module_version": "1.5.0",
          "state": {
            "_view_name": "StyleView",
            "_model_name": "DescriptionStyleModel",
            "description_width": "",
            "_view_module": "@jupyter-widgets/base",
            "_model_module_version": "1.5.0",
            "_view_count": null,
            "_view_module_version": "1.2.0",
            "_model_module": "@jupyter-widgets/controls"
          }
        },
        "b0ac9d98479441e3a10c169c0eea33df": {
          "model_module": "@jupyter-widgets/base",
          "model_name": "LayoutModel",
          "model_module_version": "1.2.0",
          "state": {
            "_view_name": "LayoutView",
            "grid_template_rows": null,
            "right": null,
            "justify_content": null,
            "_view_module": "@jupyter-widgets/base",
            "overflow": null,
            "_model_module_version": "1.2.0",
            "_view_count": null,
            "flex_flow": null,
            "width": null,
            "min_width": null,
            "border": null,
            "align_items": null,
            "bottom": null,
            "_model_module": "@jupyter-widgets/base",
            "top": null,
            "grid_column": null,
            "overflow_y": null,
            "overflow_x": null,
            "grid_auto_flow": null,
            "grid_area": null,
            "grid_template_columns": null,
            "flex": null,
            "_model_name": "LayoutModel",
            "justify_items": null,
            "grid_row": null,
            "max_height": null,
            "align_content": null,
            "visibility": null,
            "align_self": null,
            "height": null,
            "min_height": null,
            "padding": null,
            "grid_auto_rows": null,
            "grid_gap": null,
            "max_width": null,
            "order": null,
            "_view_module_version": "1.2.0",
            "grid_template_areas": null,
            "object_position": null,
            "object_fit": null,
            "grid_auto_columns": null,
            "margin": null,
            "display": null,
            "left": null
          }
        },
        "f6b95e093eec4312a95f5d149fb2735e": {
          "model_module": "@jupyter-widgets/controls",
          "model_name": "ProgressStyleModel",
          "model_module_version": "1.5.0",
          "state": {
            "_view_name": "StyleView",
            "_model_name": "ProgressStyleModel",
            "description_width": "",
            "_view_module": "@jupyter-widgets/base",
            "_model_module_version": "1.5.0",
            "_view_count": null,
            "_view_module_version": "1.2.0",
            "bar_color": null,
            "_model_module": "@jupyter-widgets/controls"
          }
        },
        "154da5a3d5a5439d994c84e858895f99": {
          "model_module": "@jupyter-widgets/base",
          "model_name": "LayoutModel",
          "model_module_version": "1.2.0",
          "state": {
            "_view_name": "LayoutView",
            "grid_template_rows": null,
            "right": null,
            "justify_content": null,
            "_view_module": "@jupyter-widgets/base",
            "overflow": null,
            "_model_module_version": "1.2.0",
            "_view_count": null,
            "flex_flow": null,
            "width": null,
            "min_width": null,
            "border": null,
            "align_items": null,
            "bottom": null,
            "_model_module": "@jupyter-widgets/base",
            "top": null,
            "grid_column": null,
            "overflow_y": null,
            "overflow_x": null,
            "grid_auto_flow": null,
            "grid_area": null,
            "grid_template_columns": null,
            "flex": null,
            "_model_name": "LayoutModel",
            "justify_items": null,
            "grid_row": null,
            "max_height": null,
            "align_content": null,
            "visibility": null,
            "align_self": null,
            "height": null,
            "min_height": null,
            "padding": null,
            "grid_auto_rows": null,
            "grid_gap": null,
            "max_width": null,
            "order": null,
            "_view_module_version": "1.2.0",
            "grid_template_areas": null,
            "object_position": null,
            "object_fit": null,
            "grid_auto_columns": null,
            "margin": null,
            "display": null,
            "left": null
          }
        },
        "cb8580d030f84fc798eb29ee80d3f8b1": {
          "model_module": "@jupyter-widgets/controls",
          "model_name": "DescriptionStyleModel",
          "model_module_version": "1.5.0",
          "state": {
            "_view_name": "StyleView",
            "_model_name": "DescriptionStyleModel",
            "description_width": "",
            "_view_module": "@jupyter-widgets/base",
            "_model_module_version": "1.5.0",
            "_view_count": null,
            "_view_module_version": "1.2.0",
            "_model_module": "@jupyter-widgets/controls"
          }
        },
        "864377a42605405e8fc8fa508410660f": {
          "model_module": "@jupyter-widgets/base",
          "model_name": "LayoutModel",
          "model_module_version": "1.2.0",
          "state": {
            "_view_name": "LayoutView",
            "grid_template_rows": null,
            "right": null,
            "justify_content": null,
            "_view_module": "@jupyter-widgets/base",
            "overflow": null,
            "_model_module_version": "1.2.0",
            "_view_count": null,
            "flex_flow": null,
            "width": null,
            "min_width": null,
            "border": null,
            "align_items": null,
            "bottom": null,
            "_model_module": "@jupyter-widgets/base",
            "top": null,
            "grid_column": null,
            "overflow_y": null,
            "overflow_x": null,
            "grid_auto_flow": null,
            "grid_area": null,
            "grid_template_columns": null,
            "flex": null,
            "_model_name": "LayoutModel",
            "justify_items": null,
            "grid_row": null,
            "max_height": null,
            "align_content": null,
            "visibility": null,
            "align_self": null,
            "height": null,
            "min_height": null,
            "padding": null,
            "grid_auto_rows": null,
            "grid_gap": null,
            "max_width": null,
            "order": null,
            "_view_module_version": "1.2.0",
            "grid_template_areas": null,
            "object_position": null,
            "object_fit": null,
            "grid_auto_columns": null,
            "margin": null,
            "display": null,
            "left": null
          }
        },
        "590c7cc47e964018801a58b3f329d6db": {
          "model_module": "@jupyter-widgets/controls",
          "model_name": "HBoxModel",
          "model_module_version": "1.5.0",
          "state": {
            "_view_name": "HBoxView",
            "_dom_classes": [],
            "_model_name": "HBoxModel",
            "_view_module": "@jupyter-widgets/controls",
            "_model_module_version": "1.5.0",
            "_view_count": null,
            "_view_module_version": "1.5.0",
            "box_style": "",
            "layout": "IPY_MODEL_1425bd7ac0494ea581458686eaff5b21",
            "_model_module": "@jupyter-widgets/controls",
            "children": [
              "IPY_MODEL_cebd2e2bc9a5405b865bc4b7f0ee57e4",
              "IPY_MODEL_4720a981a9d84afba94127ae30e36746",
              "IPY_MODEL_2ccf9a6248eb459c8e3f410614c5fa50"
            ]
          }
        },
        "1425bd7ac0494ea581458686eaff5b21": {
          "model_module": "@jupyter-widgets/base",
          "model_name": "LayoutModel",
          "model_module_version": "1.2.0",
          "state": {
            "_view_name": "LayoutView",
            "grid_template_rows": null,
            "right": null,
            "justify_content": null,
            "_view_module": "@jupyter-widgets/base",
            "overflow": null,
            "_model_module_version": "1.2.0",
            "_view_count": null,
            "flex_flow": null,
            "width": null,
            "min_width": null,
            "border": null,
            "align_items": null,
            "bottom": null,
            "_model_module": "@jupyter-widgets/base",
            "top": null,
            "grid_column": null,
            "overflow_y": null,
            "overflow_x": null,
            "grid_auto_flow": null,
            "grid_area": null,
            "grid_template_columns": null,
            "flex": null,
            "_model_name": "LayoutModel",
            "justify_items": null,
            "grid_row": null,
            "max_height": null,
            "align_content": null,
            "visibility": null,
            "align_self": null,
            "height": null,
            "min_height": null,
            "padding": null,
            "grid_auto_rows": null,
            "grid_gap": null,
            "max_width": null,
            "order": null,
            "_view_module_version": "1.2.0",
            "grid_template_areas": null,
            "object_position": null,
            "object_fit": null,
            "grid_auto_columns": null,
            "margin": null,
            "display": null,
            "left": null
          }
        },
        "cebd2e2bc9a5405b865bc4b7f0ee57e4": {
          "model_module": "@jupyter-widgets/controls",
          "model_name": "HTMLModel",
          "model_module_version": "1.5.0",
          "state": {
            "_view_name": "HTMLView",
            "style": "IPY_MODEL_94e9a381842d4cb391d2f7d9197cea15",
            "_dom_classes": [],
            "description": "",
            "_model_name": "HTMLModel",
            "placeholder": "​",
            "_view_module": "@jupyter-widgets/controls",
            "_model_module_version": "1.5.0",
            "value": "100%",
            "_view_count": null,
            "_view_module_version": "1.5.0",
            "description_tooltip": null,
            "_model_module": "@jupyter-widgets/controls",
            "layout": "IPY_MODEL_e813f510736544449a964d9bd0665d82"
          }
        },
        "4720a981a9d84afba94127ae30e36746": {
          "model_module": "@jupyter-widgets/controls",
          "model_name": "FloatProgressModel",
          "model_module_version": "1.5.0",
          "state": {
            "_view_name": "ProgressView",
            "style": "IPY_MODEL_6edaee910be945ef90382a78c69f33ad",
            "_dom_classes": [],
            "description": "",
            "_model_name": "FloatProgressModel",
            "bar_style": "success",
            "max": 48,
            "_view_module": "@jupyter-widgets/controls",
            "_model_module_version": "1.5.0",
            "value": 48,
            "_view_count": null,
            "_view_module_version": "1.5.0",
            "orientation": "horizontal",
            "min": 0,
            "description_tooltip": null,
            "_model_module": "@jupyter-widgets/controls",
            "layout": "IPY_MODEL_31ab9f7924394199b0e964999429bcab"
          }
        },
        "2ccf9a6248eb459c8e3f410614c5fa50": {
          "model_module": "@jupyter-widgets/controls",
          "model_name": "HTMLModel",
          "model_module_version": "1.5.0",
          "state": {
            "_view_name": "HTMLView",
            "style": "IPY_MODEL_dcb95ed26134437da082948a28d218e0",
            "_dom_classes": [],
            "description": "",
            "_model_name": "HTMLModel",
            "placeholder": "​",
            "_view_module": "@jupyter-widgets/controls",
            "_model_module_version": "1.5.0",
            "value": " 48/48 [00:10&lt;00:00,  4.68it/s]",
            "_view_count": null,
            "_view_module_version": "1.5.0",
            "description_tooltip": null,
            "_model_module": "@jupyter-widgets/controls",
            "layout": "IPY_MODEL_5a10563f26e84c5090d4e933c112d334"
          }
        },
        "94e9a381842d4cb391d2f7d9197cea15": {
          "model_module": "@jupyter-widgets/controls",
          "model_name": "DescriptionStyleModel",
          "model_module_version": "1.5.0",
          "state": {
            "_view_name": "StyleView",
            "_model_name": "DescriptionStyleModel",
            "description_width": "",
            "_view_module": "@jupyter-widgets/base",
            "_model_module_version": "1.5.0",
            "_view_count": null,
            "_view_module_version": "1.2.0",
            "_model_module": "@jupyter-widgets/controls"
          }
        },
        "e813f510736544449a964d9bd0665d82": {
          "model_module": "@jupyter-widgets/base",
          "model_name": "LayoutModel",
          "model_module_version": "1.2.0",
          "state": {
            "_view_name": "LayoutView",
            "grid_template_rows": null,
            "right": null,
            "justify_content": null,
            "_view_module": "@jupyter-widgets/base",
            "overflow": null,
            "_model_module_version": "1.2.0",
            "_view_count": null,
            "flex_flow": null,
            "width": null,
            "min_width": null,
            "border": null,
            "align_items": null,
            "bottom": null,
            "_model_module": "@jupyter-widgets/base",
            "top": null,
            "grid_column": null,
            "overflow_y": null,
            "overflow_x": null,
            "grid_auto_flow": null,
            "grid_area": null,
            "grid_template_columns": null,
            "flex": null,
            "_model_name": "LayoutModel",
            "justify_items": null,
            "grid_row": null,
            "max_height": null,
            "align_content": null,
            "visibility": null,
            "align_self": null,
            "height": null,
            "min_height": null,
            "padding": null,
            "grid_auto_rows": null,
            "grid_gap": null,
            "max_width": null,
            "order": null,
            "_view_module_version": "1.2.0",
            "grid_template_areas": null,
            "object_position": null,
            "object_fit": null,
            "grid_auto_columns": null,
            "margin": null,
            "display": null,
            "left": null
          }
        },
        "6edaee910be945ef90382a78c69f33ad": {
          "model_module": "@jupyter-widgets/controls",
          "model_name": "ProgressStyleModel",
          "model_module_version": "1.5.0",
          "state": {
            "_view_name": "StyleView",
            "_model_name": "ProgressStyleModel",
            "description_width": "",
            "_view_module": "@jupyter-widgets/base",
            "_model_module_version": "1.5.0",
            "_view_count": null,
            "_view_module_version": "1.2.0",
            "bar_color": null,
            "_model_module": "@jupyter-widgets/controls"
          }
        },
        "31ab9f7924394199b0e964999429bcab": {
          "model_module": "@jupyter-widgets/base",
          "model_name": "LayoutModel",
          "model_module_version": "1.2.0",
          "state": {
            "_view_name": "LayoutView",
            "grid_template_rows": null,
            "right": null,
            "justify_content": null,
            "_view_module": "@jupyter-widgets/base",
            "overflow": null,
            "_model_module_version": "1.2.0",
            "_view_count": null,
            "flex_flow": null,
            "width": null,
            "min_width": null,
            "border": null,
            "align_items": null,
            "bottom": null,
            "_model_module": "@jupyter-widgets/base",
            "top": null,
            "grid_column": null,
            "overflow_y": null,
            "overflow_x": null,
            "grid_auto_flow": null,
            "grid_area": null,
            "grid_template_columns": null,
            "flex": null,
            "_model_name": "LayoutModel",
            "justify_items": null,
            "grid_row": null,
            "max_height": null,
            "align_content": null,
            "visibility": null,
            "align_self": null,
            "height": null,
            "min_height": null,
            "padding": null,
            "grid_auto_rows": null,
            "grid_gap": null,
            "max_width": null,
            "order": null,
            "_view_module_version": "1.2.0",
            "grid_template_areas": null,
            "object_position": null,
            "object_fit": null,
            "grid_auto_columns": null,
            "margin": null,
            "display": null,
            "left": null
          }
        },
        "dcb95ed26134437da082948a28d218e0": {
          "model_module": "@jupyter-widgets/controls",
          "model_name": "DescriptionStyleModel",
          "model_module_version": "1.5.0",
          "state": {
            "_view_name": "StyleView",
            "_model_name": "DescriptionStyleModel",
            "description_width": "",
            "_view_module": "@jupyter-widgets/base",
            "_model_module_version": "1.5.0",
            "_view_count": null,
            "_view_module_version": "1.2.0",
            "_model_module": "@jupyter-widgets/controls"
          }
        },
        "5a10563f26e84c5090d4e933c112d334": {
          "model_module": "@jupyter-widgets/base",
          "model_name": "LayoutModel",
          "model_module_version": "1.2.0",
          "state": {
            "_view_name": "LayoutView",
            "grid_template_rows": null,
            "right": null,
            "justify_content": null,
            "_view_module": "@jupyter-widgets/base",
            "overflow": null,
            "_model_module_version": "1.2.0",
            "_view_count": null,
            "flex_flow": null,
            "width": null,
            "min_width": null,
            "border": null,
            "align_items": null,
            "bottom": null,
            "_model_module": "@jupyter-widgets/base",
            "top": null,
            "grid_column": null,
            "overflow_y": null,
            "overflow_x": null,
            "grid_auto_flow": null,
            "grid_area": null,
            "grid_template_columns": null,
            "flex": null,
            "_model_name": "LayoutModel",
            "justify_items": null,
            "grid_row": null,
            "max_height": null,
            "align_content": null,
            "visibility": null,
            "align_self": null,
            "height": null,
            "min_height": null,
            "padding": null,
            "grid_auto_rows": null,
            "grid_gap": null,
            "max_width": null,
            "order": null,
            "_view_module_version": "1.2.0",
            "grid_template_areas": null,
            "object_position": null,
            "object_fit": null,
            "grid_auto_columns": null,
            "margin": null,
            "display": null,
            "left": null
          }
        },
        "3587f77e467b46399bc58aa4393e435f": {
          "model_module": "@jupyter-widgets/controls",
          "model_name": "HBoxModel",
          "model_module_version": "1.5.0",
          "state": {
            "_view_name": "HBoxView",
            "_dom_classes": [],
            "_model_name": "HBoxModel",
            "_view_module": "@jupyter-widgets/controls",
            "_model_module_version": "1.5.0",
            "_view_count": null,
            "_view_module_version": "1.5.0",
            "box_style": "",
            "layout": "IPY_MODEL_e231bb8842d94daba462ee16347a9279",
            "_model_module": "@jupyter-widgets/controls",
            "children": [
              "IPY_MODEL_43d2155470de4a9bbefa7161e1db4038",
              "IPY_MODEL_2421709431074a569c6f7ec6d7e9bad2",
              "IPY_MODEL_9a613175098e433886f838aa9de3a753"
            ]
          }
        },
        "e231bb8842d94daba462ee16347a9279": {
          "model_module": "@jupyter-widgets/base",
          "model_name": "LayoutModel",
          "model_module_version": "1.2.0",
          "state": {
            "_view_name": "LayoutView",
            "grid_template_rows": null,
            "right": null,
            "justify_content": null,
            "_view_module": "@jupyter-widgets/base",
            "overflow": null,
            "_model_module_version": "1.2.0",
            "_view_count": null,
            "flex_flow": null,
            "width": null,
            "min_width": null,
            "border": null,
            "align_items": null,
            "bottom": null,
            "_model_module": "@jupyter-widgets/base",
            "top": null,
            "grid_column": null,
            "overflow_y": null,
            "overflow_x": null,
            "grid_auto_flow": null,
            "grid_area": null,
            "grid_template_columns": null,
            "flex": null,
            "_model_name": "LayoutModel",
            "justify_items": null,
            "grid_row": null,
            "max_height": null,
            "align_content": null,
            "visibility": null,
            "align_self": null,
            "height": null,
            "min_height": null,
            "padding": null,
            "grid_auto_rows": null,
            "grid_gap": null,
            "max_width": null,
            "order": null,
            "_view_module_version": "1.2.0",
            "grid_template_areas": null,
            "object_position": null,
            "object_fit": null,
            "grid_auto_columns": null,
            "margin": null,
            "display": null,
            "left": null
          }
        },
        "43d2155470de4a9bbefa7161e1db4038": {
          "model_module": "@jupyter-widgets/controls",
          "model_name": "HTMLModel",
          "model_module_version": "1.5.0",
          "state": {
            "_view_name": "HTMLView",
            "style": "IPY_MODEL_e8c09df1af2b4a84bf79646d4d250c8d",
            "_dom_classes": [],
            "description": "",
            "_model_name": "HTMLModel",
            "placeholder": "​",
            "_view_module": "@jupyter-widgets/controls",
            "_model_module_version": "1.5.0",
            "value": "100%",
            "_view_count": null,
            "_view_module_version": "1.5.0",
            "description_tooltip": null,
            "_model_module": "@jupyter-widgets/controls",
            "layout": "IPY_MODEL_3415569e64ab489387f72ab8b89299f0"
          }
        },
        "2421709431074a569c6f7ec6d7e9bad2": {
          "model_module": "@jupyter-widgets/controls",
          "model_name": "FloatProgressModel",
          "model_module_version": "1.5.0",
          "state": {
            "_view_name": "ProgressView",
            "style": "IPY_MODEL_37392055f2504f648e691816394cb1b3",
            "_dom_classes": [],
            "description": "",
            "_model_name": "FloatProgressModel",
            "bar_style": "success",
            "max": 48,
            "_view_module": "@jupyter-widgets/controls",
            "_model_module_version": "1.5.0",
            "value": 48,
            "_view_count": null,
            "_view_module_version": "1.5.0",
            "orientation": "horizontal",
            "min": 0,
            "description_tooltip": null,
            "_model_module": "@jupyter-widgets/controls",
            "layout": "IPY_MODEL_b0256637dbdd41b480ae8190aca3eff3"
          }
        },
        "9a613175098e433886f838aa9de3a753": {
          "model_module": "@jupyter-widgets/controls",
          "model_name": "HTMLModel",
          "model_module_version": "1.5.0",
          "state": {
            "_view_name": "HTMLView",
            "style": "IPY_MODEL_b131bb6444f44f36a91d84e5004aa983",
            "_dom_classes": [],
            "description": "",
            "_model_name": "HTMLModel",
            "placeholder": "​",
            "_view_module": "@jupyter-widgets/controls",
            "_model_module_version": "1.5.0",
            "value": " 48/48 [00:10&lt;00:00,  4.65it/s]",
            "_view_count": null,
            "_view_module_version": "1.5.0",
            "description_tooltip": null,
            "_model_module": "@jupyter-widgets/controls",
            "layout": "IPY_MODEL_4a13c2abb807452ebe6194d6d39ccda0"
          }
        },
        "e8c09df1af2b4a84bf79646d4d250c8d": {
          "model_module": "@jupyter-widgets/controls",
          "model_name": "DescriptionStyleModel",
          "model_module_version": "1.5.0",
          "state": {
            "_view_name": "StyleView",
            "_model_name": "DescriptionStyleModel",
            "description_width": "",
            "_view_module": "@jupyter-widgets/base",
            "_model_module_version": "1.5.0",
            "_view_count": null,
            "_view_module_version": "1.2.0",
            "_model_module": "@jupyter-widgets/controls"
          }
        },
        "3415569e64ab489387f72ab8b89299f0": {
          "model_module": "@jupyter-widgets/base",
          "model_name": "LayoutModel",
          "model_module_version": "1.2.0",
          "state": {
            "_view_name": "LayoutView",
            "grid_template_rows": null,
            "right": null,
            "justify_content": null,
            "_view_module": "@jupyter-widgets/base",
            "overflow": null,
            "_model_module_version": "1.2.0",
            "_view_count": null,
            "flex_flow": null,
            "width": null,
            "min_width": null,
            "border": null,
            "align_items": null,
            "bottom": null,
            "_model_module": "@jupyter-widgets/base",
            "top": null,
            "grid_column": null,
            "overflow_y": null,
            "overflow_x": null,
            "grid_auto_flow": null,
            "grid_area": null,
            "grid_template_columns": null,
            "flex": null,
            "_model_name": "LayoutModel",
            "justify_items": null,
            "grid_row": null,
            "max_height": null,
            "align_content": null,
            "visibility": null,
            "align_self": null,
            "height": null,
            "min_height": null,
            "padding": null,
            "grid_auto_rows": null,
            "grid_gap": null,
            "max_width": null,
            "order": null,
            "_view_module_version": "1.2.0",
            "grid_template_areas": null,
            "object_position": null,
            "object_fit": null,
            "grid_auto_columns": null,
            "margin": null,
            "display": null,
            "left": null
          }
        },
        "37392055f2504f648e691816394cb1b3": {
          "model_module": "@jupyter-widgets/controls",
          "model_name": "ProgressStyleModel",
          "model_module_version": "1.5.0",
          "state": {
            "_view_name": "StyleView",
            "_model_name": "ProgressStyleModel",
            "description_width": "",
            "_view_module": "@jupyter-widgets/base",
            "_model_module_version": "1.5.0",
            "_view_count": null,
            "_view_module_version": "1.2.0",
            "bar_color": null,
            "_model_module": "@jupyter-widgets/controls"
          }
        },
        "b0256637dbdd41b480ae8190aca3eff3": {
          "model_module": "@jupyter-widgets/base",
          "model_name": "LayoutModel",
          "model_module_version": "1.2.0",
          "state": {
            "_view_name": "LayoutView",
            "grid_template_rows": null,
            "right": null,
            "justify_content": null,
            "_view_module": "@jupyter-widgets/base",
            "overflow": null,
            "_model_module_version": "1.2.0",
            "_view_count": null,
            "flex_flow": null,
            "width": null,
            "min_width": null,
            "border": null,
            "align_items": null,
            "bottom": null,
            "_model_module": "@jupyter-widgets/base",
            "top": null,
            "grid_column": null,
            "overflow_y": null,
            "overflow_x": null,
            "grid_auto_flow": null,
            "grid_area": null,
            "grid_template_columns": null,
            "flex": null,
            "_model_name": "LayoutModel",
            "justify_items": null,
            "grid_row": null,
            "max_height": null,
            "align_content": null,
            "visibility": null,
            "align_self": null,
            "height": null,
            "min_height": null,
            "padding": null,
            "grid_auto_rows": null,
            "grid_gap": null,
            "max_width": null,
            "order": null,
            "_view_module_version": "1.2.0",
            "grid_template_areas": null,
            "object_position": null,
            "object_fit": null,
            "grid_auto_columns": null,
            "margin": null,
            "display": null,
            "left": null
          }
        },
        "b131bb6444f44f36a91d84e5004aa983": {
          "model_module": "@jupyter-widgets/controls",
          "model_name": "DescriptionStyleModel",
          "model_module_version": "1.5.0",
          "state": {
            "_view_name": "StyleView",
            "_model_name": "DescriptionStyleModel",
            "description_width": "",
            "_view_module": "@jupyter-widgets/base",
            "_model_module_version": "1.5.0",
            "_view_count": null,
            "_view_module_version": "1.2.0",
            "_model_module": "@jupyter-widgets/controls"
          }
        },
        "4a13c2abb807452ebe6194d6d39ccda0": {
          "model_module": "@jupyter-widgets/base",
          "model_name": "LayoutModel",
          "model_module_version": "1.2.0",
          "state": {
            "_view_name": "LayoutView",
            "grid_template_rows": null,
            "right": null,
            "justify_content": null,
            "_view_module": "@jupyter-widgets/base",
            "overflow": null,
            "_model_module_version": "1.2.0",
            "_view_count": null,
            "flex_flow": null,
            "width": null,
            "min_width": null,
            "border": null,
            "align_items": null,
            "bottom": null,
            "_model_module": "@jupyter-widgets/base",
            "top": null,
            "grid_column": null,
            "overflow_y": null,
            "overflow_x": null,
            "grid_auto_flow": null,
            "grid_area": null,
            "grid_template_columns": null,
            "flex": null,
            "_model_name": "LayoutModel",
            "justify_items": null,
            "grid_row": null,
            "max_height": null,
            "align_content": null,
            "visibility": null,
            "align_self": null,
            "height": null,
            "min_height": null,
            "padding": null,
            "grid_auto_rows": null,
            "grid_gap": null,
            "max_width": null,
            "order": null,
            "_view_module_version": "1.2.0",
            "grid_template_areas": null,
            "object_position": null,
            "object_fit": null,
            "grid_auto_columns": null,
            "margin": null,
            "display": null,
            "left": null
          }
        },
        "cb7d0cb0b14b4db28599ceca10fe735d": {
          "model_module": "@jupyter-widgets/controls",
          "model_name": "HBoxModel",
          "model_module_version": "1.5.0",
          "state": {
            "_view_name": "HBoxView",
            "_dom_classes": [],
            "_model_name": "HBoxModel",
            "_view_module": "@jupyter-widgets/controls",
            "_model_module_version": "1.5.0",
            "_view_count": null,
            "_view_module_version": "1.5.0",
            "box_style": "",
            "layout": "IPY_MODEL_bf2c2662b5924707aee6fdde4012a340",
            "_model_module": "@jupyter-widgets/controls",
            "children": [
              "IPY_MODEL_0365f69ccebe44e98c810a04914fd51b",
              "IPY_MODEL_2372448d2c044e798b7163d599e6360d",
              "IPY_MODEL_6442d9a2876a409bb8f23beb4a5ec3cd"
            ]
          }
        },
        "bf2c2662b5924707aee6fdde4012a340": {
          "model_module": "@jupyter-widgets/base",
          "model_name": "LayoutModel",
          "model_module_version": "1.2.0",
          "state": {
            "_view_name": "LayoutView",
            "grid_template_rows": null,
            "right": null,
            "justify_content": null,
            "_view_module": "@jupyter-widgets/base",
            "overflow": null,
            "_model_module_version": "1.2.0",
            "_view_count": null,
            "flex_flow": null,
            "width": null,
            "min_width": null,
            "border": null,
            "align_items": null,
            "bottom": null,
            "_model_module": "@jupyter-widgets/base",
            "top": null,
            "grid_column": null,
            "overflow_y": null,
            "overflow_x": null,
            "grid_auto_flow": null,
            "grid_area": null,
            "grid_template_columns": null,
            "flex": null,
            "_model_name": "LayoutModel",
            "justify_items": null,
            "grid_row": null,
            "max_height": null,
            "align_content": null,
            "visibility": null,
            "align_self": null,
            "height": null,
            "min_height": null,
            "padding": null,
            "grid_auto_rows": null,
            "grid_gap": null,
            "max_width": null,
            "order": null,
            "_view_module_version": "1.2.0",
            "grid_template_areas": null,
            "object_position": null,
            "object_fit": null,
            "grid_auto_columns": null,
            "margin": null,
            "display": null,
            "left": null
          }
        },
        "0365f69ccebe44e98c810a04914fd51b": {
          "model_module": "@jupyter-widgets/controls",
          "model_name": "HTMLModel",
          "model_module_version": "1.5.0",
          "state": {
            "_view_name": "HTMLView",
            "style": "IPY_MODEL_c857053698454a00a1ced237a9745b6b",
            "_dom_classes": [],
            "description": "",
            "_model_name": "HTMLModel",
            "placeholder": "​",
            "_view_module": "@jupyter-widgets/controls",
            "_model_module_version": "1.5.0",
            "value": "100%",
            "_view_count": null,
            "_view_module_version": "1.5.0",
            "description_tooltip": null,
            "_model_module": "@jupyter-widgets/controls",
            "layout": "IPY_MODEL_8a92e8a8bc484edd9f2b17d1c8e56c29"
          }
        },
        "2372448d2c044e798b7163d599e6360d": {
          "model_module": "@jupyter-widgets/controls",
          "model_name": "FloatProgressModel",
          "model_module_version": "1.5.0",
          "state": {
            "_view_name": "ProgressView",
            "style": "IPY_MODEL_90707447d0d44ae9935c13b391799dd3",
            "_dom_classes": [],
            "description": "",
            "_model_name": "FloatProgressModel",
            "bar_style": "success",
            "max": 48,
            "_view_module": "@jupyter-widgets/controls",
            "_model_module_version": "1.5.0",
            "value": 48,
            "_view_count": null,
            "_view_module_version": "1.5.0",
            "orientation": "horizontal",
            "min": 0,
            "description_tooltip": null,
            "_model_module": "@jupyter-widgets/controls",
            "layout": "IPY_MODEL_0dfdb783f2b24bea914d9f11bfb95edf"
          }
        },
        "6442d9a2876a409bb8f23beb4a5ec3cd": {
          "model_module": "@jupyter-widgets/controls",
          "model_name": "HTMLModel",
          "model_module_version": "1.5.0",
          "state": {
            "_view_name": "HTMLView",
            "style": "IPY_MODEL_c56fa0cf95d24efcba75555d7de77d3a",
            "_dom_classes": [],
            "description": "",
            "_model_name": "HTMLModel",
            "placeholder": "​",
            "_view_module": "@jupyter-widgets/controls",
            "_model_module_version": "1.5.0",
            "value": " 48/48 [00:10&lt;00:00,  4.65it/s]",
            "_view_count": null,
            "_view_module_version": "1.5.0",
            "description_tooltip": null,
            "_model_module": "@jupyter-widgets/controls",
            "layout": "IPY_MODEL_a862c1b0adf743f5a5e9847d59869fcf"
          }
        },
        "c857053698454a00a1ced237a9745b6b": {
          "model_module": "@jupyter-widgets/controls",
          "model_name": "DescriptionStyleModel",
          "model_module_version": "1.5.0",
          "state": {
            "_view_name": "StyleView",
            "_model_name": "DescriptionStyleModel",
            "description_width": "",
            "_view_module": "@jupyter-widgets/base",
            "_model_module_version": "1.5.0",
            "_view_count": null,
            "_view_module_version": "1.2.0",
            "_model_module": "@jupyter-widgets/controls"
          }
        },
        "8a92e8a8bc484edd9f2b17d1c8e56c29": {
          "model_module": "@jupyter-widgets/base",
          "model_name": "LayoutModel",
          "model_module_version": "1.2.0",
          "state": {
            "_view_name": "LayoutView",
            "grid_template_rows": null,
            "right": null,
            "justify_content": null,
            "_view_module": "@jupyter-widgets/base",
            "overflow": null,
            "_model_module_version": "1.2.0",
            "_view_count": null,
            "flex_flow": null,
            "width": null,
            "min_width": null,
            "border": null,
            "align_items": null,
            "bottom": null,
            "_model_module": "@jupyter-widgets/base",
            "top": null,
            "grid_column": null,
            "overflow_y": null,
            "overflow_x": null,
            "grid_auto_flow": null,
            "grid_area": null,
            "grid_template_columns": null,
            "flex": null,
            "_model_name": "LayoutModel",
            "justify_items": null,
            "grid_row": null,
            "max_height": null,
            "align_content": null,
            "visibility": null,
            "align_self": null,
            "height": null,
            "min_height": null,
            "padding": null,
            "grid_auto_rows": null,
            "grid_gap": null,
            "max_width": null,
            "order": null,
            "_view_module_version": "1.2.0",
            "grid_template_areas": null,
            "object_position": null,
            "object_fit": null,
            "grid_auto_columns": null,
            "margin": null,
            "display": null,
            "left": null
          }
        },
        "90707447d0d44ae9935c13b391799dd3": {
          "model_module": "@jupyter-widgets/controls",
          "model_name": "ProgressStyleModel",
          "model_module_version": "1.5.0",
          "state": {
            "_view_name": "StyleView",
            "_model_name": "ProgressStyleModel",
            "description_width": "",
            "_view_module": "@jupyter-widgets/base",
            "_model_module_version": "1.5.0",
            "_view_count": null,
            "_view_module_version": "1.2.0",
            "bar_color": null,
            "_model_module": "@jupyter-widgets/controls"
          }
        },
        "0dfdb783f2b24bea914d9f11bfb95edf": {
          "model_module": "@jupyter-widgets/base",
          "model_name": "LayoutModel",
          "model_module_version": "1.2.0",
          "state": {
            "_view_name": "LayoutView",
            "grid_template_rows": null,
            "right": null,
            "justify_content": null,
            "_view_module": "@jupyter-widgets/base",
            "overflow": null,
            "_model_module_version": "1.2.0",
            "_view_count": null,
            "flex_flow": null,
            "width": null,
            "min_width": null,
            "border": null,
            "align_items": null,
            "bottom": null,
            "_model_module": "@jupyter-widgets/base",
            "top": null,
            "grid_column": null,
            "overflow_y": null,
            "overflow_x": null,
            "grid_auto_flow": null,
            "grid_area": null,
            "grid_template_columns": null,
            "flex": null,
            "_model_name": "LayoutModel",
            "justify_items": null,
            "grid_row": null,
            "max_height": null,
            "align_content": null,
            "visibility": null,
            "align_self": null,
            "height": null,
            "min_height": null,
            "padding": null,
            "grid_auto_rows": null,
            "grid_gap": null,
            "max_width": null,
            "order": null,
            "_view_module_version": "1.2.0",
            "grid_template_areas": null,
            "object_position": null,
            "object_fit": null,
            "grid_auto_columns": null,
            "margin": null,
            "display": null,
            "left": null
          }
        },
        "c56fa0cf95d24efcba75555d7de77d3a": {
          "model_module": "@jupyter-widgets/controls",
          "model_name": "DescriptionStyleModel",
          "model_module_version": "1.5.0",
          "state": {
            "_view_name": "StyleView",
            "_model_name": "DescriptionStyleModel",
            "description_width": "",
            "_view_module": "@jupyter-widgets/base",
            "_model_module_version": "1.5.0",
            "_view_count": null,
            "_view_module_version": "1.2.0",
            "_model_module": "@jupyter-widgets/controls"
          }
        },
        "a862c1b0adf743f5a5e9847d59869fcf": {
          "model_module": "@jupyter-widgets/base",
          "model_name": "LayoutModel",
          "model_module_version": "1.2.0",
          "state": {
            "_view_name": "LayoutView",
            "grid_template_rows": null,
            "right": null,
            "justify_content": null,
            "_view_module": "@jupyter-widgets/base",
            "overflow": null,
            "_model_module_version": "1.2.0",
            "_view_count": null,
            "flex_flow": null,
            "width": null,
            "min_width": null,
            "border": null,
            "align_items": null,
            "bottom": null,
            "_model_module": "@jupyter-widgets/base",
            "top": null,
            "grid_column": null,
            "overflow_y": null,
            "overflow_x": null,
            "grid_auto_flow": null,
            "grid_area": null,
            "grid_template_columns": null,
            "flex": null,
            "_model_name": "LayoutModel",
            "justify_items": null,
            "grid_row": null,
            "max_height": null,
            "align_content": null,
            "visibility": null,
            "align_self": null,
            "height": null,
            "min_height": null,
            "padding": null,
            "grid_auto_rows": null,
            "grid_gap": null,
            "max_width": null,
            "order": null,
            "_view_module_version": "1.2.0",
            "grid_template_areas": null,
            "object_position": null,
            "object_fit": null,
            "grid_auto_columns": null,
            "margin": null,
            "display": null,
            "left": null
          }
        },
        "9f5defe53ca44fbbaf90d6f7aea5c4ad": {
          "model_module": "@jupyter-widgets/controls",
          "model_name": "HBoxModel",
          "model_module_version": "1.5.0",
          "state": {
            "_view_name": "HBoxView",
            "_dom_classes": [],
            "_model_name": "HBoxModel",
            "_view_module": "@jupyter-widgets/controls",
            "_model_module_version": "1.5.0",
            "_view_count": null,
            "_view_module_version": "1.5.0",
            "box_style": "",
            "layout": "IPY_MODEL_9ad90be6c7d34c2ab3a3c0dcdbc91564",
            "_model_module": "@jupyter-widgets/controls",
            "children": [
              "IPY_MODEL_6f84436d7d9548f98d9a0c469379f18f",
              "IPY_MODEL_84b00624a2ca41b68f2ff6139a8fd8ac",
              "IPY_MODEL_1e92d99329c5440aa1f90948671dc3bc"
            ]
          }
        },
        "9ad90be6c7d34c2ab3a3c0dcdbc91564": {
          "model_module": "@jupyter-widgets/base",
          "model_name": "LayoutModel",
          "model_module_version": "1.2.0",
          "state": {
            "_view_name": "LayoutView",
            "grid_template_rows": null,
            "right": null,
            "justify_content": null,
            "_view_module": "@jupyter-widgets/base",
            "overflow": null,
            "_model_module_version": "1.2.0",
            "_view_count": null,
            "flex_flow": null,
            "width": null,
            "min_width": null,
            "border": null,
            "align_items": null,
            "bottom": null,
            "_model_module": "@jupyter-widgets/base",
            "top": null,
            "grid_column": null,
            "overflow_y": null,
            "overflow_x": null,
            "grid_auto_flow": null,
            "grid_area": null,
            "grid_template_columns": null,
            "flex": null,
            "_model_name": "LayoutModel",
            "justify_items": null,
            "grid_row": null,
            "max_height": null,
            "align_content": null,
            "visibility": null,
            "align_self": null,
            "height": null,
            "min_height": null,
            "padding": null,
            "grid_auto_rows": null,
            "grid_gap": null,
            "max_width": null,
            "order": null,
            "_view_module_version": "1.2.0",
            "grid_template_areas": null,
            "object_position": null,
            "object_fit": null,
            "grid_auto_columns": null,
            "margin": null,
            "display": null,
            "left": null
          }
        },
        "6f84436d7d9548f98d9a0c469379f18f": {
          "model_module": "@jupyter-widgets/controls",
          "model_name": "HTMLModel",
          "model_module_version": "1.5.0",
          "state": {
            "_view_name": "HTMLView",
            "style": "IPY_MODEL_c020736d89834adcb9b2ca8201f528a9",
            "_dom_classes": [],
            "description": "",
            "_model_name": "HTMLModel",
            "placeholder": "​",
            "_view_module": "@jupyter-widgets/controls",
            "_model_module_version": "1.5.0",
            "value": "100%",
            "_view_count": null,
            "_view_module_version": "1.5.0",
            "description_tooltip": null,
            "_model_module": "@jupyter-widgets/controls",
            "layout": "IPY_MODEL_d1a418862f2841de9be108fda1cf99c6"
          }
        },
        "84b00624a2ca41b68f2ff6139a8fd8ac": {
          "model_module": "@jupyter-widgets/controls",
          "model_name": "FloatProgressModel",
          "model_module_version": "1.5.0",
          "state": {
            "_view_name": "ProgressView",
            "style": "IPY_MODEL_8be453cd2fd84fc7a88d19d40bb2e853",
            "_dom_classes": [],
            "description": "",
            "_model_name": "FloatProgressModel",
            "bar_style": "success",
            "max": 48,
            "_view_module": "@jupyter-widgets/controls",
            "_model_module_version": "1.5.0",
            "value": 48,
            "_view_count": null,
            "_view_module_version": "1.5.0",
            "orientation": "horizontal",
            "min": 0,
            "description_tooltip": null,
            "_model_module": "@jupyter-widgets/controls",
            "layout": "IPY_MODEL_5b223e0f73614993909b39298428c7d4"
          }
        },
        "1e92d99329c5440aa1f90948671dc3bc": {
          "model_module": "@jupyter-widgets/controls",
          "model_name": "HTMLModel",
          "model_module_version": "1.5.0",
          "state": {
            "_view_name": "HTMLView",
            "style": "IPY_MODEL_9eaf04f6c9014bb59b8a931a8a5fc2ca",
            "_dom_classes": [],
            "description": "",
            "_model_name": "HTMLModel",
            "placeholder": "​",
            "_view_module": "@jupyter-widgets/controls",
            "_model_module_version": "1.5.0",
            "value": " 48/48 [00:10&lt;00:00,  4.61it/s]",
            "_view_count": null,
            "_view_module_version": "1.5.0",
            "description_tooltip": null,
            "_model_module": "@jupyter-widgets/controls",
            "layout": "IPY_MODEL_6290b9e0af304c5b854c0d5e0b38a02a"
          }
        },
        "c020736d89834adcb9b2ca8201f528a9": {
          "model_module": "@jupyter-widgets/controls",
          "model_name": "DescriptionStyleModel",
          "model_module_version": "1.5.0",
          "state": {
            "_view_name": "StyleView",
            "_model_name": "DescriptionStyleModel",
            "description_width": "",
            "_view_module": "@jupyter-widgets/base",
            "_model_module_version": "1.5.0",
            "_view_count": null,
            "_view_module_version": "1.2.0",
            "_model_module": "@jupyter-widgets/controls"
          }
        },
        "d1a418862f2841de9be108fda1cf99c6": {
          "model_module": "@jupyter-widgets/base",
          "model_name": "LayoutModel",
          "model_module_version": "1.2.0",
          "state": {
            "_view_name": "LayoutView",
            "grid_template_rows": null,
            "right": null,
            "justify_content": null,
            "_view_module": "@jupyter-widgets/base",
            "overflow": null,
            "_model_module_version": "1.2.0",
            "_view_count": null,
            "flex_flow": null,
            "width": null,
            "min_width": null,
            "border": null,
            "align_items": null,
            "bottom": null,
            "_model_module": "@jupyter-widgets/base",
            "top": null,
            "grid_column": null,
            "overflow_y": null,
            "overflow_x": null,
            "grid_auto_flow": null,
            "grid_area": null,
            "grid_template_columns": null,
            "flex": null,
            "_model_name": "LayoutModel",
            "justify_items": null,
            "grid_row": null,
            "max_height": null,
            "align_content": null,
            "visibility": null,
            "align_self": null,
            "height": null,
            "min_height": null,
            "padding": null,
            "grid_auto_rows": null,
            "grid_gap": null,
            "max_width": null,
            "order": null,
            "_view_module_version": "1.2.0",
            "grid_template_areas": null,
            "object_position": null,
            "object_fit": null,
            "grid_auto_columns": null,
            "margin": null,
            "display": null,
            "left": null
          }
        },
        "8be453cd2fd84fc7a88d19d40bb2e853": {
          "model_module": "@jupyter-widgets/controls",
          "model_name": "ProgressStyleModel",
          "model_module_version": "1.5.0",
          "state": {
            "_view_name": "StyleView",
            "_model_name": "ProgressStyleModel",
            "description_width": "",
            "_view_module": "@jupyter-widgets/base",
            "_model_module_version": "1.5.0",
            "_view_count": null,
            "_view_module_version": "1.2.0",
            "bar_color": null,
            "_model_module": "@jupyter-widgets/controls"
          }
        },
        "5b223e0f73614993909b39298428c7d4": {
          "model_module": "@jupyter-widgets/base",
          "model_name": "LayoutModel",
          "model_module_version": "1.2.0",
          "state": {
            "_view_name": "LayoutView",
            "grid_template_rows": null,
            "right": null,
            "justify_content": null,
            "_view_module": "@jupyter-widgets/base",
            "overflow": null,
            "_model_module_version": "1.2.0",
            "_view_count": null,
            "flex_flow": null,
            "width": null,
            "min_width": null,
            "border": null,
            "align_items": null,
            "bottom": null,
            "_model_module": "@jupyter-widgets/base",
            "top": null,
            "grid_column": null,
            "overflow_y": null,
            "overflow_x": null,
            "grid_auto_flow": null,
            "grid_area": null,
            "grid_template_columns": null,
            "flex": null,
            "_model_name": "LayoutModel",
            "justify_items": null,
            "grid_row": null,
            "max_height": null,
            "align_content": null,
            "visibility": null,
            "align_self": null,
            "height": null,
            "min_height": null,
            "padding": null,
            "grid_auto_rows": null,
            "grid_gap": null,
            "max_width": null,
            "order": null,
            "_view_module_version": "1.2.0",
            "grid_template_areas": null,
            "object_position": null,
            "object_fit": null,
            "grid_auto_columns": null,
            "margin": null,
            "display": null,
            "left": null
          }
        },
        "9eaf04f6c9014bb59b8a931a8a5fc2ca": {
          "model_module": "@jupyter-widgets/controls",
          "model_name": "DescriptionStyleModel",
          "model_module_version": "1.5.0",
          "state": {
            "_view_name": "StyleView",
            "_model_name": "DescriptionStyleModel",
            "description_width": "",
            "_view_module": "@jupyter-widgets/base",
            "_model_module_version": "1.5.0",
            "_view_count": null,
            "_view_module_version": "1.2.0",
            "_model_module": "@jupyter-widgets/controls"
          }
        },
        "6290b9e0af304c5b854c0d5e0b38a02a": {
          "model_module": "@jupyter-widgets/base",
          "model_name": "LayoutModel",
          "model_module_version": "1.2.0",
          "state": {
            "_view_name": "LayoutView",
            "grid_template_rows": null,
            "right": null,
            "justify_content": null,
            "_view_module": "@jupyter-widgets/base",
            "overflow": null,
            "_model_module_version": "1.2.0",
            "_view_count": null,
            "flex_flow": null,
            "width": null,
            "min_width": null,
            "border": null,
            "align_items": null,
            "bottom": null,
            "_model_module": "@jupyter-widgets/base",
            "top": null,
            "grid_column": null,
            "overflow_y": null,
            "overflow_x": null,
            "grid_auto_flow": null,
            "grid_area": null,
            "grid_template_columns": null,
            "flex": null,
            "_model_name": "LayoutModel",
            "justify_items": null,
            "grid_row": null,
            "max_height": null,
            "align_content": null,
            "visibility": null,
            "align_self": null,
            "height": null,
            "min_height": null,
            "padding": null,
            "grid_auto_rows": null,
            "grid_gap": null,
            "max_width": null,
            "order": null,
            "_view_module_version": "1.2.0",
            "grid_template_areas": null,
            "object_position": null,
            "object_fit": null,
            "grid_auto_columns": null,
            "margin": null,
            "display": null,
            "left": null
          }
        },
        "3c7730216a7643439c3650041d940297": {
          "model_module": "@jupyter-widgets/controls",
          "model_name": "HBoxModel",
          "model_module_version": "1.5.0",
          "state": {
            "_view_name": "HBoxView",
            "_dom_classes": [],
            "_model_name": "HBoxModel",
            "_view_module": "@jupyter-widgets/controls",
            "_model_module_version": "1.5.0",
            "_view_count": null,
            "_view_module_version": "1.5.0",
            "box_style": "",
            "layout": "IPY_MODEL_4d6ca151684e45558e136921a2d42b41",
            "_model_module": "@jupyter-widgets/controls",
            "children": [
              "IPY_MODEL_a9363f4fba354a4e91362c7ec14ddb50",
              "IPY_MODEL_b0b98b0e58f04b61a57556d7581f031e",
              "IPY_MODEL_a71efe3f55004bfdb8aa4ded3f8c7507"
            ]
          }
        },
        "4d6ca151684e45558e136921a2d42b41": {
          "model_module": "@jupyter-widgets/base",
          "model_name": "LayoutModel",
          "model_module_version": "1.2.0",
          "state": {
            "_view_name": "LayoutView",
            "grid_template_rows": null,
            "right": null,
            "justify_content": null,
            "_view_module": "@jupyter-widgets/base",
            "overflow": null,
            "_model_module_version": "1.2.0",
            "_view_count": null,
            "flex_flow": null,
            "width": null,
            "min_width": null,
            "border": null,
            "align_items": null,
            "bottom": null,
            "_model_module": "@jupyter-widgets/base",
            "top": null,
            "grid_column": null,
            "overflow_y": null,
            "overflow_x": null,
            "grid_auto_flow": null,
            "grid_area": null,
            "grid_template_columns": null,
            "flex": null,
            "_model_name": "LayoutModel",
            "justify_items": null,
            "grid_row": null,
            "max_height": null,
            "align_content": null,
            "visibility": null,
            "align_self": null,
            "height": null,
            "min_height": null,
            "padding": null,
            "grid_auto_rows": null,
            "grid_gap": null,
            "max_width": null,
            "order": null,
            "_view_module_version": "1.2.0",
            "grid_template_areas": null,
            "object_position": null,
            "object_fit": null,
            "grid_auto_columns": null,
            "margin": null,
            "display": null,
            "left": null
          }
        },
        "a9363f4fba354a4e91362c7ec14ddb50": {
          "model_module": "@jupyter-widgets/controls",
          "model_name": "HTMLModel",
          "model_module_version": "1.5.0",
          "state": {
            "_view_name": "HTMLView",
            "style": "IPY_MODEL_cfaa4f38da8542fab95635229b40c857",
            "_dom_classes": [],
            "description": "",
            "_model_name": "HTMLModel",
            "placeholder": "​",
            "_view_module": "@jupyter-widgets/controls",
            "_model_module_version": "1.5.0",
            "value": "100%",
            "_view_count": null,
            "_view_module_version": "1.5.0",
            "description_tooltip": null,
            "_model_module": "@jupyter-widgets/controls",
            "layout": "IPY_MODEL_1a589b91ccce4083b3c0a06c8cfee50f"
          }
        },
        "b0b98b0e58f04b61a57556d7581f031e": {
          "model_module": "@jupyter-widgets/controls",
          "model_name": "FloatProgressModel",
          "model_module_version": "1.5.0",
          "state": {
            "_view_name": "ProgressView",
            "style": "IPY_MODEL_599185e618a84aa5a2172d92dbb2f0a1",
            "_dom_classes": [],
            "description": "",
            "_model_name": "FloatProgressModel",
            "bar_style": "success",
            "max": 48,
            "_view_module": "@jupyter-widgets/controls",
            "_model_module_version": "1.5.0",
            "value": 48,
            "_view_count": null,
            "_view_module_version": "1.5.0",
            "orientation": "horizontal",
            "min": 0,
            "description_tooltip": null,
            "_model_module": "@jupyter-widgets/controls",
            "layout": "IPY_MODEL_2926ab7c80704fedb6a250095307c29e"
          }
        },
        "a71efe3f55004bfdb8aa4ded3f8c7507": {
          "model_module": "@jupyter-widgets/controls",
          "model_name": "HTMLModel",
          "model_module_version": "1.5.0",
          "state": {
            "_view_name": "HTMLView",
            "style": "IPY_MODEL_7c282d849e4445e39d358061a5d7c592",
            "_dom_classes": [],
            "description": "",
            "_model_name": "HTMLModel",
            "placeholder": "​",
            "_view_module": "@jupyter-widgets/controls",
            "_model_module_version": "1.5.0",
            "value": " 48/48 [00:10&lt;00:00,  4.57it/s]",
            "_view_count": null,
            "_view_module_version": "1.5.0",
            "description_tooltip": null,
            "_model_module": "@jupyter-widgets/controls",
            "layout": "IPY_MODEL_202ed90afb034dccbf4524cc76b69a1c"
          }
        },
        "cfaa4f38da8542fab95635229b40c857": {
          "model_module": "@jupyter-widgets/controls",
          "model_name": "DescriptionStyleModel",
          "model_module_version": "1.5.0",
          "state": {
            "_view_name": "StyleView",
            "_model_name": "DescriptionStyleModel",
            "description_width": "",
            "_view_module": "@jupyter-widgets/base",
            "_model_module_version": "1.5.0",
            "_view_count": null,
            "_view_module_version": "1.2.0",
            "_model_module": "@jupyter-widgets/controls"
          }
        },
        "1a589b91ccce4083b3c0a06c8cfee50f": {
          "model_module": "@jupyter-widgets/base",
          "model_name": "LayoutModel",
          "model_module_version": "1.2.0",
          "state": {
            "_view_name": "LayoutView",
            "grid_template_rows": null,
            "right": null,
            "justify_content": null,
            "_view_module": "@jupyter-widgets/base",
            "overflow": null,
            "_model_module_version": "1.2.0",
            "_view_count": null,
            "flex_flow": null,
            "width": null,
            "min_width": null,
            "border": null,
            "align_items": null,
            "bottom": null,
            "_model_module": "@jupyter-widgets/base",
            "top": null,
            "grid_column": null,
            "overflow_y": null,
            "overflow_x": null,
            "grid_auto_flow": null,
            "grid_area": null,
            "grid_template_columns": null,
            "flex": null,
            "_model_name": "LayoutModel",
            "justify_items": null,
            "grid_row": null,
            "max_height": null,
            "align_content": null,
            "visibility": null,
            "align_self": null,
            "height": null,
            "min_height": null,
            "padding": null,
            "grid_auto_rows": null,
            "grid_gap": null,
            "max_width": null,
            "order": null,
            "_view_module_version": "1.2.0",
            "grid_template_areas": null,
            "object_position": null,
            "object_fit": null,
            "grid_auto_columns": null,
            "margin": null,
            "display": null,
            "left": null
          }
        },
        "599185e618a84aa5a2172d92dbb2f0a1": {
          "model_module": "@jupyter-widgets/controls",
          "model_name": "ProgressStyleModel",
          "model_module_version": "1.5.0",
          "state": {
            "_view_name": "StyleView",
            "_model_name": "ProgressStyleModel",
            "description_width": "",
            "_view_module": "@jupyter-widgets/base",
            "_model_module_version": "1.5.0",
            "_view_count": null,
            "_view_module_version": "1.2.0",
            "bar_color": null,
            "_model_module": "@jupyter-widgets/controls"
          }
        },
        "2926ab7c80704fedb6a250095307c29e": {
          "model_module": "@jupyter-widgets/base",
          "model_name": "LayoutModel",
          "model_module_version": "1.2.0",
          "state": {
            "_view_name": "LayoutView",
            "grid_template_rows": null,
            "right": null,
            "justify_content": null,
            "_view_module": "@jupyter-widgets/base",
            "overflow": null,
            "_model_module_version": "1.2.0",
            "_view_count": null,
            "flex_flow": null,
            "width": null,
            "min_width": null,
            "border": null,
            "align_items": null,
            "bottom": null,
            "_model_module": "@jupyter-widgets/base",
            "top": null,
            "grid_column": null,
            "overflow_y": null,
            "overflow_x": null,
            "grid_auto_flow": null,
            "grid_area": null,
            "grid_template_columns": null,
            "flex": null,
            "_model_name": "LayoutModel",
            "justify_items": null,
            "grid_row": null,
            "max_height": null,
            "align_content": null,
            "visibility": null,
            "align_self": null,
            "height": null,
            "min_height": null,
            "padding": null,
            "grid_auto_rows": null,
            "grid_gap": null,
            "max_width": null,
            "order": null,
            "_view_module_version": "1.2.0",
            "grid_template_areas": null,
            "object_position": null,
            "object_fit": null,
            "grid_auto_columns": null,
            "margin": null,
            "display": null,
            "left": null
          }
        },
        "7c282d849e4445e39d358061a5d7c592": {
          "model_module": "@jupyter-widgets/controls",
          "model_name": "DescriptionStyleModel",
          "model_module_version": "1.5.0",
          "state": {
            "_view_name": "StyleView",
            "_model_name": "DescriptionStyleModel",
            "description_width": "",
            "_view_module": "@jupyter-widgets/base",
            "_model_module_version": "1.5.0",
            "_view_count": null,
            "_view_module_version": "1.2.0",
            "_model_module": "@jupyter-widgets/controls"
          }
        },
        "202ed90afb034dccbf4524cc76b69a1c": {
          "model_module": "@jupyter-widgets/base",
          "model_name": "LayoutModel",
          "model_module_version": "1.2.0",
          "state": {
            "_view_name": "LayoutView",
            "grid_template_rows": null,
            "right": null,
            "justify_content": null,
            "_view_module": "@jupyter-widgets/base",
            "overflow": null,
            "_model_module_version": "1.2.0",
            "_view_count": null,
            "flex_flow": null,
            "width": null,
            "min_width": null,
            "border": null,
            "align_items": null,
            "bottom": null,
            "_model_module": "@jupyter-widgets/base",
            "top": null,
            "grid_column": null,
            "overflow_y": null,
            "overflow_x": null,
            "grid_auto_flow": null,
            "grid_area": null,
            "grid_template_columns": null,
            "flex": null,
            "_model_name": "LayoutModel",
            "justify_items": null,
            "grid_row": null,
            "max_height": null,
            "align_content": null,
            "visibility": null,
            "align_self": null,
            "height": null,
            "min_height": null,
            "padding": null,
            "grid_auto_rows": null,
            "grid_gap": null,
            "max_width": null,
            "order": null,
            "_view_module_version": "1.2.0",
            "grid_template_areas": null,
            "object_position": null,
            "object_fit": null,
            "grid_auto_columns": null,
            "margin": null,
            "display": null,
            "left": null
          }
        },
        "f5f939d16e9f420882816bf752de8e0e": {
          "model_module": "@jupyter-widgets/controls",
          "model_name": "HBoxModel",
          "model_module_version": "1.5.0",
          "state": {
            "_view_name": "HBoxView",
            "_dom_classes": [],
            "_model_name": "HBoxModel",
            "_view_module": "@jupyter-widgets/controls",
            "_model_module_version": "1.5.0",
            "_view_count": null,
            "_view_module_version": "1.5.0",
            "box_style": "",
            "layout": "IPY_MODEL_f577be1dbb98431296e228f0768cf7f5",
            "_model_module": "@jupyter-widgets/controls",
            "children": [
              "IPY_MODEL_bca33febd68241f4b613c7af97fdcced",
              "IPY_MODEL_4d2257f778e34ea4bd9710c2f92d2068",
              "IPY_MODEL_ae152c6fef8844c2839d8706dbbb2ab1"
            ]
          }
        },
        "f577be1dbb98431296e228f0768cf7f5": {
          "model_module": "@jupyter-widgets/base",
          "model_name": "LayoutModel",
          "model_module_version": "1.2.0",
          "state": {
            "_view_name": "LayoutView",
            "grid_template_rows": null,
            "right": null,
            "justify_content": null,
            "_view_module": "@jupyter-widgets/base",
            "overflow": null,
            "_model_module_version": "1.2.0",
            "_view_count": null,
            "flex_flow": null,
            "width": null,
            "min_width": null,
            "border": null,
            "align_items": null,
            "bottom": null,
            "_model_module": "@jupyter-widgets/base",
            "top": null,
            "grid_column": null,
            "overflow_y": null,
            "overflow_x": null,
            "grid_auto_flow": null,
            "grid_area": null,
            "grid_template_columns": null,
            "flex": null,
            "_model_name": "LayoutModel",
            "justify_items": null,
            "grid_row": null,
            "max_height": null,
            "align_content": null,
            "visibility": null,
            "align_self": null,
            "height": null,
            "min_height": null,
            "padding": null,
            "grid_auto_rows": null,
            "grid_gap": null,
            "max_width": null,
            "order": null,
            "_view_module_version": "1.2.0",
            "grid_template_areas": null,
            "object_position": null,
            "object_fit": null,
            "grid_auto_columns": null,
            "margin": null,
            "display": null,
            "left": null
          }
        },
        "bca33febd68241f4b613c7af97fdcced": {
          "model_module": "@jupyter-widgets/controls",
          "model_name": "HTMLModel",
          "model_module_version": "1.5.0",
          "state": {
            "_view_name": "HTMLView",
            "style": "IPY_MODEL_257b023a47fa428999cfda0965d0bd8e",
            "_dom_classes": [],
            "description": "",
            "_model_name": "HTMLModel",
            "placeholder": "​",
            "_view_module": "@jupyter-widgets/controls",
            "_model_module_version": "1.5.0",
            "value": "100%",
            "_view_count": null,
            "_view_module_version": "1.5.0",
            "description_tooltip": null,
            "_model_module": "@jupyter-widgets/controls",
            "layout": "IPY_MODEL_f4553e4b94434f6db093f49538b7ca99"
          }
        },
        "4d2257f778e34ea4bd9710c2f92d2068": {
          "model_module": "@jupyter-widgets/controls",
          "model_name": "FloatProgressModel",
          "model_module_version": "1.5.0",
          "state": {
            "_view_name": "ProgressView",
            "style": "IPY_MODEL_6bf1b96358a349008eaf05fc4adf853c",
            "_dom_classes": [],
            "description": "",
            "_model_name": "FloatProgressModel",
            "bar_style": "success",
            "max": 48,
            "_view_module": "@jupyter-widgets/controls",
            "_model_module_version": "1.5.0",
            "value": 48,
            "_view_count": null,
            "_view_module_version": "1.5.0",
            "orientation": "horizontal",
            "min": 0,
            "description_tooltip": null,
            "_model_module": "@jupyter-widgets/controls",
            "layout": "IPY_MODEL_75318cc2b9e64abbab7a415767bd60dc"
          }
        },
        "ae152c6fef8844c2839d8706dbbb2ab1": {
          "model_module": "@jupyter-widgets/controls",
          "model_name": "HTMLModel",
          "model_module_version": "1.5.0",
          "state": {
            "_view_name": "HTMLView",
            "style": "IPY_MODEL_321260ee29254dfabe778a54eff84894",
            "_dom_classes": [],
            "description": "",
            "_model_name": "HTMLModel",
            "placeholder": "​",
            "_view_module": "@jupyter-widgets/controls",
            "_model_module_version": "1.5.0",
            "value": " 48/48 [00:10&lt;00:00,  4.63it/s]",
            "_view_count": null,
            "_view_module_version": "1.5.0",
            "description_tooltip": null,
            "_model_module": "@jupyter-widgets/controls",
            "layout": "IPY_MODEL_dd264fd5fe244b64a134a3191fd39881"
          }
        },
        "257b023a47fa428999cfda0965d0bd8e": {
          "model_module": "@jupyter-widgets/controls",
          "model_name": "DescriptionStyleModel",
          "model_module_version": "1.5.0",
          "state": {
            "_view_name": "StyleView",
            "_model_name": "DescriptionStyleModel",
            "description_width": "",
            "_view_module": "@jupyter-widgets/base",
            "_model_module_version": "1.5.0",
            "_view_count": null,
            "_view_module_version": "1.2.0",
            "_model_module": "@jupyter-widgets/controls"
          }
        },
        "f4553e4b94434f6db093f49538b7ca99": {
          "model_module": "@jupyter-widgets/base",
          "model_name": "LayoutModel",
          "model_module_version": "1.2.0",
          "state": {
            "_view_name": "LayoutView",
            "grid_template_rows": null,
            "right": null,
            "justify_content": null,
            "_view_module": "@jupyter-widgets/base",
            "overflow": null,
            "_model_module_version": "1.2.0",
            "_view_count": null,
            "flex_flow": null,
            "width": null,
            "min_width": null,
            "border": null,
            "align_items": null,
            "bottom": null,
            "_model_module": "@jupyter-widgets/base",
            "top": null,
            "grid_column": null,
            "overflow_y": null,
            "overflow_x": null,
            "grid_auto_flow": null,
            "grid_area": null,
            "grid_template_columns": null,
            "flex": null,
            "_model_name": "LayoutModel",
            "justify_items": null,
            "grid_row": null,
            "max_height": null,
            "align_content": null,
            "visibility": null,
            "align_self": null,
            "height": null,
            "min_height": null,
            "padding": null,
            "grid_auto_rows": null,
            "grid_gap": null,
            "max_width": null,
            "order": null,
            "_view_module_version": "1.2.0",
            "grid_template_areas": null,
            "object_position": null,
            "object_fit": null,
            "grid_auto_columns": null,
            "margin": null,
            "display": null,
            "left": null
          }
        },
        "6bf1b96358a349008eaf05fc4adf853c": {
          "model_module": "@jupyter-widgets/controls",
          "model_name": "ProgressStyleModel",
          "model_module_version": "1.5.0",
          "state": {
            "_view_name": "StyleView",
            "_model_name": "ProgressStyleModel",
            "description_width": "",
            "_view_module": "@jupyter-widgets/base",
            "_model_module_version": "1.5.0",
            "_view_count": null,
            "_view_module_version": "1.2.0",
            "bar_color": null,
            "_model_module": "@jupyter-widgets/controls"
          }
        },
        "75318cc2b9e64abbab7a415767bd60dc": {
          "model_module": "@jupyter-widgets/base",
          "model_name": "LayoutModel",
          "model_module_version": "1.2.0",
          "state": {
            "_view_name": "LayoutView",
            "grid_template_rows": null,
            "right": null,
            "justify_content": null,
            "_view_module": "@jupyter-widgets/base",
            "overflow": null,
            "_model_module_version": "1.2.0",
            "_view_count": null,
            "flex_flow": null,
            "width": null,
            "min_width": null,
            "border": null,
            "align_items": null,
            "bottom": null,
            "_model_module": "@jupyter-widgets/base",
            "top": null,
            "grid_column": null,
            "overflow_y": null,
            "overflow_x": null,
            "grid_auto_flow": null,
            "grid_area": null,
            "grid_template_columns": null,
            "flex": null,
            "_model_name": "LayoutModel",
            "justify_items": null,
            "grid_row": null,
            "max_height": null,
            "align_content": null,
            "visibility": null,
            "align_self": null,
            "height": null,
            "min_height": null,
            "padding": null,
            "grid_auto_rows": null,
            "grid_gap": null,
            "max_width": null,
            "order": null,
            "_view_module_version": "1.2.0",
            "grid_template_areas": null,
            "object_position": null,
            "object_fit": null,
            "grid_auto_columns": null,
            "margin": null,
            "display": null,
            "left": null
          }
        },
        "321260ee29254dfabe778a54eff84894": {
          "model_module": "@jupyter-widgets/controls",
          "model_name": "DescriptionStyleModel",
          "model_module_version": "1.5.0",
          "state": {
            "_view_name": "StyleView",
            "_model_name": "DescriptionStyleModel",
            "description_width": "",
            "_view_module": "@jupyter-widgets/base",
            "_model_module_version": "1.5.0",
            "_view_count": null,
            "_view_module_version": "1.2.0",
            "_model_module": "@jupyter-widgets/controls"
          }
        },
        "dd264fd5fe244b64a134a3191fd39881": {
          "model_module": "@jupyter-widgets/base",
          "model_name": "LayoutModel",
          "model_module_version": "1.2.0",
          "state": {
            "_view_name": "LayoutView",
            "grid_template_rows": null,
            "right": null,
            "justify_content": null,
            "_view_module": "@jupyter-widgets/base",
            "overflow": null,
            "_model_module_version": "1.2.0",
            "_view_count": null,
            "flex_flow": null,
            "width": null,
            "min_width": null,
            "border": null,
            "align_items": null,
            "bottom": null,
            "_model_module": "@jupyter-widgets/base",
            "top": null,
            "grid_column": null,
            "overflow_y": null,
            "overflow_x": null,
            "grid_auto_flow": null,
            "grid_area": null,
            "grid_template_columns": null,
            "flex": null,
            "_model_name": "LayoutModel",
            "justify_items": null,
            "grid_row": null,
            "max_height": null,
            "align_content": null,
            "visibility": null,
            "align_self": null,
            "height": null,
            "min_height": null,
            "padding": null,
            "grid_auto_rows": null,
            "grid_gap": null,
            "max_width": null,
            "order": null,
            "_view_module_version": "1.2.0",
            "grid_template_areas": null,
            "object_position": null,
            "object_fit": null,
            "grid_auto_columns": null,
            "margin": null,
            "display": null,
            "left": null
          }
        }
      }
    },
    "accelerator": "GPU"
  },
  "cells": [
    {
      "cell_type": "code",
      "metadata": {
        "colab": {
          "base_uri": "https://localhost:8080/"
        },
        "id": "AiTYTcPF7Yw7",
        "outputId": "0c36fa33-3364-4eab-f4d1-c9ee7242a55c"
      },
      "source": [
        "! pwd && ls"
      ],
      "execution_count": null,
      "outputs": [
        {
          "output_type": "stream",
          "text": [
            "/content\n",
            "sample_data\n"
          ],
          "name": "stdout"
        }
      ]
    },
    {
      "cell_type": "code",
      "metadata": {
        "colab": {
          "base_uri": "https://localhost:8080/"
        },
        "id": "_vliLmRg7d7n",
        "outputId": "979ae0f4-1bff-4c45-cb51-83751384d0f2"
      },
      "source": [
        "! wget https://speed.hetzner.de/10GB.bin"
      ],
      "execution_count": null,
      "outputs": [
        {
          "output_type": "stream",
          "text": [
            "--2021-05-23 11:13:31--  https://speed.hetzner.de/10GB.bin\n",
            "Resolving speed.hetzner.de (speed.hetzner.de)... 88.198.248.254, 2a01:4f8:0:59ed::2\n",
            "Connecting to speed.hetzner.de (speed.hetzner.de)|88.198.248.254|:443... connected.\n",
            "HTTP request sent, awaiting response... 200 OK\n",
            "Length: 10485760000 (9.8G) [application/octet-stream]\n",
            "Saving to: ‘10GB.bin’\n",
            "\n",
            "10GB.bin            100%[===================>]   9.77G  28.3MB/s    in 7m 19s  \n",
            "\n",
            "2021-05-23 11:20:50 (22.8 MB/s) - ‘10GB.bin’ saved [10485760000/10485760000]\n",
            "\n"
          ],
          "name": "stdout"
        }
      ]
    },
    {
      "cell_type": "code",
      "metadata": {
        "colab": {
          "base_uri": "https://localhost:8080/"
        },
        "id": "Sy0-b8-Z7hVG",
        "outputId": "3f40f68c-7d16-4270-f77b-1d10ef7ecafd"
      },
      "source": [
        "! wget http://speedtest.belwue.net/100G"
      ],
      "execution_count": null,
      "outputs": [
        {
          "output_type": "stream",
          "text": [
            "--2021-05-23 11:24:47--  http://speedtest.belwue.net/100G\n",
            "Resolving speedtest.belwue.net (speedtest.belwue.net)... 129.143.4.238, 2001:7c0:0:1002::b\n",
            "Connecting to speedtest.belwue.net (speedtest.belwue.net)|129.143.4.238|:80... connected.\n",
            "HTTP request sent, awaiting response... 200 OK\n",
            "Length: 107374182400 (100G)\n",
            "Saving to: ‘100G’\n",
            "\n",
            "100G                 32%[=====>              ]  32.23G  28.3MB/s    eta 40m 11s^C\n"
          ],
          "name": "stdout"
        }
      ]
    },
    {
      "cell_type": "code",
      "metadata": {
        "id": "4NOWQS8M-GhM"
      },
      "source": [
        ""
      ],
      "execution_count": null,
      "outputs": []
    },
    {
      "cell_type": "code",
      "metadata": {
        "colab": {
          "base_uri": "https://localhost:8080/"
        },
        "id": "CZCoVXo22Hac",
        "outputId": "262a1b50-2b35-4ef3-f5bc-dc04abb6484d"
      },
      "source": [
        "! ls"
      ],
      "execution_count": null,
      "outputs": [
        {
          "output_type": "stream",
          "text": [
            "sample_data\n"
          ],
          "name": "stdout"
        }
      ]
    },
    {
      "cell_type": "markdown",
      "metadata": {
        "id": "JN571iLl4DTM"
      },
      "source": [
        "## DAtasets"
      ]
    },
    {
      "cell_type": "code",
      "metadata": {
        "id": "AwC2TuGz4E3b"
      },
      "source": [
        "def print_shapes(path):\n",
        "  import numpy as np\n",
        "  from PIL import Image\n",
        "\n",
        "  print(np.array(Image.open(path)).shape)"
      ],
      "execution_count": null,
      "outputs": []
    },
    {
      "cell_type": "markdown",
      "metadata": {
        "id": "HFdbR0uO3n8e"
      },
      "source": [
        "## Set5"
      ]
    },
    {
      "cell_type": "code",
      "metadata": {
        "colab": {
          "base_uri": "https://localhost:8080/"
        },
        "id": "ZGmbVZpG2IDu",
        "outputId": "b3b1f917-2f2b-44ed-fc97-b34dc2c33466"
      },
      "source": [
        "! wget https://uofi.box.com/shared/static/kfahv87nfe8ax910l85dksyl2q212voc.zip\n"
      ],
      "execution_count": null,
      "outputs": [
        {
          "output_type": "stream",
          "text": [
            "--2021-07-16 05:44:56--  https://uofi.box.com/shared/static/kfahv87nfe8ax910l85dksyl2q212voc.zip\n",
            "Resolving uofi.box.com (uofi.box.com)... 107.152.29.197\n",
            "Connecting to uofi.box.com (uofi.box.com)|107.152.29.197|:443... connected.\n",
            "HTTP request sent, awaiting response... 301 Moved Permanently\n",
            "Location: /public/static/kfahv87nfe8ax910l85dksyl2q212voc.zip [following]\n",
            "--2021-07-16 05:44:56--  https://uofi.box.com/public/static/kfahv87nfe8ax910l85dksyl2q212voc.zip\n",
            "Reusing existing connection to uofi.box.com:443.\n",
            "HTTP request sent, awaiting response... 301 Moved Permanently\n",
            "Location: https://uofi.app.box.com/public/static/kfahv87nfe8ax910l85dksyl2q212voc.zip [following]\n",
            "--2021-07-16 05:44:56--  https://uofi.app.box.com/public/static/kfahv87nfe8ax910l85dksyl2q212voc.zip\n",
            "Resolving uofi.app.box.com (uofi.app.box.com)... 107.152.26.201\n",
            "Connecting to uofi.app.box.com (uofi.app.box.com)|107.152.26.201|:443... connected.\n",
            "HTTP request sent, awaiting response... 302 Found\n",
            "Location: https://public.boxcloud.com/d/1/b1!QzAn0diRdic-KvyD0dh7GT_jayxp6J3JwgHLk7fZxcoCN7bLh-Caw6Yq0jwkDPzbykr8M7Qbr0MY1LJ1lQ1FNCIo8Ksiu891j490gzIj1xi_O1vOQkzmcB-XIGWuYbxRQ1LOshtOM_d_7MBxpkgbGcAS6bmhEAv5bgvaRO8BHYGmchxMX-jbuCwlZyY9M__YRfks3kiCcmVDg2k2pQzPGjQS0HlyjnDEC_35iMJs9B_Qs4JhNiPF4WTnb1cXkL7M1kmhCCtIM9Vz1buKzcPnrn1aX3o2BCyZrHDnbotrQMTfVFWa1eQExpKHX60-ApeHQRIW2o9ibT4XUSKXDJsyUkTueoGCx1GoYCwD9k2pkwqNXAfCm9WZEdbQbUPgyny5cB0EUAo0BSN-TDJdVABXa-6OgY7gMXkpFY7dzW2yhLFWp9n40gQ2By465ZlV9HEBxAStPdPG9O157nRNjIkYSYEZ4ti-fDKFd2O3oYf1uZhYCPgyLDUypYfsCDIXh0M3NCSQuWYbhL2GjsU6USarQYp-QQ6HxOZ3t4Cv1Uz7jLBAdCOXMsPXMPQtF8_wRTgAEm_gTrxCiosylLjvZVBoqTsoChbpYUz2Eu-RhNjg8V1XItSlxTOHcAuk-i9lvJEf97wE_yzI4ZeAWjeet0gNDpHTbobZ9LtAo6b57nwI8hVfLEGjMbjE2oLMDnlLerzoSzC6iVK32e40A-t1HRWTSNyjwv6HL_oG15r1ocii6qa78Gd49qR86v7KNjdFNWIC-x-QF_r2x5f53ONUwDbG1IJvalv6h5LBHsfOh1XbpMOaiz-prN760zCPP_PWWmrO3Iuimn4BNJmaQvy-P8SaSH273HgN8ladTl_PTmo3As1GDRSuaofBw5M7Kgk5c8vxlnb7IT9d3twnDe3PSuer5iF9stR41ufymwYT77FvDpCkG8hUGcKwnTY7euc7Xtf_9yIJTk_ZTegLVBb76pzDpF7FZL2yXEKixFlwMSmQsXtxsnugew6ifpjEb1sovmYYXGWDtPdpIbTrUOQlgt3TXr9x_nrtSAexfBJW22thyLFO3O_xVs49An_AlLJJUnj9gCRlSjYoPvc_6yRjOYVZQEHrI49c6uEQLxPyt5WXdX4DcfzqZhnrgBbYs8oLgOk9T5PR3C--DpgCDBYqrXvQ6Xrds17ECp1PblpcCwLNobacC105VpdrVprC6vcyODyZi2l50I_TlQL_pFORnD-B46NoKGUeeTLI2t-06-gsqpH0CReLQsX5ng5gqRCOGEefctbIU9QR5zm-k3nmrmObtT7cfkEQZbmsUKMXF-BKcsNnrbj4rtIs9B4M6wkwxo_BLfk9EFvSLkoHamULRVOdcCxWfrEr_Yh2KHAJIewXYJQUdcbQVA../download [following]\n",
            "--2021-07-16 05:44:57--  https://public.boxcloud.com/d/1/b1!QzAn0diRdic-KvyD0dh7GT_jayxp6J3JwgHLk7fZxcoCN7bLh-Caw6Yq0jwkDPzbykr8M7Qbr0MY1LJ1lQ1FNCIo8Ksiu891j490gzIj1xi_O1vOQkzmcB-XIGWuYbxRQ1LOshtOM_d_7MBxpkgbGcAS6bmhEAv5bgvaRO8BHYGmchxMX-jbuCwlZyY9M__YRfks3kiCcmVDg2k2pQzPGjQS0HlyjnDEC_35iMJs9B_Qs4JhNiPF4WTnb1cXkL7M1kmhCCtIM9Vz1buKzcPnrn1aX3o2BCyZrHDnbotrQMTfVFWa1eQExpKHX60-ApeHQRIW2o9ibT4XUSKXDJsyUkTueoGCx1GoYCwD9k2pkwqNXAfCm9WZEdbQbUPgyny5cB0EUAo0BSN-TDJdVABXa-6OgY7gMXkpFY7dzW2yhLFWp9n40gQ2By465ZlV9HEBxAStPdPG9O157nRNjIkYSYEZ4ti-fDKFd2O3oYf1uZhYCPgyLDUypYfsCDIXh0M3NCSQuWYbhL2GjsU6USarQYp-QQ6HxOZ3t4Cv1Uz7jLBAdCOXMsPXMPQtF8_wRTgAEm_gTrxCiosylLjvZVBoqTsoChbpYUz2Eu-RhNjg8V1XItSlxTOHcAuk-i9lvJEf97wE_yzI4ZeAWjeet0gNDpHTbobZ9LtAo6b57nwI8hVfLEGjMbjE2oLMDnlLerzoSzC6iVK32e40A-t1HRWTSNyjwv6HL_oG15r1ocii6qa78Gd49qR86v7KNjdFNWIC-x-QF_r2x5f53ONUwDbG1IJvalv6h5LBHsfOh1XbpMOaiz-prN760zCPP_PWWmrO3Iuimn4BNJmaQvy-P8SaSH273HgN8ladTl_PTmo3As1GDRSuaofBw5M7Kgk5c8vxlnb7IT9d3twnDe3PSuer5iF9stR41ufymwYT77FvDpCkG8hUGcKwnTY7euc7Xtf_9yIJTk_ZTegLVBb76pzDpF7FZL2yXEKixFlwMSmQsXtxsnugew6ifpjEb1sovmYYXGWDtPdpIbTrUOQlgt3TXr9x_nrtSAexfBJW22thyLFO3O_xVs49An_AlLJJUnj9gCRlSjYoPvc_6yRjOYVZQEHrI49c6uEQLxPyt5WXdX4DcfzqZhnrgBbYs8oLgOk9T5PR3C--DpgCDBYqrXvQ6Xrds17ECp1PblpcCwLNobacC105VpdrVprC6vcyODyZi2l50I_TlQL_pFORnD-B46NoKGUeeTLI2t-06-gsqpH0CReLQsX5ng5gqRCOGEefctbIU9QR5zm-k3nmrmObtT7cfkEQZbmsUKMXF-BKcsNnrbj4rtIs9B4M6wkwxo_BLfk9EFvSLkoHamULRVOdcCxWfrEr_Yh2KHAJIewXYJQUdcbQVA../download\n",
            "Resolving public.boxcloud.com (public.boxcloud.com)... 107.152.26.200\n",
            "Connecting to public.boxcloud.com (public.boxcloud.com)|107.152.26.200|:443... connected.\n",
            "HTTP request sent, awaiting response... 200 OK\n",
            "Length: 16854463 (16M) [application/zip]\n",
            "Saving to: ‘kfahv87nfe8ax910l85dksyl2q212voc.zip’\n",
            "\n",
            "kfahv87nfe8ax910l85 100%[===================>]  16.07M  16.8MB/s    in 1.0s    \n",
            "\n",
            "2021-07-16 05:44:59 (16.8 MB/s) - ‘kfahv87nfe8ax910l85dksyl2q212voc.zip’ saved [16854463/16854463]\n",
            "\n"
          ],
          "name": "stdout"
        }
      ]
    },
    {
      "cell_type": "code",
      "metadata": {
        "id": "3VUQ4RzI2KmD"
      },
      "source": [
        "! unzip *.zip"
      ],
      "execution_count": null,
      "outputs": []
    },
    {
      "cell_type": "code",
      "metadata": {
        "id": "AohtiP182NrY"
      },
      "source": [
        "import numpy as np\n",
        "from PIL import Image"
      ],
      "execution_count": null,
      "outputs": []
    },
    {
      "cell_type": "code",
      "metadata": {
        "id": "2QsFf21c2n0W"
      },
      "source": [
        "hr = '/content/Set5/image_SRF_2/img_001_SRF_2_HR.png'\n",
        "lr = '/content/Set5/image_SRF_2/img_001_SRF_2_LR.png'"
      ],
      "execution_count": null,
      "outputs": []
    },
    {
      "cell_type": "code",
      "metadata": {
        "colab": {
          "base_uri": "https://localhost:8080/"
        },
        "id": "b_KoORDx2uQ6",
        "outputId": "fb3eeb3b-69df-4c5c-a62a-dd83a0a9a422"
      },
      "source": [
        "np.array(Image.open(lr)).shape, np.array(Image.open(hr)).shape"
      ],
      "execution_count": null,
      "outputs": [
        {
          "output_type": "execute_result",
          "data": {
            "text/plain": [
              "((256, 256, 3), (512, 512, 3))"
            ]
          },
          "metadata": {
            "tags": []
          },
          "execution_count": 7
        }
      ]
    },
    {
      "cell_type": "code",
      "metadata": {
        "id": "SS-v6pYP2zJ8"
      },
      "source": [
        "! rm *zip"
      ],
      "execution_count": null,
      "outputs": []
    },
    {
      "cell_type": "markdown",
      "metadata": {
        "id": "b1X8MpRd3p3C"
      },
      "source": [
        "## Set14"
      ]
    },
    {
      "cell_type": "code",
      "metadata": {
        "colab": {
          "base_uri": "https://localhost:8080/"
        },
        "id": "2bs5_xxt3e8w",
        "outputId": "ee51e080-a7e1-43a8-9056-0c332e107176"
      },
      "source": [
        "! wget https://uofi.box.com/shared/static/igsnfieh4lz68l926l8xbklwsnnk8we9.zip"
      ],
      "execution_count": null,
      "outputs": [
        {
          "output_type": "stream",
          "text": [
            "--2021-07-16 05:51:34--  https://uofi.box.com/shared/static/igsnfieh4lz68l926l8xbklwsnnk8we9.zip\n",
            "Resolving uofi.box.com (uofi.box.com)... 107.152.29.197\n",
            "Connecting to uofi.box.com (uofi.box.com)|107.152.29.197|:443... connected.\n",
            "HTTP request sent, awaiting response... 301 Moved Permanently\n",
            "Location: /public/static/igsnfieh4lz68l926l8xbklwsnnk8we9.zip [following]\n",
            "--2021-07-16 05:51:34--  https://uofi.box.com/public/static/igsnfieh4lz68l926l8xbklwsnnk8we9.zip\n",
            "Reusing existing connection to uofi.box.com:443.\n",
            "HTTP request sent, awaiting response... 301 Moved Permanently\n",
            "Location: https://uofi.app.box.com/public/static/igsnfieh4lz68l926l8xbklwsnnk8we9.zip [following]\n",
            "--2021-07-16 05:51:35--  https://uofi.app.box.com/public/static/igsnfieh4lz68l926l8xbklwsnnk8we9.zip\n",
            "Resolving uofi.app.box.com (uofi.app.box.com)... 107.152.29.201\n",
            "Connecting to uofi.app.box.com (uofi.app.box.com)|107.152.29.201|:443... connected.\n",
            "HTTP request sent, awaiting response... 302 Found\n",
            "Location: https://public.boxcloud.com/d/1/b1!UaPo8AqGpeFOW7f98Lb_0F_FuxhtMsfSBsIzeRiYdOKRsNXWPgH7jmKjilZDnV6xZqeKkN_t8FyWIL48nh7irLJqmFwXJB3YwaiJgBTqZTEeSaSjJHhhvOqcNkY49VXJgz2cC-8svnbtkhftwMutGgY7oSHIJ89-0Z4L3JLYl5FNZJXlhtFmzgsSJRV-LS179vodusixJqKcJS2WVOp9WcgsIQpJfq-KT1o6JCRfOKb-orSaDW1UDKeb5acxRKxSoGhvH7ZIt4DdlqKJgyADU5PGJtiLLnmM90YWOheTq0bs_QakqeFXp3dtNUz_eDGdg8LFgIWZ6OeE7QsxOByj90q-ZU7rWr7KkkhqIusraaiBJesFjEkFTH8kWJzFp8AUprjcbVhALxlDt5c6RH3bsx7C-cxGaiDFmgi_Bob2EH4WGa_ykxNerTeFnPhsA5BXnHPLneWki6dF6tkJCog1POQOvfpC0n8d-VVr37nzQaMF9yy4f6AyduOzaMy5tbR74fW6w0p4-Fe3UPqgx8bxnWWUOwfzNnLDzA4NVObShzPiEuPdq5FWv3xMtp30HGAOrjonaRrU6BmmtEv2tFpB5tlbc3054cV_5u85_Es5a1XCo7OS-TrmXekFe2x-D7WIxTC93klgpG0bU6QV4zMdrUo80-rkeEBk51riPiwAiNmzPHxt8_oTfBMThtyisROub3XHlBPR-PDGQUjHd-CImFB6xKH-DdBI5jjG1RmP1TYxHXDorFaL6p1kRHYyxB1rfJbwDwVfCHgr4VLd62PIjgerAQRuW1Tg8G1msBmK6pRw9bEwlUm4mgF8CI3JrdqKGtjj4vFLQl061JD0Lo4OXNLNvhc6N1qB0IfAUghoAFffy1bc84tEJoKlw9nENInEn5f9tJIBfVA3TCBiY07xNnmZP1u5BxX4RwK9gAxxyIjVyFE6gDhog0elBZfyWm7GSDWsdtqeFqDt-CvKkkdBVNiB5kxkC4LM5A5KF2hA6grelYWmt2DkE1cZolNEGKCxKvPzKLB0rb5d5DaB2cDUZk54od9GQIAawjLWpd6pIf8qaF5hy-VDkk93E5lW3VYRUpFrsMxImKYyx0f0MeuIHkahTisyynWsnED6pRDxTxEKj5hprSploUYGVpHhKFagQTxqK60_tstmnPj9VOwDZP5XV7wt6CwQ_dw8Fd-6YKEmkdFEbgA_bK-q1t02ibSXjPA8oGxz9YHhjazO8lls2YRWQSbFJbxkqFrlFH7TeBqsSdAZg1V5VlId2R8fjmDgHuRnrV73ZtsAAdmPYE13ezZ6kveQebWBIT1ecNOr0aoDDFdXhRFRXGFObmUFL23RuJkV1wTEtcxJWdI3O2haAxvDhEjTwDvMeA2sfQzrQNjUJJxZmYfIYNMDXQ1XFr71nT-tjLna8C8Bag_S9oeviw../download [following]\n",
            "--2021-07-16 05:51:36--  https://public.boxcloud.com/d/1/b1!UaPo8AqGpeFOW7f98Lb_0F_FuxhtMsfSBsIzeRiYdOKRsNXWPgH7jmKjilZDnV6xZqeKkN_t8FyWIL48nh7irLJqmFwXJB3YwaiJgBTqZTEeSaSjJHhhvOqcNkY49VXJgz2cC-8svnbtkhftwMutGgY7oSHIJ89-0Z4L3JLYl5FNZJXlhtFmzgsSJRV-LS179vodusixJqKcJS2WVOp9WcgsIQpJfq-KT1o6JCRfOKb-orSaDW1UDKeb5acxRKxSoGhvH7ZIt4DdlqKJgyADU5PGJtiLLnmM90YWOheTq0bs_QakqeFXp3dtNUz_eDGdg8LFgIWZ6OeE7QsxOByj90q-ZU7rWr7KkkhqIusraaiBJesFjEkFTH8kWJzFp8AUprjcbVhALxlDt5c6RH3bsx7C-cxGaiDFmgi_Bob2EH4WGa_ykxNerTeFnPhsA5BXnHPLneWki6dF6tkJCog1POQOvfpC0n8d-VVr37nzQaMF9yy4f6AyduOzaMy5tbR74fW6w0p4-Fe3UPqgx8bxnWWUOwfzNnLDzA4NVObShzPiEuPdq5FWv3xMtp30HGAOrjonaRrU6BmmtEv2tFpB5tlbc3054cV_5u85_Es5a1XCo7OS-TrmXekFe2x-D7WIxTC93klgpG0bU6QV4zMdrUo80-rkeEBk51riPiwAiNmzPHxt8_oTfBMThtyisROub3XHlBPR-PDGQUjHd-CImFB6xKH-DdBI5jjG1RmP1TYxHXDorFaL6p1kRHYyxB1rfJbwDwVfCHgr4VLd62PIjgerAQRuW1Tg8G1msBmK6pRw9bEwlUm4mgF8CI3JrdqKGtjj4vFLQl061JD0Lo4OXNLNvhc6N1qB0IfAUghoAFffy1bc84tEJoKlw9nENInEn5f9tJIBfVA3TCBiY07xNnmZP1u5BxX4RwK9gAxxyIjVyFE6gDhog0elBZfyWm7GSDWsdtqeFqDt-CvKkkdBVNiB5kxkC4LM5A5KF2hA6grelYWmt2DkE1cZolNEGKCxKvPzKLB0rb5d5DaB2cDUZk54od9GQIAawjLWpd6pIf8qaF5hy-VDkk93E5lW3VYRUpFrsMxImKYyx0f0MeuIHkahTisyynWsnED6pRDxTxEKj5hprSploUYGVpHhKFagQTxqK60_tstmnPj9VOwDZP5XV7wt6CwQ_dw8Fd-6YKEmkdFEbgA_bK-q1t02ibSXjPA8oGxz9YHhjazO8lls2YRWQSbFJbxkqFrlFH7TeBqsSdAZg1V5VlId2R8fjmDgHuRnrV73ZtsAAdmPYE13ezZ6kveQebWBIT1ecNOr0aoDDFdXhRFRXGFObmUFL23RuJkV1wTEtcxJWdI3O2haAxvDhEjTwDvMeA2sfQzrQNjUJJxZmYfIYNMDXQ1XFr71nT-tjLna8C8Bag_S9oeviw../download\n",
            "Resolving public.boxcloud.com (public.boxcloud.com)... 107.152.26.200\n",
            "Connecting to public.boxcloud.com (public.boxcloud.com)|107.152.26.200|:443... connected.\n",
            "HTTP request sent, awaiting response... 200 OK\n",
            "Length: 90212858 (86M) [application/zip]\n",
            "Saving to: ‘igsnfieh4lz68l926l8xbklwsnnk8we9.zip’\n",
            "\n",
            "igsnfieh4lz68l926l8 100%[===================>]  86.03M  23.7MB/s    in 4.0s    \n",
            "\n",
            "2021-07-16 05:51:40 (21.4 MB/s) - ‘igsnfieh4lz68l926l8xbklwsnnk8we9.zip’ saved [90212858/90212858]\n",
            "\n"
          ],
          "name": "stdout"
        }
      ]
    },
    {
      "cell_type": "code",
      "metadata": {
        "id": "3MA2DDSE3r2L"
      },
      "source": [
        "! unzip *zip"
      ],
      "execution_count": null,
      "outputs": []
    },
    {
      "cell_type": "code",
      "metadata": {
        "id": "FRSxU8_O3v8n"
      },
      "source": [
        "hr = '/content/Set14/image_SRF_2/img_014_SRF_2_HR.png'\n",
        "lr = '/content/Set14/image_SRF_2/img_014_SRF_2_LR.png'"
      ],
      "execution_count": null,
      "outputs": []
    },
    {
      "cell_type": "code",
      "metadata": {
        "colab": {
          "base_uri": "https://localhost:8080/"
        },
        "id": "_vWpyJNX4Tuf",
        "outputId": "cb6c6f05-783b-40ee-e530-47f1f2115f11"
      },
      "source": [
        "print_shapes(hr), print_shapes(lr)"
      ],
      "execution_count": null,
      "outputs": [
        {
          "output_type": "stream",
          "text": [
            "(390, 586, 3)\n",
            "(195, 293, 3)\n"
          ],
          "name": "stdout"
        },
        {
          "output_type": "execute_result",
          "data": {
            "text/plain": [
              "(None, None)"
            ]
          },
          "metadata": {
            "tags": []
          },
          "execution_count": 14
        }
      ]
    },
    {
      "cell_type": "code",
      "metadata": {
        "id": "416mG2gp4WX4"
      },
      "source": [
        "! rm *zip"
      ],
      "execution_count": null,
      "outputs": []
    },
    {
      "cell_type": "markdown",
      "metadata": {
        "id": "XHC_r4u549UN"
      },
      "source": [
        "## urban100"
      ]
    },
    {
      "cell_type": "code",
      "metadata": {
        "colab": {
          "base_uri": "https://localhost:8080/"
        },
        "id": "LT9kGCGu48g5",
        "outputId": "4d19948d-f7f0-4edf-d987-a02bcf9dc99e"
      },
      "source": [
        "! wget https://uofi.box.com/shared/static/65upg43jjd0a4cwsiqgl6o6ixube6klm.zip"
      ],
      "execution_count": null,
      "outputs": [
        {
          "output_type": "stream",
          "text": [
            "--2021-07-16 05:57:18--  https://uofi.box.com/shared/static/65upg43jjd0a4cwsiqgl6o6ixube6klm.zip\n",
            "Resolving uofi.box.com (uofi.box.com)... 107.152.26.197\n",
            "Connecting to uofi.box.com (uofi.box.com)|107.152.26.197|:443... connected.\n",
            "HTTP request sent, awaiting response... 301 Moved Permanently\n",
            "Location: /public/static/65upg43jjd0a4cwsiqgl6o6ixube6klm.zip [following]\n",
            "--2021-07-16 05:57:18--  https://uofi.box.com/public/static/65upg43jjd0a4cwsiqgl6o6ixube6klm.zip\n",
            "Reusing existing connection to uofi.box.com:443.\n",
            "HTTP request sent, awaiting response... 301 Moved Permanently\n",
            "Location: https://uofi.app.box.com/public/static/65upg43jjd0a4cwsiqgl6o6ixube6klm.zip [following]\n",
            "--2021-07-16 05:57:18--  https://uofi.app.box.com/public/static/65upg43jjd0a4cwsiqgl6o6ixube6klm.zip\n",
            "Resolving uofi.app.box.com (uofi.app.box.com)... 107.152.29.201\n",
            "Connecting to uofi.app.box.com (uofi.app.box.com)|107.152.29.201|:443... connected.\n",
            "HTTP request sent, awaiting response... 302 Found\n",
            "Location: https://public.boxcloud.com/d/1/b1!QKvIbsYmZ3iaxtTp6oi4SGfQI81le3DXjs5mEx16OS-GNO4YfYkQ9_XzxTyakNOAFKxQs5O01Sp2dLL68mYaGMCv5_qXnPqWtaPSeV7YdTK4hK-UMKsF8vFmp7xRMPcn-0anYisOnRyUyW-x53ow-PObjQLwIAk81f2l-t2MZ0p6a0DmsVEUZwMmhG3hDxjwZEJ9ZRkU1mXRZ_Gxp5Ww2044DtCp1awqbEGxrlcaNpKjs3-ZJICDPKrtQSnvEYONSpaHLBZxM4UYgmalUQXb5cN3tr8hyebbijilxTBn8hGEL1NbnryNhH0scKsxrXXzvJ0ibrdTPyxlXv9rHq8OOm-QhLAc9jbDRMb5eOSPtnBmI21aAK3Y6S3qd28NpKyMOch2kzyr6-Xi_MkheRnWs1ZlhDoN2EigPJGE8teyKJnuZIiHHvnw2wgnDEH1kulbFIHOAJtpXRDpkX1ptaZZ_ZlJcopM7O3GL4JFvtQ6Bl5uWFBUDoBLmg_MNpObgAgUBbAjSw-sK6rh7ROdjS-qnY44odZ7kU_jOdSDQonPsNzmmIrtthynO0bu-3bLfqlyKyAZEJzVlb64C43ONgaUEGApxIzjkzOl_O7CxO806dAfXptbg04WK0tk47kwBRt7KlYbnwrrTArxYYc54ZxCJqbXzpVGKU7qBtzRAKA-tjwu6GinGwbTNSZJAH9tffHwKR7qzZM_aHp0WEpVI_ka0xArE3P8Mx0npNguPwcW_XKcrj-cpP0rs7yV8seTVx9jAjLaP_a-DTZCmvb0l8KHfGvlbE91tsLb7CWyQjbi1yCxvYyFq22vVwoGOWC_fQCBcoLqqo6Diz4toGVhgJhkswZlkqfaRVnd0G8GPB106G2wKMRD2NDMAOhZFlegVqUnMZVKizYi1sO0ZCo9CUpIjmNObEon5RSZRkJxEf43Bw6-Z3j-5D0RLIm1jnSlCABWfjlfrv9V1wyWGtpgPufWnImw0Iq485XjujFueb90zd4YT3gWdSA1EJpVAn4FyqBK9P69wEg2Kt22KwYRgAtXV2ubInDQ3U8RP0FrOftRiAlYAAwjqQNBFCF9UE8ofh0EEYUMCTQgFW8OugwrJdBqA8GCyWGdxhqk5jeEPgH1n_4F5wZXN3yhuRkfyKwqYfSQWVohmwgSKvHiw__3_I6Pi1Zjfh1TKCpT8_xaPrEHJ-eNc_crMf0qEuKu9d0wxwz0GxsfyO8Cv64-FNypgryueos8FkLw7sMAqAiw4oTYL0RYBMXS2k62pBRVez738unOBUtQS0CRmFT6bLUES9dZl5gmfNAYWjveFgmE1HRKy14RYJ7ffD4sD_G1pO2YH0wLSv6qeiFvnQqUQUscn5C11Yu1SGpmKEFz801oWV0qXcCIyIeBDurRFBeaDQ../download [following]\n",
            "--2021-07-16 05:57:19--  https://public.boxcloud.com/d/1/b1!QKvIbsYmZ3iaxtTp6oi4SGfQI81le3DXjs5mEx16OS-GNO4YfYkQ9_XzxTyakNOAFKxQs5O01Sp2dLL68mYaGMCv5_qXnPqWtaPSeV7YdTK4hK-UMKsF8vFmp7xRMPcn-0anYisOnRyUyW-x53ow-PObjQLwIAk81f2l-t2MZ0p6a0DmsVEUZwMmhG3hDxjwZEJ9ZRkU1mXRZ_Gxp5Ww2044DtCp1awqbEGxrlcaNpKjs3-ZJICDPKrtQSnvEYONSpaHLBZxM4UYgmalUQXb5cN3tr8hyebbijilxTBn8hGEL1NbnryNhH0scKsxrXXzvJ0ibrdTPyxlXv9rHq8OOm-QhLAc9jbDRMb5eOSPtnBmI21aAK3Y6S3qd28NpKyMOch2kzyr6-Xi_MkheRnWs1ZlhDoN2EigPJGE8teyKJnuZIiHHvnw2wgnDEH1kulbFIHOAJtpXRDpkX1ptaZZ_ZlJcopM7O3GL4JFvtQ6Bl5uWFBUDoBLmg_MNpObgAgUBbAjSw-sK6rh7ROdjS-qnY44odZ7kU_jOdSDQonPsNzmmIrtthynO0bu-3bLfqlyKyAZEJzVlb64C43ONgaUEGApxIzjkzOl_O7CxO806dAfXptbg04WK0tk47kwBRt7KlYbnwrrTArxYYc54ZxCJqbXzpVGKU7qBtzRAKA-tjwu6GinGwbTNSZJAH9tffHwKR7qzZM_aHp0WEpVI_ka0xArE3P8Mx0npNguPwcW_XKcrj-cpP0rs7yV8seTVx9jAjLaP_a-DTZCmvb0l8KHfGvlbE91tsLb7CWyQjbi1yCxvYyFq22vVwoGOWC_fQCBcoLqqo6Diz4toGVhgJhkswZlkqfaRVnd0G8GPB106G2wKMRD2NDMAOhZFlegVqUnMZVKizYi1sO0ZCo9CUpIjmNObEon5RSZRkJxEf43Bw6-Z3j-5D0RLIm1jnSlCABWfjlfrv9V1wyWGtpgPufWnImw0Iq485XjujFueb90zd4YT3gWdSA1EJpVAn4FyqBK9P69wEg2Kt22KwYRgAtXV2ubInDQ3U8RP0FrOftRiAlYAAwjqQNBFCF9UE8ofh0EEYUMCTQgFW8OugwrJdBqA8GCyWGdxhqk5jeEPgH1n_4F5wZXN3yhuRkfyKwqYfSQWVohmwgSKvHiw__3_I6Pi1Zjfh1TKCpT8_xaPrEHJ-eNc_crMf0qEuKu9d0wxwz0GxsfyO8Cv64-FNypgryueos8FkLw7sMAqAiw4oTYL0RYBMXS2k62pBRVez738unOBUtQS0CRmFT6bLUES9dZl5gmfNAYWjveFgmE1HRKy14RYJ7ffD4sD_G1pO2YH0wLSv6qeiFvnQqUQUscn5C11Yu1SGpmKEFz801oWV0qXcCIyIeBDurRFBeaDQ../download\n",
            "Resolving public.boxcloud.com (public.boxcloud.com)... 107.152.26.200\n",
            "Connecting to public.boxcloud.com (public.boxcloud.com)|107.152.26.200|:443... connected.\n",
            "HTTP request sent, awaiting response... 200 OK\n",
            "Length: 1219708027 (1.1G) [application/zip]\n",
            "Saving to: ‘65upg43jjd0a4cwsiqgl6o6ixube6klm.zip’\n",
            "\n",
            "65upg43jjd0a4cwsiqg 100%[===================>]   1.14G  23.5MB/s    in 50s     \n",
            "\n",
            "2021-07-16 05:58:09 (23.4 MB/s) - ‘65upg43jjd0a4cwsiqgl6o6ixube6klm.zip’ saved [1219708027/1219708027]\n",
            "\n"
          ],
          "name": "stdout"
        }
      ]
    },
    {
      "cell_type": "code",
      "metadata": {
        "id": "nNyv_0Lm4_vb"
      },
      "source": [
        "! unzip *zip"
      ],
      "execution_count": null,
      "outputs": []
    },
    {
      "cell_type": "code",
      "metadata": {
        "id": "JWXROH6Z6_u7"
      },
      "source": [
        "! mkdir urban100 "
      ],
      "execution_count": null,
      "outputs": []
    },
    {
      "cell_type": "code",
      "metadata": {
        "id": "Fy5xsORl7SDM"
      },
      "source": [
        "! rm *zip"
      ],
      "execution_count": null,
      "outputs": []
    },
    {
      "cell_type": "code",
      "metadata": {
        "id": "3HsPuLpd7dRu"
      },
      "source": [
        "lr = '/content/urban100/image_SRF_2/img_069_SRF_2_LR.png'\n",
        "hr = '/content/urban100/image_SRF_2/img_069_SRF_2_HR.png'"
      ],
      "execution_count": null,
      "outputs": []
    },
    {
      "cell_type": "code",
      "metadata": {
        "colab": {
          "base_uri": "https://localhost:8080/"
        },
        "id": "x1J7P-sP8v-v",
        "outputId": "fb8cd486-48a3-4426-b22d-27bc3aca9f6b"
      },
      "source": [
        "print_shapes(hr), print_shapes(lr)"
      ],
      "execution_count": null,
      "outputs": [
        {
          "output_type": "stream",
          "text": [
            "(412, 600, 3)\n",
            "(206, 300, 3)\n"
          ],
          "name": "stdout"
        },
        {
          "output_type": "execute_result",
          "data": {
            "text/plain": [
              "(None, None)"
            ]
          },
          "metadata": {
            "tags": []
          },
          "execution_count": 21
        }
      ]
    },
    {
      "cell_type": "markdown",
      "metadata": {
        "id": "p2eoJa049Lyu"
      },
      "source": [
        "## BSD100"
      ]
    },
    {
      "cell_type": "code",
      "metadata": {
        "colab": {
          "base_uri": "https://localhost:8080/"
        },
        "id": "xkGq5Ccm8zjZ",
        "outputId": "0e6d224f-8eea-468b-86b5-a30aa721947b"
      },
      "source": [
        "! wget https://uofi.box.com/shared/static/qgctsplb8txrksm9to9x01zfa4m61ngq.zip"
      ],
      "execution_count": null,
      "outputs": [
        {
          "output_type": "stream",
          "text": [
            "--2021-07-16 06:16:06--  https://uofi.box.com/shared/static/qgctsplb8txrksm9to9x01zfa4m61ngq.zip\n",
            "Resolving uofi.box.com (uofi.box.com)... 107.152.26.197\n",
            "Connecting to uofi.box.com (uofi.box.com)|107.152.26.197|:443... connected.\n",
            "HTTP request sent, awaiting response... 301 Moved Permanently\n",
            "Location: /public/static/qgctsplb8txrksm9to9x01zfa4m61ngq.zip [following]\n",
            "--2021-07-16 06:16:07--  https://uofi.box.com/public/static/qgctsplb8txrksm9to9x01zfa4m61ngq.zip\n",
            "Reusing existing connection to uofi.box.com:443.\n",
            "HTTP request sent, awaiting response... 301 Moved Permanently\n",
            "Location: https://uofi.app.box.com/public/static/qgctsplb8txrksm9to9x01zfa4m61ngq.zip [following]\n",
            "--2021-07-16 06:16:07--  https://uofi.app.box.com/public/static/qgctsplb8txrksm9to9x01zfa4m61ngq.zip\n",
            "Resolving uofi.app.box.com (uofi.app.box.com)... 107.152.26.201\n",
            "Connecting to uofi.app.box.com (uofi.app.box.com)|107.152.26.201|:443... connected.\n",
            "HTTP request sent, awaiting response... 302 Found\n",
            "Location: https://public.boxcloud.com/d/1/b1!kwULIQ-zZIqc-QB4malpYe-gUj1531KC6l239pOzGtcCfz036_9y4YLO6xB1gFo_HMd6s6E5EXtITpqWH4yJ4GOXljU8WldbLtrO6ZydSKsjIoKeSwmR0IJFRMdTvbLK_4jMURCEFKP99XUwMrYJh5xaUACW_yPegj4FQpRmuwwJHlC6lnX4tGAz--Fw43O9oXP0GxsAlxotmdv5k9EXKZ6j1xjxeY8vKItsoOoLp_49cWT-baKk7JQSYrTlyEQE7ooPAbft986UCZ7kmokrUYuub0tXGAx4uo2BldVuXf3YX7DBHl-Sni7WzvxyPK5CERIGP7nGU4RCCtBU-bvt3iQQ1ZEE5bUh-okgGwqVWGloW4HJ31NjIlbY85rmlu2Cvwh-L-MUSCtV7AvGZ3YebJ-BLhCQYMC45l8w_RkGaxoBNAx0aOyu3MbMWrV5vwy1DzUBTisx7QwEfHdUyTPAN6gTBuY38eIeFdCaqqlOQIdpR3vsgO0KgLXEzyN4kwmGQ-GHEQqDCdbN3iNz0egblJylyAx54s7GdOY7eyCDMEWtPMO6MxcO5uXVnn968ZtZncsGHmiTOAVUnPw2iTAgrfrEhLqLjTFi7V4njutLCOF-qn_P4HAvB6xKjzIjNvSyqQHIra8jH3cKcQWDO10mN2SwKzM6wpsVFxDeeUAYiaRiSdTUcgsdc6TERMw1aXs8RK34wOzBvAzhYhDvQtTSdAZhKvIhuXY8670KKVDi4iJLNTn59ZiqluRWrgk6MnnbxFdEsWn1nUoeOXfBY2ngcX6FX3xAh0MtQnqiw5FZKY0xwwC8LXCyMRoll2691oHuDp2BQVeRHZeZADlgOocYvwu03px8O-cqIVZNYBoaWsP1h_wxj0FQFIcUBA_KbhPo8siwxOAQKnqZIkWf-DtQqjcYaq3gW8h-PfPk8UWaRWt-j9z4U3tUbLg5K92jdlyYsrZb5p9rdS6KP1rpfAiFsYa9rDwSRGIjtA0sIoRgFxpiGHZELriDtUmd6_0ypR4Pe20qFdVRsM2_q1xYb6fMDYl8lgygbWeQemJlCWFFEgVPW3e4ur14-j0ghtwIML3Q5DJ_GinPuMtPm7h8vUOqnVPQSYL4FAXSP-eKbtb780kRLA7T2ZMWs6posg0o9rr3S-YX4NgkGj6kzIKEG2mz00nygaYgmv5yomroNo9TBaNVEBt0DfMgljdcYOjoEWl_ilsMq3ddlvdk7R7ti4kf4Q1__2fqBxSSmaqTHjBbp_R0v3C3K9r0w6FC-cMTQ0FqVT8Z4hp8XcswQqd1RXCG6kbLynhaTBXOqq5nftZHlpv9Gl7oMU_wsukcY-D5d8gMFhvIK8t7jee8ealq407YdJrAAaOApu25jA7XK38RLPg937_DV9A76Cm5Ri8FLiUWkF8mpeT-NYSBRjcWOZSl-aje/download [following]\n",
            "--2021-07-16 06:16:08--  https://public.boxcloud.com/d/1/b1!kwULIQ-zZIqc-QB4malpYe-gUj1531KC6l239pOzGtcCfz036_9y4YLO6xB1gFo_HMd6s6E5EXtITpqWH4yJ4GOXljU8WldbLtrO6ZydSKsjIoKeSwmR0IJFRMdTvbLK_4jMURCEFKP99XUwMrYJh5xaUACW_yPegj4FQpRmuwwJHlC6lnX4tGAz--Fw43O9oXP0GxsAlxotmdv5k9EXKZ6j1xjxeY8vKItsoOoLp_49cWT-baKk7JQSYrTlyEQE7ooPAbft986UCZ7kmokrUYuub0tXGAx4uo2BldVuXf3YX7DBHl-Sni7WzvxyPK5CERIGP7nGU4RCCtBU-bvt3iQQ1ZEE5bUh-okgGwqVWGloW4HJ31NjIlbY85rmlu2Cvwh-L-MUSCtV7AvGZ3YebJ-BLhCQYMC45l8w_RkGaxoBNAx0aOyu3MbMWrV5vwy1DzUBTisx7QwEfHdUyTPAN6gTBuY38eIeFdCaqqlOQIdpR3vsgO0KgLXEzyN4kwmGQ-GHEQqDCdbN3iNz0egblJylyAx54s7GdOY7eyCDMEWtPMO6MxcO5uXVnn968ZtZncsGHmiTOAVUnPw2iTAgrfrEhLqLjTFi7V4njutLCOF-qn_P4HAvB6xKjzIjNvSyqQHIra8jH3cKcQWDO10mN2SwKzM6wpsVFxDeeUAYiaRiSdTUcgsdc6TERMw1aXs8RK34wOzBvAzhYhDvQtTSdAZhKvIhuXY8670KKVDi4iJLNTn59ZiqluRWrgk6MnnbxFdEsWn1nUoeOXfBY2ngcX6FX3xAh0MtQnqiw5FZKY0xwwC8LXCyMRoll2691oHuDp2BQVeRHZeZADlgOocYvwu03px8O-cqIVZNYBoaWsP1h_wxj0FQFIcUBA_KbhPo8siwxOAQKnqZIkWf-DtQqjcYaq3gW8h-PfPk8UWaRWt-j9z4U3tUbLg5K92jdlyYsrZb5p9rdS6KP1rpfAiFsYa9rDwSRGIjtA0sIoRgFxpiGHZELriDtUmd6_0ypR4Pe20qFdVRsM2_q1xYb6fMDYl8lgygbWeQemJlCWFFEgVPW3e4ur14-j0ghtwIML3Q5DJ_GinPuMtPm7h8vUOqnVPQSYL4FAXSP-eKbtb780kRLA7T2ZMWs6posg0o9rr3S-YX4NgkGj6kzIKEG2mz00nygaYgmv5yomroNo9TBaNVEBt0DfMgljdcYOjoEWl_ilsMq3ddlvdk7R7ti4kf4Q1__2fqBxSSmaqTHjBbp_R0v3C3K9r0w6FC-cMTQ0FqVT8Z4hp8XcswQqd1RXCG6kbLynhaTBXOqq5nftZHlpv9Gl7oMU_wsukcY-D5d8gMFhvIK8t7jee8ealq407YdJrAAaOApu25jA7XK38RLPg937_DV9A76Cm5Ri8FLiUWkF8mpeT-NYSBRjcWOZSl-aje/download\n",
            "Resolving public.boxcloud.com (public.boxcloud.com)... 107.152.29.200\n",
            "Connecting to public.boxcloud.com (public.boxcloud.com)|107.152.29.200|:443... connected.\n",
            "HTTP request sent, awaiting response... 200 OK\n",
            "Length: 603349643 (575M) [application/zip]\n",
            "Saving to: ‘qgctsplb8txrksm9to9x01zfa4m61ngq.zip’\n",
            "\n",
            "qgctsplb8txrksm9to9 100%[===================>] 575.40M  14.2MB/s    in 51s     \n",
            "\n",
            "2021-07-16 06:17:00 (11.2 MB/s) - ‘qgctsplb8txrksm9to9x01zfa4m61ngq.zip’ saved [603349643/603349643]\n",
            "\n"
          ],
          "name": "stdout"
        }
      ]
    },
    {
      "cell_type": "code",
      "metadata": {
        "id": "HLhd3D-t9TPZ"
      },
      "source": [
        "! unzip *zip"
      ],
      "execution_count": null,
      "outputs": []
    },
    {
      "cell_type": "code",
      "metadata": {
        "id": "O8cRWUqs91WJ"
      },
      "source": [
        "! mkdir bsd100"
      ],
      "execution_count": null,
      "outputs": []
    },
    {
      "cell_type": "code",
      "metadata": {
        "id": "S4Am4ENL98H7"
      },
      "source": [
        "! rm *zip"
      ],
      "execution_count": null,
      "outputs": []
    },
    {
      "cell_type": "markdown",
      "metadata": {
        "id": "gT8OFYUDBCIt"
      },
      "source": [
        "## Sun Hays 80"
      ]
    },
    {
      "cell_type": "code",
      "metadata": {
        "colab": {
          "base_uri": "https://localhost:8080/"
        },
        "id": "Lu1Bu7HO-D7x",
        "outputId": "337333f7-449d-4347-c070-33cca99407cf"
      },
      "source": [
        "! wget https://uofi.box.com/shared/static/rirohj4773jl7ef752r330rtqw23djt8.zip"
      ],
      "execution_count": null,
      "outputs": [
        {
          "output_type": "stream",
          "text": [
            "--2021-07-16 06:35:00--  https://uofi.box.com/shared/static/rirohj4773jl7ef752r330rtqw23djt8.zip\n",
            "Resolving uofi.box.com (uofi.box.com)... 107.152.26.197\n",
            "Connecting to uofi.box.com (uofi.box.com)|107.152.26.197|:443... connected.\n",
            "HTTP request sent, awaiting response... 301 Moved Permanently\n",
            "Location: /public/static/rirohj4773jl7ef752r330rtqw23djt8.zip [following]\n",
            "--2021-07-16 06:35:00--  https://uofi.box.com/public/static/rirohj4773jl7ef752r330rtqw23djt8.zip\n",
            "Reusing existing connection to uofi.box.com:443.\n",
            "HTTP request sent, awaiting response... 301 Moved Permanently\n",
            "Location: https://uofi.app.box.com/public/static/rirohj4773jl7ef752r330rtqw23djt8.zip [following]\n",
            "--2021-07-16 06:35:00--  https://uofi.app.box.com/public/static/rirohj4773jl7ef752r330rtqw23djt8.zip\n",
            "Resolving uofi.app.box.com (uofi.app.box.com)... 107.152.26.201\n",
            "Connecting to uofi.app.box.com (uofi.app.box.com)|107.152.26.201|:443... connected.\n",
            "HTTP request sent, awaiting response... 302 Found\n",
            "Location: https://public.boxcloud.com/d/1/b1!UiGBzyTxuvYbnnT07JJdvSnNqOQggEQYIYRVBPITT5W90z0I5a7Vw-dPtWyQg8uPGem_nJPd7x-_1eKbnwKitqy3jJuiPzFB-CRIaUXYX6_TsrLj_GhyWkETyxFfjbU-xSREaGb-5yoMTIOtIX8fyGaw8SUwq_f0r8Mhc_x0rwhWTeWbrPb0wINl6gKuyPjzmLXuZJF-8fMpRj90NuAoxoMehm0n1rnCDjmz8WmTGj8KIcchzX6ADwBW_BpFERNaSqZWj-dzeNKEqnYPAC5E2ZP7wZvOYMkJrDCNHtE2lgUb2G1efajDJj0URrngE1it6KXaZ3T2nJ5csm570Q6nGKgThWfPJdtgDcS_FgZ12y30Z60AWeWYhUEUvP_bBHpuw-h7keBW3IjzFlMw0e7w0TrzpkwOcsAzAcRU6mlim7lLExJ4nQSOkDr4tx6trQPtINFDFe3KctUQtsi4KwrG7uH0j5GVgTAnMQ-oWHPrqUo2fxLVxOiyoy0SWOHJc5pW_C-oBHkrp3PdegscGLSfCuiPXGI6JC1GCGPZs3bk9oRIsVHI8vdXqev0GeZBJGOkW-_78AniCtVKlFagT5QsW69lFWI3t-RvVb7t4QnXfujbVaTWK4YRxO8MyukcEcV1uczOQImSNoUCBbLA4ZNQqWR7-T6jcw-Sb1V96rcRFuBox_ltkTsUl76-Rlbyk4ADqHTp_Hsc8pBYj1rWl9l0hQUUUPx4HEXk_qpZwLe0kL_L63kzedm77zsTN5UEKhPUdtZ4CDc6R1l01ZRPnw7h7jmKuv8KtAC5dcm9b30dbBnfIMLeH2YohPtByw-ypCQ2djlUUG3xgrni3sc_K0o3OMfMfLcFCu_0j0dwClktoQ4gf8uXYqhi2nhYJrC_PEQEJTuUYXOCi2J_JslbcLjIAMNlxuWSbyZfWOwEHMK6yNR2l4dTeSpcFDyTkB6F0IXcSKxOaVJH1sYAskXIM-BGMysXfjOKOTSHT-4t5TZNPu8MaWGXHmhMs10dssyIPGunzalD2H6ucMu-2QZOWxBaGEsnu85MuFTcf71nEj-G0jxX_AuY5xyLwhIhhNhG8mTnF1W4gmeG3e1RK_J5fTBMp643m7W5JqGJ2C_FT5Ba0I6T8i1EWHrRDm6M80LQS2eBKDclh1Fl-QQHdkWy69KYjXDbwEIKcbN5kTuJAaGryl6oPGhx-AfYaGLqb-fEdCw7flQRb0u0HJyLloVOVRtySnRZN2DJS_hQGOqlX70Oy4_31MQ1IdCUgHM-V-VHxqfTgH4uZtk6eISF1VfaOZ_8QmbfpNMW1ckIxje--zuBpb7RP-8NeKTmtuglrePXSJuEarCP6x9_PBccNBDXAqlNQEfV4UEMw6z7IDfaHa1bdhVOj8qUDHgZMhoocgsqMB3KlZX4gmKBPFGh0g4gCtOWW6MnzFXV/download [following]\n",
            "--2021-07-16 06:35:02--  https://public.boxcloud.com/d/1/b1!UiGBzyTxuvYbnnT07JJdvSnNqOQggEQYIYRVBPITT5W90z0I5a7Vw-dPtWyQg8uPGem_nJPd7x-_1eKbnwKitqy3jJuiPzFB-CRIaUXYX6_TsrLj_GhyWkETyxFfjbU-xSREaGb-5yoMTIOtIX8fyGaw8SUwq_f0r8Mhc_x0rwhWTeWbrPb0wINl6gKuyPjzmLXuZJF-8fMpRj90NuAoxoMehm0n1rnCDjmz8WmTGj8KIcchzX6ADwBW_BpFERNaSqZWj-dzeNKEqnYPAC5E2ZP7wZvOYMkJrDCNHtE2lgUb2G1efajDJj0URrngE1it6KXaZ3T2nJ5csm570Q6nGKgThWfPJdtgDcS_FgZ12y30Z60AWeWYhUEUvP_bBHpuw-h7keBW3IjzFlMw0e7w0TrzpkwOcsAzAcRU6mlim7lLExJ4nQSOkDr4tx6trQPtINFDFe3KctUQtsi4KwrG7uH0j5GVgTAnMQ-oWHPrqUo2fxLVxOiyoy0SWOHJc5pW_C-oBHkrp3PdegscGLSfCuiPXGI6JC1GCGPZs3bk9oRIsVHI8vdXqev0GeZBJGOkW-_78AniCtVKlFagT5QsW69lFWI3t-RvVb7t4QnXfujbVaTWK4YRxO8MyukcEcV1uczOQImSNoUCBbLA4ZNQqWR7-T6jcw-Sb1V96rcRFuBox_ltkTsUl76-Rlbyk4ADqHTp_Hsc8pBYj1rWl9l0hQUUUPx4HEXk_qpZwLe0kL_L63kzedm77zsTN5UEKhPUdtZ4CDc6R1l01ZRPnw7h7jmKuv8KtAC5dcm9b30dbBnfIMLeH2YohPtByw-ypCQ2djlUUG3xgrni3sc_K0o3OMfMfLcFCu_0j0dwClktoQ4gf8uXYqhi2nhYJrC_PEQEJTuUYXOCi2J_JslbcLjIAMNlxuWSbyZfWOwEHMK6yNR2l4dTeSpcFDyTkB6F0IXcSKxOaVJH1sYAskXIM-BGMysXfjOKOTSHT-4t5TZNPu8MaWGXHmhMs10dssyIPGunzalD2H6ucMu-2QZOWxBaGEsnu85MuFTcf71nEj-G0jxX_AuY5xyLwhIhhNhG8mTnF1W4gmeG3e1RK_J5fTBMp643m7W5JqGJ2C_FT5Ba0I6T8i1EWHrRDm6M80LQS2eBKDclh1Fl-QQHdkWy69KYjXDbwEIKcbN5kTuJAaGryl6oPGhx-AfYaGLqb-fEdCw7flQRb0u0HJyLloVOVRtySnRZN2DJS_hQGOqlX70Oy4_31MQ1IdCUgHM-V-VHxqfTgH4uZtk6eISF1VfaOZ_8QmbfpNMW1ckIxje--zuBpb7RP-8NeKTmtuglrePXSJuEarCP6x9_PBccNBDXAqlNQEfV4UEMw6z7IDfaHa1bdhVOj8qUDHgZMhoocgsqMB3KlZX4gmKBPFGh0g4gCtOWW6MnzFXV/download\n",
            "Resolving public.boxcloud.com (public.boxcloud.com)... 107.152.26.200\n",
            "Connecting to public.boxcloud.com (public.boxcloud.com)|107.152.26.200|:443... connected.\n",
            "HTTP request sent, awaiting response... 200 OK\n",
            "Length: 326119914 (311M) [application/zip]\n",
            "Saving to: ‘rirohj4773jl7ef752r330rtqw23djt8.zip’\n",
            "\n",
            "rirohj4773jl7ef752r 100%[===================>] 311.01M  23.9MB/s    in 14s     \n",
            "\n",
            "2021-07-16 06:35:16 (22.4 MB/s) - ‘rirohj4773jl7ef752r330rtqw23djt8.zip’ saved [326119914/326119914]\n",
            "\n"
          ],
          "name": "stdout"
        }
      ]
    },
    {
      "cell_type": "code",
      "metadata": {
        "id": "eCBr-ECbBn1F"
      },
      "source": [
        "! unzip -q *zip"
      ],
      "execution_count": null,
      "outputs": []
    },
    {
      "cell_type": "code",
      "metadata": {
        "id": "W0opaRrmCCJA"
      },
      "source": [
        "! mkdir sunhays80"
      ],
      "execution_count": null,
      "outputs": []
    },
    {
      "cell_type": "code",
      "metadata": {
        "id": "RWA1ZXdPCKs0"
      },
      "source": [
        "! rm *zip"
      ],
      "execution_count": null,
      "outputs": []
    },
    {
      "cell_type": "code",
      "metadata": {
        "id": "aPFNp6OdCVMG"
      },
      "source": [
        "while True:\n",
        "  pass"
      ],
      "execution_count": null,
      "outputs": []
    },
    {
      "cell_type": "code",
      "metadata": {
        "id": "aAKFgW7hIbqY"
      },
      "source": [
        ""
      ],
      "execution_count": null,
      "outputs": []
    },
    {
      "cell_type": "markdown",
      "metadata": {
        "id": "iwBihLfN0C8A"
      },
      "source": [
        "# bicubic downsampling matlab"
      ]
    },
    {
      "cell_type": "code",
      "metadata": {
        "id": "wT1UWAai0uFJ"
      },
      "source": [
        "%%capture\n",
        "! apt install octave"
      ],
      "execution_count": null,
      "outputs": []
    },
    {
      "cell_type": "code",
      "metadata": {
        "id": "SPPlxEy5LUME"
      },
      "source": [
        "! touch temp.m"
      ],
      "execution_count": null,
      "outputs": []
    },
    {
      "cell_type": "code",
      "metadata": {
        "colab": {
          "base_uri": "https://localhost:8080/"
        },
        "id": "fI-NVL031WLp",
        "outputId": "2540210f-e3f9-4fb7-a956-76e323f83291"
      },
      "source": [
        "! sudo apt-get install octave-image"
      ],
      "execution_count": null,
      "outputs": [
        {
          "output_type": "stream",
          "text": [
            "Reading package lists... Done\n",
            "Building dependency tree       \n",
            "Reading state information... Done\n",
            "The following NEW packages will be installed:\n",
            "  octave-image\n",
            "0 upgraded, 1 newly installed, 0 to remove and 39 not upgraded.\n",
            "Need to get 503 kB of archives.\n",
            "After this operation, 2,874 kB of additional disk space will be used.\n",
            "Get:1 http://archive.ubuntu.com/ubuntu bionic/universe amd64 octave-image amd64 2.6.2-5 [503 kB]\n",
            "Fetched 503 kB in 2s (260 kB/s)\n",
            "debconf: unable to initialize frontend: Dialog\n",
            "debconf: (No usable dialog-like program is installed, so the dialog based frontend cannot be used. at /usr/share/perl5/Debconf/FrontEnd/Dialog.pm line 76, <> line 1.)\n",
            "debconf: falling back to frontend: Readline\n",
            "debconf: unable to initialize frontend: Readline\n",
            "debconf: (This frontend requires a controlling tty.)\n",
            "debconf: falling back to frontend: Teletype\n",
            "dpkg-preconfigure: unable to re-open stdin: \n",
            "Selecting previously unselected package octave-image.\n",
            "(Reading database ... 168577 files and directories currently installed.)\n",
            "Preparing to unpack .../octave-image_2.6.2-5_amd64.deb ...\n",
            "Unpacking octave-image (2.6.2-5) ...\n",
            "Setting up octave-image (2.6.2-5) ...\n",
            "Processing triggers for octave (4.2.2-1ubuntu1) ...\n"
          ],
          "name": "stdout"
        }
      ]
    },
    {
      "cell_type": "code",
      "metadata": {
        "id": "APMHXbDULUJH",
        "colab": {
          "base_uri": "https://localhost:8080/"
        },
        "outputId": "4334c9eb-d9dd-4aa0-a280-701fa2395597"
      },
      "source": [
        "! octave -W temp.m"
      ],
      "execution_count": null,
      "outputs": [
        {
          "output_type": "stream",
          "text": [
            "Image taken\n"
          ],
          "name": "stdout"
        }
      ]
    },
    {
      "cell_type": "code",
      "metadata": {
        "id": "Xjat9VC4LUIS"
      },
      "source": [
        ""
      ],
      "execution_count": null,
      "outputs": []
    },
    {
      "cell_type": "code",
      "metadata": {
        "id": "kFbVFqAP0CEP"
      },
      "source": [
        ""
      ],
      "execution_count": null,
      "outputs": []
    },
    {
      "cell_type": "markdown",
      "metadata": {
        "id": "i-QH7qpeTfod"
      },
      "source": [
        "## Stacked attention Network"
      ]
    },
    {
      "cell_type": "code",
      "metadata": {
        "id": "kwNfGX86Th4C"
      },
      "source": [
        ""
      ],
      "execution_count": null,
      "outputs": []
    },
    {
      "cell_type": "code",
      "metadata": {
        "id": "JRFnl2nrTieE"
      },
      "source": [
        "import torch\n",
        "import torch.nn as nn\n",
        "import torch.nn.functional as F\n",
        "\n",
        "\n",
        "class Attention(nn.Module):\n",
        "\tdef __init__(self, hidden_dim, img_dim, ques_dim):\n",
        "\t\tsuper(Attention, self).__init__()\n",
        "\t\tself.w1 = nn.Linear(img_dim, hidden_dim, bias=False)\n",
        "\t\tself.w2 = nn.Linear(ques_dim, hidden_dim)\n",
        "\t\tself.wp = nn.Linear(hidden_dim, 1)\n",
        "\t\tself.tanh = torch.tanh\n",
        "\t\n",
        "\tdef forward(self, vi, vq):\n",
        "\t\t\"\"\"\n",
        "\t\tSummary: \n",
        "\t\t\td = img_dim = ques_dim\n",
        "\t\tArgs:\n",
        "\t\t\tvi (m, d): Visual features of the image, where m = (width * height) of feature map\n",
        "\t\t\tvq (d):    Features of the question\n",
        "\n",
        "\t\tReturns:\n",
        "\t\t\tpi (m): Attention coeeficient (alpha) corresponding to each feature vector\n",
        "\t\t\"\"\"\n",
        "\t\t# h.shape: (hidden_dim, m)\n",
        "\t\ta = self.w1(vi)\n",
        "\t\tb = torch.unsqueeze(self.w2(vq), -2)\n",
        "\t\tprint(f'A: {a.shape}, B: {b.shape}')\n",
        "\t\t# a, b = torch.transpose(a, -1, -2), b\n",
        "\t\tprint(f'A: {a.shape}, B: {b.shape}')\n",
        "\t\th = self.tanh(a + b)\n",
        "\t\tprint(f'Shape of h: {h.shape}')\n",
        "\t\t# pi.shape: (m, 1)\n",
        "\t\tpi = F.softmax(self.wp(h))\n",
        "\t\treturn pi"
      ],
      "execution_count": null,
      "outputs": []
    },
    {
      "cell_type": "code",
      "metadata": {
        "id": "C2woAypRTiba"
      },
      "source": [
        "class AttentionLayer(nn.Module):\n",
        "\tdef __init__(self, hidden_dim, img_dim, ques_dim):\n",
        "\t\tsuper(AttentionLayer, self).__init__()\n",
        "\t\tself.attention = Attention(hidden_dim, img_dim, ques_dim)\n",
        "\n",
        "\tdef forward(self, vi, u):\n",
        "\t\t\"\"\"[summary]\n",
        "\n",
        "\t\tArgs:\n",
        "\t\t\tvi (m, d): Visual features of image, where m = (width * height) of feature map\n",
        "\t\t\tu (d):     Features of the question\n",
        "\n",
        "\t\tReturns:\n",
        "\t\t\tu (d): Features of question after applying the attention over the image\n",
        "\t\t\"\"\"\n",
        "\t\tpi = self.attention(vi, u)\n",
        "\t\tu = torch.sum(pi * vi) + torch.unsqueeze(u, dim=-2)\n",
        "\t\treturn torch.squeeze(u, dim=-2)"
      ],
      "execution_count": null,
      "outputs": []
    },
    {
      "cell_type": "code",
      "metadata": {
        "id": "IZJxdkyHTiWG"
      },
      "source": [
        "m, d, hidden_dim = (14 * 14), 120, 53\n",
        "bs = 2\n",
        "\n",
        "vi = torch.rand((bs, m, d))\n",
        "u = torch.rand((bs, d))"
      ],
      "execution_count": null,
      "outputs": []
    },
    {
      "cell_type": "code",
      "metadata": {
        "colab": {
          "base_uri": "https://localhost:8080/"
        },
        "id": "6XcbvWpATiUL",
        "outputId": "914cfaa5-52e6-4550-8d1d-f51f0688bfe3"
      },
      "source": [
        "model = AttentionLayer(hidden_dim, d, d)\n",
        "out = model(vi, u)\n",
        "print(out.shape)"
      ],
      "execution_count": null,
      "outputs": [
        {
          "output_type": "stream",
          "text": [
            "A: torch.Size([2, 196, 53]), B: torch.Size([2, 1, 53])\n",
            "A: torch.Size([2, 196, 53]), B: torch.Size([2, 1, 53])\n",
            "Shape of h: torch.Size([2, 196, 53])\n",
            "torch.Size([2, 120])\n"
          ],
          "name": "stdout"
        },
        {
          "output_type": "stream",
          "text": [
            "/usr/local/lib/python3.7/dist-packages/ipykernel_launcher.py:34: UserWarning: Implicit dimension choice for softmax has been deprecated. Change the call to include dim=X as an argument.\n"
          ],
          "name": "stderr"
        }
      ]
    },
    {
      "cell_type": "code",
      "metadata": {
        "colab": {
          "base_uri": "https://localhost:8080/"
        },
        "id": "EQwTtBpfTiTf",
        "outputId": "6fe82b17-d52a-4183-8b6a-3d5a59b36fee"
      },
      "source": [
        "_attention_model = Attention(hidden_dim, d, d)\n",
        "print(f'vi: {vi.shape}, u: {u.shape}')\n",
        "out = _attention_model(vi, u)\n",
        "print(out.shape)\n",
        "assert out.shape == (bs, m, 1)"
      ],
      "execution_count": null,
      "outputs": [
        {
          "output_type": "stream",
          "text": [
            "vi: torch.Size([2, 196, 120]), u: torch.Size([2, 120])\n",
            "A: torch.Size([2, 196, 53]), B: torch.Size([2, 1, 53])\n",
            "A: torch.Size([2, 196, 53]), B: torch.Size([2, 1, 53])\n",
            "Shape of h: torch.Size([2, 196, 53])\n",
            "torch.Size([2, 196, 1])\n"
          ],
          "name": "stdout"
        },
        {
          "output_type": "stream",
          "text": [
            "/usr/local/lib/python3.7/dist-packages/ipykernel_launcher.py:34: UserWarning: Implicit dimension choice for softmax has been deprecated. Change the call to include dim=X as an argument.\n"
          ],
          "name": "stderr"
        }
      ]
    },
    {
      "cell_type": "code",
      "metadata": {
        "id": "Dta0DGaFWKId"
      },
      "source": [
        ""
      ],
      "execution_count": null,
      "outputs": []
    },
    {
      "cell_type": "code",
      "metadata": {
        "colab": {
          "base_uri": "https://localhost:8080/"
        },
        "id": "pSMYBe3wkyxm",
        "outputId": "09a626af-9ab2-4b60-d8ce-b2723bdca336"
      },
      "source": [
        "a = torch.tensor([[\n",
        "                [1, 2, 4],\n",
        "                [3, 4, 5]\n",
        "]])\n",
        "\n",
        "b = torch.tensor([[\n",
        "                  1, 2\n",
        "]])\n",
        "\n",
        "print(f'A: {a.shape}, B: {b.shape}, ')"
      ],
      "execution_count": null,
      "outputs": [
        {
          "output_type": "stream",
          "text": [
            "A: torch.Size([1, 2, 3]), B: torch.Size([1, 2]), \n"
          ],
          "name": "stdout"
        }
      ]
    },
    {
      "cell_type": "code",
      "metadata": {
        "colab": {
          "base_uri": "https://localhost:8080/"
        },
        "id": "ub7dFqypmpX2",
        "outputId": "f54ac27e-9dce-45ae-80c2-07b2b12ff876"
      },
      "source": [
        "torch.transpose(torch.transpose(a, -1, -2) + b, -1, -2)"
      ],
      "execution_count": null,
      "outputs": [
        {
          "output_type": "execute_result",
          "data": {
            "text/plain": [
              "tensor([[[2, 3, 5],\n",
              "         [5, 6, 7]]])"
            ]
          },
          "metadata": {
            "tags": []
          },
          "execution_count": 54
        }
      ]
    },
    {
      "cell_type": "code",
      "metadata": {
        "colab": {
          "base_uri": "https://localhost:8080/"
        },
        "id": "Uih0onjck-Qv",
        "outputId": "d7b90122-6ba4-4a74-8a13-2aef1bbc6cf4"
      },
      "source": [
        "torch.add(a.view(1, 3, 2), b).view(1, 2, 3)"
      ],
      "execution_count": null,
      "outputs": [
        {
          "output_type": "execute_result",
          "data": {
            "text/plain": [
              "tensor([[[2, 4, 5],\n",
              "         [5, 5, 7]]])"
            ]
          },
          "metadata": {
            "tags": []
          },
          "execution_count": 55
        }
      ]
    },
    {
      "cell_type": "code",
      "metadata": {
        "colab": {
          "base_uri": "https://localhost:8080/"
        },
        "id": "qdmsAQZnlxfi",
        "outputId": "ecd967e4-0994-4a64-ff09-3e682a1bfca7"
      },
      "source": [
        "a = torch.ones((2, 3, 5))\n",
        "b = torch.ones(2, 5)\n",
        "b = torch.unsqueeze(b, -2)\n",
        "a + b"
      ],
      "execution_count": null,
      "outputs": [
        {
          "output_type": "execute_result",
          "data": {
            "text/plain": [
              "tensor([[[2., 2., 2., 2., 2.],\n",
              "         [2., 2., 2., 2., 2.],\n",
              "         [2., 2., 2., 2., 2.]],\n",
              "\n",
              "        [[2., 2., 2., 2., 2.],\n",
              "         [2., 2., 2., 2., 2.],\n",
              "         [2., 2., 2., 2., 2.]]])"
            ]
          },
          "metadata": {
            "tags": []
          },
          "execution_count": 61
        }
      ]
    },
    {
      "cell_type": "code",
      "metadata": {
        "colab": {
          "base_uri": "https://localhost:8080/"
        },
        "id": "x5yf6ds70b4c",
        "outputId": "79acaef0-4a7f-4844-87de-bbe424a5c5ec"
      },
      "source": [
        "torch.transpose(a, -1, -2).shape"
      ],
      "execution_count": null,
      "outputs": [
        {
          "output_type": "execute_result",
          "data": {
            "text/plain": [
              "torch.Size([2, 5, 3])"
            ]
          },
          "metadata": {
            "tags": []
          },
          "execution_count": 59
        }
      ]
    },
    {
      "cell_type": "code",
      "metadata": {
        "id": "JvFynWlc0eaB"
      },
      "source": [
        ""
      ],
      "execution_count": null,
      "outputs": []
    },
    {
      "cell_type": "markdown",
      "metadata": {
        "id": "JL2J6pqFxF0L"
      },
      "source": [
        "##### RNN Part: LSTM"
      ]
    },
    {
      "cell_type": "code",
      "metadata": {
        "id": "7E-7B3zoxH1V"
      },
      "source": [
        "import torch\n",
        "import torch.nn as nn\n"
      ],
      "execution_count": null,
      "outputs": []
    },
    {
      "cell_type": "code",
      "metadata": {
        "id": "Dyu_MsZbxLc7"
      },
      "source": [
        "vocab_size, embed_size = 500, 250"
      ],
      "execution_count": null,
      "outputs": []
    },
    {
      "cell_type": "code",
      "metadata": {
        "id": "EHPv78j4xQ40"
      },
      "source": [
        "class QuestionEncoder(nn.Module):\n",
        "    def __init__(self, vocab_size, embed_size, out_size):\n",
        "        super(QuestionEncoder, self).__init__()\n",
        "        self.vocab_size = vocab_size\n",
        "        self.embed_size = embed_size\n",
        "        self.out_size = out_size\n",
        "\n",
        "        self.embed = nn.Embedding(self.vocab_size, self.embed_size)\n",
        "        self.lstm = nn.LSTM(self.embed_size, self.out_size, batch_first=True)\n",
        "\n",
        "    def forward(self, x):\n",
        "        \"\"\"Implements the class to encode the questions into feature vectors. Uses embeddings and LSTMs for the same\n",
        "        \n",
        "        Args:\n",
        "            x (N, seq_len): Tensor containing numbers corresponding to words of the sentence.\n",
        "        \n",
        "        Returns:\n",
        "            c (N, out_size): Feature vector corresponding to each question vector\n",
        "        \"\"\"\n",
        "        output, (h, c) = self.lstm(self.embed(x))\n",
        "        return torch.squeeze(c, dim=0)"
      ],
      "execution_count": null,
      "outputs": []
    },
    {
      "cell_type": "code",
      "metadata": {
        "id": "Y9s9JXFPynSe"
      },
      "source": [
        "model = QuestionEncoder(vocab_size, embed_size, out_size=90)"
      ],
      "execution_count": null,
      "outputs": []
    },
    {
      "cell_type": "code",
      "metadata": {
        "id": "cYGPJPfwy1PX"
      },
      "source": [
        "# batch of 2 sentences, each containing 4 words\n",
        "sentence = torch.tensor([\n",
        "                         [1, 2, 3, 4],\n",
        "                         [5, 6, 7, 8]\n",
        "])"
      ],
      "execution_count": null,
      "outputs": []
    },
    {
      "cell_type": "code",
      "metadata": {
        "id": "Av26QCI7zKXg"
      },
      "source": [
        "out = model(sentence)\n",
        "# sentence.shape, out.shape\n",
        "assert tuple(out.shape) == (2, 90)"
      ],
      "execution_count": null,
      "outputs": []
    },
    {
      "cell_type": "markdown",
      "metadata": {
        "id": "4VUDWhwj5zyj"
      },
      "source": [
        "## Image Encoder"
      ]
    },
    {
      "cell_type": "code",
      "metadata": {
        "colab": {
          "base_uri": "https://localhost:8080/"
        },
        "id": "N5cVODsm6_0p",
        "outputId": "69f8ac3a-8934-43b4-a7ef-ef04d4a18325"
      },
      "source": [
        "! pip install torchsummary"
      ],
      "execution_count": null,
      "outputs": [
        {
          "output_type": "stream",
          "text": [
            "Requirement already satisfied: torchsummary in /usr/local/lib/python3.7/dist-packages (1.5.1)\n"
          ],
          "name": "stdout"
        }
      ]
    },
    {
      "cell_type": "code",
      "metadata": {
        "id": "m9DGUNAD6nzq"
      },
      "source": [
        "from torchvision.models import vgg19\n",
        "from torchsummary import summary"
      ],
      "execution_count": null,
      "outputs": []
    },
    {
      "cell_type": "code",
      "metadata": {
        "id": "WsDdgs5izMbY"
      },
      "source": [
        "class ImageEncoder(nn.Module):\n",
        "  def __init__(self, out_dim):\n",
        "    super(ImageEncoder, self).__init__()\n",
        "    self.out_dim = out_dim\n",
        "    self.vgg = vgg19(pretrained=True)\n",
        "    self.vgg.avgpool = nn.Sequential()\n",
        "    self.vgg.classifier = nn.Sequential()\n",
        "    self.fc = nn.Linear(512, out_dim)\n",
        "\n",
        "  def forward(self, x):\n",
        "    feats = self.vgg(x)\n",
        "    batch_size = x.shape[0]\n",
        "    feats = feats.view(batch_size, 14 * 14, 512)\n",
        "    return self.fc(feats)\n"
      ],
      "execution_count": null,
      "outputs": []
    },
    {
      "cell_type": "code",
      "metadata": {
        "colab": {
          "base_uri": "https://localhost:8080/",
          "height": 100,
          "referenced_widgets": [
            "79b50892b71441d59eaad43fff04a16a",
            "caf0c0425ac34ffc8949eb4c29dc2fec",
            "d55a720900184486afd2f93e00781fd5",
            "16d2c2b3e1da4eca8949ab23959338ff",
            "309a9f41d0744d469037c574d6349eba",
            "c9730e916b4a467098ebde9b3715313e",
            "8d18bf84419943d48ea86c03eeba16de",
            "ebc9d28141a84731a9289c6c16a336a0"
          ]
        },
        "id": "ajYJRGy98q2h",
        "outputId": "dad88b21-6a72-4d77-c335-06d2cd4ce35e"
      },
      "source": [
        "model = ImageEncoder(out_dim=250)\n",
        "inp = torch.rand((1, 3, 448, 448))\n",
        "out = model(inp)\n",
        "out.shape"
      ],
      "execution_count": null,
      "outputs": [
        {
          "output_type": "stream",
          "text": [
            "Downloading: \"https://download.pytorch.org/models/vgg19-dcbb9e9d.pth\" to /root/.cache/torch/hub/checkpoints/vgg19-dcbb9e9d.pth\n"
          ],
          "name": "stderr"
        },
        {
          "output_type": "display_data",
          "data": {
            "application/vnd.jupyter.widget-view+json": {
              "model_id": "79b50892b71441d59eaad43fff04a16a",
              "version_minor": 0,
              "version_major": 2
            },
            "text/plain": [
              "HBox(children=(FloatProgress(value=0.0, max=574673361.0), HTML(value='')))"
            ]
          },
          "metadata": {
            "tags": []
          }
        },
        {
          "output_type": "stream",
          "text": [
            "\n"
          ],
          "name": "stdout"
        },
        {
          "output_type": "execute_result",
          "data": {
            "text/plain": [
              "torch.Size([1, 196, 250])"
            ]
          },
          "metadata": {
            "tags": []
          },
          "execution_count": 41
        }
      ]
    },
    {
      "cell_type": "code",
      "metadata": {
        "id": "SpoyNluw8qzv"
      },
      "source": [
        ""
      ],
      "execution_count": null,
      "outputs": []
    },
    {
      "cell_type": "code",
      "metadata": {
        "id": "q1Xy6LeZ8qxo"
      },
      "source": [
        ""
      ],
      "execution_count": null,
      "outputs": []
    },
    {
      "cell_type": "code",
      "metadata": {
        "id": "oZ3Ss2EK8qw4"
      },
      "source": [
        ""
      ],
      "execution_count": null,
      "outputs": []
    },
    {
      "cell_type": "code",
      "metadata": {
        "colab": {
          "base_uri": "https://localhost:8080/"
        },
        "id": "yfeKciMo63tY",
        "outputId": "eac76b4e-d92d-43a7-e9fc-fc6a6a27949d"
      },
      "source": [
        "summary(vgg19(), input_size=(3, 448, 448))"
      ],
      "execution_count": null,
      "outputs": [
        {
          "output_type": "stream",
          "text": [
            "/usr/local/lib/python3.7/dist-packages/torch/nn/functional.py:718: UserWarning: Named tensors and all their associated APIs are an experimental feature and subject to change. Please do not use them for anything important until they are released as stable. (Triggered internally at  /pytorch/c10/core/TensorImpl.h:1156.)\n",
            "  return torch.max_pool2d(input, kernel_size, stride, padding, dilation, ceil_mode)\n"
          ],
          "name": "stderr"
        },
        {
          "output_type": "stream",
          "text": [
            "----------------------------------------------------------------\n",
            "        Layer (type)               Output Shape         Param #\n",
            "================================================================\n",
            "            Conv2d-1         [-1, 64, 448, 448]           1,792\n",
            "              ReLU-2         [-1, 64, 448, 448]               0\n",
            "            Conv2d-3         [-1, 64, 448, 448]          36,928\n",
            "              ReLU-4         [-1, 64, 448, 448]               0\n",
            "         MaxPool2d-5         [-1, 64, 224, 224]               0\n",
            "            Conv2d-6        [-1, 128, 224, 224]          73,856\n",
            "              ReLU-7        [-1, 128, 224, 224]               0\n",
            "            Conv2d-8        [-1, 128, 224, 224]         147,584\n",
            "              ReLU-9        [-1, 128, 224, 224]               0\n",
            "        MaxPool2d-10        [-1, 128, 112, 112]               0\n",
            "           Conv2d-11        [-1, 256, 112, 112]         295,168\n",
            "             ReLU-12        [-1, 256, 112, 112]               0\n",
            "           Conv2d-13        [-1, 256, 112, 112]         590,080\n",
            "             ReLU-14        [-1, 256, 112, 112]               0\n",
            "           Conv2d-15        [-1, 256, 112, 112]         590,080\n",
            "             ReLU-16        [-1, 256, 112, 112]               0\n",
            "           Conv2d-17        [-1, 256, 112, 112]         590,080\n",
            "             ReLU-18        [-1, 256, 112, 112]               0\n",
            "        MaxPool2d-19          [-1, 256, 56, 56]               0\n",
            "           Conv2d-20          [-1, 512, 56, 56]       1,180,160\n",
            "             ReLU-21          [-1, 512, 56, 56]               0\n",
            "           Conv2d-22          [-1, 512, 56, 56]       2,359,808\n",
            "             ReLU-23          [-1, 512, 56, 56]               0\n",
            "           Conv2d-24          [-1, 512, 56, 56]       2,359,808\n",
            "             ReLU-25          [-1, 512, 56, 56]               0\n",
            "           Conv2d-26          [-1, 512, 56, 56]       2,359,808\n",
            "             ReLU-27          [-1, 512, 56, 56]               0\n",
            "        MaxPool2d-28          [-1, 512, 28, 28]               0\n",
            "           Conv2d-29          [-1, 512, 28, 28]       2,359,808\n",
            "             ReLU-30          [-1, 512, 28, 28]               0\n",
            "           Conv2d-31          [-1, 512, 28, 28]       2,359,808\n",
            "             ReLU-32          [-1, 512, 28, 28]               0\n",
            "           Conv2d-33          [-1, 512, 28, 28]       2,359,808\n",
            "             ReLU-34          [-1, 512, 28, 28]               0\n",
            "           Conv2d-35          [-1, 512, 28, 28]       2,359,808\n",
            "             ReLU-36          [-1, 512, 28, 28]               0\n",
            "        MaxPool2d-37          [-1, 512, 14, 14]               0\n",
            "AdaptiveAvgPool2d-38            [-1, 512, 7, 7]               0\n",
            "           Linear-39                 [-1, 4096]     102,764,544\n",
            "             ReLU-40                 [-1, 4096]               0\n",
            "          Dropout-41                 [-1, 4096]               0\n",
            "           Linear-42                 [-1, 4096]      16,781,312\n",
            "             ReLU-43                 [-1, 4096]               0\n",
            "          Dropout-44                 [-1, 4096]               0\n",
            "           Linear-45                 [-1, 1000]       4,097,000\n",
            "================================================================\n",
            "Total params: 143,667,240\n",
            "Trainable params: 143,667,240\n",
            "Non-trainable params: 0\n",
            "----------------------------------------------------------------\n",
            "Input size (MB): 2.30\n",
            "Forward/backward pass size (MB): 953.59\n",
            "Params size (MB): 548.05\n",
            "Estimated Total Size (MB): 1503.93\n",
            "----------------------------------------------------------------\n"
          ],
          "name": "stdout"
        }
      ]
    },
    {
      "cell_type": "code",
      "metadata": {
        "colab": {
          "base_uri": "https://localhost:8080/"
        },
        "id": "PGajF1_Q641q",
        "outputId": "75f58543-feeb-4449-a2d1-f30644d86f7c"
      },
      "source": [
        "vgg19()"
      ],
      "execution_count": null,
      "outputs": [
        {
          "output_type": "execute_result",
          "data": {
            "text/plain": [
              "VGG(\n",
              "  (features): Sequential(\n",
              "    (0): Conv2d(3, 64, kernel_size=(3, 3), stride=(1, 1), padding=(1, 1))\n",
              "    (1): ReLU(inplace=True)\n",
              "    (2): Conv2d(64, 64, kernel_size=(3, 3), stride=(1, 1), padding=(1, 1))\n",
              "    (3): ReLU(inplace=True)\n",
              "    (4): MaxPool2d(kernel_size=2, stride=2, padding=0, dilation=1, ceil_mode=False)\n",
              "    (5): Conv2d(64, 128, kernel_size=(3, 3), stride=(1, 1), padding=(1, 1))\n",
              "    (6): ReLU(inplace=True)\n",
              "    (7): Conv2d(128, 128, kernel_size=(3, 3), stride=(1, 1), padding=(1, 1))\n",
              "    (8): ReLU(inplace=True)\n",
              "    (9): MaxPool2d(kernel_size=2, stride=2, padding=0, dilation=1, ceil_mode=False)\n",
              "    (10): Conv2d(128, 256, kernel_size=(3, 3), stride=(1, 1), padding=(1, 1))\n",
              "    (11): ReLU(inplace=True)\n",
              "    (12): Conv2d(256, 256, kernel_size=(3, 3), stride=(1, 1), padding=(1, 1))\n",
              "    (13): ReLU(inplace=True)\n",
              "    (14): Conv2d(256, 256, kernel_size=(3, 3), stride=(1, 1), padding=(1, 1))\n",
              "    (15): ReLU(inplace=True)\n",
              "    (16): Conv2d(256, 256, kernel_size=(3, 3), stride=(1, 1), padding=(1, 1))\n",
              "    (17): ReLU(inplace=True)\n",
              "    (18): MaxPool2d(kernel_size=2, stride=2, padding=0, dilation=1, ceil_mode=False)\n",
              "    (19): Conv2d(256, 512, kernel_size=(3, 3), stride=(1, 1), padding=(1, 1))\n",
              "    (20): ReLU(inplace=True)\n",
              "    (21): Conv2d(512, 512, kernel_size=(3, 3), stride=(1, 1), padding=(1, 1))\n",
              "    (22): ReLU(inplace=True)\n",
              "    (23): Conv2d(512, 512, kernel_size=(3, 3), stride=(1, 1), padding=(1, 1))\n",
              "    (24): ReLU(inplace=True)\n",
              "    (25): Conv2d(512, 512, kernel_size=(3, 3), stride=(1, 1), padding=(1, 1))\n",
              "    (26): ReLU(inplace=True)\n",
              "    (27): MaxPool2d(kernel_size=2, stride=2, padding=0, dilation=1, ceil_mode=False)\n",
              "    (28): Conv2d(512, 512, kernel_size=(3, 3), stride=(1, 1), padding=(1, 1))\n",
              "    (29): ReLU(inplace=True)\n",
              "    (30): Conv2d(512, 512, kernel_size=(3, 3), stride=(1, 1), padding=(1, 1))\n",
              "    (31): ReLU(inplace=True)\n",
              "    (32): Conv2d(512, 512, kernel_size=(3, 3), stride=(1, 1), padding=(1, 1))\n",
              "    (33): ReLU(inplace=True)\n",
              "    (34): Conv2d(512, 512, kernel_size=(3, 3), stride=(1, 1), padding=(1, 1))\n",
              "    (35): ReLU(inplace=True)\n",
              "    (36): MaxPool2d(kernel_size=2, stride=2, padding=0, dilation=1, ceil_mode=False)\n",
              "  )\n",
              "  (avgpool): AdaptiveAvgPool2d(output_size=(7, 7))\n",
              "  (classifier): Sequential(\n",
              "    (0): Linear(in_features=25088, out_features=4096, bias=True)\n",
              "    (1): ReLU(inplace=True)\n",
              "    (2): Dropout(p=0.5, inplace=False)\n",
              "    (3): Linear(in_features=4096, out_features=4096, bias=True)\n",
              "    (4): ReLU(inplace=True)\n",
              "    (5): Dropout(p=0.5, inplace=False)\n",
              "    (6): Linear(in_features=4096, out_features=1000, bias=True)\n",
              "  )\n",
              ")"
            ]
          },
          "metadata": {
            "tags": []
          },
          "execution_count": 39
        }
      ]
    },
    {
      "cell_type": "code",
      "metadata": {
        "colab": {
          "base_uri": "https://localhost:8080/"
        },
        "id": "4OpY5JfS7zRM",
        "outputId": "0777c002-528f-46b0-c864-32811fac8125"
      },
      "source": [
        "!pwd && ls"
      ],
      "execution_count": 1,
      "outputs": [
        {
          "output_type": "stream",
          "text": [
            "/content\n",
            "sample_data\n"
          ],
          "name": "stdout"
        }
      ]
    },
    {
      "cell_type": "markdown",
      "metadata": {
        "id": "LXJb-PpR-WT2"
      },
      "source": [
        "# SAN model"
      ]
    },
    {
      "cell_type": "code",
      "metadata": {
        "id": "KWqpqsKYXdfE"
      },
      "source": [
        "%%capture\n",
        "! pip install torchinfo"
      ],
      "execution_count": 1,
      "outputs": []
    },
    {
      "cell_type": "code",
      "metadata": {
        "id": "JxY3IESU-Vfb"
      },
      "source": [
        "%%capture\n",
        "! wget https://raw.githubusercontent.com/harshraj22/DeepLearning/main/implementations/SAN/models/attention.py\n",
        "! wget https://raw.githubusercontent.com/harshraj22/DeepLearning/main/implementations/SAN/models/image_encoder.py\n",
        "! wget https://raw.githubusercontent.com/harshraj22/DeepLearning/main/implementations/SAN/models/question_encoder.py\n",
        "! wget https://raw.githubusercontent.com/harshraj22/DeepLearning/main/implementations/SAN/models/san.py\n",
        "! wget https://raw.githubusercontent.com/harshraj22/DeepLearning/main/implementations/SAN/utils/dataset.py"
      ],
      "execution_count": 2,
      "outputs": []
    },
    {
      "cell_type": "code",
      "metadata": {
        "id": "UTybALMv4AZ8",
        "colab": {
          "base_uri": "https://localhost:8080/"
        },
        "outputId": "754b1f0f-a3c7-4d5b-c0bd-63fc02059ee7"
      },
      "source": [
        "import gc\n",
        "gc.collect()"
      ],
      "execution_count": 6,
      "outputs": [
        {
          "output_type": "execute_result",
          "data": {
            "text/plain": [
              "298"
            ]
          },
          "metadata": {
            "tags": []
          },
          "execution_count": 6
        }
      ]
    },
    {
      "cell_type": "code",
      "metadata": {
        "id": "yiYsb2NM-Vcn"
      },
      "source": [
        "import torch\n",
        "import torch.nn as nn\n",
        "\n",
        "# from attention import AttentionLayer\n",
        "from image_encoder import ImageEncoder\n",
        "# from question_encoder import QuestionEncoder\n",
        "# from san import SAN\n",
        "\n",
        "import warnings\n",
        "warnings.filterwarnings(\"ignore\")"
      ],
      "execution_count": 3,
      "outputs": []
    },
    {
      "cell_type": "code",
      "metadata": {
        "id": "uU9xu62NR-u7"
      },
      "source": [
        "import torch\n",
        "import torch.nn as nn\n",
        "import torch.nn.functional as F\n",
        "from torchvision import transforms\n",
        "\n",
        "\n",
        "class QuestionEncoder(nn.Module):\n",
        "    def __init__(self, vocab_size, embed_size, out_size):\n",
        "        super(QuestionEncoder, self).__init__()\n",
        "        self.vocab_size = vocab_size\n",
        "        self.embed_size = embed_size\n",
        "        self.out_size = out_size\n",
        "\n",
        "        self.embed = nn.Embedding(self.vocab_size, self.embed_size)\n",
        "        self.lstm = nn.LSTM(self.embed_size, self.out_size, batch_first=True)\n",
        "\n",
        "    def forward(self, x):\n",
        "        \"\"\"Implements the class to encode the questions into feature vectors. Uses embeddings and LSTMs for the same\n",
        "        \n",
        "        Args:\n",
        "            x (N, seq_len): Tensor containing numbers corresponding to words of the sentence.\n",
        "        \n",
        "        Returns:\n",
        "            c (N, out_size): Feature vector corresponding to each question vector\n",
        "        \"\"\"\n",
        "        output, (h, c) = self.lstm(self.embed(x))\n",
        "        return torch.squeeze(h, dim=0)\n",
        "\n",
        "\n",
        "if __name__ == '__main__':\n",
        "    vocab_size, embed_size, out_size = 500, 250, 90\n",
        "    model = QuestionEncoder(vocab_size, embed_size, out_size)\n",
        "    # batch of 2 sentences, each containing 4 words\n",
        "    sentence = torch.tensor([\n",
        "                             [1, 2, 3, 4],\n",
        "                             [5, 6, 7, 8]\n",
        "    ])\n",
        "    out = model(sentence)\n",
        "    assert tuple(out.shape) == (2, out_size)"
      ],
      "execution_count": 4,
      "outputs": []
    },
    {
      "cell_type": "code",
      "metadata": {
        "id": "xDN8P_BnFrvB"
      },
      "source": [
        "import torch\n",
        "import torch.nn as nn\n",
        "import torch.nn.functional as F\n",
        "\n",
        "\n",
        "class Attention(nn.Module):\n",
        "\tdef __init__(self, hidden_dim, img_dim, ques_dim):\n",
        "\t\tsuper(Attention, self).__init__()\n",
        "\t\tself.w1 = nn.Linear(img_dim, hidden_dim, bias=False)\n",
        "\t\tself.w2 = nn.Linear(ques_dim, hidden_dim)\n",
        "\t\tself.wp = nn.Linear(hidden_dim, 1)\n",
        "\t\tself.tanh = torch.tanh\n",
        "\t\n",
        "\tdef forward(self, vi, vq):\n",
        "\t\t\"\"\"\n",
        "\t\tSummary: \n",
        "\t\t\td = img_dim = ques_dim\n",
        "\t\tArgs:\n",
        "\t\t\tvi (m, d): Visual features of the image, where m = (width * height) of feature map\n",
        "\t\t\tvq (d):    Features of the question\n",
        "\n",
        "\t\tReturns:\n",
        "\t\t\tpi (m): Attention coeeficient (alpha) corresponding to each feature vector\n",
        "\t\t\"\"\"\n",
        "\t\tassert vi.shape[-1] == vq.shape[-1], \"Dimentions of Vi and Vq don't match during Attention\"\n",
        "\t\ta = self.w1(vi)\n",
        "\t\t# vq = vq / 800\n",
        "\t\t# norm = transforms.Normalize((0.5, 0.5), (0.5, 0.5))\n",
        "\t\t# vq = F.normalize(vq)\n",
        "\t\t# unsqueeze for adding vector to matrix.\n",
        "\t\t# read about broadcasting: https://pytorch.org/docs/stable/notes/broadcasting.html\n",
        "\t\tb = torch.unsqueeze(self.w2(vq), -2)\n",
        "\t\t# h.shape: (m, hidden_dim)\n",
        "\t\th = self.tanh(a + b)\n",
        "\t\t# print(f'Attention: a: {a},\\n vq: {vq} b: {b},\\n h: {h}, wp(h): {self.wp(h)}')\n",
        "\t\t# pi.shape: (m, 1)\n",
        "\t\tpi = F.softmax(self.wp(h), dim=1)\n",
        "        # print(f'Pi: {pi}')\n",
        "\t\treturn pi\n",
        "\t\n",
        "\t\n",
        "class AttentionLayer(nn.Module):\n",
        "\tdef __init__(self, hidden_dim, img_dim, ques_dim):\n",
        "\t\tsuper(AttentionLayer, self).__init__()\n",
        "\t\tself.attention = Attention(hidden_dim, img_dim, ques_dim)\n",
        "\n",
        "\tdef forward(self, vi, u):\n",
        "\t\t\"\"\"Implements Stacked Attention Layer. Question feature 'u' is repeatedly passed through this layer,\n",
        "\t\tit calculates the attention over the image features, and merges the features into itself.\n",
        "\n",
        "\t\tArgs:\n",
        "\t\t\tvi (m, d): Visual features of image, where m = (width * height) of feature map\n",
        "\t\t\tu (d):     Features of the question\n",
        "\n",
        "\t\tReturns:\n",
        "\t\t\tu (d): Features of question after applying the attention over the image\n",
        "\t\t\"\"\"\n",
        "\t\tpi = self.attention(vi, u)\n",
        "\t\t# assert pi.shape[1] == vi.shape[1], f\"pi ({pi.shape}) and vi ({vi.shape}) don't have same shape in AttentionLayer\"\n",
        "\t\tu = torch.sum(pi * vi) + torch.unsqueeze(u, dim=-2)\n",
        "\n",
        "\t\t# print(f'pi:{pi.shape} {pi}\\nU: {u.shape} {u}')\n",
        "\t\treturn torch.squeeze(u, dim=-2)\n",
        "\t\n",
        "\t\n",
        "# if __name__ == '__main__':\n",
        "# \tm, d, hidden_dim = (14 * 14), 120, 53\n",
        "# \tbs = 2\n",
        "\n",
        "# \tvi = torch.rand((bs, m, d))\n",
        "# \tu = torch.rand((bs, d))\n",
        "\n",
        "# \tmodel = Attention(hidden_dim, d, d)\n",
        "# \tout = model(vi, u)\n",
        "\n",
        "# \tassert out.shape == (bs, m, 1)\n"
      ],
      "execution_count": 5,
      "outputs": []
    },
    {
      "cell_type": "code",
      "metadata": {
        "id": "U1iduKxwFbWz"
      },
      "source": [
        "import torch\n",
        "import torch.nn as nn\n",
        "\n",
        "# from attention import AttentionLayer\n",
        "from image_encoder import ImageEncoder\n",
        "from question_encoder import QuestionEncoder\n",
        "\n",
        "\n",
        "\n",
        "class SAN(nn.Module):\n",
        "  def __init__(self, feat_dim, vocab_size, embed_size, n_attention_stacks, hidden_dim_img):\n",
        "    super(SAN, self).__init__()\n",
        "    self.feat_dim = feat_dim\n",
        "    self.vocab_size = vocab_size\n",
        "    self.embed_size = embed_size\n",
        "\n",
        "    self.img_enc = ImageEncoder(feat_dim)\n",
        "    self.ques_enc = QuestionEncoder(vocab_size, embed_size, feat_dim)\n",
        "    self.att = nn.ModuleList([\n",
        "              AttentionLayer(hidden_dim_img, feat_dim, feat_dim) for _ in range(n_attention_stacks)\n",
        "    ])\n",
        "\n",
        "    self.pred = nn.Linear(feat_dim, vocab_size)\n",
        "\n",
        "\n",
        "  def forward(self, img, ques):\n",
        "    \"\"\"Returns one word output corresponding to input image and question\n",
        "    \n",
        "    Args:\n",
        "        img (N, 3, 448, 448): Image of given shape, constrained due to use of vgg\n",
        "        ques (N, seq_len): Question encoded as integers\n",
        "    \n",
        "    Returns:\n",
        "        u (N, vocab_size): Vectors of vocab_size, for picking the most probable word\n",
        "    \"\"\"\n",
        "\n",
        "    img = self.img_enc(img)\n",
        "    img = F.normalize(img)\n",
        "    ques = self.ques_enc(ques)\n",
        "    ques = F.normalize(ques)\n",
        "    \n",
        "    u = ques\n",
        "    for layer in self.att:\n",
        "      u = layer(img, u)\n",
        "      u = F.normalize(u)\n",
        "    return self.pred(u)\n",
        "\n",
        "\n",
        "\n",
        "# if __name__ == '__main__':\n",
        "#     vocab_size = 500\n",
        "#     seq_len = 12\n",
        "#     feat_dim = 600\n",
        "#     embed_size = 250\n",
        "#     n_attention_stacks = 5\n",
        "#     hidden_dim_img = 32\n",
        "\n",
        "#     model = SAN(feat_dim, vocab_size, embed_size, n_attention_stacks, hidden_dim_img)\n",
        "#     img = torch.rand((1, 3, 448, 448))\n",
        "#     ques = torch.randint(0, vocab_size, (1, seq_len))\n",
        "#     out = model(img, ques)\n",
        "#     assert tuple(out.shape) == (1, vocab_size)\n",
        "\n",
        "\n"
      ],
      "execution_count": 6,
      "outputs": []
    },
    {
      "cell_type": "code",
      "metadata": {
        "id": "t8QWh3ylA0EE"
      },
      "source": [
        "vocab_size = 9000 # from bert\n",
        "seq_len = 12 # from dataset\n",
        "feat_dim = 640 # from paper, the final vector vq, vi\n",
        "embed_size = 500 # from paper, dimention of embedding of each word\n",
        "n_attention_stacks = 5\n",
        "hidden_dim_img = feat_dim\n",
        "batch_size = 10"
      ],
      "execution_count": 7,
      "outputs": []
    },
    {
      "cell_type": "code",
      "metadata": {
        "id": "R5NwVeL1-VW1",
        "colab": {
          "base_uri": "https://localhost:8080/"
        },
        "outputId": "60fc9f23-e820-46ca-d5a7-b2f33d0dd6f6"
      },
      "source": [
        "model = SAN(feat_dim, vocab_size, embed_size, n_attention_stacks, hidden_dim_img)\n",
        "img = torch.rand((batch_size, 3, 448, 448))\n",
        "img = torch.randint(0, 255, (batch_size, 3, 448, 448)).float()\n",
        "ques = torch.randint(0, vocab_size, (batch_size, seq_len), dtype=torch.int32)\n",
        "out = model(img, ques)\n",
        "assert tuple(out.shape) == (batch_size, vocab_size)"
      ],
      "execution_count": 45,
      "outputs": [
        {
          "output_type": "stream",
          "text": [
            "pi:torch.Size([10, 196, 1]) tensor([[[0.0051],\n",
            "         [0.0054],\n",
            "         [0.0051],\n",
            "         ...,\n",
            "         [0.0051],\n",
            "         [0.0051],\n",
            "         [0.0051]],\n",
            "\n",
            "        [[0.0051],\n",
            "         [0.0053],\n",
            "         [0.0051],\n",
            "         ...,\n",
            "         [0.0051],\n",
            "         [0.0051],\n",
            "         [0.0051]],\n",
            "\n",
            "        [[0.0051],\n",
            "         [0.0055],\n",
            "         [0.0051],\n",
            "         ...,\n",
            "         [0.0051],\n",
            "         [0.0051],\n",
            "         [0.0051]],\n",
            "\n",
            "        ...,\n",
            "\n",
            "        [[0.0051],\n",
            "         [0.0053],\n",
            "         [0.0051],\n",
            "         ...,\n",
            "         [0.0051],\n",
            "         [0.0051],\n",
            "         [0.0051]],\n",
            "\n",
            "        [[0.0051],\n",
            "         [0.0054],\n",
            "         [0.0051],\n",
            "         ...,\n",
            "         [0.0051],\n",
            "         [0.0051],\n",
            "         [0.0051]],\n",
            "\n",
            "        [[0.0051],\n",
            "         [0.0054],\n",
            "         [0.0051],\n",
            "         ...,\n",
            "         [0.0051],\n",
            "         [0.0051],\n",
            "         [0.0051]]], grad_fn=<SoftmaxBackward>)\n",
            "U: torch.Size([10, 1, 640]) tensor([[[-0.1031, -0.0774, -0.0837,  ..., -0.1456, -0.0355, -0.1046]],\n",
            "\n",
            "        [[-0.1393, -0.0134, -0.0439,  ..., -0.0801, -0.0799, -0.1117]],\n",
            "\n",
            "        [[-0.1410, -0.1532, -0.0757,  ..., -0.1180, -0.0994, -0.1648]],\n",
            "\n",
            "        ...,\n",
            "\n",
            "        [[-0.0991, -0.1620, -0.0693,  ..., -0.1177, -0.1310, -0.0506]],\n",
            "\n",
            "        [[-0.1172, -0.0498, -0.0895,  ..., -0.1413, -0.0934, -0.1132]],\n",
            "\n",
            "        [[-0.1048, -0.1043, -0.1629,  ..., -0.0998, -0.1647, -0.0330]]],\n",
            "       grad_fn=<AddBackward0>)\n",
            "pi:torch.Size([10, 196, 1]) tensor([[[0.0051],\n",
            "         [0.0057],\n",
            "         [0.0051],\n",
            "         ...,\n",
            "         [0.0051],\n",
            "         [0.0051],\n",
            "         [0.0051]],\n",
            "\n",
            "        [[0.0051],\n",
            "         [0.0058],\n",
            "         [0.0051],\n",
            "         ...,\n",
            "         [0.0051],\n",
            "         [0.0051],\n",
            "         [0.0051]],\n",
            "\n",
            "        [[0.0051],\n",
            "         [0.0056],\n",
            "         [0.0051],\n",
            "         ...,\n",
            "         [0.0051],\n",
            "         [0.0051],\n",
            "         [0.0051]],\n",
            "\n",
            "        ...,\n",
            "\n",
            "        [[0.0051],\n",
            "         [0.0060],\n",
            "         [0.0051],\n",
            "         ...,\n",
            "         [0.0051],\n",
            "         [0.0051],\n",
            "         [0.0051]],\n",
            "\n",
            "        [[0.0051],\n",
            "         [0.0060],\n",
            "         [0.0051],\n",
            "         ...,\n",
            "         [0.0051],\n",
            "         [0.0051],\n",
            "         [0.0051]],\n",
            "\n",
            "        [[0.0051],\n",
            "         [0.0060],\n",
            "         [0.0051],\n",
            "         ...,\n",
            "         [0.0051],\n",
            "         [0.0051],\n",
            "         [0.0051]]], grad_fn=<SoftmaxBackward>)\n",
            "U: torch.Size([10, 1, 640]) tensor([[[-0.2077, -0.1985, -0.2008,  ..., -0.2229, -0.1836, -0.2083]],\n",
            "\n",
            "        [[-0.2212, -0.1757, -0.1868,  ..., -0.1998, -0.1998, -0.2113]],\n",
            "\n",
            "        [[-0.2219, -0.2264, -0.1983,  ..., -0.2136, -0.2069, -0.2305]],\n",
            "\n",
            "        ...,\n",
            "\n",
            "        [[-0.2073, -0.2304, -0.1964,  ..., -0.2141, -0.2190, -0.1895]],\n",
            "\n",
            "        [[-0.2140, -0.1892, -0.2038,  ..., -0.2228, -0.2052, -0.2125]],\n",
            "\n",
            "        [[-0.2096, -0.2094, -0.2310,  ..., -0.2077, -0.2316, -0.1831]]],\n",
            "       grad_fn=<AddBackward0>)\n",
            "pi:torch.Size([10, 196, 1]) tensor([[[0.0051],\n",
            "         [0.0041],\n",
            "         [0.0051],\n",
            "         ...,\n",
            "         [0.0050],\n",
            "         [0.0051],\n",
            "         [0.0051]],\n",
            "\n",
            "        [[0.0051],\n",
            "         [0.0040],\n",
            "         [0.0051],\n",
            "         ...,\n",
            "         [0.0051],\n",
            "         [0.0051],\n",
            "         [0.0051]],\n",
            "\n",
            "        [[0.0051],\n",
            "         [0.0041],\n",
            "         [0.0051],\n",
            "         ...,\n",
            "         [0.0051],\n",
            "         [0.0051],\n",
            "         [0.0051]],\n",
            "\n",
            "        ...,\n",
            "\n",
            "        [[0.0051],\n",
            "         [0.0040],\n",
            "         [0.0051],\n",
            "         ...,\n",
            "         [0.0051],\n",
            "         [0.0051],\n",
            "         [0.0051]],\n",
            "\n",
            "        [[0.0051],\n",
            "         [0.0040],\n",
            "         [0.0051],\n",
            "         ...,\n",
            "         [0.0051],\n",
            "         [0.0051],\n",
            "         [0.0051]],\n",
            "\n",
            "        [[0.0051],\n",
            "         [0.0040],\n",
            "         [0.0051],\n",
            "         ...,\n",
            "         [0.0051],\n",
            "         [0.0051],\n",
            "         [0.0051]]], grad_fn=<SoftmaxBackward>)\n",
            "U: torch.Size([10, 1, 640]) tensor([[[-0.1460, -0.1443, -0.1447,  ..., -0.1489, -0.1414, -0.1461]],\n",
            "\n",
            "        [[-0.1486, -0.1400, -0.1421,  ..., -0.1445, -0.1445, -0.1467]],\n",
            "\n",
            "        [[-0.1487, -0.1496, -0.1443,  ..., -0.1472, -0.1459, -0.1504]],\n",
            "\n",
            "        ...,\n",
            "\n",
            "        [[-0.1460, -0.1504, -0.1439,  ..., -0.1473, -0.1482, -0.1426]],\n",
            "\n",
            "        [[-0.1472, -0.1425, -0.1453,  ..., -0.1489, -0.1456, -0.1470]],\n",
            "\n",
            "        [[-0.1464, -0.1464, -0.1505,  ..., -0.1461, -0.1506, -0.1414]]],\n",
            "       grad_fn=<AddBackward0>)\n",
            "pi:torch.Size([10, 196, 1]) tensor([[[0.0051],\n",
            "         [0.0048],\n",
            "         [0.0051],\n",
            "         ...,\n",
            "         [0.0051],\n",
            "         [0.0051],\n",
            "         [0.0051]],\n",
            "\n",
            "        [[0.0051],\n",
            "         [0.0046],\n",
            "         [0.0051],\n",
            "         ...,\n",
            "         [0.0051],\n",
            "         [0.0051],\n",
            "         [0.0051]],\n",
            "\n",
            "        [[0.0051],\n",
            "         [0.0047],\n",
            "         [0.0051],\n",
            "         ...,\n",
            "         [0.0051],\n",
            "         [0.0051],\n",
            "         [0.0051]],\n",
            "\n",
            "        ...,\n",
            "\n",
            "        [[0.0051],\n",
            "         [0.0046],\n",
            "         [0.0051],\n",
            "         ...,\n",
            "         [0.0051],\n",
            "         [0.0051],\n",
            "         [0.0051]],\n",
            "\n",
            "        [[0.0051],\n",
            "         [0.0047],\n",
            "         [0.0051],\n",
            "         ...,\n",
            "         [0.0051],\n",
            "         [0.0051],\n",
            "         [0.0051]],\n",
            "\n",
            "        [[0.0051],\n",
            "         [0.0046],\n",
            "         [0.0051],\n",
            "         ...,\n",
            "         [0.0051],\n",
            "         [0.0051],\n",
            "         [0.0051]]], grad_fn=<SoftmaxBackward>)\n",
            "U: torch.Size([10, 1, 640]) tensor([[[0.0575, 0.0580, 0.0578,  ..., 0.0567, 0.0587, 0.0575]],\n",
            "\n",
            "        [[0.0568, 0.0591, 0.0586,  ..., 0.0579, 0.0579, 0.0573]],\n",
            "\n",
            "        [[0.0568, 0.0565, 0.0580,  ..., 0.0572, 0.0575, 0.0563]],\n",
            "\n",
            "        ...,\n",
            "\n",
            "        [[0.0575, 0.0563, 0.0581,  ..., 0.0572, 0.0569, 0.0584]],\n",
            "\n",
            "        [[0.0572, 0.0584, 0.0577,  ..., 0.0567, 0.0576, 0.0572]],\n",
            "\n",
            "        [[0.0574, 0.0574, 0.0563,  ..., 0.0575, 0.0562, 0.0587]]],\n",
            "       grad_fn=<AddBackward0>)\n",
            "pi:torch.Size([10, 196, 1]) tensor([[[0.0051],\n",
            "         [0.0051],\n",
            "         [0.0051],\n",
            "         ...,\n",
            "         [0.0050],\n",
            "         [0.0051],\n",
            "         [0.0051]],\n",
            "\n",
            "        [[0.0051],\n",
            "         [0.0048],\n",
            "         [0.0051],\n",
            "         ...,\n",
            "         [0.0051],\n",
            "         [0.0051],\n",
            "         [0.0051]],\n",
            "\n",
            "        [[0.0051],\n",
            "         [0.0047],\n",
            "         [0.0051],\n",
            "         ...,\n",
            "         [0.0051],\n",
            "         [0.0051],\n",
            "         [0.0051]],\n",
            "\n",
            "        ...,\n",
            "\n",
            "        [[0.0051],\n",
            "         [0.0049],\n",
            "         [0.0051],\n",
            "         ...,\n",
            "         [0.0051],\n",
            "         [0.0051],\n",
            "         [0.0051]],\n",
            "\n",
            "        [[0.0051],\n",
            "         [0.0049],\n",
            "         [0.0051],\n",
            "         ...,\n",
            "         [0.0051],\n",
            "         [0.0051],\n",
            "         [0.0051]],\n",
            "\n",
            "        [[0.0051],\n",
            "         [0.0047],\n",
            "         [0.0051],\n",
            "         ...,\n",
            "         [0.0051],\n",
            "         [0.0051],\n",
            "         [0.0051]]], grad_fn=<SoftmaxBackward>)\n",
            "U: torch.Size([10, 1, 640]) tensor([[[0.0383, 0.0386, 0.0385,  ..., 0.0377, 0.0391, 0.0382]],\n",
            "\n",
            "        [[0.0378, 0.0394, 0.0390,  ..., 0.0385, 0.0385, 0.0381]],\n",
            "\n",
            "        [[0.0378, 0.0376, 0.0386,  ..., 0.0381, 0.0383, 0.0375]],\n",
            "\n",
            "        ...,\n",
            "\n",
            "        [[0.0383, 0.0375, 0.0387,  ..., 0.0380, 0.0379, 0.0389]],\n",
            "\n",
            "        [[0.0380, 0.0389, 0.0384,  ..., 0.0377, 0.0383, 0.0381]],\n",
            "\n",
            "        [[0.0382, 0.0382, 0.0374,  ..., 0.0383, 0.0374, 0.0391]]],\n",
            "       grad_fn=<AddBackward0>)\n"
          ],
          "name": "stdout"
        }
      ]
    },
    {
      "cell_type": "code",
      "metadata": {
        "id": "7fLuJ9mm-VT3"
      },
      "source": [
        "# from torchinfo import summary\n",
        "# summary(model, input_size=[(1, 3, 448, 448), (1, seq_len,)], input_data=[torch.float32, torch.float32])\n",
        "# summary(model, input_data=[img, ques])"
      ],
      "execution_count": null,
      "outputs": []
    },
    {
      "cell_type": "code",
      "metadata": {
        "id": "JnKE_hos-VOf"
      },
      "source": [
        ""
      ],
      "execution_count": null,
      "outputs": []
    },
    {
      "cell_type": "code",
      "metadata": {
        "id": "4eKnxIEh-VLl"
      },
      "source": [
        ""
      ],
      "execution_count": null,
      "outputs": []
    },
    {
      "cell_type": "code",
      "metadata": {
        "id": "jGVVySkAO39L"
      },
      "source": [
        "%%capture\n",
        "! pip install transformers"
      ],
      "execution_count": 8,
      "outputs": []
    },
    {
      "cell_type": "code",
      "metadata": {
        "id": "-YsGfCKOO36y",
        "colab": {
          "base_uri": "https://localhost:8080/",
          "height": 145,
          "referenced_widgets": [
            "a8cb46a0093f4f9490ee46af7cdc8f32",
            "73afa7101b4f47ea961f888450b21c82",
            "c06e7f542a3a4fb6aa1006766222e889",
            "2368cced450248cabe20e11c1f881f43",
            "eecfec2c399041dbb6e96999bab99f3b",
            "6dd40a36d5aa4472a2f43422a704ec94",
            "426986f088f046b59a007155c2d3b467",
            "0ad8372835164e3f9ab127b90379aa66",
            "126aaa4509ea49688bb238bf8b9a2a38",
            "533b5b787d5342d58d6c15cd0f854275",
            "7f37f39d1ee54f42983d40b406cec04f",
            "e70d402a21c34ff280d16f5cde65e534",
            "58c5ee277187437bb3f75d3ae95274fb",
            "df903d731f20418892caaf15a36e5924",
            "4a2b8bc2b6b1442a8892c73f481f78dd",
            "0f4b82f42ffd47c78a192cfdc580d6e0",
            "86e501aae9de468194441273a2d7466f",
            "952fce7333614bcb8251e7a24cd3f6d4",
            "609dcad7b7634b1382b48ef69d654bce",
            "bdde3e1360c34d43ac7876b04ac1a101",
            "aa767b24e6e24794a87c25046cad2e47",
            "6c1965365a364b40a70d8f8c73c80f5b",
            "1199ca6836784c77a0a91f67ab48aa89",
            "eb0fb58afb864bfdbeff46ad889665d6",
            "569410bead30473f8f3c419b1c122b7c",
            "8b8580fc2966403cb20fc88533015de4",
            "9a62d2bf4ba243a982c68e96072bf3ae",
            "a63e7e03002e4f41883aadc295b6f2ab",
            "c71b5dcb444f4107af84899ede58265e",
            "503c36d6ccd446c1a0cf7aab4842aa1e",
            "a636d98a9d904bfe83ba6170c0105281",
            "bec82320835d490e9e2df8e7698f2119",
            "7264c276cc81461d98fa58a2667e15f9",
            "dd1cd7f455e44579975b55da6c726902",
            "c0964863116a4be2b97da518d297a3d8",
            "19c5246053b147fd8398696d07e41497",
            "cdddc809e973452f825eb9ebf8240be6",
            "b158ea32471448a3b91a62cc714b7f32",
            "94451edf348a449f880fa52ffd7dc1e8",
            "c996fd1f0a6e43cda64f465948bbb850",
            "cd37fe0bb4cd41bcbb61ab9d03460170",
            "0b1ac3b3f3ed44228630abbf317c92b3",
            "e9862536ba0749a48257b25f3bd5ab72",
            "cb53fcd97c244f2b909028f8f7b8a0e5"
          ]
        },
        "outputId": "1fda9b71-6145-418a-ca43-be508d3d6081"
      },
      "source": [
        "from transformers import BertTokenizer, DistilBertTokenizer, BertTokenizerFast\n",
        "\n",
        "tokenizer = BertTokenizer.from_pretrained('bert-base-uncased')\n",
        "# tokenizer = DistilBertTokenizer.from_pretrained('bert-base-uncased')"
      ],
      "execution_count": 9,
      "outputs": [
        {
          "output_type": "display_data",
          "data": {
            "application/vnd.jupyter.widget-view+json": {
              "model_id": "a8cb46a0093f4f9490ee46af7cdc8f32",
              "version_minor": 0,
              "version_major": 2
            },
            "text/plain": [
              "Downloading:   0%|          | 0.00/232k [00:00<?, ?B/s]"
            ]
          },
          "metadata": {
            "tags": []
          }
        },
        {
          "output_type": "display_data",
          "data": {
            "application/vnd.jupyter.widget-view+json": {
              "model_id": "e70d402a21c34ff280d16f5cde65e534",
              "version_minor": 0,
              "version_major": 2
            },
            "text/plain": [
              "Downloading:   0%|          | 0.00/28.0 [00:00<?, ?B/s]"
            ]
          },
          "metadata": {
            "tags": []
          }
        },
        {
          "output_type": "display_data",
          "data": {
            "application/vnd.jupyter.widget-view+json": {
              "model_id": "1199ca6836784c77a0a91f67ab48aa89",
              "version_minor": 0,
              "version_major": 2
            },
            "text/plain": [
              "Downloading:   0%|          | 0.00/466k [00:00<?, ?B/s]"
            ]
          },
          "metadata": {
            "tags": []
          }
        },
        {
          "output_type": "display_data",
          "data": {
            "application/vnd.jupyter.widget-view+json": {
              "model_id": "dd1cd7f455e44579975b55da6c726902",
              "version_minor": 0,
              "version_major": 2
            },
            "text/plain": [
              "Downloading:   0%|          | 0.00/570 [00:00<?, ?B/s]"
            ]
          },
          "metadata": {
            "tags": []
          }
        }
      ]
    },
    {
      "cell_type": "markdown",
      "metadata": {
        "id": "3blhsH0aNjdu"
      },
      "source": [
        "<hr>"
      ]
    },
    {
      "cell_type": "code",
      "metadata": {
        "id": "s_adLFj1WVl6"
      },
      "source": [
        "# from transformers import XLNetTokenizer\n",
        "# tokenizer = XLNetTokenizer.from_pretrained(\"xlnet-base-cased\")"
      ],
      "execution_count": null,
      "outputs": []
    },
    {
      "cell_type": "code",
      "metadata": {
        "colab": {
          "base_uri": "https://localhost:8080/"
        },
        "id": "459MaSDz5psP",
        "outputId": "48e69acf-4d30-4533-d1f1-0482a6412c18"
      },
      "source": [
        "tokenizer.encode('He is good')"
      ],
      "execution_count": null,
      "outputs": [
        {
          "output_type": "execute_result",
          "data": {
            "text/plain": [
              "[101, 2002, 2003, 2204, 102]"
            ]
          },
          "metadata": {
            "tags": []
          },
          "execution_count": 62
        }
      ]
    },
    {
      "cell_type": "code",
      "metadata": {
        "colab": {
          "base_uri": "https://localhost:8080/",
          "height": 35
        },
        "id": "4G6U3hLl50iF",
        "outputId": "17588b5f-d584-43ed-9852-8399c783f269"
      },
      "source": [
        "tokenizer.decode([101, 2002, 2003, 2204, 102])"
      ],
      "execution_count": null,
      "outputs": [
        {
          "output_type": "execute_result",
          "data": {
            "application/vnd.google.colaboratory.intrinsic+json": {
              "type": "string"
            },
            "text/plain": [
              "'[CLS] he is good [SEP]'"
            ]
          },
          "metadata": {
            "tags": []
          },
          "execution_count": 63
        }
      ]
    },
    {
      "cell_type": "code",
      "metadata": {
        "colab": {
          "base_uri": "https://localhost:8080/"
        },
        "id": "UHZu05NAO334",
        "outputId": "a97d90b3-5138-4473-f382-783780d5454f"
      },
      "source": [
        "tokenizer.tokenize('He isnt good')"
      ],
      "execution_count": null,
      "outputs": [
        {
          "output_type": "execute_result",
          "data": {
            "text/plain": [
              "['he', 'isn', '##t', 'good']"
            ]
          },
          "metadata": {
            "tags": []
          },
          "execution_count": 14
        }
      ]
    },
    {
      "cell_type": "code",
      "metadata": {
        "colab": {
          "base_uri": "https://localhost:8080/"
        },
        "id": "P0dsNADI56Zc",
        "outputId": "3762bf2a-6801-4aac-ad15-37cc6b824be9"
      },
      "source": [
        "tokenizer.encode('desk')"
      ],
      "execution_count": 40,
      "outputs": [
        {
          "output_type": "execute_result",
          "data": {
            "text/plain": [
              "[101, 4624, 102]"
            ]
          },
          "metadata": {
            "tags": []
          },
          "execution_count": 40
        }
      ]
    },
    {
      "cell_type": "code",
      "metadata": {
        "colab": {
          "base_uri": "https://localhost:8080/"
        },
        "id": "X2iMhAjfO315",
        "outputId": "be1e4609-ea86-499b-c987-33f405e16de9"
      },
      "source": [
        "tokenizer.convert_tokens_to_ids(['desk'])"
      ],
      "execution_count": 41,
      "outputs": [
        {
          "output_type": "execute_result",
          "data": {
            "text/plain": [
              "[4624]"
            ]
          },
          "metadata": {
            "tags": []
          },
          "execution_count": 41
        }
      ]
    },
    {
      "cell_type": "code",
      "metadata": {
        "colab": {
          "base_uri": "https://localhost:8080/"
        },
        "id": "exWx2OgaO31E",
        "outputId": "76339484-35ee-4671-8406-e7d7615d88c0"
      },
      "source": [
        "tokenizer.convert_ids_to_tokens([2002, 2003, 2204, 100])"
      ],
      "execution_count": null,
      "outputs": [
        {
          "output_type": "execute_result",
          "data": {
            "text/plain": [
              "['he', 'is', 'good', '[UNK]']"
            ]
          },
          "metadata": {
            "tags": []
          },
          "execution_count": 14
        }
      ]
    },
    {
      "cell_type": "code",
      "metadata": {
        "colab": {
          "base_uri": "https://localhost:8080/"
        },
        "id": "0DcMpjA5O3ZE",
        "outputId": "3f66c7af-5b48-483b-8884-8759753d00e7"
      },
      "source": [
        "tokenizer.vocab_size"
      ],
      "execution_count": null,
      "outputs": [
        {
          "output_type": "execute_result",
          "data": {
            "text/plain": [
              "30522"
            ]
          },
          "metadata": {
            "tags": []
          },
          "execution_count": 33
        }
      ]
    },
    {
      "cell_type": "code",
      "metadata": {
        "colab": {
          "base_uri": "https://localhost:8080/"
        },
        "id": "G-LjYgHKTgkv",
        "outputId": "73325d41-4025-49b7-f372-3734b06fc283"
      },
      "source": [
        "tokenizer.convert_ids_to_tokens([0, 1, 2, 1200, 30520, 9011])"
      ],
      "execution_count": null,
      "outputs": [
        {
          "output_type": "execute_result",
          "data": {
            "text/plain": [
              "['[PAD]', '[unused0]', '[unused1]', 'х', '##？', 'manila']"
            ]
          },
          "metadata": {
            "tags": []
          },
          "execution_count": 44
        }
      ]
    },
    {
      "cell_type": "code",
      "metadata": {
        "colab": {
          "base_uri": "https://localhost:8080/"
        },
        "id": "diZmE8_BU-HH",
        "outputId": "e6fc89cb-d159-4a53-eafc-633ab94e1c5d"
      },
      "source": [
        "tokenizer.convert_tokens_to_ids(['<UNK>', '<STRT>', '<SEP>', '<PAD>', '<END>', '-+i-'])"
      ],
      "execution_count": null,
      "outputs": [
        {
          "output_type": "execute_result",
          "data": {
            "text/plain": [
              "[100, 100, 100, 100, 100, 100]"
            ]
          },
          "metadata": {
            "tags": []
          },
          "execution_count": 17
        }
      ]
    },
    {
      "cell_type": "code",
      "metadata": {
        "id": "--8Qc-RWU-E4"
      },
      "source": [
        "tokenizer.requires_grad"
      ],
      "execution_count": null,
      "outputs": []
    },
    {
      "cell_type": "markdown",
      "metadata": {
        "id": "HkOFM7ByxFJq"
      },
      "source": [
        "## Create Dataset"
      ]
    },
    {
      "cell_type": "code",
      "metadata": {
        "id": "_IO_iOA0U-DR"
      },
      "source": [
        "from torch.utils.data import Dataset, DataLoader\n",
        "from tqdm.autonotebook import tqdm\n",
        "from PIL import Image\n",
        "import numpy as np\n",
        "from dataset import VQADataset"
      ],
      "execution_count": 10,
      "outputs": []
    },
    {
      "cell_type": "code",
      "metadata": {
        "id": "OAfjKPWK82bH"
      },
      "source": [
        "from torch.utils.data import Dataset, DataLoader\n",
        "from tqdm.autonotebook import tqdm\n",
        "import torch\n",
        "from PIL import Image\n",
        "import numpy as np\n",
        "from torch.nn.utils.rnn import pad_sequence\n",
        "\n",
        "\"\"\"\n",
        "Write your own dataset here.\n",
        "The __getitem__ method must return a dict with the following key, value pairs:\n",
        "    'ques': tensor of ints, representing the index of words in the vocab\n",
        "    'ans': tensor of int, representing the index of word answer\n",
        "    'img': tensor representing the image\n",
        "    \n",
        "Get Images for the dataset:\n",
        "    ! wget http://datasets.d2.mpi-inf.mpg.de/mateusz14visual-turing/nyu_depth_images.tar\n",
        "Get Train question & ans:\n",
        "    ! wget https://raw.githubusercontent.com/jayantk/lsp/master/data/daquar/reduced/qa.37.raw.train.txt\n",
        "DAQAR dataset:\n",
        "    https://github.com/jayantk/lsp/tree/master/data/daquar\n",
        "\"\"\"\n",
        "\n",
        "\n",
        "class VQADataset(Dataset):\n",
        "  def __init__(self, ques_file, image_dir, tokenizer, max_len=30):\n",
        "    super(Dataset, self).__init__()\n",
        "    self.ques_file = ques_file\n",
        "    self.img_dir = image_dir\n",
        "    self.tokenizer = tokenizer\n",
        "    self.max_sentence_len = max_len\n",
        "\n",
        "    self.data = []\n",
        "    self.load_data()\n",
        "\n",
        "  def load_data(self):\n",
        "    with open(self.ques_file, 'r') as f:\n",
        "      data = f.readlines()\n",
        "\n",
        "    for index, line in tqdm(enumerate(data[::2]), desc='Iterating over questions'):\n",
        "      img = line.replace('?', '').strip(' ').split()[-1] + '.png'\n",
        "      ques = [x for x in self.tokenizer.encode(line)]\n",
        "      ques = [torch.tensor(min(x, vocab_size-1)) for x in ques]\n",
        "\n",
        "      ans = self.tokenizer.convert_tokens_to_ids([data[2*index+1].strip()])\n",
        "      ans = [torch.tensor(min(vocab_size-1, ans[0]))]\n",
        "      dct = {\n",
        "          'ques': ques,\n",
        "          'ques_str': line,\n",
        "          'ans_str': data[2*index+1],\n",
        "          'ans': ans,\n",
        "          'img_file_name': img\n",
        "      }\n",
        "\n",
        "      if len(dct['ans']) == 1:\n",
        "        self.data.append(dct)\n",
        "\n",
        "  def __len__(self):\n",
        "    return len(self.data) // 40\n",
        "\n",
        "  def __getitem__(self, idx):\n",
        "    dct = self.data[idx]\n",
        "    img = Image.open(self.img_dir + dct['img_file_name']).crop((0, 0, 448, 448))\n",
        "    img = np.array(img, dtype=np.uint8) / 255\n",
        "    img = np.moveaxis(img, -1, 0)\n",
        "    dct['img'] = torch.from_numpy(img)\n",
        "    return dct\n",
        "\n",
        "# if __name__ == '__main__':\n",
        "#   print(torch.__version__)"
      ],
      "execution_count": 32,
      "outputs": []
    },
    {
      "cell_type": "code",
      "metadata": {
        "id": "MTOG_8XfBPFH"
      },
      "source": [
        "def pad_collate(batch):\n",
        "    # print(f'fix: {[len(x[\"ques\"]) for x in batch]}')\n",
        "    ques = [torch.tensor(x['ques']) for x in batch]\n",
        "    ques = pad_sequence(ques, batch_first=True)\n",
        "    # batch['ques'] = ques\n",
        "    # print(f'{ques.shape}, {batch.__len__()}')\n",
        "    for idx, x in enumerate(ques):\n",
        "        batch[idx]['ques'] = x\n",
        "    return batch"
      ],
      "execution_count": 33,
      "outputs": []
    },
    {
      "cell_type": "code",
      "metadata": {
        "colab": {
          "base_uri": "https://localhost:8080/",
          "height": 49,
          "referenced_widgets": [
            "1eea979bf9a141dbb16cef2d41db544a",
            "fe09abbaa94d4522a2dbfdd1ed37bd83",
            "12a86e130cef4fa586311c45ed67bc8a",
            "7fe1d3240d19401091e3de8d8e5aa27e",
            "01005a8c1c3945c890e1a8e632a1563c",
            "68c872c97f4a48dd96b86a10eb2bd218",
            "231049d000f84b36aeed82af94af9e98",
            "daca813682fb4fa79c9981af6d65e1cb",
            "366540eae85e4b95b66318d34a4ac362",
            "92049ecf7d204ba8bcec3fd243c18663",
            "991997c9a60c497fba22b67b8cd9c33f"
          ]
        },
        "id": "UuMqr719xchU",
        "outputId": "5be1b256-d3d1-4119-dba5-0392809bf281"
      },
      "source": [
        "dl = DataLoader(VQADataset(ques_file='/content/qa.37.raw.train.txt', image_dir='/content/nyu_depth_images/', tokenizer=tokenizer), batch_size=2, collate_fn=pad_collate)"
      ],
      "execution_count": 34,
      "outputs": [
        {
          "output_type": "display_data",
          "data": {
            "application/vnd.jupyter.widget-view+json": {
              "model_id": "1eea979bf9a141dbb16cef2d41db544a",
              "version_minor": 0,
              "version_major": 2
            },
            "text/plain": [
              "Iterating over questions: 0it [00:00, ?it/s]"
            ]
          },
          "metadata": {
            "tags": []
          }
        }
      ]
    },
    {
      "cell_type": "code",
      "metadata": {
        "colab": {
          "base_uri": "https://localhost:8080/"
        },
        "id": "UzxQfqM72C3U",
        "outputId": "fa57272f-acb7-4195-fa68-0b7b0ab782b1"
      },
      "source": [
        "for dct in dl:\n",
        "  print(dct[0])\n",
        "#   print(torch.cat(dct['ques']))\n",
        "  break"
      ],
      "execution_count": 13,
      "outputs": [
        {
          "output_type": "stream",
          "text": [
            "{'ques': tensor([ 101, 2054, 2003, 2006, 1996, 2157, 2217, 1997, 1996, 2304, 7026, 1998,\n",
            "        2006, 1996, 2187, 2217, 1997, 1996, 2417, 3242, 1999, 1996, 3746, 2509,\n",
            "        1029,  102]), 'ques_str': 'what is on the right side of the black telephone and on the left side of the red chair in the image3 ?\\n', 'ans_str': 'desk\\n', 'ans': [tensor(4624)], 'img_file_name': 'image3.png', 'img': tensor([[[0.3412, 0.3333, 0.3020,  ..., 0.6157, 0.5647, 0.5569],\n",
            "         [0.3490, 0.3373, 0.3020,  ..., 0.6078, 0.5686, 0.5686],\n",
            "         [0.3412, 0.3373, 0.3059,  ..., 0.6039, 0.5686, 0.5725],\n",
            "         ...,\n",
            "         [0.0000, 0.0000, 0.0000,  ..., 0.0000, 0.0000, 0.0000],\n",
            "         [0.0000, 0.0000, 0.0000,  ..., 0.0000, 0.0000, 0.0000],\n",
            "         [0.0000, 0.0000, 0.0000,  ..., 0.0000, 0.0000, 0.0000]],\n",
            "\n",
            "        [[0.2863, 0.2745, 0.2431,  ..., 0.4510, 0.4000, 0.3922],\n",
            "         [0.2824, 0.2706, 0.2353,  ..., 0.4431, 0.4039, 0.4000],\n",
            "         [0.2745, 0.2706, 0.2353,  ..., 0.4392, 0.4039, 0.4078],\n",
            "         ...,\n",
            "         [0.0000, 0.0000, 0.0000,  ..., 0.0000, 0.0000, 0.0000],\n",
            "         [0.0000, 0.0000, 0.0000,  ..., 0.0000, 0.0000, 0.0000],\n",
            "         [0.0000, 0.0000, 0.0000,  ..., 0.0000, 0.0000, 0.0000]],\n",
            "\n",
            "        [[0.2235, 0.2275, 0.2118,  ..., 0.3882, 0.3451, 0.3373],\n",
            "         [0.2392, 0.2392, 0.2118,  ..., 0.3882, 0.3529, 0.3569],\n",
            "         [0.2471, 0.2471, 0.2314,  ..., 0.3843, 0.3608, 0.3725],\n",
            "         ...,\n",
            "         [0.0000, 0.0000, 0.0000,  ..., 0.0000, 0.0000, 0.0000],\n",
            "         [0.0000, 0.0000, 0.0000,  ..., 0.0000, 0.0000, 0.0000],\n",
            "         [0.0000, 0.0000, 0.0000,  ..., 0.0000, 0.0000, 0.0000]]],\n",
            "       dtype=torch.float64)}\n"
          ],
          "name": "stdout"
        }
      ]
    },
    {
      "cell_type": "code",
      "metadata": {
        "colab": {
          "base_uri": "https://localhost:8080/"
        },
        "id": "6hqUJFSe2C1N",
        "outputId": "2fed143a-3bf9-4a88-e06d-16243c562228"
      },
      "source": [
        "dl.__len__()"
      ],
      "execution_count": null,
      "outputs": [
        {
          "output_type": "execute_result",
          "data": {
            "text/plain": [
              "3876"
            ]
          },
          "metadata": {
            "tags": []
          },
          "execution_count": 30
        }
      ]
    },
    {
      "cell_type": "code",
      "metadata": {
        "colab": {
          "base_uri": "https://localhost:8080/"
        },
        "id": "HBn3yB9q2C0g",
        "outputId": "c5095c82-4ef0-4ebf-c749-964824387c2c"
      },
      "source": [
        "'how many chairs are there in the image1437 ?'.strip('?').strip(' ').split()"
      ],
      "execution_count": null,
      "outputs": [
        {
          "output_type": "execute_result",
          "data": {
            "text/plain": [
              "['how', 'many', 'chairs', 'are', 'there', 'in', 'the', 'image1437']"
            ]
          },
          "metadata": {
            "tags": []
          },
          "execution_count": 50
        }
      ]
    },
    {
      "cell_type": "code",
      "metadata": {
        "colab": {
          "base_uri": "https://localhost:8080/"
        },
        "id": "lXLJ0_Sp4k9T",
        "outputId": "6039c569-eedd-48d3-9ba2-87c8dc5ec9ed"
      },
      "source": [
        "! python3 dataset.py"
      ],
      "execution_count": null,
      "outputs": [
        {
          "output_type": "stream",
          "text": [
            "1.9.0+cu102\n"
          ],
          "name": "stdout"
        }
      ]
    },
    {
      "cell_type": "code",
      "metadata": {
        "id": "K2Ei7MIMxcfy"
      },
      "source": [
        "with open('/content/qa.37.raw.train.txt', 'r') as f:\n",
        "  # print(f.readlines())\n",
        "  data = f.readlines()\n",
        "  for idx, line in enumerate(data[::2]):\n",
        "    print(2 * idx, line, data[2*idx+1])"
      ],
      "execution_count": null,
      "outputs": []
    },
    {
      "cell_type": "code",
      "metadata": {
        "id": "mcRvEV8Jxce5"
      },
      "source": [
        ""
      ],
      "execution_count": null,
      "outputs": []
    },
    {
      "cell_type": "markdown",
      "metadata": {
        "id": "-JBHkXqw3FUC"
      },
      "source": [
        "## Train"
      ]
    },
    {
      "cell_type": "code",
      "metadata": {
        "id": "whtZ83DW51iz"
      },
      "source": [
        "import torch.nn as nn\n",
        "from torch.optim import SGD, Adam\n",
        "import torch.nn.functional as F"
      ],
      "execution_count": 26,
      "outputs": []
    },
    {
      "cell_type": "code",
      "metadata": {
        "colab": {
          "base_uri": "https://localhost:8080/"
        },
        "id": "CIh80CtX3HRa",
        "outputId": "01f33c71-851f-4451-f74d-5fb9c7207f8c"
      },
      "source": [
        "device = 'cuda' if torch.cuda.is_available() else 'cpu'\n",
        "# device = 'cpu'\n",
        "\n",
        "model = SAN(feat_dim, vocab_size, embed_size, n_attention_stacks, hidden_dim_img)\n",
        "model = model.to(device)\n",
        "criterian = nn.CrossEntropyLoss()\n",
        "optimizer = Adam(model.parameters(), lr=0.01)\n",
        "losses = []\n",
        "print(device)"
      ],
      "execution_count": 44,
      "outputs": [
        {
          "output_type": "stream",
          "text": [
            "cuda\n"
          ],
          "name": "stdout"
        }
      ]
    },
    {
      "cell_type": "code",
      "metadata": {
        "id": "IaO8SPx2MiN3"
      },
      "source": [
        "import os\n",
        "os.environ['CUDA_LAUNCH_BLOCKING'] = \"1\""
      ],
      "execution_count": 45,
      "outputs": []
    },
    {
      "cell_type": "code",
      "metadata": {
        "colab": {
          "base_uri": "https://localhost:8080/",
          "height": 507,
          "referenced_widgets": [
            "6be030e608334b238a97d26ff71f6f4a",
            "d689c6921fd040f19dda7bf5d40bf798",
            "66b806e7aec44a58892e13986a3de23a",
            "2dd000ebe7554d2abc6dbe0e4236034e",
            "7f4fe706ffc74e27b0331b40d7579535",
            "054b79c38df047d89b96a167b209cee5",
            "47f3ba4546024cf5b6009eee9d8e4163",
            "1cb9f889d45b49b4a9f887fa8aa4c5b9",
            "9972d28baae448f280a59d5a534cf919",
            "96f96c88f4f94a2f9732bba3c95435f5",
            "594719f5c9b3452da0f761f63b47bbc1",
            "7061c794e55b4192ad860bb3b4b81184",
            "680a442731ad482999f8685f4b2862b0",
            "a4d6d487f0aa46c38a8da6d604aa4207",
            "4f0a30ef3d7f4316bd69372396f3d386",
            "fb0242f930f8472dacdecb32c51878a7",
            "146eb2abd2a1485fb78f15f32c11c627",
            "f992b70bb924404994c1f15afbfef9a5",
            "c2c59142cb114aa6b72559cb99707faf",
            "d35bdbcfac5846cd80bc3fab81d2081e",
            "5a5169adc9504a9fbceeb37507df8410",
            "898a1abc0de24c33bbb29b7fa39b4730",
            "a1dd18fd63694c068040054395863997",
            "3bf96765ea5d4fdd93014513dec2c68b",
            "0d94769f70db45ef9986c5d6d29fad82",
            "af510c95a42e463ebddcc01ad7634e17",
            "49d258552ef646c8a4e59ef55c663fb2",
            "b453aea3f3b24d3394bd40bc9c8b8f1a",
            "0ccb7615b4c54d77a15e1de0b26417d6",
            "fe63d44619ab47b2949011910c6d0805",
            "498a3bbb7ca2472bb0c59bf53971e93b",
            "816535281c0b4dfcabca77ce2a86891e",
            "ffed12624aa24e638ed2b48644215ecf",
            "c54410bb5472424c81fc23c8ee3ea613",
            "c20303e62f7641998ab4ec2f331f4122",
            "7600e7e825dc4d11a230b1f3cef3ebda",
            "ca7f067d5c124ed496dd48579a3b84bd",
            "aaf6fe7a5fc1404bac671d8a92d6f8b2",
            "77f34f0e26a54ff9bc6acd16710d3c05",
            "b0ac9d98479441e3a10c169c0eea33df",
            "f6b95e093eec4312a95f5d149fb2735e",
            "154da5a3d5a5439d994c84e858895f99",
            "cb8580d030f84fc798eb29ee80d3f8b1",
            "864377a42605405e8fc8fa508410660f",
            "590c7cc47e964018801a58b3f329d6db",
            "1425bd7ac0494ea581458686eaff5b21",
            "cebd2e2bc9a5405b865bc4b7f0ee57e4",
            "4720a981a9d84afba94127ae30e36746",
            "2ccf9a6248eb459c8e3f410614c5fa50",
            "94e9a381842d4cb391d2f7d9197cea15",
            "e813f510736544449a964d9bd0665d82",
            "6edaee910be945ef90382a78c69f33ad",
            "31ab9f7924394199b0e964999429bcab",
            "dcb95ed26134437da082948a28d218e0",
            "5a10563f26e84c5090d4e933c112d334",
            "3587f77e467b46399bc58aa4393e435f",
            "e231bb8842d94daba462ee16347a9279",
            "43d2155470de4a9bbefa7161e1db4038",
            "2421709431074a569c6f7ec6d7e9bad2",
            "9a613175098e433886f838aa9de3a753",
            "e8c09df1af2b4a84bf79646d4d250c8d",
            "3415569e64ab489387f72ab8b89299f0",
            "37392055f2504f648e691816394cb1b3",
            "b0256637dbdd41b480ae8190aca3eff3",
            "b131bb6444f44f36a91d84e5004aa983",
            "4a13c2abb807452ebe6194d6d39ccda0",
            "cb7d0cb0b14b4db28599ceca10fe735d",
            "bf2c2662b5924707aee6fdde4012a340",
            "0365f69ccebe44e98c810a04914fd51b",
            "2372448d2c044e798b7163d599e6360d",
            "6442d9a2876a409bb8f23beb4a5ec3cd",
            "c857053698454a00a1ced237a9745b6b",
            "8a92e8a8bc484edd9f2b17d1c8e56c29",
            "90707447d0d44ae9935c13b391799dd3",
            "0dfdb783f2b24bea914d9f11bfb95edf",
            "c56fa0cf95d24efcba75555d7de77d3a",
            "a862c1b0adf743f5a5e9847d59869fcf",
            "9f5defe53ca44fbbaf90d6f7aea5c4ad",
            "9ad90be6c7d34c2ab3a3c0dcdbc91564",
            "6f84436d7d9548f98d9a0c469379f18f",
            "84b00624a2ca41b68f2ff6139a8fd8ac",
            "1e92d99329c5440aa1f90948671dc3bc",
            "c020736d89834adcb9b2ca8201f528a9",
            "d1a418862f2841de9be108fda1cf99c6",
            "8be453cd2fd84fc7a88d19d40bb2e853",
            "5b223e0f73614993909b39298428c7d4",
            "9eaf04f6c9014bb59b8a931a8a5fc2ca",
            "6290b9e0af304c5b854c0d5e0b38a02a",
            "3c7730216a7643439c3650041d940297",
            "4d6ca151684e45558e136921a2d42b41",
            "a9363f4fba354a4e91362c7ec14ddb50",
            "b0b98b0e58f04b61a57556d7581f031e",
            "a71efe3f55004bfdb8aa4ded3f8c7507",
            "cfaa4f38da8542fab95635229b40c857",
            "1a589b91ccce4083b3c0a06c8cfee50f",
            "599185e618a84aa5a2172d92dbb2f0a1",
            "2926ab7c80704fedb6a250095307c29e",
            "7c282d849e4445e39d358061a5d7c592",
            "202ed90afb034dccbf4524cc76b69a1c",
            "f5f939d16e9f420882816bf752de8e0e",
            "f577be1dbb98431296e228f0768cf7f5",
            "bca33febd68241f4b613c7af97fdcced",
            "4d2257f778e34ea4bd9710c2f92d2068",
            "ae152c6fef8844c2839d8706dbbb2ab1",
            "257b023a47fa428999cfda0965d0bd8e",
            "f4553e4b94434f6db093f49538b7ca99",
            "6bf1b96358a349008eaf05fc4adf853c",
            "75318cc2b9e64abbab7a415767bd60dc",
            "321260ee29254dfabe778a54eff84894",
            "dd264fd5fe244b64a134a3191fd39881"
          ]
        },
        "id": "yN4-MTZu3HOC",
        "outputId": "cc6360f2-a1ad-4650-9f8f-021f9978d5fd"
      },
      "source": [
        "for epoch in range(10):\n",
        "  current_loss = 0.0\n",
        "  # get batches\n",
        "  for batch in tqdm(dl):\n",
        "    optimizer.zero_grad()\n",
        "\n",
        "    # img = batch['img'].float().to(device)\n",
        "    img = [x['img'] for x in batch]\n",
        "    img = torch.stack(img, 0).float().to(device)\n",
        "    # print()\n",
        "\n",
        "    # ques = torch.cat(batch['ques']).to(device)\n",
        "    ques = [x['ques'] for x in batch]\n",
        "    # print(len(ques), ques[0].shape)\n",
        "    ques = torch.stack(ques).to(device)\n",
        "\n",
        "    # ans = torch.cat(batch['ans']).to(device)\n",
        "    ans = [x['ans'][0] for x in batch]\n",
        "    ans = torch.tensor(ans).to(device)\n",
        "\n",
        "    # print(f'Ques: {ques.shape}, {ques}')\n",
        "    out = model(img, ques)\n",
        "    # print(f'Shapes: img: {img.shape},\\n ques: {ques.shape}: {ques},\\n ans: {ans.shape}: {ans},\\n out; {out.shape}')\n",
        "\n",
        "    loss = criterian(out, ans)\n",
        "    # print(F.softmax(out, dim=0).detach().cpu().numpy(), ans.detach().cpu().numpy())\n",
        "\n",
        "    loss.backward()\n",
        "    optimizer.step()\n",
        "    # print(loss)\n",
        "\n",
        "    current_loss += loss.item() * len(batch)\n",
        "    # print(f'Cur Loss: {current_loss}')\n",
        "\n",
        "  print(f'Epoch: {epoch}, Loss: {current_loss:.2f}')"
      ],
      "execution_count": 46,
      "outputs": [
        {
          "output_type": "display_data",
          "data": {
            "application/vnd.jupyter.widget-view+json": {
              "model_id": "6be030e608334b238a97d26ff71f6f4a",
              "version_minor": 0,
              "version_major": 2
            },
            "text/plain": [
              "  0%|          | 0/48 [00:00<?, ?it/s]"
            ]
          },
          "metadata": {
            "tags": []
          }
        },
        {
          "output_type": "stream",
          "text": [
            "Epoch: 0, Loss: 651.57\n"
          ],
          "name": "stdout"
        },
        {
          "output_type": "display_data",
          "data": {
            "application/vnd.jupyter.widget-view+json": {
              "model_id": "7061c794e55b4192ad860bb3b4b81184",
              "version_minor": 0,
              "version_major": 2
            },
            "text/plain": [
              "  0%|          | 0/48 [00:00<?, ?it/s]"
            ]
          },
          "metadata": {
            "tags": []
          }
        },
        {
          "output_type": "stream",
          "text": [
            "Epoch: 1, Loss: 311.04\n"
          ],
          "name": "stdout"
        },
        {
          "output_type": "display_data",
          "data": {
            "application/vnd.jupyter.widget-view+json": {
              "model_id": "a1dd18fd63694c068040054395863997",
              "version_minor": 0,
              "version_major": 2
            },
            "text/plain": [
              "  0%|          | 0/48 [00:00<?, ?it/s]"
            ]
          },
          "metadata": {
            "tags": []
          }
        },
        {
          "output_type": "stream",
          "text": [
            "Epoch: 2, Loss: 302.28\n"
          ],
          "name": "stdout"
        },
        {
          "output_type": "display_data",
          "data": {
            "application/vnd.jupyter.widget-view+json": {
              "model_id": "c54410bb5472424c81fc23c8ee3ea613",
              "version_minor": 0,
              "version_major": 2
            },
            "text/plain": [
              "  0%|          | 0/48 [00:00<?, ?it/s]"
            ]
          },
          "metadata": {
            "tags": []
          }
        },
        {
          "output_type": "stream",
          "text": [
            "Epoch: 3, Loss: 296.18\n"
          ],
          "name": "stdout"
        },
        {
          "output_type": "display_data",
          "data": {
            "application/vnd.jupyter.widget-view+json": {
              "model_id": "590c7cc47e964018801a58b3f329d6db",
              "version_minor": 0,
              "version_major": 2
            },
            "text/plain": [
              "  0%|          | 0/48 [00:00<?, ?it/s]"
            ]
          },
          "metadata": {
            "tags": []
          }
        },
        {
          "output_type": "stream",
          "text": [
            "Epoch: 4, Loss: 292.44\n"
          ],
          "name": "stdout"
        },
        {
          "output_type": "display_data",
          "data": {
            "application/vnd.jupyter.widget-view+json": {
              "model_id": "3587f77e467b46399bc58aa4393e435f",
              "version_minor": 0,
              "version_major": 2
            },
            "text/plain": [
              "  0%|          | 0/48 [00:00<?, ?it/s]"
            ]
          },
          "metadata": {
            "tags": []
          }
        },
        {
          "output_type": "stream",
          "text": [
            "Epoch: 5, Loss: 290.71\n"
          ],
          "name": "stdout"
        },
        {
          "output_type": "display_data",
          "data": {
            "application/vnd.jupyter.widget-view+json": {
              "model_id": "cb7d0cb0b14b4db28599ceca10fe735d",
              "version_minor": 0,
              "version_major": 2
            },
            "text/plain": [
              "  0%|          | 0/48 [00:00<?, ?it/s]"
            ]
          },
          "metadata": {
            "tags": []
          }
        },
        {
          "output_type": "stream",
          "text": [
            "Epoch: 6, Loss: 290.85\n"
          ],
          "name": "stdout"
        },
        {
          "output_type": "display_data",
          "data": {
            "application/vnd.jupyter.widget-view+json": {
              "model_id": "9f5defe53ca44fbbaf90d6f7aea5c4ad",
              "version_minor": 0,
              "version_major": 2
            },
            "text/plain": [
              "  0%|          | 0/48 [00:00<?, ?it/s]"
            ]
          },
          "metadata": {
            "tags": []
          }
        },
        {
          "output_type": "stream",
          "text": [
            "Epoch: 7, Loss: 289.90\n"
          ],
          "name": "stdout"
        },
        {
          "output_type": "display_data",
          "data": {
            "application/vnd.jupyter.widget-view+json": {
              "model_id": "3c7730216a7643439c3650041d940297",
              "version_minor": 0,
              "version_major": 2
            },
            "text/plain": [
              "  0%|          | 0/48 [00:00<?, ?it/s]"
            ]
          },
          "metadata": {
            "tags": []
          }
        },
        {
          "output_type": "stream",
          "text": [
            "Epoch: 8, Loss: 289.71\n"
          ],
          "name": "stdout"
        },
        {
          "output_type": "display_data",
          "data": {
            "application/vnd.jupyter.widget-view+json": {
              "model_id": "f5f939d16e9f420882816bf752de8e0e",
              "version_minor": 0,
              "version_major": 2
            },
            "text/plain": [
              "  0%|          | 0/48 [00:00<?, ?it/s]"
            ]
          },
          "metadata": {
            "tags": []
          }
        },
        {
          "output_type": "stream",
          "text": [
            "Epoch: 9, Loss: 289.55\n"
          ],
          "name": "stdout"
        }
      ]
    },
    {
      "cell_type": "code",
      "metadata": {
        "colab": {
          "base_uri": "https://localhost:8080/"
        },
        "id": "8caP2XMf3HLQ",
        "outputId": "e4dcd5f8-89a1-45b0-8b44-37e80c5087ce"
      },
      "source": [
        "torch.cuda.is_available()"
      ],
      "execution_count": 124,
      "outputs": [
        {
          "output_type": "execute_result",
          "data": {
            "text/plain": [
              "True"
            ]
          },
          "metadata": {
            "tags": []
          },
          "execution_count": 124
        }
      ]
    },
    {
      "cell_type": "code",
      "metadata": {
        "colab": {
          "base_uri": "https://localhost:8080/"
        },
        "id": "RpAyPUEOU-6r",
        "outputId": "1cc62bc4-aecc-4b9f-e848-566ea29f0e86"
      },
      "source": [
        "model(\n",
        "    torch.rand((1, 3, 448, 448)).cuda(),\n",
        "    torch.randint(0, 10, (1, 6)).cuda()\n",
        ")"
      ],
      "execution_count": 15,
      "outputs": [
        {
          "output_type": "stream",
          "text": [
            "Img Rep: tensor([[[-6.6765e+25, -6.7470e+25, -6.6527e+25,  ..., -6.4934e+25,\n",
            "          -6.8276e+25, -6.6186e+25],\n",
            "         [-1.5914e+25, -1.5455e+25, -1.5575e+25,  ..., -1.5390e+25,\n",
            "          -1.6632e+25, -1.5574e+25],\n",
            "         [-1.1505e+25, -1.1366e+25, -1.1662e+25,  ..., -1.1309e+25,\n",
            "          -1.2167e+25, -1.1706e+25],\n",
            "         ...,\n",
            "         [-2.9615e+25, -3.0396e+25, -2.8773e+25,  ..., -2.9591e+25,\n",
            "          -2.9267e+25, -2.9280e+25],\n",
            "         [-6.5078e+25, -6.5701e+25, -6.5172e+25,  ..., -6.3876e+25,\n",
            "          -6.7787e+25, -6.3743e+25],\n",
            "         [ 2.7307e+01,  2.7340e+01,  2.7280e+01,  ...,  2.7359e+01,\n",
            "           2.7279e+01,  2.7343e+01]]], device='cuda:0', grad_fn=<AddBackward0>)\n",
            "Ques Rep: tensor([[ 1.0000e+00,  0.0000e+00,  2.0000e+00,  0.0000e+00,  0.0000e+00,\n",
            "          2.0000e+00,  4.0000e+00, -1.0000e+00, -1.0000e+00, -1.0000e+00,\n",
            "          0.0000e+00, -1.0000e+00,  2.0000e+00,  4.0000e+00,  1.0000e+00,\n",
            "          1.0000e+00,  1.0000e+00,  0.0000e+00,  4.0000e+00,  4.0000e+00,\n",
            "          2.0000e+00, -1.7166e-05,  6.0000e+00,  0.0000e+00,  0.0000e+00,\n",
            "         -0.0000e+00, -0.0000e+00,  3.2285e-29,  1.0000e+00, -1.0000e+00,\n",
            "          0.0000e+00,  1.3553e+00, -0.0000e+00,  4.0000e+00,  4.0000e+00,\n",
            "          2.0000e+00,  0.0000e+00,  2.0000e+00,  0.0000e+00,  2.0000e+00,\n",
            "          2.0000e+00,  0.0000e+00, -7.8224e-01, -7.7684e-17,  1.0000e+00,\n",
            "          0.0000e+00, -2.0000e+00,  4.0000e+00, -0.0000e+00,  4.0000e+00,\n",
            "          0.0000e+00, -0.0000e+00,  0.0000e+00,  0.0000e+00,  4.0000e+00,\n",
            "          2.9358e-05,  0.0000e+00,  0.0000e+00,  2.0000e+00,  1.0000e+00,\n",
            "         -1.0000e+00, -1.0000e+00,  0.0000e+00,  0.0000e+00,  0.0000e+00,\n",
            "          3.0000e+00, -1.0000e+00, -0.0000e+00, -0.0000e+00,  0.0000e+00,\n",
            "          0.0000e+00,  0.0000e+00,  0.0000e+00,  0.0000e+00,  1.0000e+00,\n",
            "          0.0000e+00,  1.0000e+00,  0.0000e+00,  2.0000e+00,  4.0000e+00,\n",
            "          0.0000e+00,  0.0000e+00,  0.0000e+00,  0.0000e+00,  2.0000e+00,\n",
            "          2.0000e+00,  2.0000e+00, -1.0000e+00,  1.0000e+00,  0.0000e+00,\n",
            "          0.0000e+00,  0.0000e+00,  5.0000e+00,  2.0000e+00,  0.0000e+00,\n",
            "          0.0000e+00,  2.0000e+00,  3.0000e+00, -0.0000e+00,  0.0000e+00,\n",
            "         -0.0000e+00,  0.0000e+00,  1.0000e+00,  1.0000e+00,  4.0000e+00,\n",
            "         -1.0000e+00,  7.6479e-17,  1.0000e+00,  1.0000e+00,  0.0000e+00,\n",
            "          0.0000e+00,  1.0000e+00,  4.0000e+00, -2.0000e+00,  0.0000e+00,\n",
            "         -0.0000e+00,  3.0000e+00,  0.0000e+00,  0.0000e+00,  3.6142e-03,\n",
            "          1.0000e+00,  0.0000e+00, -1.0000e+00,  0.0000e+00,  2.0000e+00,\n",
            "          2.0000e+00, -1.0000e+00,  1.0000e+00,  1.0000e+00,  0.0000e+00,\n",
            "          4.0000e+00, -0.0000e+00,  0.0000e+00, -2.0000e+00,  0.0000e+00,\n",
            "          2.0000e+00,  0.0000e+00,  0.0000e+00,  0.0000e+00, -1.6521e-09,\n",
            "          0.0000e+00,  0.0000e+00,  3.0000e+00, -2.0000e+00,  0.0000e+00,\n",
            "          0.0000e+00,  1.0000e+00,  1.0000e+00,  4.0000e+00,  1.0000e+00,\n",
            "          4.0000e+00,  4.0000e+00,  0.0000e+00,  5.0000e+00,  0.0000e+00,\n",
            "          0.0000e+00, -1.0000e+00,  3.0000e+00,  4.0000e+00, -1.0000e+00,\n",
            "          0.0000e+00,  0.0000e+00,  0.0000e+00,  0.0000e+00,  1.0000e+00,\n",
            "         -1.0000e+00,  4.0000e+00,  1.0000e+00,  1.0000e+00,  0.0000e+00,\n",
            "         -1.0000e+00,  0.0000e+00,  0.0000e+00,  5.0000e+00, -1.0000e+00,\n",
            "         -0.0000e+00,  0.0000e+00,  0.0000e+00,  0.0000e+00,  4.0000e+00,\n",
            "         -1.0000e+00,  1.0000e+00, -1.0000e+00,  4.0000e+00,  0.0000e+00,\n",
            "          1.0000e+00,  0.0000e+00,  2.0000e+00, -0.0000e+00, -1.0000e+00,\n",
            "          3.0000e+00,  5.0000e+00,  3.0000e+00,  3.9914e+00,  2.3091e-24,\n",
            "          0.0000e+00,  2.0000e+00,  0.0000e+00, -0.0000e+00,  0.0000e+00,\n",
            "         -1.0000e+00, -0.0000e+00,  0.0000e+00,  0.0000e+00,  1.0000e+00,\n",
            "          3.0000e+00,  0.0000e+00,  4.0000e+00,  0.0000e+00, -0.0000e+00,\n",
            "          4.0909e-34,  0.0000e+00,  0.0000e+00,  0.0000e+00,  0.0000e+00,\n",
            "          2.0000e+00, -1.0000e+00,  0.0000e+00,  1.0000e+00,  0.0000e+00,\n",
            "         -0.0000e+00,  0.0000e+00,  0.0000e+00,  3.0000e+00,  3.0000e+00,\n",
            "         -0.0000e+00,  0.0000e+00,  0.0000e+00,  4.0000e+00, -1.0000e+00,\n",
            "         -1.0000e+00,  1.0000e+00,  0.0000e+00,  3.0000e+00, -1.0000e+00,\n",
            "          3.0000e+00,  0.0000e+00, -1.0000e+00, -0.0000e+00,  5.0000e+00,\n",
            "          0.0000e+00,  0.0000e+00,  4.0000e+00,  3.0000e+00,  0.0000e+00,\n",
            "         -1.0000e+00,  0.0000e+00,  2.0000e+00, -1.0000e+00,  3.0000e+00,\n",
            "          1.0000e+00,  2.0000e+00,  1.0000e+00,  2.0000e+00,  0.0000e+00,\n",
            "          1.0000e+00, -2.0000e+00,  1.0102e+00, -1.0000e+00, -1.0000e+00,\n",
            "          1.0000e+00,  4.0000e+00, -1.0000e+00, -0.0000e+00,  3.0000e+00,\n",
            "          0.0000e+00,  1.0000e+00,  0.0000e+00,  1.0000e+00,  0.0000e+00,\n",
            "         -1.0000e+00,  3.0000e+00,  3.0000e+00, -0.0000e+00, -1.0000e+00,\n",
            "          0.0000e+00,  2.0000e+00,  3.0000e+00,  1.0000e+00,  1.0000e+00,\n",
            "         -4.0291e+00,  3.0000e+00,  1.0000e+00, -1.0000e+00,  3.0000e+00,\n",
            "         -1.0000e+00,  2.0000e+00,  0.0000e+00,  9.9983e-01,  2.0000e+00,\n",
            "          0.0000e+00,  0.0000e+00,  2.0000e+00,  0.0000e+00,  3.4064e-01,\n",
            "          1.0000e+00,  4.0000e+00, -1.0000e+00,  1.0000e+00,  4.0000e+00,\n",
            "          0.0000e+00,  0.0000e+00,  2.0000e+00,  4.0000e+00, -0.0000e+00,\n",
            "         -1.0000e+00,  0.0000e+00,  0.0000e+00,  0.0000e+00, -5.0761e-02,\n",
            "         -1.0000e+00, -0.0000e+00,  3.0000e+00,  4.0000e+00,  2.0000e+00,\n",
            "         -0.0000e+00,  2.3444e-01,  1.0000e+00,  0.0000e+00,  1.0000e+00,\n",
            "          0.0000e+00, -1.0000e+00,  3.0000e+00,  1.0000e+00, -1.0000e+00,\n",
            "          0.0000e+00,  4.0000e+00,  3.0000e+00, -1.0000e+00, -0.0000e+00,\n",
            "          0.0000e+00,  0.0000e+00, -1.0000e+00,  0.0000e+00,  5.0000e+00,\n",
            "         -1.0000e+00, -0.0000e+00,  1.9984e+00,  0.0000e+00,  2.0000e+00,\n",
            "          0.0000e+00,  1.0000e+00, -1.0000e+00,  0.0000e+00,  3.0000e+00,\n",
            "          0.0000e+00,  0.0000e+00,  0.0000e+00,  1.0000e+00,  1.1921e-07,\n",
            "          3.0000e+00,  0.0000e+00, -1.0000e+00, -4.0000e+00,  0.0000e+00,\n",
            "         -1.0000e+00, -0.0000e+00,  0.0000e+00,  1.0000e+00,  2.6206e+00,\n",
            "          1.0000e+00,  0.0000e+00,  0.0000e+00,  4.5231e-03,  1.0000e+00,\n",
            "          1.0000e+00,  0.0000e+00,  0.0000e+00, -1.0000e+00,  6.0000e+00,\n",
            "          0.0000e+00,  0.0000e+00,  3.0000e+00,  1.0000e+00,  0.0000e+00,\n",
            "          6.0000e+00,  0.0000e+00, -1.2569e-20, -1.0000e+00,  4.0000e+00,\n",
            "          1.0000e+00,  4.0000e+00,  0.0000e+00, -1.0000e+00,  2.0000e+00,\n",
            "          1.0000e+00, -1.0000e+00,  1.0000e+00,  5.0000e+00, -1.0876e-28,\n",
            "          0.0000e+00,  4.0000e+00,  0.0000e+00,  1.0000e+00,  3.0000e+00,\n",
            "         -0.0000e+00,  0.0000e+00,  3.0000e+00,  2.0000e+00, -1.0000e+00,\n",
            "          3.0000e+00,  0.0000e+00,  1.0000e+00,  5.9997e+00,  1.0000e+00,\n",
            "          5.0000e+00,  4.0000e+00,  1.9995e+00,  0.0000e+00, -0.0000e+00,\n",
            "          2.0000e+00, -0.0000e+00,  4.0000e+00,  6.0000e+00,  0.0000e+00,\n",
            "          2.0000e+00,  0.0000e+00,  0.0000e+00,  0.0000e+00,  1.0000e+00,\n",
            "          0.0000e+00,  0.0000e+00, -2.0000e+00, -0.0000e+00,  0.0000e+00,\n",
            "          6.0000e+00,  0.0000e+00,  2.0000e+00,  0.0000e+00,  0.0000e+00,\n",
            "          0.0000e+00, -1.0000e+00,  3.0000e+00, -0.0000e+00,  3.0000e+00,\n",
            "          2.0083e+00, -1.0000e+00, -1.0000e+00,  1.0000e+00, -1.0000e+00,\n",
            "          6.0000e+00,  0.0000e+00,  1.0000e+00,  1.0000e+00,  1.0000e+00,\n",
            "          0.0000e+00, -1.0000e+00,  0.0000e+00, -1.0000e+00,  2.0000e+00,\n",
            "          0.0000e+00, -1.0000e+00,  0.0000e+00,  1.0000e+00,  2.0000e+00,\n",
            "          1.0000e+00,  4.0000e+00, -0.0000e+00,  0.0000e+00,  0.0000e+00,\n",
            "          0.0000e+00,  0.0000e+00, -1.0000e+00,  0.0000e+00, -1.0000e+00,\n",
            "          0.0000e+00,  5.0000e+00,  0.0000e+00,  1.0000e+00,  3.0000e+00,\n",
            "          0.0000e+00, -1.0000e+00, -0.0000e+00,  2.0000e+00, -0.0000e+00,\n",
            "          6.0000e+00,  6.0000e+00,  4.0000e+00,  0.0000e+00,  0.0000e+00,\n",
            "          3.0000e+00,  0.0000e+00, -1.0000e+00,  6.0000e+00,  0.0000e+00,\n",
            "          0.0000e+00, -1.0000e+00, -0.0000e+00,  1.0000e+00,  2.9999e+00,\n",
            "          5.0000e+00,  4.0000e+00,  0.0000e+00,  3.0000e+00,  1.0000e+00,\n",
            "          2.0000e+00,  3.0000e+00,  4.0000e+00, -1.0000e+00, -0.0000e+00,\n",
            "          1.0000e+00,  1.0000e+00,  1.0000e+00,  0.0000e+00,  0.0000e+00,\n",
            "          0.0000e+00,  0.0000e+00,  0.0000e+00,  2.0000e+00,  1.0000e+00,\n",
            "          0.0000e+00,  1.0000e+00,  0.0000e+00, -1.6238e+00,  1.0000e+00,\n",
            "          0.0000e+00,  4.0000e+00,  0.0000e+00,  1.0000e+00,  0.0000e+00,\n",
            "         -0.0000e+00,  1.0000e+00,  0.0000e+00,  1.0000e+00, -1.0000e+00,\n",
            "          0.0000e+00,  8.6408e-03,  2.0000e+00,  0.0000e+00,  0.0000e+00,\n",
            "         -0.0000e+00,  0.0000e+00,  0.0000e+00,  0.0000e+00, -1.0000e+00,\n",
            "          3.0000e+00,  0.0000e+00, -1.0000e+00,  3.0000e+00, -0.0000e+00,\n",
            "          3.0575e-17,  1.0000e+00,  1.0000e+00,  2.0000e+00,  0.0000e+00,\n",
            "          1.0000e+00,  8.1359e-30,  0.0000e+00,  0.0000e+00,  0.0000e+00,\n",
            "          0.0000e+00,  0.0000e+00,  3.0000e+00,  0.0000e+00, -1.0000e+00,\n",
            "         -1.0000e+00,  0.0000e+00,  1.0000e+00,  0.0000e+00, -4.6039e-36,\n",
            "          0.0000e+00,  0.0000e+00,  0.0000e+00,  3.0000e+00,  1.0020e+00,\n",
            "         -1.0000e+00,  2.0064e+00,  0.0000e+00,  0.0000e+00,  4.0000e+00,\n",
            "          3.0000e+00,  2.0000e+00,  0.0000e+00, -2.0000e+00,  2.0000e+00,\n",
            "          0.0000e+00, -1.0000e+00, -9.9528e-01,  1.0000e+00,  0.0000e+00,\n",
            "          1.0000e+00, -1.0000e+00,  2.0000e+00,  3.0000e+00,  0.0000e+00,\n",
            "          0.0000e+00,  5.0000e+00, -1.0000e+00,  0.0000e+00,  6.0000e+00,\n",
            "          0.0000e+00,  0.0000e+00,  0.0000e+00,  3.0000e+00,  2.1528e+00,\n",
            "          2.0000e+00,  0.0000e+00,  0.0000e+00,  2.0000e+00,  4.0000e+00,\n",
            "          0.0000e+00, -0.0000e+00,  0.0000e+00,  9.8485e-01,  3.8880e+00,\n",
            "          0.0000e+00,  1.0000e+00,  0.0000e+00,  1.0000e+00,  1.0000e+00,\n",
            "          1.0000e+00,  1.0000e+00, -2.0000e+00,  0.0000e+00,  1.0000e+00,\n",
            "          1.0000e+00,  0.0000e+00,  2.0000e+00,  1.0000e+00,  1.9657e-12,\n",
            "          0.0000e+00,  2.0000e+00, -1.0000e+00,  0.0000e+00,  0.0000e+00,\n",
            "          4.0000e+00,  0.0000e+00,  1.0000e+00,  3.0000e+00,  0.0000e+00,\n",
            "          1.0000e+00,  0.0000e+00,  0.0000e+00, -2.8463e-31,  3.0000e+00,\n",
            "          0.0000e+00,  6.0000e+00,  1.0000e+00,  1.0000e+00, -0.0000e+00]],\n",
            "       device='cuda:0', grad_fn=<SqueezeBackward1>)\n",
            "U: tensor([[-1.5141e+31, -1.5141e+31, -1.5141e+31, -1.5141e+31, -1.5141e+31,\n",
            "         -1.5141e+31, -1.5141e+31, -1.5141e+31, -1.5141e+31, -1.5141e+31,\n",
            "         -1.5141e+31, -1.5141e+31, -1.5141e+31, -1.5141e+31, -1.5141e+31,\n",
            "         -1.5141e+31, -1.5141e+31, -1.5141e+31, -1.5141e+31, -1.5141e+31,\n",
            "         -1.5141e+31, -1.5141e+31, -1.5141e+31, -1.5141e+31, -1.5141e+31,\n",
            "         -1.5141e+31, -1.5141e+31, -1.5141e+31, -1.5141e+31, -1.5141e+31,\n",
            "         -1.5141e+31, -1.5141e+31, -1.5141e+31, -1.5141e+31, -1.5141e+31,\n",
            "         -1.5141e+31, -1.5141e+31, -1.5141e+31, -1.5141e+31, -1.5141e+31,\n",
            "         -1.5141e+31, -1.5141e+31, -1.5141e+31, -1.5141e+31, -1.5141e+31,\n",
            "         -1.5141e+31, -1.5141e+31, -1.5141e+31, -1.5141e+31, -1.5141e+31,\n",
            "         -1.5141e+31, -1.5141e+31, -1.5141e+31, -1.5141e+31, -1.5141e+31,\n",
            "         -1.5141e+31, -1.5141e+31, -1.5141e+31, -1.5141e+31, -1.5141e+31,\n",
            "         -1.5141e+31, -1.5141e+31, -1.5141e+31, -1.5141e+31, -1.5141e+31,\n",
            "         -1.5141e+31, -1.5141e+31, -1.5141e+31, -1.5141e+31, -1.5141e+31,\n",
            "         -1.5141e+31, -1.5141e+31, -1.5141e+31, -1.5141e+31, -1.5141e+31,\n",
            "         -1.5141e+31, -1.5141e+31, -1.5141e+31, -1.5141e+31, -1.5141e+31,\n",
            "         -1.5141e+31, -1.5141e+31, -1.5141e+31, -1.5141e+31, -1.5141e+31,\n",
            "         -1.5141e+31, -1.5141e+31, -1.5141e+31, -1.5141e+31, -1.5141e+31,\n",
            "         -1.5141e+31, -1.5141e+31, -1.5141e+31, -1.5141e+31, -1.5141e+31,\n",
            "         -1.5141e+31, -1.5141e+31, -1.5141e+31, -1.5141e+31, -1.5141e+31,\n",
            "         -1.5141e+31, -1.5141e+31, -1.5141e+31, -1.5141e+31, -1.5141e+31,\n",
            "         -1.5141e+31, -1.5141e+31, -1.5141e+31, -1.5141e+31, -1.5141e+31,\n",
            "         -1.5141e+31, -1.5141e+31, -1.5141e+31, -1.5141e+31, -1.5141e+31,\n",
            "         -1.5141e+31, -1.5141e+31, -1.5141e+31, -1.5141e+31, -1.5141e+31,\n",
            "         -1.5141e+31, -1.5141e+31, -1.5141e+31, -1.5141e+31, -1.5141e+31,\n",
            "         -1.5141e+31, -1.5141e+31, -1.5141e+31, -1.5141e+31, -1.5141e+31,\n",
            "         -1.5141e+31, -1.5141e+31, -1.5141e+31, -1.5141e+31, -1.5141e+31,\n",
            "         -1.5141e+31, -1.5141e+31, -1.5141e+31, -1.5141e+31, -1.5141e+31,\n",
            "         -1.5141e+31, -1.5141e+31, -1.5141e+31, -1.5141e+31, -1.5141e+31,\n",
            "         -1.5141e+31, -1.5141e+31, -1.5141e+31, -1.5141e+31, -1.5141e+31,\n",
            "         -1.5141e+31, -1.5141e+31, -1.5141e+31, -1.5141e+31, -1.5141e+31,\n",
            "         -1.5141e+31, -1.5141e+31, -1.5141e+31, -1.5141e+31, -1.5141e+31,\n",
            "         -1.5141e+31, -1.5141e+31, -1.5141e+31, -1.5141e+31, -1.5141e+31,\n",
            "         -1.5141e+31, -1.5141e+31, -1.5141e+31, -1.5141e+31, -1.5141e+31,\n",
            "         -1.5141e+31, -1.5141e+31, -1.5141e+31, -1.5141e+31, -1.5141e+31,\n",
            "         -1.5141e+31, -1.5141e+31, -1.5141e+31, -1.5141e+31, -1.5141e+31,\n",
            "         -1.5141e+31, -1.5141e+31, -1.5141e+31, -1.5141e+31, -1.5141e+31,\n",
            "         -1.5141e+31, -1.5141e+31, -1.5141e+31, -1.5141e+31, -1.5141e+31,\n",
            "         -1.5141e+31, -1.5141e+31, -1.5141e+31, -1.5141e+31, -1.5141e+31,\n",
            "         -1.5141e+31, -1.5141e+31, -1.5141e+31, -1.5141e+31, -1.5141e+31,\n",
            "         -1.5141e+31, -1.5141e+31, -1.5141e+31, -1.5141e+31, -1.5141e+31,\n",
            "         -1.5141e+31, -1.5141e+31, -1.5141e+31, -1.5141e+31, -1.5141e+31,\n",
            "         -1.5141e+31, -1.5141e+31, -1.5141e+31, -1.5141e+31, -1.5141e+31,\n",
            "         -1.5141e+31, -1.5141e+31, -1.5141e+31, -1.5141e+31, -1.5141e+31,\n",
            "         -1.5141e+31, -1.5141e+31, -1.5141e+31, -1.5141e+31, -1.5141e+31,\n",
            "         -1.5141e+31, -1.5141e+31, -1.5141e+31, -1.5141e+31, -1.5141e+31,\n",
            "         -1.5141e+31, -1.5141e+31, -1.5141e+31, -1.5141e+31, -1.5141e+31,\n",
            "         -1.5141e+31, -1.5141e+31, -1.5141e+31, -1.5141e+31, -1.5141e+31,\n",
            "         -1.5141e+31, -1.5141e+31, -1.5141e+31, -1.5141e+31, -1.5141e+31,\n",
            "         -1.5141e+31, -1.5141e+31, -1.5141e+31, -1.5141e+31, -1.5141e+31,\n",
            "         -1.5141e+31, -1.5141e+31, -1.5141e+31, -1.5141e+31, -1.5141e+31,\n",
            "         -1.5141e+31, -1.5141e+31, -1.5141e+31, -1.5141e+31, -1.5141e+31,\n",
            "         -1.5141e+31, -1.5141e+31, -1.5141e+31, -1.5141e+31, -1.5141e+31,\n",
            "         -1.5141e+31, -1.5141e+31, -1.5141e+31, -1.5141e+31, -1.5141e+31,\n",
            "         -1.5141e+31, -1.5141e+31, -1.5141e+31, -1.5141e+31, -1.5141e+31,\n",
            "         -1.5141e+31, -1.5141e+31, -1.5141e+31, -1.5141e+31, -1.5141e+31,\n",
            "         -1.5141e+31, -1.5141e+31, -1.5141e+31, -1.5141e+31, -1.5141e+31,\n",
            "         -1.5141e+31, -1.5141e+31, -1.5141e+31, -1.5141e+31, -1.5141e+31,\n",
            "         -1.5141e+31, -1.5141e+31, -1.5141e+31, -1.5141e+31, -1.5141e+31,\n",
            "         -1.5141e+31, -1.5141e+31, -1.5141e+31, -1.5141e+31, -1.5141e+31,\n",
            "         -1.5141e+31, -1.5141e+31, -1.5141e+31, -1.5141e+31, -1.5141e+31,\n",
            "         -1.5141e+31, -1.5141e+31, -1.5141e+31, -1.5141e+31, -1.5141e+31,\n",
            "         -1.5141e+31, -1.5141e+31, -1.5141e+31, -1.5141e+31, -1.5141e+31,\n",
            "         -1.5141e+31, -1.5141e+31, -1.5141e+31, -1.5141e+31, -1.5141e+31,\n",
            "         -1.5141e+31, -1.5141e+31, -1.5141e+31, -1.5141e+31, -1.5141e+31,\n",
            "         -1.5141e+31, -1.5141e+31, -1.5141e+31, -1.5141e+31, -1.5141e+31,\n",
            "         -1.5141e+31, -1.5141e+31, -1.5141e+31, -1.5141e+31, -1.5141e+31,\n",
            "         -1.5141e+31, -1.5141e+31, -1.5141e+31, -1.5141e+31, -1.5141e+31,\n",
            "         -1.5141e+31, -1.5141e+31, -1.5141e+31, -1.5141e+31, -1.5141e+31,\n",
            "         -1.5141e+31, -1.5141e+31, -1.5141e+31, -1.5141e+31, -1.5141e+31,\n",
            "         -1.5141e+31, -1.5141e+31, -1.5141e+31, -1.5141e+31, -1.5141e+31,\n",
            "         -1.5141e+31, -1.5141e+31, -1.5141e+31, -1.5141e+31, -1.5141e+31,\n",
            "         -1.5141e+31, -1.5141e+31, -1.5141e+31, -1.5141e+31, -1.5141e+31,\n",
            "         -1.5141e+31, -1.5141e+31, -1.5141e+31, -1.5141e+31, -1.5141e+31,\n",
            "         -1.5141e+31, -1.5141e+31, -1.5141e+31, -1.5141e+31, -1.5141e+31,\n",
            "         -1.5141e+31, -1.5141e+31, -1.5141e+31, -1.5141e+31, -1.5141e+31,\n",
            "         -1.5141e+31, -1.5141e+31, -1.5141e+31, -1.5141e+31, -1.5141e+31,\n",
            "         -1.5141e+31, -1.5141e+31, -1.5141e+31, -1.5141e+31, -1.5141e+31,\n",
            "         -1.5141e+31, -1.5141e+31, -1.5141e+31, -1.5141e+31, -1.5141e+31,\n",
            "         -1.5141e+31, -1.5141e+31, -1.5141e+31, -1.5141e+31, -1.5141e+31,\n",
            "         -1.5141e+31, -1.5141e+31, -1.5141e+31, -1.5141e+31, -1.5141e+31,\n",
            "         -1.5141e+31, -1.5141e+31, -1.5141e+31, -1.5141e+31, -1.5141e+31,\n",
            "         -1.5141e+31, -1.5141e+31, -1.5141e+31, -1.5141e+31, -1.5141e+31,\n",
            "         -1.5141e+31, -1.5141e+31, -1.5141e+31, -1.5141e+31, -1.5141e+31,\n",
            "         -1.5141e+31, -1.5141e+31, -1.5141e+31, -1.5141e+31, -1.5141e+31,\n",
            "         -1.5141e+31, -1.5141e+31, -1.5141e+31, -1.5141e+31, -1.5141e+31,\n",
            "         -1.5141e+31, -1.5141e+31, -1.5141e+31, -1.5141e+31, -1.5141e+31,\n",
            "         -1.5141e+31, -1.5141e+31, -1.5141e+31, -1.5141e+31, -1.5141e+31,\n",
            "         -1.5141e+31, -1.5141e+31, -1.5141e+31, -1.5141e+31, -1.5141e+31,\n",
            "         -1.5141e+31, -1.5141e+31, -1.5141e+31, -1.5141e+31, -1.5141e+31,\n",
            "         -1.5141e+31, -1.5141e+31, -1.5141e+31, -1.5141e+31, -1.5141e+31,\n",
            "         -1.5141e+31, -1.5141e+31, -1.5141e+31, -1.5141e+31, -1.5141e+31,\n",
            "         -1.5141e+31, -1.5141e+31, -1.5141e+31, -1.5141e+31, -1.5141e+31,\n",
            "         -1.5141e+31, -1.5141e+31, -1.5141e+31, -1.5141e+31, -1.5141e+31,\n",
            "         -1.5141e+31, -1.5141e+31, -1.5141e+31, -1.5141e+31, -1.5141e+31,\n",
            "         -1.5141e+31, -1.5141e+31, -1.5141e+31, -1.5141e+31, -1.5141e+31,\n",
            "         -1.5141e+31, -1.5141e+31, -1.5141e+31, -1.5141e+31, -1.5141e+31,\n",
            "         -1.5141e+31, -1.5141e+31, -1.5141e+31, -1.5141e+31, -1.5141e+31,\n",
            "         -1.5141e+31, -1.5141e+31, -1.5141e+31, -1.5141e+31, -1.5141e+31,\n",
            "         -1.5141e+31, -1.5141e+31, -1.5141e+31, -1.5141e+31, -1.5141e+31,\n",
            "         -1.5141e+31, -1.5141e+31, -1.5141e+31, -1.5141e+31, -1.5141e+31,\n",
            "         -1.5141e+31, -1.5141e+31, -1.5141e+31, -1.5141e+31, -1.5141e+31,\n",
            "         -1.5141e+31, -1.5141e+31, -1.5141e+31, -1.5141e+31, -1.5141e+31,\n",
            "         -1.5141e+31, -1.5141e+31, -1.5141e+31, -1.5141e+31, -1.5141e+31,\n",
            "         -1.5141e+31, -1.5141e+31, -1.5141e+31, -1.5141e+31, -1.5141e+31,\n",
            "         -1.5141e+31, -1.5141e+31, -1.5141e+31, -1.5141e+31, -1.5141e+31,\n",
            "         -1.5141e+31, -1.5141e+31, -1.5141e+31, -1.5141e+31, -1.5141e+31,\n",
            "         -1.5141e+31, -1.5141e+31, -1.5141e+31, -1.5141e+31, -1.5141e+31,\n",
            "         -1.5141e+31, -1.5141e+31, -1.5141e+31, -1.5141e+31, -1.5141e+31,\n",
            "         -1.5141e+31, -1.5141e+31, -1.5141e+31, -1.5141e+31, -1.5141e+31,\n",
            "         -1.5141e+31, -1.5141e+31, -1.5141e+31, -1.5141e+31, -1.5141e+31,\n",
            "         -1.5141e+31, -1.5141e+31, -1.5141e+31, -1.5141e+31, -1.5141e+31,\n",
            "         -1.5141e+31, -1.5141e+31, -1.5141e+31, -1.5141e+31, -1.5141e+31,\n",
            "         -1.5141e+31, -1.5141e+31, -1.5141e+31, -1.5141e+31, -1.5141e+31,\n",
            "         -1.5141e+31, -1.5141e+31, -1.5141e+31, -1.5141e+31, -1.5141e+31,\n",
            "         -1.5141e+31, -1.5141e+31, -1.5141e+31, -1.5141e+31, -1.5141e+31,\n",
            "         -1.5141e+31, -1.5141e+31, -1.5141e+31, -1.5141e+31, -1.5141e+31,\n",
            "         -1.5141e+31, -1.5141e+31, -1.5141e+31, -1.5141e+31, -1.5141e+31,\n",
            "         -1.5141e+31, -1.5141e+31, -1.5141e+31, -1.5141e+31, -1.5141e+31,\n",
            "         -1.5141e+31, -1.5141e+31, -1.5141e+31, -1.5141e+31, -1.5141e+31,\n",
            "         -1.5141e+31, -1.5141e+31, -1.5141e+31, -1.5141e+31, -1.5141e+31,\n",
            "         -1.5141e+31, -1.5141e+31, -1.5141e+31, -1.5141e+31, -1.5141e+31,\n",
            "         -1.5141e+31, -1.5141e+31, -1.5141e+31, -1.5141e+31, -1.5141e+31,\n",
            "         -1.5141e+31, -1.5141e+31, -1.5141e+31, -1.5141e+31, -1.5141e+31,\n",
            "         -1.5141e+31, -1.5141e+31, -1.5141e+31, -1.5141e+31, -1.5141e+31,\n",
            "         -1.5141e+31, -1.5141e+31, -1.5141e+31, -1.5141e+31, -1.5141e+31,\n",
            "         -1.5141e+31, -1.5141e+31, -1.5141e+31, -1.5141e+31, -1.5141e+31,\n",
            "         -1.5141e+31, -1.5141e+31, -1.5141e+31, -1.5141e+31, -1.5141e+31]],\n",
            "       device='cuda:0', grad_fn=<SqueezeBackward1>)\n"
          ],
          "name": "stdout"
        },
        {
          "output_type": "execute_result",
          "data": {
            "text/plain": [
              "tensor([[ 4.3755e+30,  3.1859e+30,  1.0416e+31,  ..., -1.8936e+31,\n",
              "         -1.7635e+31, -2.5045e+30]], device='cuda:0', grad_fn=<AddmmBackward>)"
            ]
          },
          "metadata": {
            "tags": []
          },
          "execution_count": 15
        }
      ]
    },
    {
      "cell_type": "markdown",
      "metadata": {
        "id": "1vLp1pr-Sy_0"
      },
      "source": [
        "#### Things Learnt:\n",
        "- collate_fun & pad_sequence\n",
        "- Model & input should be on the same device\n",
        "- torch.cat & torch.stack\n",
        "- Vocab & embed size for nn.Embeddings"
      ]
    },
    {
      "cell_type": "code",
      "metadata": {
        "id": "9iEObEZA3HI8"
      },
      "source": [
        "\n"
      ],
      "execution_count": 18,
      "outputs": []
    },
    {
      "cell_type": "markdown",
      "metadata": {
        "id": "QIt7qtTUtHM8"
      },
      "source": [
        "###### Get the dataset"
      ]
    },
    {
      "cell_type": "code",
      "metadata": {
        "id": "kXDEum5CTght"
      },
      "source": [
        "%%capture\n",
        "! wget http://datasets.d2.mpi-inf.mpg.de/mateusz14visual-turing/nyu_depth_images.tar"
      ],
      "execution_count": 14,
      "outputs": []
    },
    {
      "cell_type": "code",
      "metadata": {
        "id": "8nJIzHIBTgfr"
      },
      "source": [
        "%%capture\n",
        "! tar -xvf nyu_depth_images.tar"
      ],
      "execution_count": 15,
      "outputs": []
    },
    {
      "cell_type": "code",
      "metadata": {
        "colab": {
          "base_uri": "https://localhost:8080/"
        },
        "id": "bMaFrM4bTge1",
        "outputId": "51e541e5-6455-4705-f955-cff026d9b57b"
      },
      "source": [
        "! find . -name image3.png"
      ],
      "execution_count": 16,
      "outputs": [
        {
          "output_type": "stream",
          "text": [
            "./nyu_depth_images/image3.png\n"
          ],
          "name": "stdout"
        }
      ]
    },
    {
      "cell_type": "code",
      "metadata": {
        "id": "_thw426qWO0d"
      },
      "source": [
        "# Image.open('./nyu_depth_images/image3.png')"
      ],
      "execution_count": 17,
      "outputs": []
    },
    {
      "cell_type": "code",
      "metadata": {
        "id": "E39z1roNUfKX"
      },
      "source": [
        "%%capture\n",
        "! wget https://raw.githubusercontent.com/jayantk/lsp/master/data/daquar/reduced/qa.37.raw.train.txt"
      ],
      "execution_count": 18,
      "outputs": []
    },
    {
      "cell_type": "code",
      "metadata": {
        "id": "dmeKvobyUoEk"
      },
      "source": [
        ""
      ],
      "execution_count": 18,
      "outputs": []
    },
    {
      "cell_type": "markdown",
      "metadata": {
        "id": "uto6dwTAENyy"
      },
      "source": [
        "Rough"
      ]
    },
    {
      "cell_type": "code",
      "metadata": {
        "id": "Y-Jjk0_UEOPa"
      },
      "source": [
        "x_seq = [torch.tensor([5, 18, 29]), torch.tensor([32, 100]), torch.tensor([699, 6, 9, 17])]\n",
        "x_padded = pad_sequence(x_seq, batch_first=True, padding_value=0)"
      ],
      "execution_count": 19,
      "outputs": []
    },
    {
      "cell_type": "code",
      "metadata": {
        "colab": {
          "base_uri": "https://localhost:8080/"
        },
        "id": "b7ZihVGBEPEP",
        "outputId": "9a377f2c-7a31-440c-8d52-f11ff4187cb8"
      },
      "source": [
        "x = torch.randn(2, 3)\n",
        "print(f'{x.size()}')\n",
        "\n",
        "# add more rows (thus increasing the dimensionality of the column space to 2 -> 6)\n",
        "xnew_from_cat = torch.stack((x, x, x), 0)\n",
        "print(f'{xnew_from_cat.size()}')"
      ],
      "execution_count": 20,
      "outputs": [
        {
          "output_type": "stream",
          "text": [
            "torch.Size([2, 3])\n",
            "torch.Size([3, 2, 3])\n"
          ],
          "name": "stdout"
        }
      ]
    },
    {
      "cell_type": "code",
      "metadata": {
        "colab": {
          "base_uri": "https://localhost:8080/"
        },
        "id": "2VEVTQ8lI2gP",
        "outputId": "44c2ee38-dcbd-4d9d-adbd-97f58d981927"
      },
      "source": [
        "out = torch.rand((2, 9000))\n",
        "ans = torch.randint(0, 3, (2,))\n",
        "out.shape, ans.shape"
      ],
      "execution_count": 21,
      "outputs": [
        {
          "output_type": "execute_result",
          "data": {
            "text/plain": [
              "(torch.Size([2, 9000]), torch.Size([2]))"
            ]
          },
          "metadata": {
            "tags": []
          },
          "execution_count": 21
        }
      ]
    },
    {
      "cell_type": "code",
      "metadata": {
        "colab": {
          "base_uri": "https://localhost:8080/"
        },
        "id": "MW5EdW_kKiTo",
        "outputId": "832de317-961a-4193-aaad-48b245de5706"
      },
      "source": [
        "nn.CrossEntropyLoss()(out, ans)"
      ],
      "execution_count": 22,
      "outputs": [
        {
          "output_type": "execute_result",
          "data": {
            "text/plain": [
              "tensor(9.2859)"
            ]
          },
          "metadata": {
            "tags": []
          },
          "execution_count": 22
        }
      ]
    },
    {
      "cell_type": "code",
      "metadata": {
        "id": "TB5uuDPVKo-W"
      },
      "source": [
        "x = torch.rand(10, 196, 1)"
      ],
      "execution_count": 23,
      "outputs": []
    },
    {
      "cell_type": "code",
      "metadata": {
        "colab": {
          "base_uri": "https://localhost:8080/"
        },
        "id": "T5ZkJd4MJVn0",
        "outputId": "bc46c47f-9b6e-4164-cd67-7f459d09ef2e"
      },
      "source": [
        "F.softmax(x, dim=1).sum(dim=1)"
      ],
      "execution_count": 24,
      "outputs": [
        {
          "output_type": "execute_result",
          "data": {
            "text/plain": [
              "tensor([[1.0000],\n",
              "        [1.0000],\n",
              "        [1.0000],\n",
              "        [1.0000],\n",
              "        [1.0000],\n",
              "        [1.0000],\n",
              "        [1.0000],\n",
              "        [1.0000],\n",
              "        [1.0000],\n",
              "        [1.0000]])"
            ]
          },
          "metadata": {
            "tags": []
          },
          "execution_count": 24
        }
      ]
    },
    {
      "cell_type": "code",
      "metadata": {
        "id": "0NV-N9SuJZVs"
      },
      "source": [
        ""
      ],
      "execution_count": 24,
      "outputs": []
    }
  ]
}