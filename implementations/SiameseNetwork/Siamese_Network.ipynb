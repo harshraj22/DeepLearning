{
  "nbformat": 4,
  "nbformat_minor": 0,
  "metadata": {
    "colab": {
      "name": "Siamese_Network.ipynb",
      "provenance": [],
      "toc_visible": true
    },
    "kernelspec": {
      "name": "python3",
      "display_name": "Python 3"
    },
    "language_info": {
      "name": "python"
    },
    "accelerator": "GPU",
    "widgets": {
      "application/vnd.jupyter.widget-state+json": {
        "72dba319de29415cb0607ffea350a6f4": {
          "model_module": "@jupyter-widgets/controls",
          "model_name": "HBoxModel",
          "state": {
            "_view_name": "HBoxView",
            "_dom_classes": [],
            "_model_name": "HBoxModel",
            "_view_module": "@jupyter-widgets/controls",
            "_model_module_version": "1.5.0",
            "_view_count": null,
            "_view_module_version": "1.5.0",
            "box_style": "",
            "layout": "IPY_MODEL_081bf5d229214c4f97690aab5a020a66",
            "_model_module": "@jupyter-widgets/controls",
            "children": [
              "IPY_MODEL_737f600da8e5493daca3457b9472a68f",
              "IPY_MODEL_2fee5ad21a7e49f6a74aa0845d0c8919"
            ]
          }
        },
        "081bf5d229214c4f97690aab5a020a66": {
          "model_module": "@jupyter-widgets/base",
          "model_name": "LayoutModel",
          "state": {
            "_view_name": "LayoutView",
            "grid_template_rows": null,
            "right": null,
            "justify_content": null,
            "_view_module": "@jupyter-widgets/base",
            "overflow": null,
            "_model_module_version": "1.2.0",
            "_view_count": null,
            "flex_flow": null,
            "width": null,
            "min_width": null,
            "border": null,
            "align_items": null,
            "bottom": null,
            "_model_module": "@jupyter-widgets/base",
            "top": null,
            "grid_column": null,
            "overflow_y": null,
            "overflow_x": null,
            "grid_auto_flow": null,
            "grid_area": null,
            "grid_template_columns": null,
            "flex": null,
            "_model_name": "LayoutModel",
            "justify_items": null,
            "grid_row": null,
            "max_height": null,
            "align_content": null,
            "visibility": null,
            "align_self": null,
            "height": null,
            "min_height": null,
            "padding": null,
            "grid_auto_rows": null,
            "grid_gap": null,
            "max_width": null,
            "order": null,
            "_view_module_version": "1.2.0",
            "grid_template_areas": null,
            "object_position": null,
            "object_fit": null,
            "grid_auto_columns": null,
            "margin": null,
            "display": null,
            "left": null
          }
        },
        "737f600da8e5493daca3457b9472a68f": {
          "model_module": "@jupyter-widgets/controls",
          "model_name": "FloatProgressModel",
          "state": {
            "_view_name": "ProgressView",
            "style": "IPY_MODEL_f75539acfa014a9d915fb31718c7f33b",
            "_dom_classes": [],
            "description": "Iterating over omniglot: 100%",
            "_model_name": "FloatProgressModel",
            "bar_style": "success",
            "max": 1200,
            "_view_module": "@jupyter-widgets/controls",
            "_model_module_version": "1.5.0",
            "value": 1200,
            "_view_count": null,
            "_view_module_version": "1.5.0",
            "orientation": "horizontal",
            "min": 0,
            "description_tooltip": null,
            "_model_module": "@jupyter-widgets/controls",
            "layout": "IPY_MODEL_e12d08cb33b34485a73345dfffc6ae22"
          }
        },
        "2fee5ad21a7e49f6a74aa0845d0c8919": {
          "model_module": "@jupyter-widgets/controls",
          "model_name": "HTMLModel",
          "state": {
            "_view_name": "HTMLView",
            "style": "IPY_MODEL_51024be5133f4333bff1a8251e7759fd",
            "_dom_classes": [],
            "description": "",
            "_model_name": "HTMLModel",
            "placeholder": "​",
            "_view_module": "@jupyter-widgets/controls",
            "_model_module_version": "1.5.0",
            "value": " 1200/1200 [04:45&lt;00:00,  4.20it/s]",
            "_view_count": null,
            "_view_module_version": "1.5.0",
            "description_tooltip": null,
            "_model_module": "@jupyter-widgets/controls",
            "layout": "IPY_MODEL_8c75c6fed11e4d81b992c6353784b91d"
          }
        },
        "f75539acfa014a9d915fb31718c7f33b": {
          "model_module": "@jupyter-widgets/controls",
          "model_name": "ProgressStyleModel",
          "state": {
            "_view_name": "StyleView",
            "_model_name": "ProgressStyleModel",
            "description_width": "initial",
            "_view_module": "@jupyter-widgets/base",
            "_model_module_version": "1.5.0",
            "_view_count": null,
            "_view_module_version": "1.2.0",
            "bar_color": null,
            "_model_module": "@jupyter-widgets/controls"
          }
        },
        "e12d08cb33b34485a73345dfffc6ae22": {
          "model_module": "@jupyter-widgets/base",
          "model_name": "LayoutModel",
          "state": {
            "_view_name": "LayoutView",
            "grid_template_rows": null,
            "right": null,
            "justify_content": null,
            "_view_module": "@jupyter-widgets/base",
            "overflow": null,
            "_model_module_version": "1.2.0",
            "_view_count": null,
            "flex_flow": null,
            "width": null,
            "min_width": null,
            "border": null,
            "align_items": null,
            "bottom": null,
            "_model_module": "@jupyter-widgets/base",
            "top": null,
            "grid_column": null,
            "overflow_y": null,
            "overflow_x": null,
            "grid_auto_flow": null,
            "grid_area": null,
            "grid_template_columns": null,
            "flex": null,
            "_model_name": "LayoutModel",
            "justify_items": null,
            "grid_row": null,
            "max_height": null,
            "align_content": null,
            "visibility": null,
            "align_self": null,
            "height": null,
            "min_height": null,
            "padding": null,
            "grid_auto_rows": null,
            "grid_gap": null,
            "max_width": null,
            "order": null,
            "_view_module_version": "1.2.0",
            "grid_template_areas": null,
            "object_position": null,
            "object_fit": null,
            "grid_auto_columns": null,
            "margin": null,
            "display": null,
            "left": null
          }
        },
        "51024be5133f4333bff1a8251e7759fd": {
          "model_module": "@jupyter-widgets/controls",
          "model_name": "DescriptionStyleModel",
          "state": {
            "_view_name": "StyleView",
            "_model_name": "DescriptionStyleModel",
            "description_width": "",
            "_view_module": "@jupyter-widgets/base",
            "_model_module_version": "1.5.0",
            "_view_count": null,
            "_view_module_version": "1.2.0",
            "_model_module": "@jupyter-widgets/controls"
          }
        },
        "8c75c6fed11e4d81b992c6353784b91d": {
          "model_module": "@jupyter-widgets/base",
          "model_name": "LayoutModel",
          "state": {
            "_view_name": "LayoutView",
            "grid_template_rows": null,
            "right": null,
            "justify_content": null,
            "_view_module": "@jupyter-widgets/base",
            "overflow": null,
            "_model_module_version": "1.2.0",
            "_view_count": null,
            "flex_flow": null,
            "width": null,
            "min_width": null,
            "border": null,
            "align_items": null,
            "bottom": null,
            "_model_module": "@jupyter-widgets/base",
            "top": null,
            "grid_column": null,
            "overflow_y": null,
            "overflow_x": null,
            "grid_auto_flow": null,
            "grid_area": null,
            "grid_template_columns": null,
            "flex": null,
            "_model_name": "LayoutModel",
            "justify_items": null,
            "grid_row": null,
            "max_height": null,
            "align_content": null,
            "visibility": null,
            "align_self": null,
            "height": null,
            "min_height": null,
            "padding": null,
            "grid_auto_rows": null,
            "grid_gap": null,
            "max_width": null,
            "order": null,
            "_view_module_version": "1.2.0",
            "grid_template_areas": null,
            "object_position": null,
            "object_fit": null,
            "grid_auto_columns": null,
            "margin": null,
            "display": null,
            "left": null
          }
        },
        "e2bda7323e874bb3bde83431dce43e45": {
          "model_module": "@jupyter-widgets/controls",
          "model_name": "HBoxModel",
          "state": {
            "_view_name": "HBoxView",
            "_dom_classes": [],
            "_model_name": "HBoxModel",
            "_view_module": "@jupyter-widgets/controls",
            "_model_module_version": "1.5.0",
            "_view_count": null,
            "_view_module_version": "1.5.0",
            "box_style": "",
            "layout": "IPY_MODEL_a3531156db644969a322d5828478bdfb",
            "_model_module": "@jupyter-widgets/controls",
            "children": [
              "IPY_MODEL_a75c81c2825f43a1848dfe2bed8d5a88",
              "IPY_MODEL_1a41fff52744463289976953c7ae1f8e"
            ]
          }
        },
        "a3531156db644969a322d5828478bdfb": {
          "model_module": "@jupyter-widgets/base",
          "model_name": "LayoutModel",
          "state": {
            "_view_name": "LayoutView",
            "grid_template_rows": null,
            "right": null,
            "justify_content": null,
            "_view_module": "@jupyter-widgets/base",
            "overflow": null,
            "_model_module_version": "1.2.0",
            "_view_count": null,
            "flex_flow": null,
            "width": null,
            "min_width": null,
            "border": null,
            "align_items": null,
            "bottom": null,
            "_model_module": "@jupyter-widgets/base",
            "top": null,
            "grid_column": null,
            "overflow_y": null,
            "overflow_x": null,
            "grid_auto_flow": null,
            "grid_area": null,
            "grid_template_columns": null,
            "flex": null,
            "_model_name": "LayoutModel",
            "justify_items": null,
            "grid_row": null,
            "max_height": null,
            "align_content": null,
            "visibility": null,
            "align_self": null,
            "height": null,
            "min_height": null,
            "padding": null,
            "grid_auto_rows": null,
            "grid_gap": null,
            "max_width": null,
            "order": null,
            "_view_module_version": "1.2.0",
            "grid_template_areas": null,
            "object_position": null,
            "object_fit": null,
            "grid_auto_columns": null,
            "margin": null,
            "display": null,
            "left": null
          }
        },
        "a75c81c2825f43a1848dfe2bed8d5a88": {
          "model_module": "@jupyter-widgets/controls",
          "model_name": "FloatProgressModel",
          "state": {
            "_view_name": "ProgressView",
            "style": "IPY_MODEL_2137ba65a20c47d4bae3ac3be3bd87de",
            "_dom_classes": [],
            "description": "Iterating over omniglot: 100%",
            "_model_name": "FloatProgressModel",
            "bar_style": "success",
            "max": 1200,
            "_view_module": "@jupyter-widgets/controls",
            "_model_module_version": "1.5.0",
            "value": 1200,
            "_view_count": null,
            "_view_module_version": "1.5.0",
            "orientation": "horizontal",
            "min": 0,
            "description_tooltip": null,
            "_model_module": "@jupyter-widgets/controls",
            "layout": "IPY_MODEL_78bcd8aff1c3431e89746b75099a581b"
          }
        },
        "1a41fff52744463289976953c7ae1f8e": {
          "model_module": "@jupyter-widgets/controls",
          "model_name": "HTMLModel",
          "state": {
            "_view_name": "HTMLView",
            "style": "IPY_MODEL_65c81581ad014e95a6949e97dde5a2f7",
            "_dom_classes": [],
            "description": "",
            "_model_name": "HTMLModel",
            "placeholder": "​",
            "_view_module": "@jupyter-widgets/controls",
            "_model_module_version": "1.5.0",
            "value": " 1200/1200 [00:00&lt;00:00, 7910.20it/s]",
            "_view_count": null,
            "_view_module_version": "1.5.0",
            "description_tooltip": null,
            "_model_module": "@jupyter-widgets/controls",
            "layout": "IPY_MODEL_5ca105301b9441dcadd8e07ef5ea524b"
          }
        },
        "2137ba65a20c47d4bae3ac3be3bd87de": {
          "model_module": "@jupyter-widgets/controls",
          "model_name": "ProgressStyleModel",
          "state": {
            "_view_name": "StyleView",
            "_model_name": "ProgressStyleModel",
            "description_width": "initial",
            "_view_module": "@jupyter-widgets/base",
            "_model_module_version": "1.5.0",
            "_view_count": null,
            "_view_module_version": "1.2.0",
            "bar_color": null,
            "_model_module": "@jupyter-widgets/controls"
          }
        },
        "78bcd8aff1c3431e89746b75099a581b": {
          "model_module": "@jupyter-widgets/base",
          "model_name": "LayoutModel",
          "state": {
            "_view_name": "LayoutView",
            "grid_template_rows": null,
            "right": null,
            "justify_content": null,
            "_view_module": "@jupyter-widgets/base",
            "overflow": null,
            "_model_module_version": "1.2.0",
            "_view_count": null,
            "flex_flow": null,
            "width": null,
            "min_width": null,
            "border": null,
            "align_items": null,
            "bottom": null,
            "_model_module": "@jupyter-widgets/base",
            "top": null,
            "grid_column": null,
            "overflow_y": null,
            "overflow_x": null,
            "grid_auto_flow": null,
            "grid_area": null,
            "grid_template_columns": null,
            "flex": null,
            "_model_name": "LayoutModel",
            "justify_items": null,
            "grid_row": null,
            "max_height": null,
            "align_content": null,
            "visibility": null,
            "align_self": null,
            "height": null,
            "min_height": null,
            "padding": null,
            "grid_auto_rows": null,
            "grid_gap": null,
            "max_width": null,
            "order": null,
            "_view_module_version": "1.2.0",
            "grid_template_areas": null,
            "object_position": null,
            "object_fit": null,
            "grid_auto_columns": null,
            "margin": null,
            "display": null,
            "left": null
          }
        },
        "65c81581ad014e95a6949e97dde5a2f7": {
          "model_module": "@jupyter-widgets/controls",
          "model_name": "DescriptionStyleModel",
          "state": {
            "_view_name": "StyleView",
            "_model_name": "DescriptionStyleModel",
            "description_width": "",
            "_view_module": "@jupyter-widgets/base",
            "_model_module_version": "1.5.0",
            "_view_count": null,
            "_view_module_version": "1.2.0",
            "_model_module": "@jupyter-widgets/controls"
          }
        },
        "5ca105301b9441dcadd8e07ef5ea524b": {
          "model_module": "@jupyter-widgets/base",
          "model_name": "LayoutModel",
          "state": {
            "_view_name": "LayoutView",
            "grid_template_rows": null,
            "right": null,
            "justify_content": null,
            "_view_module": "@jupyter-widgets/base",
            "overflow": null,
            "_model_module_version": "1.2.0",
            "_view_count": null,
            "flex_flow": null,
            "width": null,
            "min_width": null,
            "border": null,
            "align_items": null,
            "bottom": null,
            "_model_module": "@jupyter-widgets/base",
            "top": null,
            "grid_column": null,
            "overflow_y": null,
            "overflow_x": null,
            "grid_auto_flow": null,
            "grid_area": null,
            "grid_template_columns": null,
            "flex": null,
            "_model_name": "LayoutModel",
            "justify_items": null,
            "grid_row": null,
            "max_height": null,
            "align_content": null,
            "visibility": null,
            "align_self": null,
            "height": null,
            "min_height": null,
            "padding": null,
            "grid_auto_rows": null,
            "grid_gap": null,
            "max_width": null,
            "order": null,
            "_view_module_version": "1.2.0",
            "grid_template_areas": null,
            "object_position": null,
            "object_fit": null,
            "grid_auto_columns": null,
            "margin": null,
            "display": null,
            "left": null
          }
        },
        "ccb4dd1ceb51466e8aed132081bcf7b6": {
          "model_module": "@jupyter-widgets/controls",
          "model_name": "HBoxModel",
          "state": {
            "_view_name": "HBoxView",
            "_dom_classes": [],
            "_model_name": "HBoxModel",
            "_view_module": "@jupyter-widgets/controls",
            "_model_module_version": "1.5.0",
            "_view_count": null,
            "_view_module_version": "1.5.0",
            "box_style": "",
            "layout": "IPY_MODEL_af0b06c2012e4fb4bb2deeedef3d39c1",
            "_model_module": "@jupyter-widgets/controls",
            "children": [
              "IPY_MODEL_b9df851a9ea54f8ebc40189410a2c526",
              "IPY_MODEL_8013769a845944e68c64cc0363116dd9"
            ]
          }
        },
        "af0b06c2012e4fb4bb2deeedef3d39c1": {
          "model_module": "@jupyter-widgets/base",
          "model_name": "LayoutModel",
          "state": {
            "_view_name": "LayoutView",
            "grid_template_rows": null,
            "right": null,
            "justify_content": null,
            "_view_module": "@jupyter-widgets/base",
            "overflow": null,
            "_model_module_version": "1.2.0",
            "_view_count": null,
            "flex_flow": null,
            "width": null,
            "min_width": null,
            "border": null,
            "align_items": null,
            "bottom": null,
            "_model_module": "@jupyter-widgets/base",
            "top": null,
            "grid_column": null,
            "overflow_y": null,
            "overflow_x": null,
            "grid_auto_flow": null,
            "grid_area": null,
            "grid_template_columns": null,
            "flex": null,
            "_model_name": "LayoutModel",
            "justify_items": null,
            "grid_row": null,
            "max_height": null,
            "align_content": null,
            "visibility": null,
            "align_self": null,
            "height": null,
            "min_height": null,
            "padding": null,
            "grid_auto_rows": null,
            "grid_gap": null,
            "max_width": null,
            "order": null,
            "_view_module_version": "1.2.0",
            "grid_template_areas": null,
            "object_position": null,
            "object_fit": null,
            "grid_auto_columns": null,
            "margin": null,
            "display": null,
            "left": null
          }
        },
        "b9df851a9ea54f8ebc40189410a2c526": {
          "model_module": "@jupyter-widgets/controls",
          "model_name": "FloatProgressModel",
          "state": {
            "_view_name": "ProgressView",
            "style": "IPY_MODEL_a1758a3c64a2490f85e4c776ff1cfbfe",
            "_dom_classes": [],
            "description": "Training...: 100%",
            "_model_name": "FloatProgressModel",
            "bar_style": "success",
            "max": 301,
            "_view_module": "@jupyter-widgets/controls",
            "_model_module_version": "1.5.0",
            "value": 301,
            "_view_count": null,
            "_view_module_version": "1.5.0",
            "orientation": "horizontal",
            "min": 0,
            "description_tooltip": null,
            "_model_module": "@jupyter-widgets/controls",
            "layout": "IPY_MODEL_128b41ab86404d61979fabb35b00e467"
          }
        },
        "8013769a845944e68c64cc0363116dd9": {
          "model_module": "@jupyter-widgets/controls",
          "model_name": "HTMLModel",
          "state": {
            "_view_name": "HTMLView",
            "style": "IPY_MODEL_4ed81237e09649e3ac99401067f4301b",
            "_dom_classes": [],
            "description": "",
            "_model_name": "HTMLModel",
            "placeholder": "​",
            "_view_module": "@jupyter-widgets/controls",
            "_model_module_version": "1.5.0",
            "value": " 301/301 [12:16&lt;00:00,  2.45s/it]",
            "_view_count": null,
            "_view_module_version": "1.5.0",
            "description_tooltip": null,
            "_model_module": "@jupyter-widgets/controls",
            "layout": "IPY_MODEL_bc0dc81dd9394da7914d25993978a376"
          }
        },
        "a1758a3c64a2490f85e4c776ff1cfbfe": {
          "model_module": "@jupyter-widgets/controls",
          "model_name": "ProgressStyleModel",
          "state": {
            "_view_name": "StyleView",
            "_model_name": "ProgressStyleModel",
            "description_width": "initial",
            "_view_module": "@jupyter-widgets/base",
            "_model_module_version": "1.5.0",
            "_view_count": null,
            "_view_module_version": "1.2.0",
            "bar_color": null,
            "_model_module": "@jupyter-widgets/controls"
          }
        },
        "128b41ab86404d61979fabb35b00e467": {
          "model_module": "@jupyter-widgets/base",
          "model_name": "LayoutModel",
          "state": {
            "_view_name": "LayoutView",
            "grid_template_rows": null,
            "right": null,
            "justify_content": null,
            "_view_module": "@jupyter-widgets/base",
            "overflow": null,
            "_model_module_version": "1.2.0",
            "_view_count": null,
            "flex_flow": null,
            "width": null,
            "min_width": null,
            "border": null,
            "align_items": null,
            "bottom": null,
            "_model_module": "@jupyter-widgets/base",
            "top": null,
            "grid_column": null,
            "overflow_y": null,
            "overflow_x": null,
            "grid_auto_flow": null,
            "grid_area": null,
            "grid_template_columns": null,
            "flex": null,
            "_model_name": "LayoutModel",
            "justify_items": null,
            "grid_row": null,
            "max_height": null,
            "align_content": null,
            "visibility": null,
            "align_self": null,
            "height": null,
            "min_height": null,
            "padding": null,
            "grid_auto_rows": null,
            "grid_gap": null,
            "max_width": null,
            "order": null,
            "_view_module_version": "1.2.0",
            "grid_template_areas": null,
            "object_position": null,
            "object_fit": null,
            "grid_auto_columns": null,
            "margin": null,
            "display": null,
            "left": null
          }
        },
        "4ed81237e09649e3ac99401067f4301b": {
          "model_module": "@jupyter-widgets/controls",
          "model_name": "DescriptionStyleModel",
          "state": {
            "_view_name": "StyleView",
            "_model_name": "DescriptionStyleModel",
            "description_width": "",
            "_view_module": "@jupyter-widgets/base",
            "_model_module_version": "1.5.0",
            "_view_count": null,
            "_view_module_version": "1.2.0",
            "_model_module": "@jupyter-widgets/controls"
          }
        },
        "bc0dc81dd9394da7914d25993978a376": {
          "model_module": "@jupyter-widgets/base",
          "model_name": "LayoutModel",
          "state": {
            "_view_name": "LayoutView",
            "grid_template_rows": null,
            "right": null,
            "justify_content": null,
            "_view_module": "@jupyter-widgets/base",
            "overflow": null,
            "_model_module_version": "1.2.0",
            "_view_count": null,
            "flex_flow": null,
            "width": null,
            "min_width": null,
            "border": null,
            "align_items": null,
            "bottom": null,
            "_model_module": "@jupyter-widgets/base",
            "top": null,
            "grid_column": null,
            "overflow_y": null,
            "overflow_x": null,
            "grid_auto_flow": null,
            "grid_area": null,
            "grid_template_columns": null,
            "flex": null,
            "_model_name": "LayoutModel",
            "justify_items": null,
            "grid_row": null,
            "max_height": null,
            "align_content": null,
            "visibility": null,
            "align_self": null,
            "height": null,
            "min_height": null,
            "padding": null,
            "grid_auto_rows": null,
            "grid_gap": null,
            "max_width": null,
            "order": null,
            "_view_module_version": "1.2.0",
            "grid_template_areas": null,
            "object_position": null,
            "object_fit": null,
            "grid_auto_columns": null,
            "margin": null,
            "display": null,
            "left": null
          }
        }
      }
    }
  },
  "cells": [
    {
      "cell_type": "markdown",
      "metadata": {
        "id": "bYi4fvHr_brl"
      },
      "source": [
        "# [Siamese Neural Networks for One-shot Image Recognition](https://www.cs.cmu.edu/~rsalakhu/papers/oneshot1.pdf)\n",
        "\n",
        "A Pytorch Implementation"
      ]
    },
    {
      "cell_type": "code",
      "metadata": {
        "colab": {
          "base_uri": "https://localhost:8080/"
        },
        "id": "7zdN5AIzBGim",
        "outputId": "7fd4e90f-974e-4ecb-b2ce-90fb206bca71"
      },
      "source": [
        "! pip install torchscan"
      ],
      "execution_count": 1,
      "outputs": [
        {
          "output_type": "stream",
          "text": [
            "Collecting torchscan\n",
            "  Downloading torchscan-0.1.1-py3-none-any.whl (19 kB)\n",
            "Requirement already satisfied: torch>=1.1.0 in /usr/local/lib/python3.7/dist-packages (from torchscan) (1.9.0+cu102)\n",
            "Requirement already satisfied: typing-extensions in /usr/local/lib/python3.7/dist-packages (from torch>=1.1.0->torchscan) (3.7.4.3)\n",
            "Installing collected packages: torchscan\n",
            "Successfully installed torchscan-0.1.1\n"
          ],
          "name": "stdout"
        }
      ]
    },
    {
      "cell_type": "code",
      "metadata": {
        "id": "bs6uY9OIkbdb"
      },
      "source": [
        "# https://www.cs.cmu.edu/~rsalakhu/papers/oneshot1.pdf\n",
        "\n",
        "import torch\n",
        "import torch.nn as nn\n",
        "import warnings\n",
        "warnings.filterwarnings('ignore')"
      ],
      "execution_count": 2,
      "outputs": []
    },
    {
      "cell_type": "code",
      "metadata": {
        "id": "hL7Y8VLVkPmt"
      },
      "source": [
        "# To be used as the feature extractor, in order to compare the features\n",
        "\n",
        "class FeatExt(nn.Module):\n",
        "    def __init__(self):\n",
        "        super(FeatExt, self).__init__()\n",
        "\n",
        "        # input.shape: (1, 105, 105)\n",
        "\n",
        "        self.cnn1 = nn.Conv2d(1, 64, kernel_size=10) # (1, 105, 105) -> (64, 96, 96)\n",
        "        self.relu1 = nn.ReLU()\n",
        "\n",
        "        # feature maps.shape: (64, 96, 96)\n",
        "        self.max_pool1 = nn.MaxPool2d(kernel_size=2) # (64, 96, 96) -> (64, 48, 48)\n",
        "\n",
        "        # feature maps.shape: (64, 48, 48)\n",
        "        self.cnn2 = nn.Conv2d(64, 128, kernel_size=7) # (64, 48, 48) -> (128, 42, 42)\n",
        "        self.relu2 = nn.ReLU()\n",
        "\n",
        "        # feature maps.shape: (128, 42, 42)\n",
        "        self.max_pool2 = nn.MaxPool2d(kernel_size=2) # (128, 42, 42) -> (128, 21, 21)\n",
        "\n",
        "        # feature maps.shape: (128, 21, 21)\n",
        "        self.cnn3 = nn.Conv2d(128, 128, kernel_size=4) # (128, 21, 21) -> (128, 18, 18)\n",
        "        self.relu3 = nn.ReLU()\n",
        "\n",
        "        # feature maps.shape: (128, 18, 18)\n",
        "        self.max_pool3 = nn.MaxPool2d(kernel_size=2) # (128, 18, 18) -> (128, 9, 9)\n",
        "\n",
        "        # feature maps.shape: (128, 9, 9)\n",
        "        self.cnn4 = nn.Conv2d(128, 256, kernel_size=4) # (128, 9, 9) -> (256, 6, 6)\n",
        "        self.relu4 = nn.ReLU()\n",
        "\n",
        "        # feature maps.shape: (256, 6, 6)\n",
        "        # torch.flatten: (256, 6, 6) -> (9216)\n",
        "\n",
        "        # feature maps.shape: (9216)\n",
        "        self.fc1 = nn.Linear(9216, 4096) # (9216) -> (4096)\n",
        "        self.sigmoid1 = nn.Sigmoid()\n",
        "\n",
        "        # # feature maps.shape: (4096)\n",
        "        # self.fc2 = nn.Linear(4096, 1)\n",
        "        # self.sigmoid2 = nn.Sigmoid()\n",
        "\n",
        "\n",
        "    def forward(self, x):\n",
        "        x = self.max_pool1(self.relu1(self.cnn1(x)))\n",
        "\n",
        "        x = self.max_pool2(self.relu2(self.cnn2(x)))\n",
        "\n",
        "        x = self.max_pool3(self.relu3(self.cnn3(x)))\n",
        "\n",
        "        x = self.relu4(self.cnn4(x))\n",
        "\n",
        "        x = torch.flatten(x, start_dim=1)\n",
        "\n",
        "        x = self.sigmoid1(self.fc1(x))\n",
        "\n",
        "        # x = self.sigmoid2(self.fc2(x))\n",
        "\n",
        "        return x\n",
        "\n",
        "\n",
        "# if __name__ == '__main__':\n",
        "#     model = SiameseNet()\n",
        "#     batch_size = 5\n",
        "#     input = torch.rand(size=(batch_size, 1, 105, 105))\n",
        "#     out = model(input)\n",
        "#     print(input.shape, out.shape)\n",
        "#     assert tuple(out.shape) == (batch_size, 1)"
      ],
      "execution_count": 3,
      "outputs": []
    },
    {
      "cell_type": "code",
      "metadata": {
        "id": "InYxkyFZkalI"
      },
      "source": [
        "class SiameseNet(nn.Module):\n",
        "  def __init__(self):\n",
        "    super(SiameseNet, self).__init__()\n",
        "    self.feat = FeatExt()\n",
        "    \n",
        "    # feature maps.shape: (4096)\n",
        "    self.fc = nn.Linear(4096, 1)\n",
        "    self.sigmoid = nn.Sigmoid()\n",
        "\n",
        "  def forward(self, x1, x2):\n",
        "    x1 = self.feat(x1)\n",
        "    x2 = self.feat(x2)\n",
        "\n",
        "    return self.sigmoid(self.fc((x1-x2).abs()))"
      ],
      "execution_count": 4,
      "outputs": []
    },
    {
      "cell_type": "markdown",
      "metadata": {
        "id": "WkrTC_d4HnM4"
      },
      "source": [
        "#### Weight Initilization\n",
        "\n",
        "* They initialized all network weights\n",
        "in the convolutional layers from a normal distribution with\n",
        "zero-mean and a standard deviation of `10−2`\n",
        "* Biases were\n",
        "also initialized from a normal distribution, but with mean `0.5` and standard deviation `10−2`\n",
        "* In the fully-connected\n",
        "layers, the biases were initialized in the same way as the\n",
        "convolutional layers, but the weights were drawn from a\n",
        "much wider normal distribution with zero-mean and standard deviation `2 × 10−1`\n",
        "."
      ]
    },
    {
      "cell_type": "code",
      "metadata": {
        "id": "RNq9JJaWHt4D"
      },
      "source": [
        "def init_weights(m):\n",
        "  if type(m) == nn.Linear:\n",
        "    nn.init.normal_(m.weight, 0, 2e-1)\n",
        "    nn.init.normal_(m.bias, 0, 1e-2)\n",
        "  elif type(m) == nn.Conv2d:\n",
        "    nn.init.normal_(m.weight, 0, 1e-2)\n",
        "    nn.init.normal_(m.bias, 0.5, 1e-2)\n"
      ],
      "execution_count": 48,
      "outputs": []
    },
    {
      "cell_type": "code",
      "metadata": {
        "colab": {
          "base_uri": "https://localhost:8080/"
        },
        "id": "4Zp5n9_fAj5d",
        "outputId": "d5a9805b-16c5-4343-c2e4-dcb7b7ce1eb6"
      },
      "source": [
        "# Just a quick check that every thing works as it should be\n",
        "\n",
        "model = SiameseNet()\n",
        "batch_size = 5\n",
        "input = torch.rand(size=(batch_size, 1, 105, 105))\n",
        "out = model(input, input)\n",
        "print(input.shape, out.shape)\n",
        "assert tuple(out.shape) == (batch_size, 1)"
      ],
      "execution_count": 5,
      "outputs": [
        {
          "output_type": "stream",
          "text": [
            "torch.Size([5, 1, 105, 105]) torch.Size([5, 1])\n"
          ],
          "name": "stdout"
        }
      ]
    },
    {
      "cell_type": "markdown",
      "metadata": {
        "id": "0NJFd1Qko9_h"
      },
      "source": [
        "## Getting & preparing the dataset"
      ]
    },
    {
      "cell_type": "code",
      "metadata": {
        "id": "cBL3dmVL7qxG"
      },
      "source": [
        "import os\n",
        "\n",
        "working_dir = '/content/drive/MyDrive/siamese_net'\n",
        "os.chdir(working_dir)"
      ],
      "execution_count": 6,
      "outputs": []
    },
    {
      "cell_type": "code",
      "metadata": {
        "id": "FkcuUDsFkd4_"
      },
      "source": [
        "from torchvision.datasets import Omniglot\n",
        "from torch.utils.data import Dataset, DataLoader\n",
        "import numpy as np\n",
        "import random\n",
        "import logging\n",
        "from tqdm.notebook import tqdm\n",
        "import matplotlib.pyplot as plt\n"
      ],
      "execution_count": 7,
      "outputs": []
    },
    {
      "cell_type": "code",
      "metadata": {
        "colab": {
          "base_uri": "https://localhost:8080/"
        },
        "id": "vQrdco5Xkd3U",
        "outputId": "0dabd2be-141f-47ea-976f-eeac542d4757"
      },
      "source": [
        "ds = Omniglot(root='./data', download=True, transform=np.array, background=True)"
      ],
      "execution_count": 8,
      "outputs": [
        {
          "output_type": "stream",
          "text": [
            "Files already downloaded and verified\n"
          ],
          "name": "stdout"
        }
      ]
    },
    {
      "cell_type": "markdown",
      "metadata": {
        "id": "QBUB0phidhJT"
      },
      "source": [
        "Note: For our training, we are creating dataset in such a way, that 1 means both images are similar, while 0 means they are dis-similar"
      ]
    },
    {
      "cell_type": "code",
      "metadata": {
        "id": "AQH1IZjXCdCo"
      },
      "source": [
        "# https://github.com/Rhcsky/siamese-one-shot-pytorch/blob/main/data_loader.py\n",
        "\n",
        "from collections import defaultdict\n",
        "\n",
        "class OmniglotDS(Dataset):\n",
        "  def __init__(self, ds):\n",
        "    super(OmniglotDS, self).__init__()\n",
        "    self.ds = ds\n",
        "    self.mean = 0.8444\n",
        "    self.std = 0.5329\n",
        "    self.imgs = defaultdict(list)\n",
        "    \n",
        "    self.data = [ds[i] for i in range(1200)]\n",
        "    # self.data = ds\n",
        "    for img, label in tqdm(self.data, desc='Iterating over omniglot'):\n",
        "      self.imgs[label].append(img)\n",
        "\n",
        "  def __len__(self):\n",
        "    return len(self.data)\n",
        "\n",
        "  def __getitem__(self, idx):\n",
        "    img1, cls1 = random.choice(self.data) \n",
        "\n",
        "    # if they are from same class\n",
        "    if idx % 2 == 1:\n",
        "      label = 1.0\n",
        "      img2, cls2 = random.choice(self.imgs[cls1]), cls1 \n",
        "    # they are from different class\n",
        "    else:\n",
        "      label = 0.0\n",
        "      options = list(set(self.imgs.keys()) - {cls1})\n",
        "      \n",
        "      cls2 = random.choice(options)\n",
        "      img2 = random.choice(self.imgs[cls2]) \n",
        "    img1, img2 = np.array(img1, dtype=np.float32) / 255, np.array(img2, dtype=np.float32) / 255\n",
        "    img1 = np.expand_dims(img1, axis=0)\n",
        "    img2 = np.expand_dims(img2, axis=0) \n",
        "\n",
        "    return {\n",
        "        'img1': torch.from_numpy(img1),\n",
        "        'img2': torch.from_numpy(img2),\n",
        "        'label': torch.from_numpy(np.array([label], dtype=np.float32))\n",
        "    }\n",
        "\n"
      ],
      "execution_count": 98,
      "outputs": []
    },
    {
      "cell_type": "code",
      "metadata": {
        "id": "--eNnp4ykd2t",
        "colab": {
          "base_uri": "https://localhost:8080/",
          "height": 66,
          "referenced_widgets": [
            "72dba319de29415cb0607ffea350a6f4",
            "081bf5d229214c4f97690aab5a020a66",
            "737f600da8e5493daca3457b9472a68f",
            "2fee5ad21a7e49f6a74aa0845d0c8919",
            "f75539acfa014a9d915fb31718c7f33b",
            "e12d08cb33b34485a73345dfffc6ae22",
            "51024be5133f4333bff1a8251e7759fd",
            "8c75c6fed11e4d81b992c6353784b91d"
          ]
        },
        "outputId": "00ca792f-909b-4d25-dbf7-d841bc53e0a6"
      },
      "source": [
        "dl = DataLoader(OmniglotDS(ds), batch_size=128)"
      ],
      "execution_count": 99,
      "outputs": [
        {
          "output_type": "display_data",
          "data": {
            "application/vnd.jupyter.widget-view+json": {
              "model_id": "72dba319de29415cb0607ffea350a6f4",
              "version_minor": 0,
              "version_major": 2
            },
            "text/plain": [
              "HBox(children=(FloatProgress(value=0.0, description='Iterating over omniglot', max=1200.0, style=ProgressStyle…"
            ]
          },
          "metadata": {
            "tags": []
          }
        },
        {
          "output_type": "stream",
          "text": [
            "\n"
          ],
          "name": "stdout"
        }
      ]
    },
    {
      "cell_type": "code",
      "metadata": {
        "id": "U6BMJd6LNfG2",
        "colab": {
          "base_uri": "https://localhost:8080/"
        },
        "outputId": "41b9fb80-ebb5-4e5a-df25-3bcf08e46a20"
      },
      "source": [
        "len(dl), len(dl.dataset)"
      ],
      "execution_count": 100,
      "outputs": [
        {
          "output_type": "execute_result",
          "data": {
            "text/plain": [
              "(10, 1200)"
            ]
          },
          "metadata": {
            "tags": []
          },
          "execution_count": 100
        }
      ]
    },
    {
      "cell_type": "code",
      "metadata": {
        "colab": {
          "base_uri": "https://localhost:8080/",
          "height": 83,
          "referenced_widgets": [
            "e2bda7323e874bb3bde83431dce43e45",
            "a3531156db644969a322d5828478bdfb",
            "a75c81c2825f43a1848dfe2bed8d5a88",
            "1a41fff52744463289976953c7ae1f8e",
            "2137ba65a20c47d4bae3ac3be3bd87de",
            "78bcd8aff1c3431e89746b75099a581b",
            "65c81581ad014e95a6949e97dde5a2f7",
            "5ca105301b9441dcadd8e07ef5ea524b"
          ]
        },
        "id": "c_aPR_f5e0sL",
        "outputId": "4d9fec84-1007-496f-c6b9-269d34631cd9"
      },
      "source": [
        "for x in OmniglotDS(ds):\n",
        "  print(x['img1'].shape, x['img2'].shape)\n",
        "  break"
      ],
      "execution_count": 101,
      "outputs": [
        {
          "output_type": "display_data",
          "data": {
            "application/vnd.jupyter.widget-view+json": {
              "model_id": "e2bda7323e874bb3bde83431dce43e45",
              "version_minor": 0,
              "version_major": 2
            },
            "text/plain": [
              "HBox(children=(FloatProgress(value=0.0, description='Iterating over omniglot', max=1200.0, style=ProgressStyle…"
            ]
          },
          "metadata": {
            "tags": []
          }
        },
        {
          "output_type": "stream",
          "text": [
            "\n",
            "torch.Size([1, 105, 105]) torch.Size([1, 105, 105])\n"
          ],
          "name": "stdout"
        }
      ]
    },
    {
      "cell_type": "code",
      "metadata": {
        "id": "8VaMOZhHe0qn"
      },
      "source": [
        ""
      ],
      "execution_count": null,
      "outputs": []
    },
    {
      "cell_type": "code",
      "metadata": {
        "id": "A4KkksbBe0pm"
      },
      "source": [
        ""
      ],
      "execution_count": null,
      "outputs": []
    },
    {
      "cell_type": "markdown",
      "metadata": {
        "id": "mizEVpSrDYse"
      },
      "source": [
        "## Loss & optimizers\n",
        "\n",
        "- Binary Cross Entropy Loss with L2 Norm"
      ]
    },
    {
      "cell_type": "code",
      "metadata": {
        "id": "0GoTQD7xE4FI"
      },
      "source": [
        "from torch.optim import Adam\n",
        "from torchsummary import summary\n"
      ],
      "execution_count": 46,
      "outputs": []
    },
    {
      "cell_type": "code",
      "metadata": {
        "colab": {
          "base_uri": "https://localhost:8080/"
        },
        "id": "bywb-EbVJ-jK",
        "outputId": "b8da8145-4066-470d-ae1d-369d7fd7103c"
      },
      "source": [
        "model.apply(init_weights)"
      ],
      "execution_count": 117,
      "outputs": [
        {
          "output_type": "execute_result",
          "data": {
            "text/plain": [
              "SiameseNet(\n",
              "  (feat): FeatExt(\n",
              "    (cnn1): Conv2d(1, 64, kernel_size=(10, 10), stride=(1, 1))\n",
              "    (relu1): ReLU()\n",
              "    (max_pool1): MaxPool2d(kernel_size=2, stride=2, padding=0, dilation=1, ceil_mode=False)\n",
              "    (cnn2): Conv2d(64, 128, kernel_size=(7, 7), stride=(1, 1))\n",
              "    (relu2): ReLU()\n",
              "    (max_pool2): MaxPool2d(kernel_size=2, stride=2, padding=0, dilation=1, ceil_mode=False)\n",
              "    (cnn3): Conv2d(128, 128, kernel_size=(4, 4), stride=(1, 1))\n",
              "    (relu3): ReLU()\n",
              "    (max_pool3): MaxPool2d(kernel_size=2, stride=2, padding=0, dilation=1, ceil_mode=False)\n",
              "    (cnn4): Conv2d(128, 256, kernel_size=(4, 4), stride=(1, 1))\n",
              "    (relu4): ReLU()\n",
              "    (fc1): Linear(in_features=9216, out_features=4096, bias=True)\n",
              "    (sigmoid1): Sigmoid()\n",
              "  )\n",
              "  (fc): Linear(in_features=4096, out_features=1, bias=True)\n",
              "  (sigmoid): Sigmoid()\n",
              ")"
            ]
          },
          "metadata": {
            "tags": []
          },
          "execution_count": 117
        }
      ]
    },
    {
      "cell_type": "code",
      "metadata": {
        "id": "J8-LvR2DDfon"
      },
      "source": [
        "device = 'cuda' if torch.cuda.is_available() else 'cpu'\n",
        "\n",
        "criterian = nn.BCELoss()\n",
        "optimizer = Adam(model.parameters(), weight_decay=0.1)\n",
        "model = model.to(device)\n",
        "\n",
        "from torch.optim.lr_scheduler import StepLR\n",
        "\n",
        "scheduler = StepLR(optimizer, step_size=1, gamma=0.99)"
      ],
      "execution_count": 118,
      "outputs": []
    },
    {
      "cell_type": "code",
      "metadata": {
        "colab": {
          "base_uri": "https://localhost:8080/"
        },
        "id": "WQ8sKm4XKAaL",
        "outputId": "a5d42932-71d8-497c-cd8a-c5cadf512800"
      },
      "source": [
        "summary(model, [(1, 105, 105), (1, 105, 105)])"
      ],
      "execution_count": 103,
      "outputs": [
        {
          "output_type": "stream",
          "text": [
            "----------------------------------------------------------------\n",
            "        Layer (type)               Output Shape         Param #\n",
            "================================================================\n",
            "            Conv2d-1           [-1, 64, 96, 96]           6,464\n",
            "              ReLU-2           [-1, 64, 96, 96]               0\n",
            "         MaxPool2d-3           [-1, 64, 48, 48]               0\n",
            "            Conv2d-4          [-1, 128, 42, 42]         401,536\n",
            "              ReLU-5          [-1, 128, 42, 42]               0\n",
            "         MaxPool2d-6          [-1, 128, 21, 21]               0\n",
            "            Conv2d-7          [-1, 128, 18, 18]         262,272\n",
            "              ReLU-8          [-1, 128, 18, 18]               0\n",
            "         MaxPool2d-9            [-1, 128, 9, 9]               0\n",
            "           Conv2d-10            [-1, 256, 6, 6]         524,544\n",
            "             ReLU-11            [-1, 256, 6, 6]               0\n",
            "           Linear-12                 [-1, 4096]      37,752,832\n",
            "          Sigmoid-13                 [-1, 4096]               0\n",
            "          FeatExt-14                 [-1, 4096]               0\n",
            "           Conv2d-15           [-1, 64, 96, 96]           6,464\n",
            "             ReLU-16           [-1, 64, 96, 96]               0\n",
            "        MaxPool2d-17           [-1, 64, 48, 48]               0\n",
            "           Conv2d-18          [-1, 128, 42, 42]         401,536\n",
            "             ReLU-19          [-1, 128, 42, 42]               0\n",
            "        MaxPool2d-20          [-1, 128, 21, 21]               0\n",
            "           Conv2d-21          [-1, 128, 18, 18]         262,272\n",
            "             ReLU-22          [-1, 128, 18, 18]               0\n",
            "        MaxPool2d-23            [-1, 128, 9, 9]               0\n",
            "           Conv2d-24            [-1, 256, 6, 6]         524,544\n",
            "             ReLU-25            [-1, 256, 6, 6]               0\n",
            "           Linear-26                 [-1, 4096]      37,752,832\n",
            "          Sigmoid-27                 [-1, 4096]               0\n",
            "          FeatExt-28                 [-1, 4096]               0\n",
            "           Linear-29                    [-1, 1]           4,097\n",
            "          Sigmoid-30                    [-1, 1]               0\n",
            "================================================================\n",
            "Total params: 77,899,393\n",
            "Trainable params: 77,899,393\n",
            "Non-trainable params: 0\n",
            "----------------------------------------------------------------\n",
            "Input size (MB): 463.68\n",
            "Forward/backward pass size (MB): 29.89\n",
            "Params size (MB): 297.16\n",
            "Estimated Total Size (MB): 790.74\n",
            "----------------------------------------------------------------\n"
          ],
          "name": "stdout"
        }
      ]
    },
    {
      "cell_type": "markdown",
      "metadata": {
        "id": "ocoh3dscKGng"
      },
      "source": [
        "## Training Loop \n",
        "\n",
        "- LR Schedular\n",
        "\n",
        "To Do:   \n",
        "(In Learning Rate Schedule Section): We fixed momentum to start at 0.5 in every layer,\n",
        "increasing linearly each epoch until reaching the value µj ,\n",
        "the individual momentum term for the jth layer."
      ]
    },
    {
      "cell_type": "code",
      "metadata": {
        "id": "DgcYuyNTKGUB"
      },
      "source": [
        "NUM_EPOCH, print_every = 301, 50"
      ],
      "execution_count": 104,
      "outputs": []
    },
    {
      "cell_type": "code",
      "metadata": {
        "id": "RqLrTzPbKGTD",
        "colab": {
          "base_uri": "https://localhost:8080/",
          "height": 185,
          "referenced_widgets": [
            "ccb4dd1ceb51466e8aed132081bcf7b6",
            "af0b06c2012e4fb4bb2deeedef3d39c1",
            "b9df851a9ea54f8ebc40189410a2c526",
            "8013769a845944e68c64cc0363116dd9",
            "a1758a3c64a2490f85e4c776ff1cfbfe",
            "128b41ab86404d61979fabb35b00e467",
            "4ed81237e09649e3ac99401067f4301b",
            "bc0dc81dd9394da7914d25993978a376"
          ]
        },
        "outputId": "392f0263-8617-4573-df72-d8e779c13cac"
      },
      "source": [
        "losses = []\n",
        "\n",
        "for epoch in tqdm(range(NUM_EPOCH), desc='Training...'):\n",
        "  running_loss = 0.0\n",
        "  for batch in dl:\n",
        "    img1, img2, label = batch['img1'].to(device), batch['img2'].to(device), batch['label'].to(device)\n",
        "    optimizer.zero_grad()\n",
        "\n",
        "    out = model(img1, img2)\n",
        "    loss = criterian(out, label)\n",
        "\n",
        "    running_loss += loss.item() * out.shape[0]\n",
        "\n",
        "    loss.backward()\n",
        "    optimizer.step()\n",
        "\n",
        "  scheduler.step()\n",
        "  running_loss = running_loss / len(dl.dataset)\n",
        "  losses.append(running_loss)\n",
        "  if epoch % print_every == 0:\n",
        "    print(f'Epoch: {epoch}, Loss: {running_loss:.2f}')\n"
      ],
      "execution_count": 119,
      "outputs": [
        {
          "output_type": "display_data",
          "data": {
            "application/vnd.jupyter.widget-view+json": {
              "model_id": "ccb4dd1ceb51466e8aed132081bcf7b6",
              "version_minor": 0,
              "version_major": 2
            },
            "text/plain": [
              "HBox(children=(FloatProgress(value=0.0, description='Training...', max=301.0, style=ProgressStyle(description_…"
            ]
          },
          "metadata": {
            "tags": []
          }
        },
        {
          "output_type": "stream",
          "text": [
            "Epoch: 0, Loss: 0.69\n",
            "Epoch: 50, Loss: 0.45\n",
            "Epoch: 100, Loss: 0.50\n",
            "Epoch: 150, Loss: 0.49\n",
            "Epoch: 200, Loss: 0.48\n",
            "Epoch: 250, Loss: 0.51\n",
            "Epoch: 300, Loss: 0.50\n",
            "\n"
          ],
          "name": "stdout"
        }
      ]
    },
    {
      "cell_type": "code",
      "metadata": {
        "id": "n2jwSpbshsSb",
        "colab": {
          "base_uri": "https://localhost:8080/",
          "height": 312
        },
        "outputId": "fb5db71c-6b62-438d-ca9c-c363c2ab7c06"
      },
      "source": [
        " plt.plot(losses)\n",
        " plt.title('Train Loss')\n",
        " plt.xlabel('Epochs')\n",
        " plt.ylabel('Loss')"
      ],
      "execution_count": 120,
      "outputs": [
        {
          "output_type": "execute_result",
          "data": {
            "text/plain": [
              "Text(0, 0.5, 'Loss')"
            ]
          },
          "metadata": {
            "tags": []
          },
          "execution_count": 120
        },
        {
          "output_type": "display_data",
          "data": {
            "image/png": "[encoded data removed]",
            "text/plain": [
              "<Figure size 432x288 with 1 Axes>"
            ]
          },
          "metadata": {
            "tags": [],
            "needs_background": "light"
          }
        }
      ]
    },
    {
      "cell_type": "code",
      "metadata": {
        "id": "8WX72rqLcFNN"
      },
      "source": [
        "torch.save({\n",
        "    'state_dict': model.state_dict()\n",
        " }, './weights/dict.pth')"
      ],
      "execution_count": 121,
      "outputs": []
    },
    {
      "cell_type": "code",
      "metadata": {
        "colab": {
          "base_uri": "https://localhost:8080/"
        },
        "id": "uDWWmp_wb8b3",
        "outputId": "21a0e5d9-1eda-4701-e019-213c94a33d5f"
      },
      "source": [
        "! pwd && ls weights"
      ],
      "execution_count": 122,
      "outputs": [
        {
          "output_type": "stream",
          "text": [
            "/content/drive/My Drive/siamese_net\n",
            "dict.pth\n"
          ],
          "name": "stdout"
        }
      ]
    },
    {
      "cell_type": "markdown",
      "metadata": {
        "id": "g2dm32MZWPvp"
      },
      "source": [
        "## Visualizations"
      ]
    },
    {
      "cell_type": "code",
      "metadata": {
        "id": "tgmvJZR9WSta"
      },
      "source": [
        "from PIL import Image\n",
        "from matplotlib import pyplot as plot\n",
        "from collections import defaultdict"
      ],
      "execution_count": 123,
      "outputs": []
    },
    {
      "cell_type": "code",
      "metadata": {
        "id": "MQobcrlrWXaQ"
      },
      "source": [
        "images = defaultdict(list)"
      ],
      "execution_count": 124,
      "outputs": []
    },
    {
      "cell_type": "code",
      "metadata": {
        "id": "RaUUKM7gWXZk"
      },
      "source": [
        "for img, label in ds:\n",
        "  images[label].append(img)\n",
        "  \n",
        "  if len(images) > 4:\n",
        "    break"
      ],
      "execution_count": 125,
      "outputs": []
    },
    {
      "cell_type": "code",
      "metadata": {
        "colab": {
          "base_uri": "https://localhost:8080/",
          "height": 444
        },
        "id": "0mkOIKElWf2B",
        "outputId": "00a636b3-3e98-4f9b-998f-abbc79549c9f"
      },
      "source": [
        "# display all images of diff class\n",
        "\n",
        "# create figure\n",
        "fig = plt.figure(figsize=(10, 7))\n",
        "  \n",
        "# setting values to rows and column variables\n",
        "rows = 2\n",
        "columns = 2\n",
        "\n",
        "for i in range(4):\n",
        "  img = images[i][0]\n",
        "  # Adds a subplot at the 1st position\n",
        "  fig.add_subplot(rows, columns, i+1)\n",
        "  plt.imshow(img)\n",
        "  plt.title(f'Label: {i}')\n",
        "\n",
        "plt.show()"
      ],
      "execution_count": 126,
      "outputs": [
        {
          "output_type": "display_data",
          "data": {
            "image/png": "[encoded data removed]",
            "text/plain": [
              "<Figure size 720x504 with 4 Axes>"
            ]
          },
          "metadata": {
            "tags": [],
            "needs_background": "light"
          }
        }
      ]
    },
    {
      "cell_type": "code",
      "metadata": {
        "id": "av3BjjbPXelX"
      },
      "source": [
        "assert len(images[0]) >= 4"
      ],
      "execution_count": 127,
      "outputs": []
    },
    {
      "cell_type": "code",
      "metadata": {
        "colab": {
          "base_uri": "https://localhost:8080/",
          "height": 444
        },
        "id": "YEMraZgvXmHx",
        "outputId": "8f085731-bea3-40b8-b576-886824521de9"
      },
      "source": [
        "# display all images of same class\n",
        "\n",
        "# create figure\n",
        "fig = plt.figure(figsize=(10, 7))\n",
        "  \n",
        "# setting values to rows and column variables\n",
        "rows = 2\n",
        "columns = 2\n",
        "\n",
        "for i in range(4):\n",
        "  img = images[0][i]\n",
        "  # Adds a subplot at the 1st position\n",
        "  fig.add_subplot(rows, columns, i+1)\n",
        "  plt.imshow(img)\n",
        "  plt.title(f'Label: 0')\n",
        "\n",
        "plt.show()"
      ],
      "execution_count": 128,
      "outputs": [
        {
          "output_type": "display_data",
          "data": {
            "image/png": "[encoded data removed]",
            "text/plain": [
              "<Figure size 720x504 with 4 Axes>"
            ]
          },
          "metadata": {
            "tags": [],
            "needs_background": "light"
          }
        }
      ]
    },
    {
      "cell_type": "markdown",
      "metadata": {
        "id": "LdRHX2GFbEjZ"
      },
      "source": [
        "Note that, for our training, output of 1 means, both images are similar, and 0 means both are different (see the dataset we created)"
      ]
    },
    {
      "cell_type": "code",
      "metadata": {
        "colab": {
          "base_uri": "https://localhost:8080/"
        },
        "id": "9kaJFhwGXvxh",
        "outputId": "bf1dfc76-1169-4068-df7e-7027fd02f724"
      },
      "source": [
        "model = model.cpu()\n",
        "x, y = np.array([images[0][0]], dtype=np.float32), np.array([images[0][1]], dtype=np.float32)\n",
        "x, y = torch.from_numpy(np.expand_dims(x, axis=0)), torch.from_numpy(np.expand_dims(y, axis=0))\n",
        "z = np.array([images[2][1]], dtype=np.float32)\n",
        "z = torch.from_numpy(np.expand_dims(z, axis=0))\n",
        "print(f'Scores for same class (0) is: {model(x, y).item(): .3f}, and for different classes (0, 2) is: {model(x, z).item(): .3f}')"
      ],
      "execution_count": 129,
      "outputs": [
        {
          "output_type": "stream",
          "text": [
            "Scores for same class (0) is:  0.989, and for different classes (0, 2) is:  0.898\n"
          ],
          "name": "stdout"
        }
      ]
    },
    {
      "cell_type": "code",
      "metadata": {
        "colab": {
          "base_uri": "https://localhost:8080/",
          "height": 228
        },
        "id": "GS8zW0kKbS0G",
        "outputId": "11f46f7b-af73-478c-f2bf-6ca49906d905"
      },
      "source": [
        "# display all images of same class\n",
        "\n",
        "# create figure\n",
        "fig = plt.figure(figsize=(10, 7))\n",
        "  \n",
        "# setting values to rows and column variables\n",
        "rows = 1\n",
        "columns = 3\n",
        "\n",
        "# Adds a subplot at the 1st position\n",
        "fig.add_subplot(rows, columns, 1)\n",
        "plt.imshow(images[0][0])\n",
        "plt.title(f'Label: 0')\n",
        "\n",
        "fig.add_subplot(rows, columns, 2)\n",
        "plt.imshow(images[0][1])\n",
        "plt.title(f'Label: 0')\n",
        "\n",
        "fig.add_subplot(rows, columns, 3)\n",
        "plt.imshow(images[2][1])\n",
        "plt.title(f'Label: 2')\n",
        "\n",
        "plt.show()"
      ],
      "execution_count": 130,
      "outputs": [
        {
          "output_type": "display_data",
          "data": {
            "image/png": "[encoded data removed]",
            "text/plain": [
              "<Figure size 720x504 with 3 Axes>"
            ]
          },
          "metadata": {
            "tags": [],
            "needs_background": "light"
          }
        }
      ]
    },
    {
      "cell_type": "code",
      "metadata": {
        "id": "ONZDYv8Ib55s"
      },
      "source": [
        ""
      ],
      "execution_count": 130,
      "outputs": []
    },
    {
      "cell_type": "markdown",
      "metadata": {
        "id": "Wbybo3VOERWY"
      },
      "source": [
        "## Rough"
      ]
    },
    {
      "cell_type": "code",
      "metadata": {
        "colab": {
          "base_uri": "https://localhost:8080/"
        },
        "id": "8RRgSTNkESrO",
        "outputId": "062d8758-4c39-4ef6-8875-94cf5588a289"
      },
      "source": [
        "l = nn.BCELoss()\n",
        "\n",
        "x, y = torch.tensor([[0.01]]), torch.tensor([[1.0]])\n",
        "print(x, y, l(x, y))"
      ],
      "execution_count": null,
      "outputs": [
        {
          "output_type": "stream",
          "text": [
            "tensor([[0.0100]]) tensor([[1.]]) tensor(4.6052)\n"
          ],
          "name": "stdout"
        }
      ]
    },
    {
      "cell_type": "code",
      "metadata": {
        "id": "6uu6avLFSnfA"
      },
      "source": [
        "from PIL import Image\n",
        "from matplotlib import pyplot as plot\n",
        "from collections import defaultdict"
      ],
      "execution_count": 35,
      "outputs": []
    },
    {
      "cell_type": "code",
      "metadata": {
        "id": "TZy3WWJwTizZ"
      },
      "source": [
        "images = defaultdict(list)"
      ],
      "execution_count": 36,
      "outputs": []
    },
    {
      "cell_type": "code",
      "metadata": {
        "id": "RCYSP0uSEU4h"
      },
      "source": [
        "for img, label in ds:\n",
        "  images[label].append(img)\n",
        "  \n",
        "  if len(images) > 4:\n",
        "    break"
      ],
      "execution_count": 37,
      "outputs": []
    },
    {
      "cell_type": "code",
      "metadata": {
        "colab": {
          "base_uri": "https://localhost:8080/"
        },
        "id": "pqUOdMX2UGzH",
        "outputId": "4c0ee353-78e4-479a-87ad-649b0e947945"
      },
      "source": [
        "images.keys()"
      ],
      "execution_count": 38,
      "outputs": [
        {
          "output_type": "execute_result",
          "data": {
            "text/plain": [
              "dict_keys([0, 1, 2, 3, 4])"
            ]
          },
          "metadata": {
            "tags": []
          },
          "execution_count": 38
        }
      ]
    },
    {
      "cell_type": "code",
      "metadata": {
        "id": "l3K4iIm5SZL0"
      },
      "source": [
        "Image.fromarray(x[0]).show()"
      ],
      "execution_count": 17,
      "outputs": []
    },
    {
      "cell_type": "code",
      "metadata": {
        "colab": {
          "base_uri": "https://localhost:8080/"
        },
        "id": "wqx-0JHRS4MJ",
        "outputId": "26c78b7a-433b-4587-9e02-09a22b1e9ed6"
      },
      "source": [
        "x[0]"
      ],
      "execution_count": 18,
      "outputs": [
        {
          "output_type": "execute_result",
          "data": {
            "text/plain": [
              "array([[255, 255, 255, ..., 255, 255, 255],\n",
              "       [255, 255, 255, ..., 255, 255, 255],\n",
              "       [255, 255, 255, ..., 255, 255, 255],\n",
              "       ...,\n",
              "       [255, 255, 255, ..., 255, 255, 255],\n",
              "       [255, 255, 255, ..., 255, 255, 255],\n",
              "       [255, 255, 255, ..., 255, 255, 255]], dtype=uint8)"
            ]
          },
          "metadata": {
            "tags": []
          },
          "execution_count": 18
        }
      ]
    },
    {
      "cell_type": "code",
      "metadata": {
        "id": "IyQFg3aITQdL"
      },
      "source": [
        ""
      ],
      "execution_count": null,
      "outputs": []
    }
  ]
}
